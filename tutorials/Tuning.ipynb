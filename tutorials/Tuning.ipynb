{
 "cells": [
  {
   "cell_type": "markdown",
   "metadata": {},
   "source": [
    "# Hyperparameter Tuning Tutorial"
   ]
  },
  {
   "cell_type": "markdown",
   "metadata": {},
   "source": [
    "Machine learning models often have many hyperparameters that need to be tuned to achieve maximal performance (e.g: learning rate, dropout rate, number of layers, layer size, etc) . This motivates the need for hyperparameter tuners that intelligently search the space of hyperparameters for a high performing model. \n",
    "\n",
    "To address this, MeTaL supports multiple hyperparameter tuners with an easy to use interface which allows users to streamline the hyperparameter optimization process. This tutorial covers utilizing MeTaL's hyperparameter tuners to tune an EndModel for maximal performance. Currently, two hyperparameter algorithms are supported:\n",
    "\n",
    "- <b>Random Search</b>\n",
    "- <b>Hyperband</b>\n",
    "\n",
    "The tutorial is broken down into the following sections \n",
    "\n",
    "1. <b>Set up the Problem and Load the Data</b>\n",
    "2. <b>Define the Search Space</b>\n",
    "3. <b>Run Random Search</b>\n",
    "4. <b>Run Hyperband Search</b>\n",
    "5. <b>Compare Random Search against Hyperband Search</b>\n",
    "\n",
    "Let's begin!"
   ]
  },
  {
   "cell_type": "markdown",
   "metadata": {},
   "source": [
    "## Setup\n",
    "Before beginning, we first need to make sure that the metal/ directory is on our Python path. If the following cell runs without an error, you're all set. If not, make sure that you've installed snorkel-metal with pip or conda (or that you've added the repo to your path if you're running from source; for example, running source add_to_path.sh from the repository root)."
   ]
  },
  {
   "cell_type": "code",
   "execution_count": 48,
   "metadata": {},
   "outputs": [
    {
     "name": "stdout",
     "output_type": "stream",
     "text": [
      "The autoreload extension is already loaded. To reload it, use:\n",
      "  %reload_ext autoreload\n"
     ]
    }
   ],
   "source": [
    "import matplotlib\n",
    "%load_ext autoreload\n",
    "%autoreload 2\n",
    "%matplotlib inline\n",
    "import metal"
   ]
  },
  {
   "cell_type": "markdown",
   "metadata": {},
   "source": [
    "## Set up the Problem and Load the Data\n",
    "\n",
    "First let's set up our problem and load our data. For the purposes of this tutorial (and to keep the search process short) we will use the small model introduced in the basic tutorial. "
   ]
  },
  {
   "cell_type": "code",
   "execution_count": 49,
   "metadata": {},
   "outputs": [],
   "source": [
    "# Load basic tutorial data\n",
    "from metal.utils import split_data\n",
    "import pickle\n",
    "\n",
    "with open(\"data/basics_tutorial.pkl\", 'rb') as f:\n",
    "    X, Y, L, D = pickle.load(f)\n",
    "    \n",
    "Xs, Ys, Ls, Ds = split_data(X, Y, L, D, splits=[0.8, 0.1, 0.1], stratify_by=Y, seed=123)"
   ]
  },
  {
   "cell_type": "markdown",
   "metadata": {},
   "source": [
    "Let's define and train our label model like in the basic tutorial."
   ]
  },
  {
   "cell_type": "code",
   "execution_count": 50,
   "metadata": {
    "scrolled": true
   },
   "outputs": [
    {
     "name": "stdout",
     "output_type": "stream",
     "text": [
      "Computing O...\n",
      "Estimating \\mu...\n",
      "[E:0]\tTrain Loss: 6.036\n",
      "[E:250]\tTrain Loss: 0.029\n",
      "[E:500]\tTrain Loss: 0.029\n",
      "[E:750]\tTrain Loss: 0.029\n",
      "[E:999]\tTrain Loss: 0.029\n",
      "Finished Training\n",
      "Accuracy: 0.879\n",
      "Precision: 0.771\n",
      "Recall: 0.724\n",
      "F1: 0.746\n",
      "        y=1    y=2   \n",
      " l=1    178    53    \n",
      " l=2    68     701   \n",
      "Accuracy: 0.836\n",
      "Precision: 0.623\n",
      "Recall: 0.841\n",
      "F1: 0.716\n",
      "        y=1    y=2   \n",
      " l=1    207    125   \n",
      " l=2    39     629   \n"
     ]
    }
   ],
   "source": [
    "# Train a the label model\n",
    "from metal.label_model import LabelModel\n",
    "label_model = LabelModel(k=2, seed=123)\n",
    "\n",
    "label_model.train_model(Ls[0], Y_dev=Ys[1], n_epochs=1000, print_every=250, lr=0.01, l2=1e-1)\n",
    "scores = label_model.score((Ls[1], Ys[1]), metric=['accuracy','precision', 'recall', 'f1'])\n",
    "\n",
    "from metal.label_model.baselines import MajorityLabelVoter\n",
    "\n",
    "mv = MajorityLabelVoter(seed=123)\n",
    "scores = mv.score((Ls[1], Ys[1]), metric=['accuracy', 'precision', 'recall', 'f1'])\n",
    "Y_train_ps = label_model.predict_proba(Ls[0])"
   ]
  },
  {
   "cell_type": "markdown",
   "metadata": {},
   "source": [
    "Now let's define our EndModel and verify that it successfully runs and achieves a decent score. "
   ]
  },
  {
   "cell_type": "code",
   "execution_count": 52,
   "metadata": {},
   "outputs": [
    {
     "name": "stdout",
     "output_type": "stream",
     "text": [
      "\n",
      "Network architecture:\n",
      "Sequential(\n",
      "  (0): IdentityModule()\n",
      "  (1): Sequential(\n",
      "    (0): Linear(in_features=1000, out_features=10, bias=True)\n",
      "    (1): ReLU()\n",
      "  )\n",
      "  (2): Linear(in_features=10, out_features=2, bias=True)\n",
      ")\n",
      "\n"
     ]
    },
    {
     "name": "stderr",
     "output_type": "stream",
     "text": [
      "100%|██████████| 32/32 [00:00<00:00, 142.41it/s, avg_loss=1.96]\n"
     ]
    },
    {
     "name": "stdout",
     "output_type": "stream",
     "text": [
      "Saving model at iteration 0 with best score 0.996\n",
      "[E:0]\tTrain Loss: 0.501\tDev score: 0.996\n"
     ]
    },
    {
     "name": "stderr",
     "output_type": "stream",
     "text": [
      "100%|██████████| 32/32 [00:00<00:00, 124.13it/s, avg_loss=1.8]\n"
     ]
    },
    {
     "name": "stdout",
     "output_type": "stream",
     "text": [
      "[E:1]\tTrain Loss: 0.460\tDev score: 0.949\n"
     ]
    },
    {
     "name": "stderr",
     "output_type": "stream",
     "text": [
      "100%|██████████| 32/32 [00:00<00:00, 160.82it/s, avg_loss=1.77]\n"
     ]
    },
    {
     "name": "stdout",
     "output_type": "stream",
     "text": [
      "[E:2]\tTrain Loss: 0.454\tDev score: 0.943\n"
     ]
    },
    {
     "name": "stderr",
     "output_type": "stream",
     "text": [
      "100%|██████████| 32/32 [00:00<00:00, 160.60it/s, avg_loss=1.77]\n"
     ]
    },
    {
     "name": "stdout",
     "output_type": "stream",
     "text": [
      "[E:3]\tTrain Loss: 0.452\tDev score: 0.932\n"
     ]
    },
    {
     "name": "stderr",
     "output_type": "stream",
     "text": [
      "100%|██████████| 32/32 [00:00<00:00, 158.79it/s, avg_loss=1.76]\n"
     ]
    },
    {
     "name": "stdout",
     "output_type": "stream",
     "text": [
      "[E:4]\tTrain Loss: 0.452\tDev score: 0.959\n",
      "Restoring best model from iteration 0 with score 0.996\n",
      "Finished Training\n",
      "Accuracy: 0.998\n",
      "        y=1    y=2   \n",
      " l=1    246     2    \n",
      " l=2     0     752   \n"
     ]
    }
   ],
   "source": [
    "# Train an end model\n",
    "from metal.end_model import EndModel\n",
    "\n",
    "end_model_basic = EndModel([1000,10,2], \n",
    "                     batchnorm=True,\n",
    "                     dropout=.5,\n",
    "                     seed=123)\n",
    "\n",
    "end_model_basic.train_model((Xs[0], Y_train_ps), dev_data=(Xs[1], Ys[1]), l2=0.1, batch_size=256, \n",
    "                n_epochs=5, print_every=1, validation_metric='f1')"
   ]
  },
  {
   "cell_type": "markdown",
   "metadata": {},
   "source": [
    "Great. Notice that our F1 is around 0.95. In the sections below we will try to optimize the hyperparameters of this EndModel to achieve an even higher score!"
   ]
  },
  {
   "cell_type": "markdown",
   "metadata": {},
   "source": [
    "## Define the Search Space\n",
    "\n",
    "Before starting the hyperparameter tuning process, we need to specify the space of the hyperparameters we're searching. \n",
    "\n",
    "For the purposes of this tutorial we search over the following hyperparameters:\n",
    "- <b>n_epochs</b>: Integer representing the number of epochs to train\n",
    "- <b>batchnorm</b>: Boolean representing whether to use batch-normalization\n",
    "- <b>lr</b>: Float representing the learning rate for optimization\n",
    "- <b>layer_out_dims</b>: The architecture of our neural network"
   ]
  },
  {
   "cell_type": "code",
   "execution_count": 53,
   "metadata": {},
   "outputs": [],
   "source": [
    "search_space = {\n",
    "    'n_epochs': [1, 5, 10],\n",
    "    'batchnorm' : [True, False],\n",
    "    'dropout': [0, .1, .2, .3, .4, .5],\n",
    "    'lr': {'range': [1e-5, 1], 'scale': 'log'},\n",
    "    'layer_out_dims' : [[1000,10,2], [1000, 100, 2]],\n",
    "    'print_every': 5,\n",
    "    'data_loader_config': [{\"batch_size\": 256, \"num_workers\": 1}],\n",
    "}"
   ]
  },
  {
   "cell_type": "markdown",
   "metadata": {},
   "source": [
    "Here's a breakdown of what each line in the configuration means:\n",
    "\n",
    "- `'n_epochs': [1, 5, 10],`: This specifies that the hyperparameter tuner may train the model for either 1, 5 or 10 epochs\n",
    "- `'batchnorm' : [True, False],`: This specifies that a model instantiated by the tuner may have batchnorm as either True or False\n",
    "- `dropout': [0, .1, .2, .3, .4, .5]`: Like the above, this specifies that the dropout parameter of an instantiated model may be one of 0, .1, .2, .3, .4, or .5\n",
    "- `'lr': {'range': [1e-5, 1], 'scale': 'log'}`: This specifies that the learning rate of the training of a model may range from 1e-5 to 1, and that the tuner samples the learning rate on a log scale\n",
    "- `'layer_out_dims' : [[1000,10,2], [1000, 100, 2]]`: This specifies that upon instantiation of the model, the structure of the fully connected network can either be [1000, 10, 2] or [1000, 100, 2]; in the latter case, this means the network takes a 1000 dimensional input, has a hidden layer with 100 features and an output layer with 2 classes\n",
    "- `'print_every': 5`: This specifies that the model should print status updates every 5 iterations of training.\n",
    "- `'data_loader_config': [{\"batch_size\": 256, \"num_workers\": 1}],`: This specifies to use a batch of 256 for optimization\n",
    "\n",
    "Now that our search space is defined, let's start optimizing hyperparameters!"
   ]
  },
  {
   "cell_type": "markdown",
   "metadata": {},
   "source": [
    "## Run Random Search"
   ]
  },
  {
   "cell_type": "markdown",
   "metadata": {},
   "source": [
    "While simple, random search has proven to be a powerful and efficient algorithm for tuning hyperparameters (see http://www.jmlr.org/papers/volume13/bergstra12a/bergstra12a.pdf for why). Let's use the RandomSearch tuner to find a good set of hyperparameters for our EndModel. Note that although we only do hyperparameter optimization for the EndModel, the tuners may also be used to do hyperparameter optimization for LabelModels.\n",
    "\n",
    "To start, let's import the RandomSearchTuner and instantiate our RandomSearchTuner to optimize an EndModel model."
   ]
  },
  {
   "cell_type": "code",
   "execution_count": 54,
   "metadata": {},
   "outputs": [],
   "source": [
    "from metal.tuners.random_tuner import RandomSearchTuner\n",
    "rs_tuner = RandomSearchTuner(EndModel, seed=123)"
   ]
  },
  {
   "cell_type": "markdown",
   "metadata": {},
   "source": [
    "Next let's define our training and validation datasets."
   ]
  },
  {
   "cell_type": "code",
   "execution_count": 55,
   "metadata": {},
   "outputs": [],
   "source": [
    "train_args = [(Xs[0], Y_train_ps)]\n",
    "dev_data = (Xs[1], Ys[1])"
   ]
  },
  {
   "cell_type": "markdown",
   "metadata": {},
   "source": [
    "And just like that we're prepped to launch our random search! Performing the search is just as easy and requires just a single call to the `search` function.\n",
    "\n",
    "Most of the arguments to the `search` function below are self explanatory, but there are a couple of key arguments to watch out for:\n",
    "- `max_search` : This specifies the number of configurations to search over. As it is set to 20 below, this means we search over 20 random models and return the best one\n",
    "- `verbose`: This specifies whether the tuner should be verbose or not and can be used to turn on/off the its logging feature"
   ]
  },
  {
   "cell_type": "code",
   "execution_count": 56,
   "metadata": {
    "scrolled": false
   },
   "outputs": [
    {
     "name": "stdout",
     "output_type": "stream",
     "text": [
      "\n",
      "Network architecture:\n",
      "Sequential(\n",
      "  (0): IdentityModule()\n",
      "  (1): Sequential(\n",
      "    (0): Linear(in_features=1000, out_features=10, bias=True)\n",
      "    (1): ReLU()\n",
      "  )\n",
      "  (2): Linear(in_features=10, out_features=2, bias=True)\n",
      ")\n",
      "\n",
      "============================================================\n",
      "[0] Testing {'n_epochs': 10, 'batchnorm': False, 'dropout': 0, 'layer_out_dims': [1000, 10, 2], 'data_loader_config': {'batch_size': 256, 'num_workers': 1}, 'lr': 0.3700237151852522}\n",
      "============================================================\n"
     ]
    },
    {
     "name": "stderr",
     "output_type": "stream",
     "text": [
      "100%|██████████| 32/32 [00:00<00:00, 148.77it/s, avg_loss=4.78]\n"
     ]
    },
    {
     "name": "stdout",
     "output_type": "stream",
     "text": [
      "Saving model at iteration 0 with best score 0.754\n",
      "[E:0]\tTrain Loss: 1.223\tDev score: 0.754\n"
     ]
    },
    {
     "name": "stderr",
     "output_type": "stream",
     "text": [
      "100%|██████████| 32/32 [00:00<00:00, 160.02it/s, avg_loss=2.25]\n",
      "100%|██████████| 32/32 [00:00<00:00, 126.38it/s, avg_loss=2.25]\n",
      "100%|██████████| 32/32 [00:00<00:00, 159.28it/s, avg_loss=2.25]\n",
      "100%|██████████| 32/32 [00:00<00:00, 148.48it/s, avg_loss=2.26]\n",
      "100%|██████████| 32/32 [00:00<00:00, 164.65it/s, avg_loss=2.25]\n"
     ]
    },
    {
     "name": "stdout",
     "output_type": "stream",
     "text": [
      "[E:5]\tTrain Loss: 0.576\tDev score: 0.754\n"
     ]
    },
    {
     "name": "stderr",
     "output_type": "stream",
     "text": [
      "100%|██████████| 32/32 [00:00<00:00, 164.22it/s, avg_loss=2.25]\n",
      "100%|██████████| 32/32 [00:00<00:00, 163.85it/s, avg_loss=2.25]\n",
      "100%|██████████| 32/32 [00:00<00:00, 165.94it/s, avg_loss=2.25]\n",
      "100%|██████████| 32/32 [00:00<00:00, 160.17it/s, avg_loss=2.26]\n"
     ]
    },
    {
     "name": "stdout",
     "output_type": "stream",
     "text": [
      "[E:9]\tTrain Loss: 0.579\tDev score: 0.754\n",
      "Restoring best model from iteration 0 with score 0.754\n",
      "Finished Training\n",
      "Accuracy: 0.754\n",
      "        y=1    y=2   \n",
      " l=1     0      0    \n",
      " l=2    246    754   \n",
      "F1: 0.000\n",
      "        y=1    y=2   \n",
      " l=1     0      0    \n",
      " l=2    246    754   \n",
      "\n",
      "Network architecture:\n",
      "Sequential(\n",
      "  (0): IdentityModule()\n",
      "  (1): Sequential(\n",
      "    (0): Linear(in_features=1000, out_features=100, bias=True)\n",
      "    (1): ReLU()\n",
      "  )\n",
      "  (2): Linear(in_features=100, out_features=2, bias=True)\n",
      ")\n",
      "\n",
      "============================================================\n",
      "[1] Testing {'n_epochs': 5, 'batchnorm': False, 'dropout': 0.1, 'layer_out_dims': [1000, 100, 2], 'data_loader_config': {'batch_size': 256, 'num_workers': 1}, 'lr': 1.827334249624349e-05}\n",
      "============================================================\n"
     ]
    },
    {
     "name": "stderr",
     "output_type": "stream",
     "text": [
      "100%|██████████| 32/32 [00:00<00:00, 138.88it/s, avg_loss=2.79]\n"
     ]
    },
    {
     "name": "stdout",
     "output_type": "stream",
     "text": [
      "Saving model at iteration 0 with best score 0.353\n",
      "[E:0]\tTrain Loss: 0.714\tDev score: 0.353\n"
     ]
    },
    {
     "name": "stderr",
     "output_type": "stream",
     "text": [
      "100%|██████████| 32/32 [00:00<00:00, 151.05it/s, avg_loss=2.72]\n"
     ]
    },
    {
     "name": "stdout",
     "output_type": "stream",
     "text": [
      "Saving model at iteration 1 with best score 0.578\n"
     ]
    },
    {
     "name": "stderr",
     "output_type": "stream",
     "text": [
      "100%|██████████| 32/32 [00:00<00:00, 136.21it/s, avg_loss=2.66]\n"
     ]
    },
    {
     "name": "stdout",
     "output_type": "stream",
     "text": [
      "Saving model at iteration 2 with best score 0.734\n"
     ]
    },
    {
     "name": "stderr",
     "output_type": "stream",
     "text": [
      "100%|██████████| 32/32 [00:00<00:00, 129.45it/s, avg_loss=2.6]\n"
     ]
    },
    {
     "name": "stdout",
     "output_type": "stream",
     "text": [
      "Saving model at iteration 3 with best score 0.767\n"
     ]
    },
    {
     "name": "stderr",
     "output_type": "stream",
     "text": [
      "100%|██████████| 32/32 [00:00<00:00, 146.73it/s, avg_loss=2.55]\n"
     ]
    },
    {
     "name": "stdout",
     "output_type": "stream",
     "text": [
      "[E:4]\tTrain Loss: 0.652\tDev score: 0.765\n",
      "Restoring best model from iteration 3 with score 0.767\n",
      "Finished Training\n",
      "Accuracy: 0.767\n",
      "        y=1    y=2   \n",
      " l=1    24     11    \n",
      " l=2    222    743   \n",
      "F1: 0.171\n",
      "        y=1    y=2   \n",
      " l=1    24     11    \n",
      " l=2    222    743   \n",
      "\n",
      "Network architecture:\n",
      "Sequential(\n",
      "  (0): IdentityModule()\n",
      "  (1): Sequential(\n",
      "    (0): Linear(in_features=1000, out_features=100, bias=True)\n",
      "    (1): ReLU()\n",
      "  )\n",
      "  (2): Linear(in_features=100, out_features=2, bias=True)\n",
      ")\n",
      "\n",
      "============================================================\n",
      "[2] Testing {'n_epochs': 10, 'batchnorm': False, 'dropout': 0.4, 'layer_out_dims': [1000, 100, 2], 'data_loader_config': {'batch_size': 256, 'num_workers': 1}, 'lr': 0.6366544570068935}\n",
      "============================================================\n"
     ]
    },
    {
     "name": "stderr",
     "output_type": "stream",
     "text": [
      "100%|██████████| 32/32 [00:00<00:00, 150.79it/s, avg_loss=43.2]\n"
     ]
    },
    {
     "name": "stdout",
     "output_type": "stream",
     "text": [
      "Saving model at iteration 0 with best score 0.754\n",
      "[E:0]\tTrain Loss: 11.059\tDev score: 0.754\n"
     ]
    },
    {
     "name": "stderr",
     "output_type": "stream",
     "text": [
      "100%|██████████| 32/32 [00:00<00:00, 109.51it/s, avg_loss=3.09]\n",
      "100%|██████████| 32/32 [00:00<00:00, 138.37it/s, avg_loss=2.8]\n",
      "100%|██████████| 32/32 [00:00<00:00, 147.05it/s, avg_loss=2.43]\n",
      "100%|██████████| 32/32 [00:00<00:00, 150.81it/s, avg_loss=2.37]\n",
      "100%|██████████| 32/32 [00:00<00:00, 149.10it/s, avg_loss=2.31]\n"
     ]
    },
    {
     "name": "stdout",
     "output_type": "stream",
     "text": [
      "[E:5]\tTrain Loss: 0.590\tDev score: 0.754\n"
     ]
    },
    {
     "name": "stderr",
     "output_type": "stream",
     "text": [
      "100%|██████████| 32/32 [00:00<00:00, 147.25it/s, avg_loss=2.27]\n",
      "100%|██████████| 32/32 [00:00<00:00, 151.21it/s, avg_loss=2.26]\n",
      "100%|██████████| 32/32 [00:00<00:00, 112.29it/s, avg_loss=2.25]\n",
      "100%|██████████| 32/32 [00:00<00:00, 141.43it/s, avg_loss=2.25]\n"
     ]
    },
    {
     "name": "stdout",
     "output_type": "stream",
     "text": [
      "[E:9]\tTrain Loss: 0.576\tDev score: 0.754\n",
      "Restoring best model from iteration 0 with score 0.754\n",
      "Finished Training\n",
      "Accuracy: 0.754\n",
      "        y=1    y=2   \n",
      " l=1     0      0    \n",
      " l=2    246    754   \n",
      "F1: 0.000\n",
      "        y=1    y=2   \n",
      " l=1     0      0    \n",
      " l=2    246    754   \n",
      "\n",
      "Network architecture:\n",
      "Sequential(\n",
      "  (0): IdentityModule()\n",
      "  (1): Sequential(\n",
      "    (0): Linear(in_features=1000, out_features=100, bias=True)\n",
      "    (1): ReLU()\n",
      "  )\n",
      "  (2): Linear(in_features=100, out_features=2, bias=True)\n",
      ")\n",
      "\n",
      "============================================================\n",
      "[3] Testing {'n_epochs': 5, 'batchnorm': True, 'dropout': 0.2, 'layer_out_dims': [1000, 100, 2], 'data_loader_config': {'batch_size': 256, 'num_workers': 1}, 'lr': 0.31643979593790955}\n",
      "============================================================\n"
     ]
    },
    {
     "name": "stderr",
     "output_type": "stream",
     "text": [
      "100%|██████████| 32/32 [00:00<00:00, 149.98it/s, avg_loss=13.9]\n"
     ]
    },
    {
     "name": "stdout",
     "output_type": "stream",
     "text": [
      "Saving model at iteration 0 with best score 0.754\n",
      "[E:0]\tTrain Loss: 3.548\tDev score: 0.754\n"
     ]
    },
    {
     "name": "stderr",
     "output_type": "stream",
     "text": [
      "100%|██████████| 32/32 [00:00<00:00, 146.56it/s, avg_loss=2.3]\n",
      "100%|██████████| 32/32 [00:00<00:00, 142.74it/s, avg_loss=2.35]\n",
      "100%|██████████| 32/32 [00:00<00:00, 152.49it/s, avg_loss=2.25]\n",
      "100%|██████████| 32/32 [00:00<00:00, 147.70it/s, avg_loss=2.25]\n"
     ]
    },
    {
     "name": "stdout",
     "output_type": "stream",
     "text": [
      "[E:4]\tTrain Loss: 0.575\tDev score: 0.754\n",
      "Restoring best model from iteration 0 with score 0.754\n",
      "Finished Training\n",
      "Accuracy: 0.754\n",
      "        y=1    y=2   \n",
      " l=1     0      0    \n",
      " l=2    246    754   \n",
      "F1: 0.000\n",
      "        y=1    y=2   \n",
      " l=1     0      0    \n",
      " l=2    246    754   \n",
      "\n",
      "Network architecture:\n",
      "Sequential(\n",
      "  (0): IdentityModule()\n",
      "  (1): Sequential(\n",
      "    (0): Linear(in_features=1000, out_features=100, bias=True)\n",
      "    (1): ReLU()\n",
      "  )\n",
      "  (2): Linear(in_features=100, out_features=2, bias=True)\n",
      ")\n",
      "\n",
      "============================================================\n",
      "[4] Testing {'n_epochs': 1, 'batchnorm': False, 'dropout': 0.2, 'layer_out_dims': [1000, 100, 2], 'data_loader_config': {'batch_size': 256, 'num_workers': 1}, 'lr': 0.007292621889903268}\n",
      "============================================================\n"
     ]
    },
    {
     "name": "stderr",
     "output_type": "stream",
     "text": [
      "100%|██████████| 32/32 [00:00<00:00, 151.68it/s, avg_loss=1.91]\n"
     ]
    },
    {
     "name": "stdout",
     "output_type": "stream",
     "text": [
      "Saving model at iteration 0 with best score 0.994\n",
      "[E:0]\tTrain Loss: 0.488\tDev score: 0.994\n",
      "Restoring best model from iteration 0 with score 0.994\n",
      "Finished Training\n",
      "Accuracy: 0.994\n",
      "        y=1    y=2   \n",
      " l=1    241     1    \n",
      " l=2     5     753   \n",
      "F1: 0.988\n",
      "        y=1    y=2   \n",
      " l=1    241     1    \n",
      " l=2     5     753   \n",
      "\n",
      "Network architecture:\n",
      "Sequential(\n",
      "  (0): IdentityModule()\n",
      "  (1): Sequential(\n",
      "    (0): Linear(in_features=1000, out_features=100, bias=True)\n",
      "    (1): ReLU()\n",
      "  )\n",
      "  (2): Linear(in_features=100, out_features=2, bias=True)\n",
      ")\n",
      "\n",
      "============================================================\n",
      "[5] Testing {'n_epochs': 5, 'batchnorm': False, 'dropout': 0.4, 'layer_out_dims': [1000, 100, 2], 'data_loader_config': {'batch_size': 256, 'num_workers': 1}, 'lr': 1.670624993426239e-05}\n",
      "============================================================\n"
     ]
    },
    {
     "name": "stderr",
     "output_type": "stream",
     "text": [
      "100%|██████████| 32/32 [00:00<00:00, 154.96it/s, avg_loss=2.74]\n"
     ]
    },
    {
     "name": "stdout",
     "output_type": "stream",
     "text": [
      "Saving model at iteration 0 with best score 0.530\n",
      "[E:0]\tTrain Loss: 0.702\tDev score: 0.530\n"
     ]
    },
    {
     "name": "stderr",
     "output_type": "stream",
     "text": [
      "100%|██████████| 32/32 [00:00<00:00, 154.86it/s, avg_loss=2.68]\n"
     ]
    },
    {
     "name": "stdout",
     "output_type": "stream",
     "text": [
      "Saving model at iteration 1 with best score 0.715\n"
     ]
    },
    {
     "name": "stderr",
     "output_type": "stream",
     "text": [
      "100%|██████████| 32/32 [00:00<00:00, 151.65it/s, avg_loss=2.62]\n"
     ]
    },
    {
     "name": "stdout",
     "output_type": "stream",
     "text": [
      "Saving model at iteration 2 with best score 0.779\n"
     ]
    },
    {
     "name": "stderr",
     "output_type": "stream",
     "text": [
      "100%|██████████| 32/32 [00:00<00:00, 150.84it/s, avg_loss=2.56]\n",
      "100%|██████████| 32/32 [00:00<00:00, 148.33it/s, avg_loss=2.51]\n"
     ]
    },
    {
     "name": "stdout",
     "output_type": "stream",
     "text": [
      "[E:4]\tTrain Loss: 0.643\tDev score: 0.757\n",
      "Restoring best model from iteration 2 with score 0.779\n",
      "Finished Training\n",
      "Accuracy: 0.779\n",
      "        y=1    y=2   \n",
      " l=1    40     15    \n",
      " l=2    206    739   \n",
      "F1: 0.266\n",
      "        y=1    y=2   \n",
      " l=1    40     15    \n",
      " l=2    206    739   \n",
      "\n",
      "Network architecture:\n",
      "Sequential(\n",
      "  (0): IdentityModule()\n",
      "  (1): Sequential(\n",
      "    (0): Linear(in_features=1000, out_features=10, bias=True)\n",
      "    (1): ReLU()\n",
      "  )\n",
      "  (2): Linear(in_features=10, out_features=2, bias=True)\n",
      ")\n",
      "\n",
      "============================================================\n",
      "[6] Testing {'n_epochs': 5, 'batchnorm': False, 'dropout': 0.2, 'layer_out_dims': [1000, 10, 2], 'data_loader_config': {'batch_size': 256, 'num_workers': 1}, 'lr': 0.5013839780330771}\n",
      "============================================================\n"
     ]
    },
    {
     "name": "stderr",
     "output_type": "stream",
     "text": [
      "100%|██████████| 32/32 [00:00<00:00, 150.25it/s, avg_loss=6.48]\n"
     ]
    },
    {
     "name": "stdout",
     "output_type": "stream",
     "text": [
      "Saving model at iteration 0 with best score 0.754\n",
      "[E:0]\tTrain Loss: 1.658\tDev score: 0.754\n"
     ]
    },
    {
     "name": "stderr",
     "output_type": "stream",
     "text": [
      "100%|██████████| 32/32 [00:00<00:00, 173.70it/s, avg_loss=2.25]\n",
      "100%|██████████| 32/32 [00:00<00:00, 172.25it/s, avg_loss=2.25]\n",
      "100%|██████████| 32/32 [00:00<00:00, 173.18it/s, avg_loss=2.25]\n",
      "100%|██████████| 32/32 [00:00<00:00, 172.24it/s, avg_loss=2.25]\n"
     ]
    },
    {
     "name": "stdout",
     "output_type": "stream",
     "text": [
      "[E:4]\tTrain Loss: 0.576\tDev score: 0.754\n",
      "Restoring best model from iteration 0 with score 0.754\n",
      "Finished Training\n",
      "Accuracy: 0.754\n",
      "        y=1    y=2   \n",
      " l=1     0      0    \n",
      " l=2    246    754   \n",
      "F1: 0.000\n",
      "        y=1    y=2   \n",
      " l=1     0      0    \n",
      " l=2    246    754   \n",
      "\n",
      "Network architecture:\n",
      "Sequential(\n",
      "  (0): IdentityModule()\n",
      "  (1): Sequential(\n",
      "    (0): Linear(in_features=1000, out_features=100, bias=True)\n",
      "    (1): ReLU()\n",
      "  )\n",
      "  (2): Linear(in_features=100, out_features=2, bias=True)\n",
      ")\n",
      "\n",
      "============================================================\n",
      "[7] Testing {'n_epochs': 1, 'batchnorm': False, 'dropout': 0.5, 'layer_out_dims': [1000, 100, 2], 'data_loader_config': {'batch_size': 256, 'num_workers': 1}, 'lr': 0.008520966193723056}\n",
      "============================================================\n"
     ]
    },
    {
     "name": "stderr",
     "output_type": "stream",
     "text": [
      "100%|██████████| 32/32 [00:00<00:00, 154.92it/s, avg_loss=1.89]\n"
     ]
    },
    {
     "name": "stdout",
     "output_type": "stream",
     "text": [
      "Saving model at iteration 0 with best score 0.982\n",
      "[E:0]\tTrain Loss: 0.483\tDev score: 0.982\n",
      "Restoring best model from iteration 0 with score 0.982\n",
      "Finished Training\n",
      "Accuracy: 0.982\n",
      "        y=1    y=2   \n",
      " l=1    229     1    \n",
      " l=2    17     753   \n",
      "F1: 0.962\n",
      "        y=1    y=2   \n",
      " l=1    229     1    \n",
      " l=2    17     753   \n",
      "\n",
      "Network architecture:\n",
      "Sequential(\n",
      "  (0): IdentityModule()\n",
      "  (1): Sequential(\n",
      "    (0): Linear(in_features=1000, out_features=100, bias=True)\n",
      "    (1): ReLU()\n",
      "  )\n",
      "  (2): Linear(in_features=100, out_features=2, bias=True)\n",
      ")\n",
      "\n",
      "============================================================\n",
      "[8] Testing {'n_epochs': 10, 'batchnorm': False, 'dropout': 0.1, 'layer_out_dims': [1000, 100, 2], 'data_loader_config': {'batch_size': 256, 'num_workers': 1}, 'lr': 0.003970906941573151}\n",
      "============================================================\n"
     ]
    },
    {
     "name": "stderr",
     "output_type": "stream",
     "text": [
      "100%|██████████| 32/32 [00:00<00:00, 154.67it/s, avg_loss=1.92]\n"
     ]
    },
    {
     "name": "stdout",
     "output_type": "stream",
     "text": [
      "Saving model at iteration 0 with best score 0.998\n",
      "[E:0]\tTrain Loss: 0.491\tDev score: 0.998\n"
     ]
    },
    {
     "name": "stderr",
     "output_type": "stream",
     "text": [
      "100%|██████████| 32/32 [00:00<00:00, 118.90it/s, avg_loss=1.75]\n",
      "100%|██████████| 32/32 [00:00<00:00, 153.51it/s, avg_loss=1.69]\n",
      "100%|██████████| 32/32 [00:00<00:00, 149.85it/s, avg_loss=1.64]\n",
      "100%|██████████| 32/32 [00:00<00:00, 147.37it/s, avg_loss=1.56]\n",
      "100%|██████████| 32/32 [00:00<00:00, 143.06it/s, avg_loss=1.48]\n"
     ]
    },
    {
     "name": "stdout",
     "output_type": "stream",
     "text": [
      "[E:5]\tTrain Loss: 0.378\tDev score: 0.923\n"
     ]
    },
    {
     "name": "stderr",
     "output_type": "stream",
     "text": [
      "100%|██████████| 32/32 [00:00<00:00, 147.38it/s, avg_loss=1.4]\n",
      "100%|██████████| 32/32 [00:00<00:00, 149.40it/s, avg_loss=1.34]\n",
      "100%|██████████| 32/32 [00:00<00:00, 108.57it/s, avg_loss=1.3]\n",
      "100%|██████████| 32/32 [00:00<00:00, 149.61it/s, avg_loss=1.27]\n"
     ]
    },
    {
     "name": "stdout",
     "output_type": "stream",
     "text": [
      "[E:9]\tTrain Loss: 0.325\tDev score: 0.915\n",
      "Restoring best model from iteration 0 with score 0.998\n",
      "Finished Training\n",
      "Accuracy: 0.998\n",
      "        y=1    y=2   \n",
      " l=1    245     1    \n",
      " l=2     1     753   \n",
      "F1: 0.996\n",
      "        y=1    y=2   \n",
      " l=1    245     1    \n",
      " l=2     1     753   \n",
      "\n",
      "Network architecture:\n",
      "Sequential(\n",
      "  (0): IdentityModule()\n",
      "  (1): Sequential(\n",
      "    (0): Linear(in_features=1000, out_features=100, bias=True)\n",
      "    (1): ReLU()\n",
      "  )\n",
      "  (2): Linear(in_features=100, out_features=2, bias=True)\n",
      ")\n",
      "\n",
      "============================================================\n",
      "[9] Testing {'n_epochs': 1, 'batchnorm': True, 'dropout': 0.3, 'layer_out_dims': [1000, 100, 2], 'data_loader_config': {'batch_size': 256, 'num_workers': 1}, 'lr': 0.0003777251862528499}\n",
      "============================================================\n"
     ]
    },
    {
     "name": "stderr",
     "output_type": "stream",
     "text": [
      "100%|██████████| 32/32 [00:00<00:00, 141.01it/s, avg_loss=2.41]\n"
     ]
    },
    {
     "name": "stdout",
     "output_type": "stream",
     "text": [
      "Saving model at iteration 0 with best score 0.754\n",
      "[E:0]\tTrain Loss: 0.617\tDev score: 0.754\n",
      "Restoring best model from iteration 0 with score 0.754\n",
      "Finished Training\n",
      "Accuracy: 0.754\n",
      "        y=1    y=2   \n",
      " l=1     0      0    \n",
      " l=2    246    754   \n",
      "F1: 0.000\n",
      "        y=1    y=2   \n",
      " l=1     0      0    \n",
      " l=2    246    754   \n",
      "\n",
      "Network architecture:\n",
      "Sequential(\n",
      "  (0): IdentityModule()\n",
      "  (1): Sequential(\n",
      "    (0): Linear(in_features=1000, out_features=100, bias=True)\n",
      "    (1): ReLU()\n",
      "  )\n",
      "  (2): Linear(in_features=100, out_features=2, bias=True)\n",
      ")\n",
      "\n",
      "============================================================\n",
      "[10] Testing {'n_epochs': 10, 'batchnorm': False, 'dropout': 0.3, 'layer_out_dims': [1000, 100, 2], 'data_loader_config': {'batch_size': 256, 'num_workers': 1}, 'lr': 0.0011538361363759827}\n",
      "============================================================\n"
     ]
    },
    {
     "name": "stderr",
     "output_type": "stream",
     "text": [
      "100%|██████████| 32/32 [00:00<00:00, 155.71it/s, avg_loss=2.06]\n"
     ]
    },
    {
     "name": "stdout",
     "output_type": "stream",
     "text": [
      "Saving model at iteration 0 with best score 0.990\n",
      "[E:0]\tTrain Loss: 0.526\tDev score: 0.990\n"
     ]
    },
    {
     "name": "stderr",
     "output_type": "stream",
     "text": [
      "100%|██████████| 32/32 [00:00<00:00, 157.24it/s, avg_loss=1.78]\n"
     ]
    },
    {
     "name": "stdout",
     "output_type": "stream",
     "text": [
      "Saving model at iteration 1 with best score 0.991\n"
     ]
    },
    {
     "name": "stderr",
     "output_type": "stream",
     "text": [
      "100%|██████████| 32/32 [00:00<00:00, 157.09it/s, avg_loss=1.73]\n",
      "100%|██████████| 32/32 [00:00<00:00, 113.55it/s, avg_loss=1.7]\n",
      "100%|██████████| 32/32 [00:00<00:00, 149.36it/s, avg_loss=1.66]\n",
      "100%|██████████| 32/32 [00:00<00:00, 156.11it/s, avg_loss=1.62]\n"
     ]
    },
    {
     "name": "stdout",
     "output_type": "stream",
     "text": [
      "[E:5]\tTrain Loss: 0.416\tDev score: 0.946\n"
     ]
    },
    {
     "name": "stderr",
     "output_type": "stream",
     "text": [
      "100%|██████████| 32/32 [00:00<00:00, 148.90it/s, avg_loss=1.58]\n",
      "100%|██████████| 32/32 [00:00<00:00, 150.56it/s, avg_loss=1.53]\n",
      "100%|██████████| 32/32 [00:00<00:00, 151.23it/s, avg_loss=1.47]\n",
      "100%|██████████| 32/32 [00:00<00:00, 146.30it/s, avg_loss=1.42]\n"
     ]
    },
    {
     "name": "stdout",
     "output_type": "stream",
     "text": [
      "[E:9]\tTrain Loss: 0.363\tDev score: 0.940\n",
      "Restoring best model from iteration 1 with score 0.991\n",
      "Finished Training\n",
      "Accuracy: 0.991\n",
      "        y=1    y=2   \n",
      " l=1    237     0    \n",
      " l=2     9     754   \n",
      "F1: 0.981\n",
      "        y=1    y=2   \n",
      " l=1    237     0    \n",
      " l=2     9     754   \n",
      "\n",
      "Network architecture:\n",
      "Sequential(\n",
      "  (0): IdentityModule()\n",
      "  (1): Sequential(\n",
      "    (0): Linear(in_features=1000, out_features=100, bias=True)\n",
      "    (1): ReLU()\n",
      "  )\n",
      "  (2): Linear(in_features=100, out_features=2, bias=True)\n",
      ")\n",
      "\n",
      "============================================================\n",
      "[11] Testing {'n_epochs': 10, 'batchnorm': True, 'dropout': 0.3, 'layer_out_dims': [1000, 100, 2], 'data_loader_config': {'batch_size': 256, 'num_workers': 1}, 'lr': 0.002945528656127802}\n",
      "============================================================\n"
     ]
    },
    {
     "name": "stderr",
     "output_type": "stream",
     "text": [
      "100%|██████████| 32/32 [00:00<00:00, 112.51it/s, avg_loss=1.92]\n"
     ]
    },
    {
     "name": "stdout",
     "output_type": "stream",
     "text": [
      "Saving model at iteration 0 with best score 0.998\n",
      "[E:0]\tTrain Loss: 0.491\tDev score: 0.998\n"
     ]
    },
    {
     "name": "stderr",
     "output_type": "stream",
     "text": [
      "100%|██████████| 32/32 [00:00<00:00, 148.30it/s, avg_loss=1.75]\n",
      "100%|██████████| 32/32 [00:00<00:00, 149.46it/s, avg_loss=1.7]\n",
      "100%|██████████| 32/32 [00:00<00:00, 146.80it/s, avg_loss=1.65]\n",
      "100%|██████████| 32/32 [00:00<00:00, 148.69it/s, avg_loss=1.59]\n",
      "100%|██████████| 32/32 [00:00<00:00, 149.06it/s, avg_loss=1.52]\n"
     ]
    },
    {
     "name": "stdout",
     "output_type": "stream",
     "text": [
      "[E:5]\tTrain Loss: 0.388\tDev score: 0.944\n"
     ]
    },
    {
     "name": "stderr",
     "output_type": "stream",
     "text": [
      "100%|██████████| 32/32 [00:00<00:00, 147.64it/s, avg_loss=1.44]\n",
      "100%|██████████| 32/32 [00:00<00:00, 112.98it/s, avg_loss=1.36]\n",
      "100%|██████████| 32/32 [00:00<00:00, 146.69it/s, avg_loss=1.31]\n",
      "100%|██████████| 32/32 [00:00<00:00, 146.10it/s, avg_loss=1.27]\n"
     ]
    },
    {
     "name": "stdout",
     "output_type": "stream",
     "text": [
      "[E:9]\tTrain Loss: 0.325\tDev score: 0.923\n",
      "Restoring best model from iteration 0 with score 0.998\n",
      "Finished Training\n",
      "Accuracy: 0.998\n",
      "        y=1    y=2   \n",
      " l=1    245     1    \n",
      " l=2     1     753   \n",
      "F1: 0.996\n",
      "        y=1    y=2   \n",
      " l=1    245     1    \n",
      " l=2     1     753   \n",
      "\n",
      "Network architecture:\n",
      "Sequential(\n",
      "  (0): IdentityModule()\n",
      "  (1): Sequential(\n",
      "    (0): Linear(in_features=1000, out_features=10, bias=True)\n",
      "    (1): ReLU()\n",
      "  )\n",
      "  (2): Linear(in_features=10, out_features=2, bias=True)\n",
      ")\n",
      "\n",
      "============================================================\n",
      "[12] Testing {'n_epochs': 1, 'batchnorm': False, 'dropout': 0.1, 'layer_out_dims': [1000, 10, 2], 'data_loader_config': {'batch_size': 256, 'num_workers': 1}, 'lr': 0.0026338666324303645}\n",
      "============================================================\n"
     ]
    },
    {
     "name": "stderr",
     "output_type": "stream",
     "text": [
      "100%|██████████| 32/32 [00:00<00:00, 156.68it/s, avg_loss=2.16]\n"
     ]
    },
    {
     "name": "stdout",
     "output_type": "stream",
     "text": [
      "Saving model at iteration 0 with best score 0.827\n",
      "[E:0]\tTrain Loss: 0.553\tDev score: 0.827\n",
      "Restoring best model from iteration 0 with score 0.827\n",
      "Finished Training\n",
      "Accuracy: 0.827\n",
      "        y=1    y=2   \n",
      " l=1    73      0    \n",
      " l=2    173    754   \n",
      "F1: 0.458\n",
      "        y=1    y=2   \n",
      " l=1    73      0    \n",
      " l=2    173    754   \n",
      "\n",
      "Network architecture:\n",
      "Sequential(\n",
      "  (0): IdentityModule()\n",
      "  (1): Sequential(\n",
      "    (0): Linear(in_features=1000, out_features=100, bias=True)\n",
      "    (1): ReLU()\n",
      "  )\n",
      "  (2): Linear(in_features=100, out_features=2, bias=True)\n",
      ")\n",
      "\n",
      "============================================================\n",
      "[13] Testing {'n_epochs': 5, 'batchnorm': False, 'dropout': 0, 'layer_out_dims': [1000, 100, 2], 'data_loader_config': {'batch_size': 256, 'num_workers': 1}, 'lr': 0.022267690733296888}\n",
      "============================================================\n"
     ]
    },
    {
     "name": "stderr",
     "output_type": "stream",
     "text": [
      "100%|██████████| 32/32 [00:00<00:00, 146.28it/s, avg_loss=1.96]\n"
     ]
    },
    {
     "name": "stdout",
     "output_type": "stream",
     "text": [
      "Saving model at iteration 0 with best score 0.973\n",
      "[E:0]\tTrain Loss: 0.501\tDev score: 0.973\n"
     ]
    },
    {
     "name": "stderr",
     "output_type": "stream",
     "text": [
      "100%|██████████| 32/32 [00:00<00:00, 144.04it/s, avg_loss=1.74]\n"
     ]
    },
    {
     "name": "stdout",
     "output_type": "stream",
     "text": [
      "Saving model at iteration 1 with best score 0.976\n"
     ]
    },
    {
     "name": "stderr",
     "output_type": "stream",
     "text": [
      "100%|██████████| 32/32 [00:00<00:00, 111.38it/s, avg_loss=1.67]\n",
      "100%|██████████| 32/32 [00:00<00:00, 146.86it/s, avg_loss=1.6]\n",
      "100%|██████████| 32/32 [00:00<00:00, 147.16it/s, avg_loss=1.53]\n"
     ]
    },
    {
     "name": "stdout",
     "output_type": "stream",
     "text": [
      "[E:4]\tTrain Loss: 0.391\tDev score: 0.928\n",
      "Restoring best model from iteration 1 with score 0.976\n",
      "Finished Training\n",
      "Accuracy: 0.976\n",
      "        y=1    y=2   \n",
      " l=1    224     2    \n",
      " l=2    22     752   \n",
      "F1: 0.949\n",
      "        y=1    y=2   \n",
      " l=1    224     2    \n",
      " l=2    22     752   \n",
      "\n",
      "Network architecture:\n",
      "Sequential(\n",
      "  (0): IdentityModule()\n",
      "  (1): Sequential(\n",
      "    (0): Linear(in_features=1000, out_features=10, bias=True)\n",
      "    (1): ReLU()\n",
      "  )\n",
      "  (2): Linear(in_features=10, out_features=2, bias=True)\n",
      ")\n",
      "\n",
      "============================================================\n",
      "[14] Testing {'n_epochs': 1, 'batchnorm': False, 'dropout': 0.5, 'layer_out_dims': [1000, 10, 2], 'data_loader_config': {'batch_size': 256, 'num_workers': 1}, 'lr': 0.007561031383400367}\n",
      "============================================================\n"
     ]
    },
    {
     "name": "stderr",
     "output_type": "stream",
     "text": [
      "100%|██████████| 32/32 [00:00<00:00, 163.94it/s, avg_loss=1.98]\n"
     ]
    },
    {
     "name": "stdout",
     "output_type": "stream",
     "text": [
      "Saving model at iteration 0 with best score 0.991\n",
      "[E:0]\tTrain Loss: 0.506\tDev score: 0.991\n",
      "Restoring best model from iteration 0 with score 0.991\n",
      "Finished Training\n",
      "Accuracy: 0.991\n",
      "        y=1    y=2   \n",
      " l=1    238     1    \n",
      " l=2     8     753   \n",
      "F1: 0.981\n",
      "        y=1    y=2   \n",
      " l=1    238     1    \n",
      " l=2     8     753   \n",
      "\n",
      "Network architecture:\n",
      "Sequential(\n",
      "  (0): IdentityModule()\n",
      "  (1): Sequential(\n",
      "    (0): Linear(in_features=1000, out_features=10, bias=True)\n",
      "    (1): ReLU()\n",
      "  )\n",
      "  (2): Linear(in_features=10, out_features=2, bias=True)\n",
      ")\n",
      "\n",
      "============================================================\n",
      "[15] Testing {'n_epochs': 10, 'batchnorm': False, 'dropout': 0.3, 'layer_out_dims': [1000, 10, 2], 'data_loader_config': {'batch_size': 256, 'num_workers': 1}, 'lr': 2.3005563286765607e-05}\n",
      "============================================================\n"
     ]
    },
    {
     "name": "stderr",
     "output_type": "stream",
     "text": [
      "100%|██████████| 32/32 [00:00<00:00, 164.00it/s, avg_loss=2.62]\n"
     ]
    },
    {
     "name": "stdout",
     "output_type": "stream",
     "text": [
      "Saving model at iteration 0 with best score 0.758\n",
      "[E:0]\tTrain Loss: 0.670\tDev score: 0.758\n"
     ]
    },
    {
     "name": "stderr",
     "output_type": "stream",
     "text": [
      "100%|██████████| 32/32 [00:00<00:00, 159.81it/s, avg_loss=2.6]\n",
      "100%|██████████| 32/32 [00:00<00:00, 165.75it/s, avg_loss=2.58]\n",
      "100%|██████████| 32/32 [00:00<00:00, 148.86it/s, avg_loss=2.56]\n",
      "100%|██████████| 32/32 [00:00<00:00, 158.84it/s, avg_loss=2.53]\n",
      "100%|██████████| 32/32 [00:00<00:00, 165.24it/s, avg_loss=2.51]\n"
     ]
    },
    {
     "name": "stdout",
     "output_type": "stream",
     "text": [
      "[E:5]\tTrain Loss: 0.643\tDev score: 0.754\n"
     ]
    },
    {
     "name": "stderr",
     "output_type": "stream",
     "text": [
      "100%|██████████| 32/32 [00:00<00:00, 156.75it/s, avg_loss=2.49]\n",
      "100%|██████████| 32/32 [00:00<00:00, 164.70it/s, avg_loss=2.47]\n",
      "100%|██████████| 32/32 [00:00<00:00, 167.06it/s, avg_loss=2.44]\n",
      "100%|██████████| 32/32 [00:00<00:00, 165.69it/s, avg_loss=2.42]\n"
     ]
    },
    {
     "name": "stdout",
     "output_type": "stream",
     "text": [
      "[E:9]\tTrain Loss: 0.620\tDev score: 0.754\n",
      "Restoring best model from iteration 0 with score 0.758\n",
      "Finished Training\n",
      "Accuracy: 0.758\n",
      "        y=1    y=2   \n",
      " l=1     7      3    \n",
      " l=2    239    751   \n",
      "F1: 0.055\n",
      "        y=1    y=2   \n",
      " l=1     7      3    \n",
      " l=2    239    751   \n",
      "\n",
      "Network architecture:\n",
      "Sequential(\n",
      "  (0): IdentityModule()\n",
      "  (1): Sequential(\n",
      "    (0): Linear(in_features=1000, out_features=10, bias=True)\n",
      "    (1): ReLU()\n",
      "  )\n",
      "  (2): Linear(in_features=10, out_features=2, bias=True)\n",
      ")\n",
      "\n",
      "============================================================\n",
      "[16] Testing {'n_epochs': 1, 'batchnorm': False, 'dropout': 0, 'layer_out_dims': [1000, 10, 2], 'data_loader_config': {'batch_size': 256, 'num_workers': 1}, 'lr': 9.272176167778152e-05}\n",
      "============================================================\n"
     ]
    },
    {
     "name": "stderr",
     "output_type": "stream",
     "text": [
      "100%|██████████| 32/32 [00:00<00:00, 133.82it/s, avg_loss=2.61]\n"
     ]
    },
    {
     "name": "stdout",
     "output_type": "stream",
     "text": [
      "Saving model at iteration 0 with best score 0.755\n",
      "[E:0]\tTrain Loss: 0.667\tDev score: 0.755\n",
      "Restoring best model from iteration 0 with score 0.755\n",
      "Finished Training\n",
      "Accuracy: 0.755\n",
      "        y=1    y=2   \n",
      " l=1     3      2    \n",
      " l=2    243    752   \n",
      "F1: 0.024\n",
      "        y=1    y=2   \n",
      " l=1     3      2    \n",
      " l=2    243    752   \n",
      "\n",
      "Network architecture:\n",
      "Sequential(\n",
      "  (0): IdentityModule()\n",
      "  (1): Sequential(\n",
      "    (0): Linear(in_features=1000, out_features=100, bias=True)\n",
      "    (1): ReLU()\n",
      "  )\n",
      "  (2): Linear(in_features=100, out_features=2, bias=True)\n",
      ")\n",
      "\n",
      "============================================================\n",
      "[17] Testing {'n_epochs': 10, 'batchnorm': False, 'dropout': 0, 'layer_out_dims': [1000, 100, 2], 'data_loader_config': {'batch_size': 256, 'num_workers': 1}, 'lr': 1.0175385317479292e-05}\n",
      "============================================================\n"
     ]
    },
    {
     "name": "stderr",
     "output_type": "stream",
     "text": [
      "100%|██████████| 32/32 [00:00<00:00, 144.73it/s, avg_loss=2.76]\n"
     ]
    },
    {
     "name": "stdout",
     "output_type": "stream",
     "text": [
      "Saving model at iteration 0 with best score 0.385\n",
      "[E:0]\tTrain Loss: 0.707\tDev score: 0.385\n"
     ]
    },
    {
     "name": "stderr",
     "output_type": "stream",
     "text": [
      "100%|██████████| 32/32 [00:00<00:00, 140.01it/s, avg_loss=2.72]\n"
     ]
    },
    {
     "name": "stdout",
     "output_type": "stream",
     "text": [
      "Saving model at iteration 1 with best score 0.536\n"
     ]
    },
    {
     "name": "stderr",
     "output_type": "stream",
     "text": [
      "100%|██████████| 32/32 [00:00<00:00, 142.83it/s, avg_loss=2.68]\n"
     ]
    },
    {
     "name": "stdout",
     "output_type": "stream",
     "text": [
      "Saving model at iteration 2 with best score 0.686\n"
     ]
    },
    {
     "name": "stderr",
     "output_type": "stream",
     "text": [
      "100%|██████████| 32/32 [00:00<00:00, 144.60it/s, avg_loss=2.65]\n"
     ]
    },
    {
     "name": "stdout",
     "output_type": "stream",
     "text": [
      "Saving model at iteration 3 with best score 0.744\n"
     ]
    },
    {
     "name": "stderr",
     "output_type": "stream",
     "text": [
      "100%|██████████| 32/32 [00:00<00:00, 141.74it/s, avg_loss=2.61]\n"
     ]
    },
    {
     "name": "stdout",
     "output_type": "stream",
     "text": [
      "Saving model at iteration 4 with best score 0.769\n"
     ]
    },
    {
     "name": "stderr",
     "output_type": "stream",
     "text": [
      "100%|██████████| 32/32 [00:00<00:00, 131.00it/s, avg_loss=2.57]\n"
     ]
    },
    {
     "name": "stdout",
     "output_type": "stream",
     "text": [
      "Saving model at iteration 5 with best score 0.772\n",
      "[E:5]\tTrain Loss: 0.659\tDev score: 0.772\n"
     ]
    },
    {
     "name": "stderr",
     "output_type": "stream",
     "text": [
      "100%|██████████| 32/32 [00:00<00:00, 142.81it/s, avg_loss=2.54]\n",
      "100%|██████████| 32/32 [00:00<00:00, 143.92it/s, avg_loss=2.5]\n",
      "100%|██████████| 32/32 [00:00<00:00, 145.84it/s, avg_loss=2.47]\n",
      "100%|██████████| 32/32 [00:00<00:00, 143.54it/s, avg_loss=2.43]\n"
     ]
    },
    {
     "name": "stdout",
     "output_type": "stream",
     "text": [
      "[E:9]\tTrain Loss: 0.623\tDev score: 0.758\n",
      "Restoring best model from iteration 5 with score 0.772\n",
      "Finished Training\n",
      "Accuracy: 0.772\n",
      "        y=1    y=2   \n",
      " l=1    25      7    \n",
      " l=2    221    747   \n",
      "F1: 0.180\n",
      "        y=1    y=2   \n",
      " l=1    25      7    \n",
      " l=2    221    747   \n",
      "\n",
      "Network architecture:\n",
      "Sequential(\n",
      "  (0): IdentityModule()\n",
      "  (1): Sequential(\n",
      "    (0): Linear(in_features=1000, out_features=100, bias=True)\n",
      "    (1): ReLU()\n",
      "  )\n",
      "  (2): Linear(in_features=100, out_features=2, bias=True)\n",
      ")\n",
      "\n",
      "============================================================\n",
      "[18] Testing {'n_epochs': 5, 'batchnorm': True, 'dropout': 0.3, 'layer_out_dims': [1000, 100, 2], 'data_loader_config': {'batch_size': 256, 'num_workers': 1}, 'lr': 0.07210322639680222}\n",
      "============================================================\n"
     ]
    },
    {
     "name": "stderr",
     "output_type": "stream",
     "text": [
      "100%|██████████| 32/32 [00:00<00:00, 148.17it/s, avg_loss=2.88]\n"
     ]
    },
    {
     "name": "stdout",
     "output_type": "stream",
     "text": [
      "Saving model at iteration 0 with best score 0.754\n",
      "[E:0]\tTrain Loss: 0.738\tDev score: 0.754\n"
     ]
    },
    {
     "name": "stderr",
     "output_type": "stream",
     "text": [
      "100%|██████████| 32/32 [00:00<00:00, 136.69it/s, avg_loss=2.25]\n",
      "100%|██████████| 32/32 [00:00<00:00, 109.44it/s, avg_loss=2.25]\n",
      "100%|██████████| 32/32 [00:00<00:00, 146.90it/s, avg_loss=2.25]\n",
      "100%|██████████| 32/32 [00:00<00:00, 144.22it/s, avg_loss=2.24]\n"
     ]
    },
    {
     "name": "stdout",
     "output_type": "stream",
     "text": [
      "[E:4]\tTrain Loss: 0.575\tDev score: 0.754\n",
      "Restoring best model from iteration 0 with score 0.754\n",
      "Finished Training\n",
      "Accuracy: 0.754\n",
      "        y=1    y=2   \n",
      " l=1     0      0    \n",
      " l=2    246    754   \n",
      "F1: 0.000\n",
      "        y=1    y=2   \n",
      " l=1     0      0    \n",
      " l=2    246    754   \n",
      "\n",
      "Network architecture:\n",
      "Sequential(\n",
      "  (0): IdentityModule()\n",
      "  (1): Sequential(\n",
      "    (0): Linear(in_features=1000, out_features=10, bias=True)\n",
      "    (1): ReLU()\n",
      "  )\n",
      "  (2): Linear(in_features=10, out_features=2, bias=True)\n",
      ")\n",
      "\n",
      "============================================================\n",
      "[19] Testing {'n_epochs': 10, 'batchnorm': True, 'dropout': 0.4, 'layer_out_dims': [1000, 10, 2], 'data_loader_config': {'batch_size': 256, 'num_workers': 1}, 'lr': 0.003860152812810654}\n",
      "============================================================\n"
     ]
    },
    {
     "name": "stderr",
     "output_type": "stream",
     "text": [
      "100%|██████████| 32/32 [00:00<00:00, 163.08it/s, avg_loss=2.05]\n"
     ]
    },
    {
     "name": "stdout",
     "output_type": "stream",
     "text": [
      "Saving model at iteration 0 with best score 0.986\n",
      "[E:0]\tTrain Loss: 0.526\tDev score: 0.986\n"
     ]
    },
    {
     "name": "stderr",
     "output_type": "stream",
     "text": [
      "100%|██████████| 32/32 [00:00<00:00, 159.87it/s, avg_loss=1.8]\n"
     ]
    },
    {
     "name": "stdout",
     "output_type": "stream",
     "text": [
      "Saving model at iteration 1 with best score 0.987\n"
     ]
    },
    {
     "name": "stderr",
     "output_type": "stream",
     "text": [
      "100%|██████████| 32/32 [00:00<00:00, 162.35it/s, avg_loss=1.77]\n",
      "100%|██████████| 32/32 [00:00<00:00, 163.07it/s, avg_loss=1.73]\n",
      "100%|██████████| 32/32 [00:00<00:00, 132.20it/s, avg_loss=1.71]\n",
      "100%|██████████| 32/32 [00:00<00:00, 159.27it/s, avg_loss=1.69]\n"
     ]
    },
    {
     "name": "stdout",
     "output_type": "stream",
     "text": [
      "[E:5]\tTrain Loss: 0.432\tDev score: 0.974\n"
     ]
    },
    {
     "name": "stderr",
     "output_type": "stream",
     "text": [
      "100%|██████████| 32/32 [00:00<00:00, 161.94it/s, avg_loss=1.67]\n",
      "100%|██████████| 32/32 [00:00<00:00, 159.06it/s, avg_loss=1.65]\n",
      "100%|██████████| 32/32 [00:00<00:00, 164.50it/s, avg_loss=1.64]\n",
      "100%|██████████| 32/32 [00:00<00:00, 150.59it/s, avg_loss=1.62]\n"
     ]
    },
    {
     "name": "stdout",
     "output_type": "stream",
     "text": [
      "[E:9]\tTrain Loss: 0.414\tDev score: 0.930\n",
      "Restoring best model from iteration 1 with score 0.987\n",
      "Finished Training\n",
      "Accuracy: 0.987\n",
      "        y=1    y=2   \n",
      " l=1    234     1    \n",
      " l=2    12     753   \n",
      "F1: 0.973\n",
      "        y=1    y=2   \n",
      " l=1    234     1    \n",
      " l=2    12     753   \n",
      "============================================================\n",
      "[SUMMARY]\n",
      "Best model: [8]\n",
      "Best config: {'n_epochs': 10, 'batchnorm': False, 'dropout': 0.1, 'layer_out_dims': [1000, 100, 2], 'print_every': 5, 'data_loader_config': {'batch_size': 256, 'num_workers': 1}, 'lr': 0.003970906941573151, 'seed': 131}\n",
      "Best score: 0.9959349593495935\n",
      "============================================================\n"
     ]
    }
   ],
   "source": [
    "best_rs_model = rs_tuner.search(search_space, \n",
    "                                dev_data,\n",
    "                                train_args=train_args, \n",
    "                                max_search=20, \n",
    "                                metric='f1', \n",
    "                                verbose=True)"
   ]
  },
  {
   "cell_type": "markdown",
   "metadata": {},
   "source": [
    "Awesome, our best random search model achieves an F1 of ~.996 which outperforms the model we had previously (F1 ~ .90). Can we do even better than random search by either attaining the same accuracy faster or achieving a higher score? The following section walks through using the <b>Hyperband</b> tuner, which recent research has shown to be more efficient than random search."
   ]
  },
  {
   "cell_type": "markdown",
   "metadata": {},
   "source": [
    "## Run Hyperband Search"
   ]
  },
  {
   "cell_type": "markdown",
   "metadata": {},
   "source": [
    "While random search performs surprisingly well, we can be more efficient if we adaptively allocate more compute resources for configurations that perform well than to those that don't. For example if a configuration seems to yield a really poor model after the first epoch of training, it's unlikely it'll perform well even after more training, so we can early-terminate the training of this configuration to save compute. This is the core idea behind the <b>Hyperband</b> algorithm which recent research has shown to outperform various algorithms including random search. (See https://arxiv.org/abs/1603.06560 if interested!)\n",
    "\n",
    "Running Hyperband is just as easy as running random search. Let's import the HyperbandTuner and instantiate it. \n",
    "\n",
    "Note that there is one extra argument to initialize the HyperbandTuner:\n",
    "- `hyperband_epochs_budget`: This specifies the number of total epochs of training the tuner can perform in its search for a performant model. This is used to create the Hyperband search schedule."
   ]
  },
  {
   "cell_type": "code",
   "execution_count": 57,
   "metadata": {},
   "outputs": [
    {
     "name": "stdout",
     "output_type": "stream",
     "text": [
      "=========================================\n",
      "|           Hyperband Schedule          |\n",
      "=========================================\n",
      "Table consists of tuples of (num configs, num_resources_per_config)which specify how many configs to run andfor how many epochs. \n",
      "Each bracket starts with a list of random configurations which is successively halved according the schedule.\n",
      "See the Hyperband paper (https://arxiv.org/pdf/1603.06560.pdf) for more details.\n",
      "-----------------------------------------\n",
      "Bracket 0: (9, 2) (3, 8) (1, 26)\n",
      "Bracket 1: (3, 8) (1, 26)\n",
      "Bracket 2: (3, 26)\n",
      "-----------------------------------------\n"
     ]
    }
   ],
   "source": [
    "from metal.tuners.hyperband_tuner import HyperbandTuner\n",
    "hb_tuner = HyperbandTuner(EndModel, hyperband_epochs_budget=200, seed=123)"
   ]
  },
  {
   "cell_type": "markdown",
   "metadata": {},
   "source": [
    "We can launch the Hyperband search process using the same `search` call. Note that since the Hyperband schedule already limits the amount of compute we do, we don't have to set the `max_search` argument."
   ]
  },
  {
   "cell_type": "code",
   "execution_count": 58,
   "metadata": {},
   "outputs": [
    {
     "name": "stdout",
     "output_type": "stream",
     "text": [
      "\n",
      "Network architecture:\n",
      "Sequential(\n",
      "  (0): IdentityModule()\n",
      "  (1): Sequential(\n",
      "    (0): Linear(in_features=1000, out_features=10, bias=True)\n",
      "    (1): ReLU()\n",
      "  )\n",
      "  (2): Linear(in_features=10, out_features=2, bias=True)\n",
      ")\n",
      "\n",
      "============================================================\n",
      "[0_0] Testing {'n_epochs': 2, 'batchnorm': False, 'dropout': 0, 'layer_out_dims': [1000, 10, 2], 'data_loader_config': {'batch_size': 256, 'num_workers': 1}, 'lr': 0.3700237151852522}\n",
      "============================================================\n"
     ]
    },
    {
     "name": "stderr",
     "output_type": "stream",
     "text": [
      "100%|██████████| 32/32 [00:00<00:00, 136.62it/s, avg_loss=4.78]\n"
     ]
    },
    {
     "name": "stdout",
     "output_type": "stream",
     "text": [
      "Saving model at iteration 0 with best score 0.754\n",
      "[E:0]\tTrain Loss: 1.223\tDev score: 0.754\n"
     ]
    },
    {
     "name": "stderr",
     "output_type": "stream",
     "text": [
      "100%|██████████| 32/32 [00:00<00:00, 148.83it/s, avg_loss=2.25]\n"
     ]
    },
    {
     "name": "stdout",
     "output_type": "stream",
     "text": [
      "[E:1]\tTrain Loss: 0.575\tDev score: 0.754\n",
      "Restoring best model from iteration 0 with score 0.754\n",
      "Finished Training\n",
      "Accuracy: 0.754\n",
      "        y=1    y=2   \n",
      " l=1     0      0    \n",
      " l=2    246    754   \n",
      "F1: 0.000\n",
      "        y=1    y=2   \n",
      " l=1     0      0    \n",
      " l=2    246    754   \n",
      "\n",
      "Network architecture:\n",
      "Sequential(\n",
      "  (0): IdentityModule()\n",
      "  (1): Sequential(\n",
      "    (0): Linear(in_features=1000, out_features=100, bias=True)\n",
      "    (1): ReLU()\n",
      "  )\n",
      "  (2): Linear(in_features=100, out_features=2, bias=True)\n",
      ")\n",
      "\n",
      "============================================================\n",
      "[0_1] Testing {'n_epochs': 2, 'batchnorm': False, 'dropout': 0.1, 'layer_out_dims': [1000, 100, 2], 'data_loader_config': {'batch_size': 256, 'num_workers': 1}, 'lr': 0.019515100267567337}\n",
      "============================================================\n"
     ]
    },
    {
     "name": "stderr",
     "output_type": "stream",
     "text": [
      "100%|██████████| 32/32 [00:00<00:00, 132.63it/s, avg_loss=1.95]\n"
     ]
    },
    {
     "name": "stdout",
     "output_type": "stream",
     "text": [
      "Saving model at iteration 0 with best score 0.990\n",
      "[E:0]\tTrain Loss: 0.500\tDev score: 0.990\n"
     ]
    },
    {
     "name": "stderr",
     "output_type": "stream",
     "text": [
      "100%|██████████| 32/32 [00:00<00:00, 132.49it/s, avg_loss=1.77]\n"
     ]
    },
    {
     "name": "stdout",
     "output_type": "stream",
     "text": [
      "[E:1]\tTrain Loss: 0.454\tDev score: 0.981\n",
      "Restoring best model from iteration 0 with score 0.990\n",
      "Finished Training\n",
      "Accuracy: 0.990\n",
      "        y=1    y=2   \n",
      " l=1    237     1    \n",
      " l=2     9     753   \n",
      "F1: 0.979\n",
      "        y=1    y=2   \n",
      " l=1    237     1    \n",
      " l=2     9     753   \n",
      "\n",
      "Network architecture:\n",
      "Sequential(\n",
      "  (0): IdentityModule()\n",
      "  (1): Sequential(\n",
      "    (0): Linear(in_features=1000, out_features=100, bias=True)\n",
      "    (1): ReLU()\n",
      "  )\n",
      "  (2): Linear(in_features=100, out_features=2, bias=True)\n",
      ")\n",
      "\n",
      "============================================================\n",
      "[0_2] Testing {'n_epochs': 2, 'batchnorm': False, 'dropout': 0.4, 'layer_out_dims': [1000, 100, 2], 'data_loader_config': {'batch_size': 256, 'num_workers': 1}, 'lr': 7.089807415516936e-05}\n",
      "============================================================\n"
     ]
    },
    {
     "name": "stderr",
     "output_type": "stream",
     "text": [
      "100%|██████████| 32/32 [00:00<00:00, 97.02it/s, avg_loss=2.61]\n"
     ]
    },
    {
     "name": "stdout",
     "output_type": "stream",
     "text": [
      "Saving model at iteration 0 with best score 0.754\n",
      "[E:0]\tTrain Loss: 0.667\tDev score: 0.754\n"
     ]
    },
    {
     "name": "stderr",
     "output_type": "stream",
     "text": [
      "100%|██████████| 32/32 [00:00<00:00, 127.31it/s, avg_loss=2.41]\n"
     ]
    },
    {
     "name": "stdout",
     "output_type": "stream",
     "text": [
      "[E:1]\tTrain Loss: 0.617\tDev score: 0.754\n",
      "Restoring best model from iteration 0 with score 0.754\n",
      "Finished Training\n",
      "Accuracy: 0.754\n",
      "        y=1    y=2   \n",
      " l=1     0      0    \n",
      " l=2    246    754   \n",
      "F1: 0.000\n",
      "        y=1    y=2   \n",
      " l=1     0      0    \n",
      " l=2    246    754   \n",
      "\n",
      "Network architecture:\n",
      "Sequential(\n",
      "  (0): IdentityModule()\n",
      "  (1): Sequential(\n",
      "    (0): Linear(in_features=1000, out_features=100, bias=True)\n",
      "    (1): ReLU()\n",
      "  )\n",
      "  (2): Linear(in_features=100, out_features=2, bias=True)\n",
      ")\n",
      "\n",
      "============================================================\n",
      "[0_3] Testing {'n_epochs': 2, 'batchnorm': True, 'dropout': 0.2, 'layer_out_dims': [1000, 100, 2], 'data_loader_config': {'batch_size': 256, 'num_workers': 1}, 'lr': 0.0004837052086066461}\n",
      "============================================================\n"
     ]
    },
    {
     "name": "stderr",
     "output_type": "stream",
     "text": [
      "100%|██████████| 32/32 [00:00<00:00, 146.68it/s, avg_loss=2.22]\n"
     ]
    },
    {
     "name": "stdout",
     "output_type": "stream",
     "text": [
      "Saving model at iteration 0 with best score 0.757\n",
      "[E:0]\tTrain Loss: 0.568\tDev score: 0.757\n"
     ]
    },
    {
     "name": "stderr",
     "output_type": "stream",
     "text": [
      "100%|██████████| 32/32 [00:00<00:00, 142.09it/s, avg_loss=1.84]\n"
     ]
    },
    {
     "name": "stdout",
     "output_type": "stream",
     "text": [
      "Saving model at iteration 1 with best score 0.986\n",
      "[E:1]\tTrain Loss: 0.471\tDev score: 0.986\n",
      "Restoring best model from iteration 1 with score 0.986\n",
      "Finished Training\n",
      "Accuracy: 0.986\n",
      "        y=1    y=2   \n",
      " l=1    232     0    \n",
      " l=2    14     754   \n",
      "F1: 0.971\n",
      "        y=1    y=2   \n",
      " l=1    232     0    \n",
      " l=2    14     754   \n",
      "\n",
      "Network architecture:\n",
      "Sequential(\n",
      "  (0): IdentityModule()\n",
      "  (1): Sequential(\n",
      "    (0): Linear(in_features=1000, out_features=100, bias=True)\n",
      "    (1): ReLU()\n",
      "  )\n",
      "  (2): Linear(in_features=100, out_features=2, bias=True)\n",
      ")\n",
      "\n",
      "============================================================\n",
      "[0_4] Testing {'n_epochs': 2, 'batchnorm': False, 'dropout': 0.2, 'layer_out_dims': [1000, 100, 2], 'data_loader_config': {'batch_size': 256, 'num_workers': 1}, 'lr': 0.000903579845523744}\n",
      "============================================================\n"
     ]
    },
    {
     "name": "stderr",
     "output_type": "stream",
     "text": [
      "100%|██████████| 32/32 [00:00<00:00, 145.58it/s, avg_loss=2.07]\n"
     ]
    },
    {
     "name": "stdout",
     "output_type": "stream",
     "text": [
      "Saving model at iteration 0 with best score 0.955\n",
      "[E:0]\tTrain Loss: 0.530\tDev score: 0.955\n"
     ]
    },
    {
     "name": "stderr",
     "output_type": "stream",
     "text": [
      "100%|██████████| 32/32 [00:00<00:00, 146.91it/s, avg_loss=1.78]\n"
     ]
    },
    {
     "name": "stdout",
     "output_type": "stream",
     "text": [
      "Saving model at iteration 1 with best score 0.995\n",
      "[E:1]\tTrain Loss: 0.456\tDev score: 0.995\n",
      "Restoring best model from iteration 1 with score 0.995\n",
      "Finished Training\n",
      "Accuracy: 0.995\n",
      "        y=1    y=2   \n",
      " l=1    242     1    \n",
      " l=2     4     753   \n",
      "F1: 0.990\n",
      "        y=1    y=2   \n",
      " l=1    242     1    \n",
      " l=2     4     753   \n",
      "\n",
      "Network architecture:\n",
      "Sequential(\n",
      "  (0): IdentityModule()\n",
      "  (1): Sequential(\n",
      "    (0): Linear(in_features=1000, out_features=100, bias=True)\n",
      "    (1): ReLU()\n",
      "  )\n",
      "  (2): Linear(in_features=100, out_features=2, bias=True)\n",
      ")\n",
      "\n",
      "============================================================\n",
      "[0_5] Testing {'n_epochs': 2, 'batchnorm': False, 'dropout': 0.4, 'layer_out_dims': [1000, 100, 2], 'data_loader_config': {'batch_size': 256, 'num_workers': 1}, 'lr': 2.3251656081342196e-05}\n",
      "============================================================\n"
     ]
    },
    {
     "name": "stderr",
     "output_type": "stream",
     "text": [
      "100%|██████████| 32/32 [00:00<00:00, 135.17it/s, avg_loss=2.73]\n"
     ]
    },
    {
     "name": "stdout",
     "output_type": "stream",
     "text": [
      "Saving model at iteration 0 with best score 0.630\n",
      "[E:0]\tTrain Loss: 0.698\tDev score: 0.630\n"
     ]
    },
    {
     "name": "stderr",
     "output_type": "stream",
     "text": [
      "100%|██████████| 32/32 [00:00<00:00, 144.57it/s, avg_loss=2.64]\n"
     ]
    },
    {
     "name": "stdout",
     "output_type": "stream",
     "text": [
      "Saving model at iteration 1 with best score 0.778\n",
      "[E:1]\tTrain Loss: 0.677\tDev score: 0.778\n",
      "Restoring best model from iteration 1 with score 0.778\n",
      "Finished Training\n",
      "Accuracy: 0.778\n",
      "        y=1    y=2   \n",
      " l=1    45     21    \n",
      " l=2    201    733   \n",
      "F1: 0.288\n",
      "        y=1    y=2   \n",
      " l=1    45     21    \n",
      " l=2    201    733   \n",
      "\n",
      "Network architecture:\n",
      "Sequential(\n",
      "  (0): IdentityModule()\n",
      "  (1): Sequential(\n",
      "    (0): Linear(in_features=1000, out_features=10, bias=True)\n",
      "    (1): ReLU()\n",
      "  )\n",
      "  (2): Linear(in_features=10, out_features=2, bias=True)\n",
      ")\n",
      "\n",
      "============================================================\n",
      "[0_6] Testing {'n_epochs': 2, 'batchnorm': False, 'dropout': 0.2, 'layer_out_dims': [1000, 10, 2], 'data_loader_config': {'batch_size': 256, 'num_workers': 1}, 'lr': 0.0019223627877981123}\n",
      "============================================================\n"
     ]
    },
    {
     "name": "stderr",
     "output_type": "stream",
     "text": [
      "100%|██████████| 32/32 [00:00<00:00, 165.41it/s, avg_loss=2.13]\n"
     ]
    },
    {
     "name": "stdout",
     "output_type": "stream",
     "text": [
      "Saving model at iteration 0 with best score 0.754\n",
      "[E:0]\tTrain Loss: 0.546\tDev score: 0.754\n"
     ]
    },
    {
     "name": "stderr",
     "output_type": "stream",
     "text": [
      "100%|██████████| 32/32 [00:00<00:00, 161.67it/s, avg_loss=1.82]\n"
     ]
    },
    {
     "name": "stdout",
     "output_type": "stream",
     "text": [
      "Saving model at iteration 1 with best score 0.994\n",
      "[E:1]\tTrain Loss: 0.465\tDev score: 0.994\n",
      "Restoring best model from iteration 1 with score 0.994\n",
      "Finished Training\n",
      "Accuracy: 0.994\n",
      "        y=1    y=2   \n",
      " l=1    240     0    \n",
      " l=2     6     754   \n",
      "F1: 0.988\n",
      "        y=1    y=2   \n",
      " l=1    240     0    \n",
      " l=2     6     754   \n",
      "\n",
      "Network architecture:\n",
      "Sequential(\n",
      "  (0): IdentityModule()\n",
      "  (1): Sequential(\n",
      "    (0): Linear(in_features=1000, out_features=100, bias=True)\n",
      "    (1): ReLU()\n",
      "  )\n",
      "  (2): Linear(in_features=100, out_features=2, bias=True)\n",
      ")\n",
      "\n",
      "============================================================\n",
      "[0_7] Testing {'n_epochs': 2, 'batchnorm': False, 'dropout': 0.5, 'layer_out_dims': [1000, 100, 2], 'data_loader_config': {'batch_size': 256, 'num_workers': 1}, 'lr': 0.007342476624077729}\n",
      "============================================================\n"
     ]
    },
    {
     "name": "stderr",
     "output_type": "stream",
     "text": [
      "100%|██████████| 32/32 [00:00<00:00, 144.53it/s, avg_loss=1.89]\n"
     ]
    },
    {
     "name": "stdout",
     "output_type": "stream",
     "text": [
      "Saving model at iteration 0 with best score 0.983\n",
      "[E:0]\tTrain Loss: 0.483\tDev score: 0.983\n"
     ]
    },
    {
     "name": "stderr",
     "output_type": "stream",
     "text": [
      "100%|██████████| 32/32 [00:00<00:00, 147.18it/s, avg_loss=1.73]\n"
     ]
    },
    {
     "name": "stdout",
     "output_type": "stream",
     "text": [
      "[E:1]\tTrain Loss: 0.444\tDev score: 0.977\n",
      "Restoring best model from iteration 0 with score 0.983\n",
      "Finished Training\n",
      "Accuracy: 0.983\n",
      "        y=1    y=2   \n",
      " l=1    230     1    \n",
      " l=2    16     753   \n",
      "F1: 0.964\n",
      "        y=1    y=2   \n",
      " l=1    230     1    \n",
      " l=2    16     753   \n",
      "\n",
      "Network architecture:\n",
      "Sequential(\n",
      "  (0): IdentityModule()\n",
      "  (1): Sequential(\n",
      "    (0): Linear(in_features=1000, out_features=100, bias=True)\n",
      "    (1): ReLU()\n",
      "  )\n",
      "  (2): Linear(in_features=100, out_features=2, bias=True)\n",
      ")\n",
      "\n",
      "============================================================\n",
      "[0_8] Testing {'n_epochs': 2, 'batchnorm': False, 'dropout': 0.1, 'layer_out_dims': [1000, 100, 2], 'data_loader_config': {'batch_size': 256, 'num_workers': 1}, 'lr': 0.00047921510264231735}\n",
      "============================================================\n"
     ]
    },
    {
     "name": "stderr",
     "output_type": "stream",
     "text": [
      "100%|██████████| 32/32 [00:00<00:00, 126.40it/s, avg_loss=2.21]\n"
     ]
    },
    {
     "name": "stdout",
     "output_type": "stream",
     "text": [
      "Saving model at iteration 0 with best score 0.756\n",
      "[E:0]\tTrain Loss: 0.564\tDev score: 0.756\n"
     ]
    },
    {
     "name": "stderr",
     "output_type": "stream",
     "text": [
      "100%|██████████| 32/32 [00:00<00:00, 145.28it/s, avg_loss=1.84]\n"
     ]
    },
    {
     "name": "stdout",
     "output_type": "stream",
     "text": [
      "Saving model at iteration 1 with best score 0.983\n",
      "[E:1]\tTrain Loss: 0.471\tDev score: 0.983\n",
      "Restoring best model from iteration 1 with score 0.983\n",
      "Finished Training\n",
      "Accuracy: 0.983\n",
      "        y=1    y=2   \n",
      " l=1    229     0    \n",
      " l=2    17     754   \n",
      "F1: 0.964\n",
      "        y=1    y=2   \n",
      " l=1    229     0    \n",
      " l=2    17     754   \n",
      "\n",
      "Network architecture:\n",
      "Sequential(\n",
      "  (0): IdentityModule()\n",
      "  (1): Sequential(\n",
      "    (0): Linear(in_features=1000, out_features=100, bias=True)\n",
      "    (1): ReLU()\n",
      "  )\n",
      "  (2): Linear(in_features=100, out_features=2, bias=True)\n",
      ")\n",
      "\n",
      "============================================================\n",
      "[1_0] Testing {'n_epochs': 8, 'batchnorm': False, 'dropout': 0.2, 'layer_out_dims': [1000, 100, 2], 'data_loader_config': {'batch_size': 256, 'num_workers': 1}, 'lr': 0.000903579845523744}\n",
      "============================================================\n"
     ]
    },
    {
     "name": "stderr",
     "output_type": "stream",
     "text": [
      "100%|██████████| 32/32 [00:00<00:00, 146.25it/s, avg_loss=2.07]\n"
     ]
    },
    {
     "name": "stdout",
     "output_type": "stream",
     "text": [
      "Saving model at iteration 0 with best score 0.955\n",
      "[E:0]\tTrain Loss: 0.530\tDev score: 0.955\n"
     ]
    },
    {
     "name": "stderr",
     "output_type": "stream",
     "text": [
      "100%|██████████| 32/32 [00:00<00:00, 140.14it/s, avg_loss=1.78]\n"
     ]
    },
    {
     "name": "stdout",
     "output_type": "stream",
     "text": [
      "Saving model at iteration 1 with best score 0.995\n"
     ]
    },
    {
     "name": "stderr",
     "output_type": "stream",
     "text": [
      "100%|██████████| 32/32 [00:00<00:00, 148.17it/s, avg_loss=1.74]\n",
      "100%|██████████| 32/32 [00:00<00:00, 141.75it/s, avg_loss=1.71]\n",
      "100%|██████████| 32/32 [00:00<00:00, 102.78it/s, avg_loss=1.68]\n",
      "100%|██████████| 32/32 [00:00<00:00, 147.24it/s, avg_loss=1.65]\n"
     ]
    },
    {
     "name": "stdout",
     "output_type": "stream",
     "text": [
      "[E:5]\tTrain Loss: 0.423\tDev score: 0.970\n"
     ]
    },
    {
     "name": "stderr",
     "output_type": "stream",
     "text": [
      "100%|██████████| 32/32 [00:00<00:00, 136.96it/s, avg_loss=1.62]\n",
      "100%|██████████| 32/32 [00:00<00:00, 139.91it/s, avg_loss=1.58]\n"
     ]
    },
    {
     "name": "stdout",
     "output_type": "stream",
     "text": [
      "[E:7]\tTrain Loss: 0.405\tDev score: 0.953\n",
      "Restoring best model from iteration 1 with score 0.995\n",
      "Finished Training\n",
      "Accuracy: 0.995\n",
      "        y=1    y=2   \n",
      " l=1    242     1    \n",
      " l=2     4     753   \n",
      "F1: 0.990\n",
      "        y=1    y=2   \n",
      " l=1    242     1    \n",
      " l=2     4     753   \n",
      "\n",
      "Network architecture:\n",
      "Sequential(\n",
      "  (0): IdentityModule()\n",
      "  (1): Sequential(\n",
      "    (0): Linear(in_features=1000, out_features=10, bias=True)\n",
      "    (1): ReLU()\n",
      "  )\n",
      "  (2): Linear(in_features=10, out_features=2, bias=True)\n",
      ")\n",
      "\n",
      "============================================================\n",
      "[1_1] Testing {'n_epochs': 8, 'batchnorm': False, 'dropout': 0.2, 'layer_out_dims': [1000, 10, 2], 'data_loader_config': {'batch_size': 256, 'num_workers': 1}, 'lr': 0.0019223627877981123}\n",
      "============================================================\n"
     ]
    },
    {
     "name": "stderr",
     "output_type": "stream",
     "text": [
      "100%|██████████| 32/32 [00:00<00:00, 160.77it/s, avg_loss=2.13]\n"
     ]
    },
    {
     "name": "stdout",
     "output_type": "stream",
     "text": [
      "Saving model at iteration 0 with best score 0.754\n",
      "[E:0]\tTrain Loss: 0.546\tDev score: 0.754\n"
     ]
    },
    {
     "name": "stderr",
     "output_type": "stream",
     "text": [
      "100%|██████████| 32/32 [00:00<00:00, 159.30it/s, avg_loss=1.82]\n"
     ]
    },
    {
     "name": "stdout",
     "output_type": "stream",
     "text": [
      "Saving model at iteration 1 with best score 0.994\n"
     ]
    },
    {
     "name": "stderr",
     "output_type": "stream",
     "text": [
      "100%|██████████| 32/32 [00:00<00:00, 158.32it/s, avg_loss=1.77]\n",
      "100%|██████████| 32/32 [00:00<00:00, 133.44it/s, avg_loss=1.75]\n",
      "100%|██████████| 32/32 [00:00<00:00, 164.45it/s, avg_loss=1.73]\n",
      "100%|██████████| 32/32 [00:00<00:00, 162.47it/s, avg_loss=1.72]\n"
     ]
    },
    {
     "name": "stdout",
     "output_type": "stream",
     "text": [
      "[E:5]\tTrain Loss: 0.440\tDev score: 0.977\n"
     ]
    },
    {
     "name": "stderr",
     "output_type": "stream",
     "text": [
      "100%|██████████| 32/32 [00:00<00:00, 161.13it/s, avg_loss=1.7]\n",
      "100%|██████████| 32/32 [00:00<00:00, 161.02it/s, avg_loss=1.69]\n"
     ]
    },
    {
     "name": "stdout",
     "output_type": "stream",
     "text": [
      "[E:7]\tTrain Loss: 0.433\tDev score: 0.975\n",
      "Restoring best model from iteration 1 with score 0.994\n",
      "Finished Training\n",
      "Accuracy: 0.994\n",
      "        y=1    y=2   \n",
      " l=1    240     0    \n",
      " l=2     6     754   \n",
      "F1: 0.988\n",
      "        y=1    y=2   \n",
      " l=1    240     0    \n",
      " l=2     6     754   \n",
      "\n",
      "Network architecture:\n",
      "Sequential(\n",
      "  (0): IdentityModule()\n",
      "  (1): Sequential(\n",
      "    (0): Linear(in_features=1000, out_features=100, bias=True)\n",
      "    (1): ReLU()\n",
      "  )\n",
      "  (2): Linear(in_features=100, out_features=2, bias=True)\n",
      ")\n",
      "\n",
      "============================================================\n",
      "[1_2] Testing {'n_epochs': 8, 'batchnorm': False, 'dropout': 0.1, 'layer_out_dims': [1000, 100, 2], 'data_loader_config': {'batch_size': 256, 'num_workers': 1}, 'lr': 0.019515100267567337}\n",
      "============================================================\n"
     ]
    },
    {
     "name": "stderr",
     "output_type": "stream",
     "text": [
      "100%|██████████| 32/32 [00:00<00:00, 146.11it/s, avg_loss=1.95]\n"
     ]
    },
    {
     "name": "stdout",
     "output_type": "stream",
     "text": [
      "Saving model at iteration 0 with best score 0.990\n",
      "[E:0]\tTrain Loss: 0.500\tDev score: 0.990\n"
     ]
    },
    {
     "name": "stderr",
     "output_type": "stream",
     "text": [
      "100%|██████████| 32/32 [00:00<00:00, 128.48it/s, avg_loss=1.77]\n",
      "100%|██████████| 32/32 [00:00<00:00, 127.68it/s, avg_loss=1.7]\n",
      "100%|██████████| 32/32 [00:00<00:00, 146.01it/s, avg_loss=1.63]\n",
      "100%|██████████| 32/32 [00:00<00:00, 138.44it/s, avg_loss=1.55]\n",
      "100%|██████████| 32/32 [00:00<00:00, 144.17it/s, avg_loss=1.48]\n"
     ]
    },
    {
     "name": "stdout",
     "output_type": "stream",
     "text": [
      "[E:5]\tTrain Loss: 0.380\tDev score: 0.904\n"
     ]
    },
    {
     "name": "stderr",
     "output_type": "stream",
     "text": [
      "100%|██████████| 32/32 [00:00<00:00, 144.34it/s, avg_loss=1.45]\n",
      "100%|██████████| 32/32 [00:00<00:00, 145.71it/s, avg_loss=1.42]\n"
     ]
    },
    {
     "name": "stdout",
     "output_type": "stream",
     "text": [
      "[E:7]\tTrain Loss: 0.365\tDev score: 0.906\n",
      "Restoring best model from iteration 0 with score 0.990\n",
      "Finished Training\n",
      "Accuracy: 0.990\n",
      "        y=1    y=2   \n",
      " l=1    237     1    \n",
      " l=2     9     753   \n",
      "F1: 0.979\n",
      "        y=1    y=2   \n",
      " l=1    237     1    \n",
      " l=2     9     753   \n",
      "\n",
      "Network architecture:\n",
      "Sequential(\n",
      "  (0): IdentityModule()\n",
      "  (1): Sequential(\n",
      "    (0): Linear(in_features=1000, out_features=100, bias=True)\n",
      "    (1): ReLU()\n",
      "  )\n",
      "  (2): Linear(in_features=100, out_features=2, bias=True)\n",
      ")\n",
      "\n",
      "============================================================\n",
      "[2_0] Testing {'n_epochs': 26, 'batchnorm': False, 'dropout': 0.2, 'layer_out_dims': [1000, 100, 2], 'data_loader_config': {'batch_size': 256, 'num_workers': 1}, 'lr': 0.000903579845523744}\n",
      "============================================================\n"
     ]
    },
    {
     "name": "stderr",
     "output_type": "stream",
     "text": [
      "100%|██████████| 32/32 [00:00<00:00, 113.35it/s, avg_loss=2.07]\n"
     ]
    },
    {
     "name": "stdout",
     "output_type": "stream",
     "text": [
      "Saving model at iteration 0 with best score 0.955\n",
      "[E:0]\tTrain Loss: 0.530\tDev score: 0.955\n"
     ]
    },
    {
     "name": "stderr",
     "output_type": "stream",
     "text": [
      "100%|██████████| 32/32 [00:00<00:00, 138.84it/s, avg_loss=1.78]\n"
     ]
    },
    {
     "name": "stdout",
     "output_type": "stream",
     "text": [
      "Saving model at iteration 1 with best score 0.995\n"
     ]
    },
    {
     "name": "stderr",
     "output_type": "stream",
     "text": [
      "100%|██████████| 32/32 [00:00<00:00, 139.62it/s, avg_loss=1.74]\n",
      "100%|██████████| 32/32 [00:00<00:00, 147.31it/s, avg_loss=1.71]\n",
      "100%|██████████| 32/32 [00:00<00:00, 141.27it/s, avg_loss=1.68]\n",
      "100%|██████████| 32/32 [00:00<00:00, 143.83it/s, avg_loss=1.65]\n"
     ]
    },
    {
     "name": "stdout",
     "output_type": "stream",
     "text": [
      "[E:5]\tTrain Loss: 0.423\tDev score: 0.970\n"
     ]
    },
    {
     "name": "stderr",
     "output_type": "stream",
     "text": [
      "100%|██████████| 32/32 [00:00<00:00, 143.56it/s, avg_loss=1.62]\n",
      "100%|██████████| 32/32 [00:00<00:00, 106.60it/s, avg_loss=1.58]\n",
      "100%|██████████| 32/32 [00:00<00:00, 140.25it/s, avg_loss=1.54]\n",
      "100%|██████████| 32/32 [00:00<00:00, 141.27it/s, avg_loss=1.5]\n",
      "100%|██████████| 32/32 [00:00<00:00, 143.02it/s, avg_loss=1.46]\n"
     ]
    },
    {
     "name": "stdout",
     "output_type": "stream",
     "text": [
      "[E:10]\tTrain Loss: 0.373\tDev score: 0.943\n"
     ]
    },
    {
     "name": "stderr",
     "output_type": "stream",
     "text": [
      "100%|██████████| 32/32 [00:00<00:00, 143.69it/s, avg_loss=1.41]\n",
      "100%|██████████| 32/32 [00:00<00:00, 142.00it/s, avg_loss=1.37]\n",
      "100%|██████████| 32/32 [00:00<00:00, 134.97it/s, avg_loss=1.34]\n",
      "100%|██████████| 32/32 [00:00<00:00, 121.05it/s, avg_loss=1.3]\n",
      "100%|██████████| 32/32 [00:00<00:00, 142.56it/s, avg_loss=1.28]\n"
     ]
    },
    {
     "name": "stdout",
     "output_type": "stream",
     "text": [
      "[E:15]\tTrain Loss: 0.327\tDev score: 0.940\n"
     ]
    },
    {
     "name": "stderr",
     "output_type": "stream",
     "text": [
      "100%|██████████| 32/32 [00:00<00:00, 139.67it/s, avg_loss=1.26]\n",
      "100%|██████████| 32/32 [00:00<00:00, 133.34it/s, avg_loss=1.24]\n",
      "100%|██████████| 32/32 [00:00<00:00, 116.26it/s, avg_loss=1.22]\n",
      "100%|██████████| 32/32 [00:00<00:00, 114.99it/s, avg_loss=1.21]\n",
      "100%|██████████| 32/32 [00:00<00:00, 105.90it/s, avg_loss=1.2]\n"
     ]
    },
    {
     "name": "stdout",
     "output_type": "stream",
     "text": [
      "[E:20]\tTrain Loss: 0.308\tDev score: 0.935\n"
     ]
    },
    {
     "name": "stderr",
     "output_type": "stream",
     "text": [
      "100%|██████████| 32/32 [00:00<00:00, 143.28it/s, avg_loss=1.2]\n",
      "100%|██████████| 32/32 [00:00<00:00, 133.36it/s, avg_loss=1.19]\n",
      "100%|██████████| 32/32 [00:00<00:00, 127.28it/s, avg_loss=1.18]\n",
      "100%|██████████| 32/32 [00:00<00:00, 127.76it/s, avg_loss=1.18]\n",
      "100%|██████████| 32/32 [00:00<00:00, 131.33it/s, avg_loss=1.18]\n"
     ]
    },
    {
     "name": "stdout",
     "output_type": "stream",
     "text": [
      "[E:25]\tTrain Loss: 0.302\tDev score: 0.936\n",
      "Restoring best model from iteration 1 with score 0.995\n",
      "Finished Training\n",
      "Accuracy: 0.995\n",
      "        y=1    y=2   \n",
      " l=1    242     1    \n",
      " l=2     4     753   \n",
      "F1: 0.990\n",
      "        y=1    y=2   \n",
      " l=1    242     1    \n",
      " l=2     4     753   \n",
      "\n",
      "Network architecture:\n",
      "Sequential(\n",
      "  (0): IdentityModule()\n",
      "  (1): Sequential(\n",
      "    (0): Linear(in_features=1000, out_features=10, bias=True)\n",
      "    (1): ReLU()\n",
      "  )\n",
      "  (2): Linear(in_features=10, out_features=2, bias=True)\n",
      ")\n",
      "\n",
      "============================================================\n",
      "[0_0] Testing {'n_epochs': 8, 'batchnorm': True, 'dropout': 0.1, 'layer_out_dims': [1000, 10, 2], 'data_loader_config': {'batch_size': 256, 'num_workers': 1}, 'lr': 0.0012901865145961697}\n",
      "============================================================\n"
     ]
    },
    {
     "name": "stderr",
     "output_type": "stream",
     "text": [
      "100%|██████████| 32/32 [00:00<00:00, 116.00it/s, avg_loss=2.34]\n"
     ]
    },
    {
     "name": "stdout",
     "output_type": "stream",
     "text": [
      "Saving model at iteration 0 with best score 0.754\n",
      "[E:0]\tTrain Loss: 0.599\tDev score: 0.754\n"
     ]
    },
    {
     "name": "stderr",
     "output_type": "stream",
     "text": [
      "100%|██████████| 32/32 [00:00<00:00, 144.31it/s, avg_loss=1.9]\n"
     ]
    },
    {
     "name": "stdout",
     "output_type": "stream",
     "text": [
      "Saving model at iteration 1 with best score 0.922\n"
     ]
    },
    {
     "name": "stderr",
     "output_type": "stream",
     "text": [
      "100%|██████████| 32/32 [00:00<00:00, 134.12it/s, avg_loss=1.82]\n"
     ]
    },
    {
     "name": "stdout",
     "output_type": "stream",
     "text": [
      "Saving model at iteration 2 with best score 0.970\n"
     ]
    },
    {
     "name": "stderr",
     "output_type": "stream",
     "text": [
      "100%|██████████| 32/32 [00:00<00:00, 161.21it/s, avg_loss=1.8]\n"
     ]
    },
    {
     "name": "stdout",
     "output_type": "stream",
     "text": [
      "Saving model at iteration 3 with best score 0.975\n"
     ]
    },
    {
     "name": "stderr",
     "output_type": "stream",
     "text": [
      "100%|██████████| 32/32 [00:00<00:00, 151.63it/s, avg_loss=1.79]\n",
      "100%|██████████| 32/32 [00:00<00:00, 162.79it/s, avg_loss=1.78]\n"
     ]
    },
    {
     "name": "stdout",
     "output_type": "stream",
     "text": [
      "Saving model at iteration 5 with best score 0.983\n",
      "[E:5]\tTrain Loss: 0.456\tDev score: 0.983\n"
     ]
    },
    {
     "name": "stderr",
     "output_type": "stream",
     "text": [
      "100%|██████████| 32/32 [00:00<00:00, 150.89it/s, avg_loss=1.77]\n",
      "100%|██████████| 32/32 [00:00<00:00, 133.99it/s, avg_loss=1.76]\n"
     ]
    },
    {
     "name": "stdout",
     "output_type": "stream",
     "text": [
      "[E:7]\tTrain Loss: 0.451\tDev score: 0.979\n",
      "Restoring best model from iteration 5 with score 0.983\n",
      "Finished Training\n",
      "Accuracy: 0.983\n",
      "        y=1    y=2   \n",
      " l=1    230     1    \n",
      " l=2    16     753   \n",
      "F1: 0.964\n",
      "        y=1    y=2   \n",
      " l=1    230     1    \n",
      " l=2    16     753   \n",
      "\n",
      "Network architecture:\n",
      "Sequential(\n",
      "  (0): IdentityModule()\n",
      "  (1): Sequential(\n",
      "    (0): Linear(in_features=1000, out_features=100, bias=True)\n",
      "    (1): ReLU()\n",
      "  )\n",
      "  (2): Linear(in_features=100, out_features=2, bias=True)\n",
      ")\n",
      "\n",
      "============================================================\n",
      "[0_1] Testing {'n_epochs': 8, 'batchnorm': False, 'dropout': 0, 'layer_out_dims': [1000, 100, 2], 'data_loader_config': {'batch_size': 256, 'num_workers': 1}, 'lr': 0.0014465786197803271}\n",
      "============================================================\n"
     ]
    },
    {
     "name": "stderr",
     "output_type": "stream",
     "text": [
      "100%|██████████| 32/32 [00:00<00:00, 139.37it/s, avg_loss=1.96]\n"
     ]
    },
    {
     "name": "stdout",
     "output_type": "stream",
     "text": [
      "Saving model at iteration 0 with best score 0.998\n",
      "[E:0]\tTrain Loss: 0.503\tDev score: 0.998\n"
     ]
    },
    {
     "name": "stderr",
     "output_type": "stream",
     "text": [
      "100%|██████████| 32/32 [00:00<00:00, 139.88it/s, avg_loss=1.76]\n",
      "100%|██████████| 32/32 [00:00<00:00, 138.33it/s, avg_loss=1.72]\n",
      "100%|██████████| 32/32 [00:00<00:00, 139.49it/s, avg_loss=1.68]\n",
      "100%|██████████| 32/32 [00:00<00:00, 140.50it/s, avg_loss=1.64]\n",
      "100%|██████████| 32/32 [00:00<00:00, 110.43it/s, avg_loss=1.59]\n"
     ]
    },
    {
     "name": "stdout",
     "output_type": "stream",
     "text": [
      "[E:5]\tTrain Loss: 0.407\tDev score: 0.950\n"
     ]
    },
    {
     "name": "stderr",
     "output_type": "stream",
     "text": [
      "100%|██████████| 32/32 [00:00<00:00, 141.13it/s, avg_loss=1.54]\n",
      "100%|██████████| 32/32 [00:00<00:00, 141.51it/s, avg_loss=1.47]\n"
     ]
    },
    {
     "name": "stdout",
     "output_type": "stream",
     "text": [
      "[E:7]\tTrain Loss: 0.377\tDev score: 0.937\n",
      "Restoring best model from iteration 0 with score 0.998\n",
      "Finished Training\n",
      "Accuracy: 0.998\n",
      "        y=1    y=2   \n",
      " l=1    245     1    \n",
      " l=2     1     753   \n",
      "F1: 0.996\n",
      "        y=1    y=2   \n",
      " l=1    245     1    \n",
      " l=2     1     753   \n",
      "\n",
      "Network architecture:\n",
      "Sequential(\n",
      "  (0): IdentityModule()\n",
      "  (1): Sequential(\n",
      "    (0): Linear(in_features=1000, out_features=100, bias=True)\n",
      "    (1): ReLU()\n",
      "  )\n",
      "  (2): Linear(in_features=100, out_features=2, bias=True)\n",
      ")\n",
      "\n",
      "============================================================\n",
      "[0_2] Testing {'n_epochs': 8, 'batchnorm': False, 'dropout': 0.2, 'layer_out_dims': [1000, 100, 2], 'data_loader_config': {'batch_size': 256, 'num_workers': 1}, 'lr': 0.007585836552838511}\n",
      "============================================================\n"
     ]
    },
    {
     "name": "stderr",
     "output_type": "stream",
     "text": [
      "100%|██████████| 32/32 [00:00<00:00, 142.74it/s, avg_loss=1.92]\n"
     ]
    },
    {
     "name": "stdout",
     "output_type": "stream",
     "text": [
      "Saving model at iteration 0 with best score 0.996\n",
      "[E:0]\tTrain Loss: 0.491\tDev score: 0.996\n"
     ]
    },
    {
     "name": "stderr",
     "output_type": "stream",
     "text": [
      "100%|██████████| 32/32 [00:00<00:00, 142.38it/s, avg_loss=1.75]\n",
      "100%|██████████| 32/32 [00:00<00:00, 146.20it/s, avg_loss=1.69]\n",
      "100%|██████████| 32/32 [00:00<00:00, 135.99it/s, avg_loss=1.61]\n",
      "100%|██████████| 32/32 [00:00<00:00, 133.25it/s, avg_loss=1.5]\n",
      "100%|██████████| 32/32 [00:00<00:00, 134.58it/s, avg_loss=1.41]\n"
     ]
    },
    {
     "name": "stdout",
     "output_type": "stream",
     "text": [
      "[E:5]\tTrain Loss: 0.361\tDev score: 0.906\n"
     ]
    },
    {
     "name": "stderr",
     "output_type": "stream",
     "text": [
      "100%|██████████| 32/32 [00:00<00:00, 146.41it/s, avg_loss=1.34]\n",
      "100%|██████████| 32/32 [00:00<00:00, 143.94it/s, avg_loss=1.3]\n"
     ]
    },
    {
     "name": "stdout",
     "output_type": "stream",
     "text": [
      "[E:7]\tTrain Loss: 0.334\tDev score: 0.910\n",
      "Restoring best model from iteration 0 with score 0.996\n",
      "Finished Training\n",
      "Accuracy: 0.996\n",
      "        y=1    y=2   \n",
      " l=1    244     2    \n",
      " l=2     2     752   \n",
      "F1: 0.992\n",
      "        y=1    y=2   \n",
      " l=1    244     2    \n",
      " l=2     2     752   \n",
      "\n",
      "Network architecture:\n",
      "Sequential(\n",
      "  (0): IdentityModule()\n",
      "  (1): Sequential(\n",
      "    (0): Linear(in_features=1000, out_features=100, bias=True)\n",
      "    (1): ReLU()\n",
      "  )\n",
      "  (2): Linear(in_features=100, out_features=2, bias=True)\n",
      ")\n",
      "\n",
      "============================================================\n",
      "[1_0] Testing {'n_epochs': 26, 'batchnorm': False, 'dropout': 0, 'layer_out_dims': [1000, 100, 2], 'data_loader_config': {'batch_size': 256, 'num_workers': 1}, 'lr': 0.0014465786197803271}\n",
      "============================================================\n"
     ]
    },
    {
     "name": "stderr",
     "output_type": "stream",
     "text": [
      "100%|██████████| 32/32 [00:00<00:00, 139.22it/s, avg_loss=1.96]\n"
     ]
    },
    {
     "name": "stdout",
     "output_type": "stream",
     "text": [
      "Saving model at iteration 0 with best score 0.998\n",
      "[E:0]\tTrain Loss: 0.503\tDev score: 0.998\n"
     ]
    },
    {
     "name": "stderr",
     "output_type": "stream",
     "text": [
      "100%|██████████| 32/32 [00:00<00:00, 142.53it/s, avg_loss=1.76]\n",
      "100%|██████████| 32/32 [00:00<00:00, 107.54it/s, avg_loss=1.72]\n",
      "100%|██████████| 32/32 [00:00<00:00, 139.68it/s, avg_loss=1.68]\n",
      "100%|██████████| 32/32 [00:00<00:00, 138.71it/s, avg_loss=1.64]\n",
      "100%|██████████| 32/32 [00:00<00:00, 139.91it/s, avg_loss=1.59]\n"
     ]
    },
    {
     "name": "stdout",
     "output_type": "stream",
     "text": [
      "[E:5]\tTrain Loss: 0.407\tDev score: 0.950\n"
     ]
    },
    {
     "name": "stderr",
     "output_type": "stream",
     "text": [
      "100%|██████████| 32/32 [00:00<00:00, 140.75it/s, avg_loss=1.54]\n",
      "100%|██████████| 32/32 [00:00<00:00, 144.29it/s, avg_loss=1.47]\n",
      "100%|██████████| 32/32 [00:00<00:00, 143.74it/s, avg_loss=1.41]\n",
      "100%|██████████| 32/32 [00:00<00:00, 136.15it/s, avg_loss=1.35]\n",
      "100%|██████████| 32/32 [00:00<00:00, 138.48it/s, avg_loss=1.3]\n"
     ]
    },
    {
     "name": "stdout",
     "output_type": "stream",
     "text": [
      "[E:10]\tTrain Loss: 0.334\tDev score: 0.927\n"
     ]
    },
    {
     "name": "stderr",
     "output_type": "stream",
     "text": [
      "100%|██████████| 32/32 [00:00<00:00, 141.78it/s, avg_loss=1.27]\n",
      "100%|██████████| 32/32 [00:00<00:00, 145.28it/s, avg_loss=1.24]\n",
      "100%|██████████| 32/32 [00:00<00:00, 131.94it/s, avg_loss=1.22]\n",
      "100%|██████████| 32/32 [00:00<00:00, 144.85it/s, avg_loss=1.21]\n",
      "100%|██████████| 32/32 [00:00<00:00, 143.33it/s, avg_loss=1.2]\n"
     ]
    },
    {
     "name": "stdout",
     "output_type": "stream",
     "text": [
      "[E:15]\tTrain Loss: 0.308\tDev score: 0.922\n"
     ]
    },
    {
     "name": "stderr",
     "output_type": "stream",
     "text": [
      "100%|██████████| 32/32 [00:00<00:00, 127.13it/s, avg_loss=1.2]\n",
      "100%|██████████| 32/32 [00:00<00:00, 142.86it/s, avg_loss=1.2]\n",
      "100%|██████████| 32/32 [00:00<00:00, 136.59it/s, avg_loss=1.19]\n",
      "100%|██████████| 32/32 [00:00<00:00, 133.08it/s, avg_loss=1.2]\n",
      "100%|██████████| 32/32 [00:00<00:00, 143.84it/s, avg_loss=1.19]\n"
     ]
    },
    {
     "name": "stdout",
     "output_type": "stream",
     "text": [
      "[E:20]\tTrain Loss: 0.306\tDev score: 0.930\n"
     ]
    },
    {
     "name": "stderr",
     "output_type": "stream",
     "text": [
      "100%|██████████| 32/32 [00:00<00:00, 134.18it/s, avg_loss=1.19]\n",
      "100%|██████████| 32/32 [00:00<00:00, 97.56it/s, avg_loss=1.19]\n",
      "100%|██████████| 32/32 [00:00<00:00, 145.88it/s, avg_loss=1.18]\n",
      "100%|██████████| 32/32 [00:00<00:00, 137.77it/s, avg_loss=1.18]\n",
      "100%|██████████| 32/32 [00:00<00:00, 94.29it/s, avg_loss=1.18]\n"
     ]
    },
    {
     "name": "stdout",
     "output_type": "stream",
     "text": [
      "[E:25]\tTrain Loss: 0.302\tDev score: 0.911\n",
      "Restoring best model from iteration 0 with score 0.998\n",
      "Finished Training\n",
      "Accuracy: 0.998\n",
      "        y=1    y=2   \n",
      " l=1    245     1    \n",
      " l=2     1     753   \n",
      "F1: 0.996\n",
      "        y=1    y=2   \n",
      " l=1    245     1    \n",
      " l=2     1     753   \n",
      "\n",
      "Network architecture:\n",
      "Sequential(\n",
      "  (0): IdentityModule()\n",
      "  (1): Sequential(\n",
      "    (0): Linear(in_features=1000, out_features=100, bias=True)\n",
      "    (1): ReLU()\n",
      "  )\n",
      "  (2): Linear(in_features=100, out_features=2, bias=True)\n",
      ")\n",
      "\n",
      "============================================================\n",
      "[0_0] Testing {'n_epochs': 26, 'batchnorm': False, 'dropout': 0, 'layer_out_dims': [1000, 100, 2], 'data_loader_config': {'batch_size': 256, 'num_workers': 1}, 'lr': 4.6632716175331675e-05}\n",
      "============================================================\n"
     ]
    },
    {
     "name": "stderr",
     "output_type": "stream",
     "text": [
      "100%|██████████| 32/32 [00:00<00:00, 125.51it/s, avg_loss=2.7]\n"
     ]
    },
    {
     "name": "stdout",
     "output_type": "stream",
     "text": [
      "Saving model at iteration 0 with best score 0.763\n",
      "[E:0]\tTrain Loss: 0.690\tDev score: 0.763\n"
     ]
    },
    {
     "name": "stderr",
     "output_type": "stream",
     "text": [
      "100%|██████████| 32/32 [00:00<00:00, 134.82it/s, avg_loss=2.53]\n",
      "100%|██████████| 32/32 [00:00<00:00, 99.92it/s, avg_loss=2.38]\n",
      "100%|██████████| 32/32 [00:00<00:00, 141.50it/s, avg_loss=2.25]\n",
      "100%|██████████| 32/32 [00:00<00:00, 145.06it/s, avg_loss=2.15]\n",
      "100%|██████████| 32/32 [00:00<00:00, 137.92it/s, avg_loss=2.07]\n"
     ]
    },
    {
     "name": "stdout",
     "output_type": "stream",
     "text": [
      "[E:5]\tTrain Loss: 0.531\tDev score: 0.757\n"
     ]
    },
    {
     "name": "stderr",
     "output_type": "stream",
     "text": [
      "100%|██████████| 32/32 [00:00<00:00, 140.96it/s, avg_loss=2.02]\n",
      "100%|██████████| 32/32 [00:00<00:00, 143.56it/s, avg_loss=1.97]\n"
     ]
    },
    {
     "name": "stdout",
     "output_type": "stream",
     "text": [
      "Saving model at iteration 7 with best score 0.774\n"
     ]
    },
    {
     "name": "stderr",
     "output_type": "stream",
     "text": [
      "100%|██████████| 32/32 [00:00<00:00, 123.26it/s, avg_loss=1.94]\n"
     ]
    },
    {
     "name": "stdout",
     "output_type": "stream",
     "text": [
      "Saving model at iteration 8 with best score 0.797\n"
     ]
    },
    {
     "name": "stderr",
     "output_type": "stream",
     "text": [
      "100%|██████████| 32/32 [00:00<00:00, 143.55it/s, avg_loss=1.9]\n"
     ]
    },
    {
     "name": "stdout",
     "output_type": "stream",
     "text": [
      "Saving model at iteration 9 with best score 0.833\n"
     ]
    },
    {
     "name": "stderr",
     "output_type": "stream",
     "text": [
      "100%|██████████| 32/32 [00:00<00:00, 137.79it/s, avg_loss=1.87]\n"
     ]
    },
    {
     "name": "stdout",
     "output_type": "stream",
     "text": [
      "Saving model at iteration 10 with best score 0.866\n",
      "[E:10]\tTrain Loss: 0.479\tDev score: 0.866\n"
     ]
    },
    {
     "name": "stderr",
     "output_type": "stream",
     "text": [
      "100%|██████████| 32/32 [00:00<00:00, 143.52it/s, avg_loss=1.85]\n"
     ]
    },
    {
     "name": "stdout",
     "output_type": "stream",
     "text": [
      "Saving model at iteration 11 with best score 0.901\n"
     ]
    },
    {
     "name": "stderr",
     "output_type": "stream",
     "text": [
      "100%|██████████| 32/32 [00:00<00:00, 129.29it/s, avg_loss=1.83]\n"
     ]
    },
    {
     "name": "stdout",
     "output_type": "stream",
     "text": [
      "Saving model at iteration 12 with best score 0.920\n"
     ]
    },
    {
     "name": "stderr",
     "output_type": "stream",
     "text": [
      "100%|██████████| 32/32 [00:00<00:00, 138.98it/s, avg_loss=1.81]\n"
     ]
    },
    {
     "name": "stdout",
     "output_type": "stream",
     "text": [
      "Saving model at iteration 13 with best score 0.940\n"
     ]
    },
    {
     "name": "stderr",
     "output_type": "stream",
     "text": [
      "100%|██████████| 32/32 [00:00<00:00, 143.59it/s, avg_loss=1.8]\n"
     ]
    },
    {
     "name": "stdout",
     "output_type": "stream",
     "text": [
      "Saving model at iteration 14 with best score 0.956\n"
     ]
    },
    {
     "name": "stderr",
     "output_type": "stream",
     "text": [
      "100%|██████████| 32/32 [00:00<00:00, 106.88it/s, avg_loss=1.79]\n"
     ]
    },
    {
     "name": "stdout",
     "output_type": "stream",
     "text": [
      "Saving model at iteration 15 with best score 0.966\n",
      "[E:15]\tTrain Loss: 0.458\tDev score: 0.966\n"
     ]
    },
    {
     "name": "stderr",
     "output_type": "stream",
     "text": [
      "100%|██████████| 32/32 [00:00<00:00, 142.30it/s, avg_loss=1.78]\n"
     ]
    },
    {
     "name": "stdout",
     "output_type": "stream",
     "text": [
      "Saving model at iteration 16 with best score 0.971\n"
     ]
    },
    {
     "name": "stderr",
     "output_type": "stream",
     "text": [
      "100%|██████████| 32/32 [00:00<00:00, 138.71it/s, avg_loss=1.78]\n"
     ]
    },
    {
     "name": "stdout",
     "output_type": "stream",
     "text": [
      "Saving model at iteration 17 with best score 0.973\n"
     ]
    },
    {
     "name": "stderr",
     "output_type": "stream",
     "text": [
      "100%|██████████| 32/32 [00:00<00:00, 138.83it/s, avg_loss=1.77]\n"
     ]
    },
    {
     "name": "stdout",
     "output_type": "stream",
     "text": [
      "Saving model at iteration 18 with best score 0.977\n"
     ]
    },
    {
     "name": "stderr",
     "output_type": "stream",
     "text": [
      "100%|██████████| 32/32 [00:00<00:00, 141.62it/s, avg_loss=1.77]\n"
     ]
    },
    {
     "name": "stdout",
     "output_type": "stream",
     "text": [
      "Saving model at iteration 19 with best score 0.978\n"
     ]
    },
    {
     "name": "stderr",
     "output_type": "stream",
     "text": [
      "100%|██████████| 32/32 [00:00<00:00, 144.70it/s, avg_loss=1.76]\n"
     ]
    },
    {
     "name": "stdout",
     "output_type": "stream",
     "text": [
      "[E:20]\tTrain Loss: 0.451\tDev score: 0.978\n"
     ]
    },
    {
     "name": "stderr",
     "output_type": "stream",
     "text": [
      "100%|██████████| 32/32 [00:00<00:00, 133.58it/s, avg_loss=1.76]\n",
      "100%|██████████| 32/32 [00:00<00:00, 122.80it/s, avg_loss=1.76]\n",
      "100%|██████████| 32/32 [00:00<00:00, 140.25it/s, avg_loss=1.75]\n",
      "100%|██████████| 32/32 [00:00<00:00, 139.53it/s, avg_loss=1.75]\n",
      "100%|██████████| 32/32 [00:00<00:00, 136.23it/s, avg_loss=1.75]\n"
     ]
    },
    {
     "name": "stdout",
     "output_type": "stream",
     "text": [
      "[E:25]\tTrain Loss: 0.447\tDev score: 0.978\n",
      "Restoring best model from iteration 19 with score 0.978\n",
      "Finished Training\n",
      "Accuracy: 0.978\n",
      "        y=1    y=2   \n",
      " l=1    224     0    \n",
      " l=2    22     754   \n",
      "F1: 0.953\n",
      "        y=1    y=2   \n",
      " l=1    224     0    \n",
      " l=2    22     754   \n",
      "\n",
      "Network architecture:\n",
      "Sequential(\n",
      "  (0): IdentityModule()\n",
      "  (1): Sequential(\n",
      "    (0): Linear(in_features=1000, out_features=100, bias=True)\n",
      "    (1): ReLU()\n",
      "  )\n",
      "  (2): Linear(in_features=100, out_features=2, bias=True)\n",
      ")\n",
      "\n",
      "============================================================\n",
      "[0_1] Testing {'n_epochs': 26, 'batchnorm': True, 'dropout': 0.3, 'layer_out_dims': [1000, 100, 2], 'data_loader_config': {'batch_size': 256, 'num_workers': 1}, 'lr': 0.05250533013212389}\n",
      "============================================================\n"
     ]
    },
    {
     "name": "stderr",
     "output_type": "stream",
     "text": [
      "100%|██████████| 32/32 [00:00<00:00, 142.82it/s, avg_loss=2.63]\n"
     ]
    },
    {
     "name": "stdout",
     "output_type": "stream",
     "text": [
      "Saving model at iteration 0 with best score 0.754\n",
      "[E:0]\tTrain Loss: 0.674\tDev score: 0.754\n"
     ]
    },
    {
     "name": "stderr",
     "output_type": "stream",
     "text": [
      "100%|██████████| 32/32 [00:00<00:00, 139.47it/s, avg_loss=2.07]\n"
     ]
    },
    {
     "name": "stdout",
     "output_type": "stream",
     "text": [
      "Saving model at iteration 1 with best score 0.960\n"
     ]
    },
    {
     "name": "stderr",
     "output_type": "stream",
     "text": [
      "100%|██████████| 32/32 [00:00<00:00, 105.53it/s, avg_loss=1.8]\n"
     ]
    },
    {
     "name": "stdout",
     "output_type": "stream",
     "text": [
      "Saving model at iteration 2 with best score 0.974\n"
     ]
    },
    {
     "name": "stderr",
     "output_type": "stream",
     "text": [
      "100%|██████████| 32/32 [00:00<00:00, 143.17it/s, avg_loss=1.77]\n"
     ]
    },
    {
     "name": "stdout",
     "output_type": "stream",
     "text": [
      "Saving model at iteration 3 with best score 0.979\n"
     ]
    },
    {
     "name": "stderr",
     "output_type": "stream",
     "text": [
      "100%|██████████| 32/32 [00:00<00:00, 143.82it/s, avg_loss=1.76]\n",
      "100%|██████████| 32/32 [00:00<00:00, 144.72it/s, avg_loss=1.75]\n"
     ]
    },
    {
     "name": "stdout",
     "output_type": "stream",
     "text": [
      "[E:5]\tTrain Loss: 0.447\tDev score: 0.957\n"
     ]
    },
    {
     "name": "stderr",
     "output_type": "stream",
     "text": [
      "100%|██████████| 32/32 [00:00<00:00, 144.92it/s, avg_loss=1.75]\n",
      "100%|██████████| 32/32 [00:00<00:00, 143.95it/s, avg_loss=1.74]\n",
      "100%|██████████| 32/32 [00:00<00:00, 143.05it/s, avg_loss=1.75]\n",
      "100%|██████████| 32/32 [00:00<00:00, 118.52it/s, avg_loss=1.74]\n",
      "100%|██████████| 32/32 [00:00<00:00, 144.55it/s, avg_loss=1.74]\n"
     ]
    },
    {
     "name": "stdout",
     "output_type": "stream",
     "text": [
      "[E:10]\tTrain Loss: 0.445\tDev score: 0.969\n"
     ]
    },
    {
     "name": "stderr",
     "output_type": "stream",
     "text": [
      "100%|██████████| 32/32 [00:00<00:00, 136.86it/s, avg_loss=1.73]\n",
      "100%|██████████| 32/32 [00:00<00:00, 144.86it/s, avg_loss=1.71]\n",
      "100%|██████████| 32/32 [00:00<00:00, 144.73it/s, avg_loss=1.72]\n",
      "100%|██████████| 32/32 [00:00<00:00, 142.22it/s, avg_loss=1.72]\n",
      "100%|██████████| 32/32 [00:00<00:00, 122.79it/s, avg_loss=1.71]\n"
     ]
    },
    {
     "name": "stdout",
     "output_type": "stream",
     "text": [
      "[E:15]\tTrain Loss: 0.438\tDev score: 0.965\n"
     ]
    },
    {
     "name": "stderr",
     "output_type": "stream",
     "text": [
      "100%|██████████| 32/32 [00:00<00:00, 136.66it/s, avg_loss=1.71]\n",
      "100%|██████████| 32/32 [00:00<00:00, 143.39it/s, avg_loss=1.72]\n",
      "100%|██████████| 32/32 [00:00<00:00, 143.10it/s, avg_loss=1.71]\n",
      "100%|██████████| 32/32 [00:00<00:00, 143.96it/s, avg_loss=1.71]\n",
      "100%|██████████| 32/32 [00:00<00:00, 144.17it/s, avg_loss=1.71]\n"
     ]
    },
    {
     "name": "stdout",
     "output_type": "stream",
     "text": [
      "[E:20]\tTrain Loss: 0.438\tDev score: 0.966\n"
     ]
    },
    {
     "name": "stderr",
     "output_type": "stream",
     "text": [
      "100%|██████████| 32/32 [00:00<00:00, 140.75it/s, avg_loss=1.72]\n",
      "100%|██████████| 32/32 [00:00<00:00, 117.23it/s, avg_loss=1.71]\n",
      "100%|██████████| 32/32 [00:00<00:00, 73.36it/s, avg_loss=1.7]\n",
      "100%|██████████| 32/32 [00:00<00:00, 59.37it/s, avg_loss=1.7]\n",
      "100%|██████████| 32/32 [00:00<00:00, 57.91it/s, avg_loss=1.7]\n"
     ]
    },
    {
     "name": "stdout",
     "output_type": "stream",
     "text": [
      "[E:25]\tTrain Loss: 0.435\tDev score: 0.965\n",
      "Restoring best model from iteration 3 with score 0.979\n",
      "Finished Training\n",
      "Accuracy: 0.979\n",
      "        y=1    y=2   \n",
      " l=1    238    13    \n",
      " l=2     8     741   \n",
      "F1: 0.958\n",
      "        y=1    y=2   \n",
      " l=1    238    13    \n",
      " l=2     8     741   \n",
      "\n",
      "Network architecture:\n",
      "Sequential(\n",
      "  (0): IdentityModule()\n",
      "  (1): Sequential(\n",
      "    (0): Linear(in_features=1000, out_features=100, bias=True)\n",
      "    (1): ReLU()\n",
      "  )\n",
      "  (2): Linear(in_features=100, out_features=2, bias=True)\n",
      ")\n",
      "\n",
      "============================================================\n",
      "[0_2] Testing {'n_epochs': 26, 'batchnorm': True, 'dropout': 0.2, 'layer_out_dims': [1000, 100, 2], 'data_loader_config': {'batch_size': 256, 'num_workers': 1}, 'lr': 0.14487792589370782}\n",
      "============================================================\n"
     ]
    },
    {
     "name": "stderr",
     "output_type": "stream",
     "text": [
      "100%|██████████| 32/32 [00:00<00:00, 112.25it/s, avg_loss=4.65]\n"
     ]
    },
    {
     "name": "stdout",
     "output_type": "stream",
     "text": [
      "Saving model at iteration 0 with best score 0.754\n",
      "[E:0]\tTrain Loss: 1.191\tDev score: 0.754\n"
     ]
    },
    {
     "name": "stderr",
     "output_type": "stream",
     "text": [
      "100%|██████████| 32/32 [00:00<00:00, 139.91it/s, avg_loss=2.27]\n"
     ]
    },
    {
     "name": "stdout",
     "output_type": "stream",
     "text": [
      "Saving model at iteration 1 with best score 0.756\n"
     ]
    },
    {
     "name": "stderr",
     "output_type": "stream",
     "text": [
      "100%|██████████| 32/32 [00:00<00:00, 141.57it/s, avg_loss=2.32]\n",
      "100%|██████████| 32/32 [00:00<00:00, 140.88it/s, avg_loss=2.3]\n"
     ]
    },
    {
     "name": "stdout",
     "output_type": "stream",
     "text": [
      "Saving model at iteration 3 with best score 0.773\n"
     ]
    },
    {
     "name": "stderr",
     "output_type": "stream",
     "text": [
      "100%|██████████| 32/32 [00:00<00:00, 142.94it/s, avg_loss=2.27]\n"
     ]
    },
    {
     "name": "stdout",
     "output_type": "stream",
     "text": [
      "Saving model at iteration 4 with best score 0.878\n"
     ]
    },
    {
     "name": "stderr",
     "output_type": "stream",
     "text": [
      "100%|██████████| 32/32 [00:00<00:00, 129.63it/s, avg_loss=2.29]\n"
     ]
    },
    {
     "name": "stdout",
     "output_type": "stream",
     "text": [
      "[E:5]\tTrain Loss: 0.586\tDev score: 0.756\n"
     ]
    },
    {
     "name": "stderr",
     "output_type": "stream",
     "text": [
      "100%|██████████| 32/32 [00:00<00:00, 141.88it/s, avg_loss=2.22]\n",
      "100%|██████████| 32/32 [00:00<00:00, 125.79it/s, avg_loss=2.15]\n"
     ]
    },
    {
     "name": "stdout",
     "output_type": "stream",
     "text": [
      "Saving model at iteration 7 with best score 0.896\n"
     ]
    },
    {
     "name": "stderr",
     "output_type": "stream",
     "text": [
      "100%|██████████| 32/32 [00:00<00:00, 140.63it/s, avg_loss=2.09]\n",
      "100%|██████████| 32/32 [00:00<00:00, 145.37it/s, avg_loss=1.96]\n",
      "100%|██████████| 32/32 [00:00<00:00, 144.16it/s, avg_loss=1.9]\n"
     ]
    },
    {
     "name": "stdout",
     "output_type": "stream",
     "text": [
      "Saving model at iteration 10 with best score 0.920\n",
      "[E:10]\tTrain Loss: 0.488\tDev score: 0.920\n"
     ]
    },
    {
     "name": "stderr",
     "output_type": "stream",
     "text": [
      "100%|██████████| 32/32 [00:00<00:00, 143.39it/s, avg_loss=1.83]\n",
      "100%|██████████| 32/32 [00:00<00:00, 139.29it/s, avg_loss=1.75]\n"
     ]
    },
    {
     "name": "stdout",
     "output_type": "stream",
     "text": [
      "Saving model at iteration 12 with best score 0.923\n"
     ]
    },
    {
     "name": "stderr",
     "output_type": "stream",
     "text": [
      "100%|██████████| 32/32 [00:00<00:00, 130.84it/s, avg_loss=1.73]\n",
      "100%|██████████| 32/32 [00:00<00:00, 143.30it/s, avg_loss=1.72]\n",
      "100%|██████████| 32/32 [00:00<00:00, 140.19it/s, avg_loss=1.71]\n"
     ]
    },
    {
     "name": "stdout",
     "output_type": "stream",
     "text": [
      "[E:15]\tTrain Loss: 0.438\tDev score: 0.894\n"
     ]
    },
    {
     "name": "stderr",
     "output_type": "stream",
     "text": [
      "100%|██████████| 32/32 [00:00<00:00, 144.37it/s, avg_loss=1.71]\n",
      "100%|██████████| 32/32 [00:00<00:00, 145.03it/s, avg_loss=1.71]\n",
      "100%|██████████| 32/32 [00:00<00:00, 143.25it/s, avg_loss=1.7]\n",
      "100%|██████████| 32/32 [00:00<00:00, 139.64it/s, avg_loss=1.7]\n",
      "100%|██████████| 32/32 [00:00<00:00, 115.56it/s, avg_loss=1.71]\n"
     ]
    },
    {
     "name": "stdout",
     "output_type": "stream",
     "text": [
      "[E:20]\tTrain Loss: 0.437\tDev score: 0.900\n"
     ]
    },
    {
     "name": "stderr",
     "output_type": "stream",
     "text": [
      "100%|██████████| 32/32 [00:00<00:00, 144.68it/s, avg_loss=1.69]\n",
      "100%|██████████| 32/32 [00:00<00:00, 130.26it/s, avg_loss=1.69]\n",
      "100%|██████████| 32/32 [00:00<00:00, 96.42it/s, avg_loss=1.69]\n",
      "100%|██████████| 32/32 [00:00<00:00, 63.20it/s, avg_loss=1.68]\n",
      "100%|██████████| 32/32 [00:00<00:00, 52.40it/s, avg_loss=1.68]\n"
     ]
    },
    {
     "name": "stdout",
     "output_type": "stream",
     "text": [
      "[E:25]\tTrain Loss: 0.430\tDev score: 0.906\n",
      "Restoring best model from iteration 12 with score 0.923\n",
      "Finished Training\n",
      "Accuracy: 0.923\n",
      "        y=1    y=2   \n",
      " l=1    177     8    \n",
      " l=2    69     746   \n",
      "F1: 0.821\n",
      "        y=1    y=2   \n",
      " l=1    177     8    \n",
      " l=2    69     746   \n",
      "============================================================\n",
      "[SUMMARY]\n",
      "Best model: [0_1]\n",
      "Best config: {'n_epochs': 26, 'batchnorm': False, 'dropout': 0, 'layer_out_dims': [1000, 100, 2], 'print_every': 5, 'data_loader_config': {'batch_size': 256, 'num_workers': 1}, 'lr': 0.0014465786197803271, 'seed': 137}\n",
      "Best score: 0.9959349593495935\n",
      "============================================================\n"
     ]
    }
   ],
   "source": [
    "best_hb_model = hb_tuner.search(search_space, dev_data, train_args=train_args, metric='f1', verbose=True)"
   ]
  },
  {
   "cell_type": "markdown",
   "metadata": {},
   "source": [
    "Awesome, we achieved an F1 ~.994, which beat our initial score of F1 ~.90 and essentially matches the score achieved by random search (F1 ~.996). The next section will compare the performances of random search and Hyperband using the logged data -- and investigate when to use which algorithm."
   ]
  },
  {
   "cell_type": "markdown",
   "metadata": {},
   "source": [
    "## Compare Random Search against Hyperband Search"
   ]
  },
  {
   "cell_type": "markdown",
   "metadata": {},
   "source": [
    "During `search`, MeTaL hyperparameter tuners track useful statistics. Currently these include\n",
    "* Time elapsed\n",
    "* Best score\n",
    "* Best configuration\n",
    "\n",
    "We will analyze these statistics to compare random search against Hyperband. "
   ]
  },
  {
   "cell_type": "markdown",
   "metadata": {},
   "source": [
    "First, let's extract the statistics captured by our tuners."
   ]
  },
  {
   "cell_type": "code",
   "execution_count": 39,
   "metadata": {},
   "outputs": [],
   "source": [
    "hb_stats = hb_tuner.run_stats\n",
    "rs_stats = rs_tuner.run_stats"
   ]
  },
  {
   "cell_type": "markdown",
   "metadata": {},
   "source": [
    "Let's take a look at a few of the collected datapoints"
   ]
  },
  {
   "cell_type": "code",
   "execution_count": 40,
   "metadata": {},
   "outputs": [
    {
     "data": {
      "text/plain": [
       "[{'idx': '0_0',\n",
       "  'time_elapsed': 0.6589169502258301,\n",
       "  'search_params': {'n_epochs': 2,\n",
       "   'batchnorm': False,\n",
       "   'dropout': 0,\n",
       "   'layer_out_dims': [1000, 10, 2],\n",
       "   'data_loader_config': {'batch_size': 256, 'num_workers': 1},\n",
       "   'lr': 0.3700237151852522},\n",
       "  'score': 0,\n",
       "  'best_score': 0},\n",
       " {'idx': '0_1',\n",
       "  'time_elapsed': 1.3525810241699219,\n",
       "  'search_params': {'n_epochs': 2,\n",
       "   'batchnorm': False,\n",
       "   'dropout': 0.1,\n",
       "   'layer_out_dims': [1000, 100, 2],\n",
       "   'data_loader_config': {'batch_size': 256, 'num_workers': 1},\n",
       "   'lr': 0.019515100267567337},\n",
       "  'score': 0.9793388429752067,\n",
       "  'best_score': 0.9793388429752067},\n",
       " {'idx': '0_2',\n",
       "  'time_elapsed': 2.0790369510650635,\n",
       "  'search_params': {'n_epochs': 2,\n",
       "   'batchnorm': False,\n",
       "   'dropout': 0.4,\n",
       "   'layer_out_dims': [1000, 100, 2],\n",
       "   'data_loader_config': {'batch_size': 256, 'num_workers': 1},\n",
       "   'lr': 7.089807415516936e-05},\n",
       "  'score': 0,\n",
       "  'best_score': 0.9793388429752067}]"
      ]
     },
     "execution_count": 40,
     "metadata": {},
     "output_type": "execute_result"
    }
   ],
   "source": [
    "hb_stats[:3]"
   ]
  },
  {
   "cell_type": "markdown",
   "metadata": {},
   "source": [
    "`run_stats` contains a list of datapoints, where each datapoint (captured by a dictionary) specifies the current elapsed timestamp, the best score achieved for that timestamp and the best hyperparameter configuration for the score."
   ]
  },
  {
   "cell_type": "markdown",
   "metadata": {},
   "source": [
    "Now that we have our data and understand its format, let's compare the performances of random search and hyperband by plotting the best scores they achieve across time!"
   ]
  },
  {
   "cell_type": "code",
   "execution_count": 41,
   "metadata": {},
   "outputs": [
    {
     "data": {
      "image/png": "[encoded data removed]",
      "text/plain": [
       "<Figure size 432x288 with 1 Axes>"
      ]
     },
     "metadata": {},
     "output_type": "display_data"
    }
   ],
   "source": [
    "import matplotlib.pyplot as plt\n",
    "\n",
    "def plot_score_vs_time(rs_data, hb_data):\n",
    "    plt.cla()\n",
    "    \n",
    "    xs_hyperband = [x[\"time_elapsed\"] for x in hb_data]\n",
    "    ys_hyperband = [x[\"best_score\"] for x in hb_data]\n",
    "    xs_rs = [x[\"time_elapsed\"] for x in rs_data]\n",
    "    ys_rs = [x[\"best_score\"] for x in rs_data]\n",
    "    \n",
    "    plt.plot(xs_hyperband, ys_hyperband, label=\"Hyperband\")\n",
    "    plt.plot(xs_rs, ys_rs, label=\"RandomSearch\")\n",
    "    \n",
    "    plt.xlabel(\"Time (s)\")\n",
    "    plt.ylabel(\"F1 Score Achieved\")\n",
    "    \n",
    "    plt.legend(loc=\"best\")\n",
    "    \n",
    "plot_score_vs_time(rs_stats, hb_stats)"
   ]
  },
  {
   "cell_type": "markdown",
   "metadata": {},
   "source": [
    "Interesting! Our plot shows that Hyperband finds a good solution very fast, much faster than random search. \n",
    "\n",
    "From the plot above, we see that Hyperband finds its best solution at around time 10s, whereas it takes random search around 70s to achieve a comparable score. "
   ]
  },
  {
   "cell_type": "markdown",
   "metadata": {},
   "source": [
    "The data above is very encouraging, however our previous setup may have been too simplistic. Let's make our search problem harder by expanding the search space and search time and comparing the performances of our tuners."
   ]
  },
  {
   "cell_type": "markdown",
   "metadata": {},
   "source": [
    "First let's define a harder search space."
   ]
  },
  {
   "cell_type": "code",
   "execution_count": 42,
   "metadata": {},
   "outputs": [],
   "source": [
    "harder_search_space = {\n",
    "    'n_epochs': [1, 5, 10, 20, 40],\n",
    "    'batchnorm' : [True, False],\n",
    "    'dropout': [0, .1, .2, .3, .4, .5],\n",
    "    'lr': {'range': [1e-7, 1], 'scale': 'log'},\n",
    "    'layer_out_dims' : [[1000,10,2], [1000, 100, 2], [1000, 20, 2], [1000, 30, 2], [1000, 40, 2], [1000, 50, 2], [1000, 70, 2], [1000, 500, 2], [1000, 700, 2]],\n",
    "    'print_every': 5,\n",
    "    'data_loader_config': [{\"batch_size\": 256, \"num_workers\": 1}],\n",
    "}"
   ]
  },
  {
   "cell_type": "markdown",
   "metadata": {},
   "source": [
    "Next, let's create our tuners."
   ]
  },
  {
   "cell_type": "code",
   "execution_count": 43,
   "metadata": {},
   "outputs": [
    {
     "name": "stdout",
     "output_type": "stream",
     "text": [
      "=========================================\n",
      "|           Hyperband Schedule          |\n",
      "=========================================\n",
      "Table consists of tuples of (num configs, num_resources_per_config)which specify how many configs to run andfor how many epochs. \n",
      "Each bracket starts with a list of random configurations which is successively halved according the schedule.\n",
      "See the Hyperband paper (https://arxiv.org/pdf/1603.06560.pdf) for more details.\n",
      "-----------------------------------------\n",
      "Bracket 0: (27, 1) (9, 5) (3, 17) (1, 52)\n",
      "Bracket 1: (9, 5) (3, 17) (1, 52)\n",
      "Bracket 2: (6, 17) (2, 52)\n",
      "Bracket 3: (4, 53)\n",
      "-----------------------------------------\n"
     ]
    }
   ],
   "source": [
    "rs_tuner_harder = RandomSearchTuner(EndModel, seed=123)\n",
    "hb_tuner_harder = HyperbandTuner(EndModel, hyperband_epochs_budget=800, seed=123)"
   ]
  },
  {
   "cell_type": "markdown",
   "metadata": {},
   "source": [
    "Then run the search process (this may take a few minutes!)"
   ]
  },
  {
   "cell_type": "code",
   "execution_count": 45,
   "metadata": {},
   "outputs": [
    {
     "name": "stdout",
     "output_type": "stream",
     "text": [
      "\n",
      "Network architecture:\n",
      "Sequential(\n",
      "  (0): IdentityModule()\n",
      "  (1): Sequential(\n",
      "    (0): Linear(in_features=1000, out_features=10, bias=True)\n",
      "    (1): ReLU()\n",
      "  )\n",
      "  (2): Linear(in_features=10, out_features=2, bias=True)\n",
      ")\n",
      "\n",
      "============================================================\n",
      "[0] Testing {'n_epochs': 10, 'batchnorm': False, 'dropout': 0, 'layer_out_dims': [1000, 10, 2], 'data_loader_config': {'batch_size': 256, 'num_workers': 1}, 'lr': 0.3700237151852522}\n",
      "============================================================\n"
     ]
    },
    {
     "name": "stderr",
     "output_type": "stream",
     "text": [
      "100%|██████████| 32/32 [00:00<00:00, 156.61it/s, avg_loss=4.78]\n"
     ]
    },
    {
     "name": "stdout",
     "output_type": "stream",
     "text": [
      "Saving model at iteration 0 with best score 0.754\n",
      "[E:0]\tTrain Loss: 1.223\tDev score: 0.754\n"
     ]
    },
    {
     "name": "stderr",
     "output_type": "stream",
     "text": [
      "100%|██████████| 32/32 [00:00<00:00, 143.26it/s, avg_loss=2.25]\n",
      "100%|██████████| 32/32 [00:00<00:00, 172.35it/s, avg_loss=2.25]\n",
      "100%|██████████| 32/32 [00:00<00:00, 157.47it/s, avg_loss=2.25]\n",
      "100%|██████████| 32/32 [00:00<00:00, 159.39it/s, avg_loss=2.26]\n",
      "100%|██████████| 32/32 [00:00<00:00, 171.31it/s, avg_loss=2.25]\n"
     ]
    },
    {
     "name": "stdout",
     "output_type": "stream",
     "text": [
      "[E:5]\tTrain Loss: 0.576\tDev score: 0.754\n"
     ]
    },
    {
     "name": "stderr",
     "output_type": "stream",
     "text": [
      "100%|██████████| 32/32 [00:00<00:00, 140.68it/s, avg_loss=2.25]\n",
      "100%|██████████| 32/32 [00:00<00:00, 147.91it/s, avg_loss=2.25]\n",
      "100%|██████████| 32/32 [00:00<00:00, 168.02it/s, avg_loss=2.25]\n",
      "100%|██████████| 32/32 [00:00<00:00, 168.50it/s, avg_loss=2.26]\n"
     ]
    },
    {
     "name": "stdout",
     "output_type": "stream",
     "text": [
      "[E:9]\tTrain Loss: 0.579\tDev score: 0.754\n",
      "Restoring best model from iteration 0 with score 0.754\n",
      "Finished Training\n",
      "Accuracy: 0.754\n",
      "        y=1    y=2   \n",
      " l=1     0      0    \n",
      " l=2    246    754   \n",
      "F1: 0.000\n",
      "        y=1    y=2   \n",
      " l=1     0      0    \n",
      " l=2    246    754   \n",
      "\n",
      "Network architecture:\n",
      "Sequential(\n",
      "  (0): IdentityModule()\n",
      "  (1): Sequential(\n",
      "    (0): Linear(in_features=1000, out_features=100, bias=True)\n",
      "    (1): ReLU()\n",
      "  )\n",
      "  (2): Linear(in_features=100, out_features=2, bias=True)\n",
      ")\n",
      "\n",
      "============================================================\n",
      "[1] Testing {'n_epochs': 5, 'batchnorm': False, 'dropout': 0.1, 'layer_out_dims': [1000, 100, 2], 'data_loader_config': {'batch_size': 256, 'num_workers': 1}, 'lr': 1.827334249624349e-05}\n",
      "============================================================\n"
     ]
    },
    {
     "name": "stderr",
     "output_type": "stream",
     "text": [
      "100%|██████████| 32/32 [00:00<00:00, 151.57it/s, avg_loss=2.79]\n"
     ]
    },
    {
     "name": "stdout",
     "output_type": "stream",
     "text": [
      "Saving model at iteration 0 with best score 0.353\n",
      "[E:0]\tTrain Loss: 0.714\tDev score: 0.353\n"
     ]
    },
    {
     "name": "stderr",
     "output_type": "stream",
     "text": [
      "100%|██████████| 32/32 [00:00<00:00, 131.02it/s, avg_loss=2.72]\n"
     ]
    },
    {
     "name": "stdout",
     "output_type": "stream",
     "text": [
      "Saving model at iteration 1 with best score 0.578\n"
     ]
    },
    {
     "name": "stderr",
     "output_type": "stream",
     "text": [
      "100%|██████████| 32/32 [00:00<00:00, 140.77it/s, avg_loss=2.66]\n"
     ]
    },
    {
     "name": "stdout",
     "output_type": "stream",
     "text": [
      "Saving model at iteration 2 with best score 0.734\n"
     ]
    },
    {
     "name": "stderr",
     "output_type": "stream",
     "text": [
      "100%|██████████| 32/32 [00:00<00:00, 147.47it/s, avg_loss=2.6]\n"
     ]
    },
    {
     "name": "stdout",
     "output_type": "stream",
     "text": [
      "Saving model at iteration 3 with best score 0.767\n"
     ]
    },
    {
     "name": "stderr",
     "output_type": "stream",
     "text": [
      "100%|██████████| 32/32 [00:00<00:00, 147.15it/s, avg_loss=2.55]\n"
     ]
    },
    {
     "name": "stdout",
     "output_type": "stream",
     "text": [
      "[E:4]\tTrain Loss: 0.652\tDev score: 0.765\n",
      "Restoring best model from iteration 3 with score 0.767\n",
      "Finished Training\n",
      "Accuracy: 0.767\n",
      "        y=1    y=2   \n",
      " l=1    24     11    \n",
      " l=2    222    743   \n",
      "F1: 0.171\n",
      "        y=1    y=2   \n",
      " l=1    24     11    \n",
      " l=2    222    743   \n",
      "\n",
      "Network architecture:\n",
      "Sequential(\n",
      "  (0): IdentityModule()\n",
      "  (1): Sequential(\n",
      "    (0): Linear(in_features=1000, out_features=100, bias=True)\n",
      "    (1): ReLU()\n",
      "  )\n",
      "  (2): Linear(in_features=100, out_features=2, bias=True)\n",
      ")\n",
      "\n",
      "============================================================\n",
      "[2] Testing {'n_epochs': 10, 'batchnorm': False, 'dropout': 0.4, 'layer_out_dims': [1000, 100, 2], 'data_loader_config': {'batch_size': 256, 'num_workers': 1}, 'lr': 0.6366544570068935}\n",
      "============================================================\n"
     ]
    },
    {
     "name": "stderr",
     "output_type": "stream",
     "text": [
      "100%|██████████| 32/32 [00:00<00:00, 141.80it/s, avg_loss=43.2]\n"
     ]
    },
    {
     "name": "stdout",
     "output_type": "stream",
     "text": [
      "Saving model at iteration 0 with best score 0.754\n",
      "[E:0]\tTrain Loss: 11.059\tDev score: 0.754\n"
     ]
    },
    {
     "name": "stderr",
     "output_type": "stream",
     "text": [
      "100%|██████████| 32/32 [00:00<00:00, 142.02it/s, avg_loss=3.09]\n",
      "100%|██████████| 32/32 [00:00<00:00, 148.60it/s, avg_loss=2.8]\n",
      "100%|██████████| 32/32 [00:00<00:00, 143.42it/s, avg_loss=2.43]\n",
      "100%|██████████| 32/32 [00:00<00:00, 150.24it/s, avg_loss=2.37]\n",
      "100%|██████████| 32/32 [00:00<00:00, 124.51it/s, avg_loss=2.31]\n"
     ]
    },
    {
     "name": "stdout",
     "output_type": "stream",
     "text": [
      "[E:5]\tTrain Loss: 0.590\tDev score: 0.754\n"
     ]
    },
    {
     "name": "stderr",
     "output_type": "stream",
     "text": [
      "100%|██████████| 32/32 [00:00<00:00, 146.82it/s, avg_loss=2.27]\n",
      "100%|██████████| 32/32 [00:00<00:00, 148.80it/s, avg_loss=2.26]\n",
      "100%|██████████| 32/32 [00:00<00:00, 149.63it/s, avg_loss=2.25]\n",
      "100%|██████████| 32/32 [00:00<00:00, 115.51it/s, avg_loss=2.25]\n"
     ]
    },
    {
     "name": "stdout",
     "output_type": "stream",
     "text": [
      "[E:9]\tTrain Loss: 0.576\tDev score: 0.754\n",
      "Restoring best model from iteration 0 with score 0.754\n",
      "Finished Training\n",
      "Accuracy: 0.754\n",
      "        y=1    y=2   \n",
      " l=1     0      0    \n",
      " l=2    246    754   \n",
      "F1: 0.000\n",
      "        y=1    y=2   \n",
      " l=1     0      0    \n",
      " l=2    246    754   \n",
      "\n",
      "Network architecture:\n",
      "Sequential(\n",
      "  (0): IdentityModule()\n",
      "  (1): Sequential(\n",
      "    (0): Linear(in_features=1000, out_features=100, bias=True)\n",
      "    (1): ReLU()\n",
      "  )\n",
      "  (2): Linear(in_features=100, out_features=2, bias=True)\n",
      ")\n",
      "\n",
      "============================================================\n",
      "[3] Testing {'n_epochs': 5, 'batchnorm': True, 'dropout': 0.2, 'layer_out_dims': [1000, 100, 2], 'data_loader_config': {'batch_size': 256, 'num_workers': 1}, 'lr': 0.31643979593790955}\n",
      "============================================================\n"
     ]
    },
    {
     "name": "stderr",
     "output_type": "stream",
     "text": [
      "100%|██████████| 32/32 [00:00<00:00, 115.74it/s, avg_loss=13.9]\n"
     ]
    },
    {
     "name": "stdout",
     "output_type": "stream",
     "text": [
      "Saving model at iteration 0 with best score 0.754\n",
      "[E:0]\tTrain Loss: 3.548\tDev score: 0.754\n"
     ]
    },
    {
     "name": "stderr",
     "output_type": "stream",
     "text": [
      "100%|██████████| 32/32 [00:00<00:00, 86.93it/s, avg_loss=2.3]\n",
      "100%|██████████| 32/32 [00:00<00:00, 136.22it/s, avg_loss=2.35]\n",
      "100%|██████████| 32/32 [00:00<00:00, 143.42it/s, avg_loss=2.25]\n",
      "100%|██████████| 32/32 [00:00<00:00, 149.41it/s, avg_loss=2.25]\n"
     ]
    },
    {
     "name": "stdout",
     "output_type": "stream",
     "text": [
      "[E:4]\tTrain Loss: 0.575\tDev score: 0.754\n",
      "Restoring best model from iteration 0 with score 0.754\n",
      "Finished Training\n",
      "Accuracy: 0.754\n",
      "        y=1    y=2   \n",
      " l=1     0      0    \n",
      " l=2    246    754   \n",
      "F1: 0.000\n",
      "        y=1    y=2   \n",
      " l=1     0      0    \n",
      " l=2    246    754   \n",
      "\n",
      "Network architecture:\n",
      "Sequential(\n",
      "  (0): IdentityModule()\n",
      "  (1): Sequential(\n",
      "    (0): Linear(in_features=1000, out_features=100, bias=True)\n",
      "    (1): ReLU()\n",
      "  )\n",
      "  (2): Linear(in_features=100, out_features=2, bias=True)\n",
      ")\n",
      "\n",
      "============================================================\n",
      "[4] Testing {'n_epochs': 1, 'batchnorm': False, 'dropout': 0.2, 'layer_out_dims': [1000, 100, 2], 'data_loader_config': {'batch_size': 256, 'num_workers': 1}, 'lr': 0.007292621889903268}\n",
      "============================================================\n"
     ]
    },
    {
     "name": "stderr",
     "output_type": "stream",
     "text": [
      "100%|██████████| 32/32 [00:00<00:00, 149.34it/s, avg_loss=1.91]\n"
     ]
    },
    {
     "name": "stdout",
     "output_type": "stream",
     "text": [
      "Saving model at iteration 0 with best score 0.994\n",
      "[E:0]\tTrain Loss: 0.488\tDev score: 0.994\n",
      "Restoring best model from iteration 0 with score 0.994\n",
      "Finished Training\n",
      "Accuracy: 0.994\n",
      "        y=1    y=2   \n",
      " l=1    241     1    \n",
      " l=2     5     753   \n",
      "F1: 0.988\n",
      "        y=1    y=2   \n",
      " l=1    241     1    \n",
      " l=2     5     753   \n",
      "\n",
      "Network architecture:\n",
      "Sequential(\n",
      "  (0): IdentityModule()\n",
      "  (1): Sequential(\n",
      "    (0): Linear(in_features=1000, out_features=100, bias=True)\n",
      "    (1): ReLU()\n",
      "  )\n",
      "  (2): Linear(in_features=100, out_features=2, bias=True)\n",
      ")\n",
      "\n",
      "============================================================\n",
      "[5] Testing {'n_epochs': 5, 'batchnorm': False, 'dropout': 0.4, 'layer_out_dims': [1000, 100, 2], 'data_loader_config': {'batch_size': 256, 'num_workers': 1}, 'lr': 1.670624993426239e-05}\n",
      "============================================================\n"
     ]
    },
    {
     "name": "stderr",
     "output_type": "stream",
     "text": [
      "100%|██████████| 32/32 [00:00<00:00, 139.80it/s, avg_loss=2.74]\n"
     ]
    },
    {
     "name": "stdout",
     "output_type": "stream",
     "text": [
      "Saving model at iteration 0 with best score 0.530\n",
      "[E:0]\tTrain Loss: 0.702\tDev score: 0.530\n"
     ]
    },
    {
     "name": "stderr",
     "output_type": "stream",
     "text": [
      "100%|██████████| 32/32 [00:00<00:00, 134.06it/s, avg_loss=2.68]\n"
     ]
    },
    {
     "name": "stdout",
     "output_type": "stream",
     "text": [
      "Saving model at iteration 1 with best score 0.715\n"
     ]
    },
    {
     "name": "stderr",
     "output_type": "stream",
     "text": [
      "100%|██████████| 32/32 [00:00<00:00, 156.52it/s, avg_loss=2.62]\n"
     ]
    },
    {
     "name": "stdout",
     "output_type": "stream",
     "text": [
      "Saving model at iteration 2 with best score 0.779\n"
     ]
    },
    {
     "name": "stderr",
     "output_type": "stream",
     "text": [
      "100%|██████████| 32/32 [00:00<00:00, 150.78it/s, avg_loss=2.56]\n",
      "100%|██████████| 32/32 [00:00<00:00, 153.31it/s, avg_loss=2.51]\n"
     ]
    },
    {
     "name": "stdout",
     "output_type": "stream",
     "text": [
      "[E:4]\tTrain Loss: 0.643\tDev score: 0.757\n",
      "Restoring best model from iteration 2 with score 0.779\n",
      "Finished Training\n",
      "Accuracy: 0.779\n",
      "        y=1    y=2   \n",
      " l=1    40     15    \n",
      " l=2    206    739   \n",
      "F1: 0.266\n",
      "        y=1    y=2   \n",
      " l=1    40     15    \n",
      " l=2    206    739   \n",
      "\n",
      "Network architecture:\n",
      "Sequential(\n",
      "  (0): IdentityModule()\n",
      "  (1): Sequential(\n",
      "    (0): Linear(in_features=1000, out_features=10, bias=True)\n",
      "    (1): ReLU()\n",
      "  )\n",
      "  (2): Linear(in_features=10, out_features=2, bias=True)\n",
      ")\n",
      "\n",
      "============================================================\n",
      "[6] Testing {'n_epochs': 5, 'batchnorm': False, 'dropout': 0.2, 'layer_out_dims': [1000, 10, 2], 'data_loader_config': {'batch_size': 256, 'num_workers': 1}, 'lr': 0.5013839780330771}\n",
      "============================================================\n"
     ]
    },
    {
     "name": "stderr",
     "output_type": "stream",
     "text": [
      "100%|██████████| 32/32 [00:00<00:00, 172.76it/s, avg_loss=6.48]\n"
     ]
    },
    {
     "name": "stdout",
     "output_type": "stream",
     "text": [
      "Saving model at iteration 0 with best score 0.754\n",
      "[E:0]\tTrain Loss: 1.658\tDev score: 0.754\n"
     ]
    },
    {
     "name": "stderr",
     "output_type": "stream",
     "text": [
      "100%|██████████| 32/32 [00:00<00:00, 171.96it/s, avg_loss=2.25]\n",
      "100%|██████████| 32/32 [00:00<00:00, 168.14it/s, avg_loss=2.25]\n",
      "100%|██████████| 32/32 [00:00<00:00, 169.24it/s, avg_loss=2.25]\n",
      "100%|██████████| 32/32 [00:00<00:00, 148.65it/s, avg_loss=2.25]\n"
     ]
    },
    {
     "name": "stdout",
     "output_type": "stream",
     "text": [
      "[E:4]\tTrain Loss: 0.576\tDev score: 0.754\n",
      "Restoring best model from iteration 0 with score 0.754\n",
      "Finished Training\n",
      "Accuracy: 0.754\n",
      "        y=1    y=2   \n",
      " l=1     0      0    \n",
      " l=2    246    754   \n",
      "F1: 0.000\n",
      "        y=1    y=2   \n",
      " l=1     0      0    \n",
      " l=2    246    754   \n",
      "\n",
      "Network architecture:\n",
      "Sequential(\n",
      "  (0): IdentityModule()\n",
      "  (1): Sequential(\n",
      "    (0): Linear(in_features=1000, out_features=100, bias=True)\n",
      "    (1): ReLU()\n",
      "  )\n",
      "  (2): Linear(in_features=100, out_features=2, bias=True)\n",
      ")\n",
      "\n",
      "============================================================\n",
      "[7] Testing {'n_epochs': 1, 'batchnorm': False, 'dropout': 0.5, 'layer_out_dims': [1000, 100, 2], 'data_loader_config': {'batch_size': 256, 'num_workers': 1}, 'lr': 0.008520966193723056}\n",
      "============================================================\n"
     ]
    },
    {
     "name": "stderr",
     "output_type": "stream",
     "text": [
      "100%|██████████| 32/32 [00:00<00:00, 124.89it/s, avg_loss=1.89]\n"
     ]
    },
    {
     "name": "stdout",
     "output_type": "stream",
     "text": [
      "Saving model at iteration 0 with best score 0.982\n",
      "[E:0]\tTrain Loss: 0.483\tDev score: 0.982\n",
      "Restoring best model from iteration 0 with score 0.982\n",
      "Finished Training\n",
      "Accuracy: 0.982\n",
      "        y=1    y=2   \n",
      " l=1    229     1    \n",
      " l=2    17     753   \n",
      "F1: 0.962\n",
      "        y=1    y=2   \n",
      " l=1    229     1    \n",
      " l=2    17     753   \n",
      "\n",
      "Network architecture:\n",
      "Sequential(\n",
      "  (0): IdentityModule()\n",
      "  (1): Sequential(\n",
      "    (0): Linear(in_features=1000, out_features=100, bias=True)\n",
      "    (1): ReLU()\n",
      "  )\n",
      "  (2): Linear(in_features=100, out_features=2, bias=True)\n",
      ")\n",
      "\n",
      "============================================================\n",
      "[8] Testing {'n_epochs': 10, 'batchnorm': False, 'dropout': 0.1, 'layer_out_dims': [1000, 100, 2], 'data_loader_config': {'batch_size': 256, 'num_workers': 1}, 'lr': 0.003970906941573151}\n",
      "============================================================\n"
     ]
    },
    {
     "name": "stderr",
     "output_type": "stream",
     "text": [
      "100%|██████████| 32/32 [00:00<00:00, 101.79it/s, avg_loss=1.92]\n"
     ]
    },
    {
     "name": "stdout",
     "output_type": "stream",
     "text": [
      "Saving model at iteration 0 with best score 0.998\n",
      "[E:0]\tTrain Loss: 0.491\tDev score: 0.998\n"
     ]
    },
    {
     "name": "stderr",
     "output_type": "stream",
     "text": [
      "100%|██████████| 32/32 [00:00<00:00, 131.44it/s, avg_loss=1.75]\n",
      "100%|██████████| 32/32 [00:00<00:00, 120.37it/s, avg_loss=1.69]\n",
      "100%|██████████| 32/32 [00:00<00:00, 83.75it/s, avg_loss=1.64]\n",
      "100%|██████████| 32/32 [00:00<00:00, 106.50it/s, avg_loss=1.56]\n",
      "100%|██████████| 32/32 [00:00<00:00, 113.36it/s, avg_loss=1.48]\n"
     ]
    },
    {
     "name": "stdout",
     "output_type": "stream",
     "text": [
      "[E:5]\tTrain Loss: 0.378\tDev score: 0.923\n"
     ]
    },
    {
     "name": "stderr",
     "output_type": "stream",
     "text": [
      "100%|██████████| 32/32 [00:00<00:00, 116.97it/s, avg_loss=1.4]\n",
      "100%|██████████| 32/32 [00:00<00:00, 124.48it/s, avg_loss=1.34]\n",
      "100%|██████████| 32/32 [00:00<00:00, 138.26it/s, avg_loss=1.3]\n",
      "100%|██████████| 32/32 [00:00<00:00, 115.62it/s, avg_loss=1.27]\n"
     ]
    },
    {
     "name": "stdout",
     "output_type": "stream",
     "text": [
      "[E:9]\tTrain Loss: 0.325\tDev score: 0.915\n",
      "Restoring best model from iteration 0 with score 0.998\n",
      "Finished Training\n",
      "Accuracy: 0.998\n",
      "        y=1    y=2   \n",
      " l=1    245     1    \n",
      " l=2     1     753   \n",
      "F1: 0.996\n",
      "        y=1    y=2   \n",
      " l=1    245     1    \n",
      " l=2     1     753   \n",
      "\n",
      "Network architecture:\n",
      "Sequential(\n",
      "  (0): IdentityModule()\n",
      "  (1): Sequential(\n",
      "    (0): Linear(in_features=1000, out_features=100, bias=True)\n",
      "    (1): ReLU()\n",
      "  )\n",
      "  (2): Linear(in_features=100, out_features=2, bias=True)\n",
      ")\n",
      "\n",
      "============================================================\n",
      "[9] Testing {'n_epochs': 1, 'batchnorm': True, 'dropout': 0.3, 'layer_out_dims': [1000, 100, 2], 'data_loader_config': {'batch_size': 256, 'num_workers': 1}, 'lr': 0.0003777251862528499}\n",
      "============================================================\n"
     ]
    },
    {
     "name": "stderr",
     "output_type": "stream",
     "text": [
      "100%|██████████| 32/32 [00:00<00:00, 131.49it/s, avg_loss=2.41]\n"
     ]
    },
    {
     "name": "stdout",
     "output_type": "stream",
     "text": [
      "Saving model at iteration 0 with best score 0.754\n",
      "[E:0]\tTrain Loss: 0.617\tDev score: 0.754\n",
      "Restoring best model from iteration 0 with score 0.754\n",
      "Finished Training\n",
      "Accuracy: 0.754\n",
      "        y=1    y=2   \n",
      " l=1     0      0    \n",
      " l=2    246    754   \n",
      "F1: 0.000\n",
      "        y=1    y=2   \n",
      " l=1     0      0    \n",
      " l=2    246    754   \n",
      "\n",
      "Network architecture:\n",
      "Sequential(\n",
      "  (0): IdentityModule()\n",
      "  (1): Sequential(\n",
      "    (0): Linear(in_features=1000, out_features=100, bias=True)\n",
      "    (1): ReLU()\n",
      "  )\n",
      "  (2): Linear(in_features=100, out_features=2, bias=True)\n",
      ")\n",
      "\n",
      "============================================================\n",
      "[10] Testing {'n_epochs': 10, 'batchnorm': False, 'dropout': 0.3, 'layer_out_dims': [1000, 100, 2], 'data_loader_config': {'batch_size': 256, 'num_workers': 1}, 'lr': 0.0011538361363759827}\n",
      "============================================================\n"
     ]
    },
    {
     "name": "stderr",
     "output_type": "stream",
     "text": [
      "100%|██████████| 32/32 [00:00<00:00, 133.97it/s, avg_loss=2.06]\n"
     ]
    },
    {
     "name": "stdout",
     "output_type": "stream",
     "text": [
      "Saving model at iteration 0 with best score 0.990\n",
      "[E:0]\tTrain Loss: 0.526\tDev score: 0.990\n"
     ]
    },
    {
     "name": "stderr",
     "output_type": "stream",
     "text": [
      "100%|██████████| 32/32 [00:00<00:00, 128.82it/s, avg_loss=1.78]\n"
     ]
    },
    {
     "name": "stdout",
     "output_type": "stream",
     "text": [
      "Saving model at iteration 1 with best score 0.991\n"
     ]
    },
    {
     "name": "stderr",
     "output_type": "stream",
     "text": [
      "100%|██████████| 32/32 [00:00<00:00, 131.44it/s, avg_loss=1.73]\n",
      "100%|██████████| 32/32 [00:00<00:00, 153.06it/s, avg_loss=1.7]\n",
      "100%|██████████| 32/32 [00:00<00:00, 100.85it/s, avg_loss=1.66]\n",
      "100%|██████████| 32/32 [00:00<00:00, 129.96it/s, avg_loss=1.62]\n"
     ]
    },
    {
     "name": "stdout",
     "output_type": "stream",
     "text": [
      "[E:5]\tTrain Loss: 0.416\tDev score: 0.946\n"
     ]
    },
    {
     "name": "stderr",
     "output_type": "stream",
     "text": [
      "100%|██████████| 32/32 [00:00<00:00, 132.18it/s, avg_loss=1.58]\n",
      "100%|██████████| 32/32 [00:00<00:00, 144.11it/s, avg_loss=1.53]\n",
      "100%|██████████| 32/32 [00:00<00:00, 127.41it/s, avg_loss=1.47]\n",
      "100%|██████████| 32/32 [00:00<00:00, 114.55it/s, avg_loss=1.42]\n"
     ]
    },
    {
     "name": "stdout",
     "output_type": "stream",
     "text": [
      "[E:9]\tTrain Loss: 0.363\tDev score: 0.940\n",
      "Restoring best model from iteration 1 with score 0.991\n",
      "Finished Training\n",
      "Accuracy: 0.991\n",
      "        y=1    y=2   \n",
      " l=1    237     0    \n",
      " l=2     9     754   \n",
      "F1: 0.981\n",
      "        y=1    y=2   \n",
      " l=1    237     0    \n",
      " l=2     9     754   \n",
      "\n",
      "Network architecture:\n",
      "Sequential(\n",
      "  (0): IdentityModule()\n",
      "  (1): Sequential(\n",
      "    (0): Linear(in_features=1000, out_features=100, bias=True)\n",
      "    (1): ReLU()\n",
      "  )\n",
      "  (2): Linear(in_features=100, out_features=2, bias=True)\n",
      ")\n",
      "\n",
      "============================================================\n",
      "[11] Testing {'n_epochs': 10, 'batchnorm': True, 'dropout': 0.3, 'layer_out_dims': [1000, 100, 2], 'data_loader_config': {'batch_size': 256, 'num_workers': 1}, 'lr': 0.002945528656127802}\n",
      "============================================================\n"
     ]
    },
    {
     "name": "stderr",
     "output_type": "stream",
     "text": [
      "100%|██████████| 32/32 [00:00<00:00, 111.99it/s, avg_loss=1.92]\n"
     ]
    },
    {
     "name": "stdout",
     "output_type": "stream",
     "text": [
      "Saving model at iteration 0 with best score 0.998\n",
      "[E:0]\tTrain Loss: 0.491\tDev score: 0.998\n"
     ]
    },
    {
     "name": "stderr",
     "output_type": "stream",
     "text": [
      "100%|██████████| 32/32 [00:00<00:00, 146.82it/s, avg_loss=1.75]\n",
      "100%|██████████| 32/32 [00:00<00:00, 149.69it/s, avg_loss=1.7]\n",
      "100%|██████████| 32/32 [00:00<00:00, 118.34it/s, avg_loss=1.65]\n",
      "100%|██████████| 32/32 [00:00<00:00, 111.34it/s, avg_loss=1.59]\n",
      "100%|██████████| 32/32 [00:00<00:00, 130.53it/s, avg_loss=1.52]\n"
     ]
    },
    {
     "name": "stdout",
     "output_type": "stream",
     "text": [
      "[E:5]\tTrain Loss: 0.388\tDev score: 0.944\n"
     ]
    },
    {
     "name": "stderr",
     "output_type": "stream",
     "text": [
      "100%|██████████| 32/32 [00:00<00:00, 119.28it/s, avg_loss=1.44]\n",
      "100%|██████████| 32/32 [00:00<00:00, 151.12it/s, avg_loss=1.36]\n",
      "100%|██████████| 32/32 [00:00<00:00, 138.20it/s, avg_loss=1.31]\n",
      "100%|██████████| 32/32 [00:00<00:00, 130.32it/s, avg_loss=1.27]\n"
     ]
    },
    {
     "name": "stdout",
     "output_type": "stream",
     "text": [
      "[E:9]\tTrain Loss: 0.325\tDev score: 0.923\n",
      "Restoring best model from iteration 0 with score 0.998\n",
      "Finished Training\n",
      "Accuracy: 0.998\n",
      "        y=1    y=2   \n",
      " l=1    245     1    \n",
      " l=2     1     753   \n",
      "F1: 0.996\n",
      "        y=1    y=2   \n",
      " l=1    245     1    \n",
      " l=2     1     753   \n",
      "\n",
      "Network architecture:\n",
      "Sequential(\n",
      "  (0): IdentityModule()\n",
      "  (1): Sequential(\n",
      "    (0): Linear(in_features=1000, out_features=10, bias=True)\n",
      "    (1): ReLU()\n",
      "  )\n",
      "  (2): Linear(in_features=10, out_features=2, bias=True)\n",
      ")\n",
      "\n",
      "============================================================\n",
      "[12] Testing {'n_epochs': 1, 'batchnorm': False, 'dropout': 0.1, 'layer_out_dims': [1000, 10, 2], 'data_loader_config': {'batch_size': 256, 'num_workers': 1}, 'lr': 0.0026338666324303645}\n",
      "============================================================\n"
     ]
    },
    {
     "name": "stderr",
     "output_type": "stream",
     "text": [
      "100%|██████████| 32/32 [00:00<00:00, 158.62it/s, avg_loss=2.16]\n"
     ]
    },
    {
     "name": "stdout",
     "output_type": "stream",
     "text": [
      "Saving model at iteration 0 with best score 0.827\n",
      "[E:0]\tTrain Loss: 0.553\tDev score: 0.827\n",
      "Restoring best model from iteration 0 with score 0.827\n",
      "Finished Training\n",
      "Accuracy: 0.827\n",
      "        y=1    y=2   \n",
      " l=1    73      0    \n",
      " l=2    173    754   \n",
      "F1: 0.458\n",
      "        y=1    y=2   \n",
      " l=1    73      0    \n",
      " l=2    173    754   \n",
      "\n",
      "Network architecture:\n",
      "Sequential(\n",
      "  (0): IdentityModule()\n",
      "  (1): Sequential(\n",
      "    (0): Linear(in_features=1000, out_features=100, bias=True)\n",
      "    (1): ReLU()\n",
      "  )\n",
      "  (2): Linear(in_features=100, out_features=2, bias=True)\n",
      ")\n",
      "\n",
      "============================================================\n",
      "[13] Testing {'n_epochs': 5, 'batchnorm': False, 'dropout': 0, 'layer_out_dims': [1000, 100, 2], 'data_loader_config': {'batch_size': 256, 'num_workers': 1}, 'lr': 0.022267690733296888}\n",
      "============================================================\n"
     ]
    },
    {
     "name": "stderr",
     "output_type": "stream",
     "text": [
      "100%|██████████| 32/32 [00:00<00:00, 135.38it/s, avg_loss=1.96]\n"
     ]
    },
    {
     "name": "stdout",
     "output_type": "stream",
     "text": [
      "Saving model at iteration 0 with best score 0.973\n",
      "[E:0]\tTrain Loss: 0.501\tDev score: 0.973\n"
     ]
    },
    {
     "name": "stderr",
     "output_type": "stream",
     "text": [
      "100%|██████████| 32/32 [00:00<00:00, 121.54it/s, avg_loss=1.74]\n"
     ]
    },
    {
     "name": "stdout",
     "output_type": "stream",
     "text": [
      "Saving model at iteration 1 with best score 0.976\n"
     ]
    },
    {
     "name": "stderr",
     "output_type": "stream",
     "text": [
      "100%|██████████| 32/32 [00:00<00:00, 148.01it/s, avg_loss=1.67]\n",
      "100%|██████████| 32/32 [00:00<00:00, 144.09it/s, avg_loss=1.6]\n",
      "100%|██████████| 32/32 [00:00<00:00, 147.73it/s, avg_loss=1.53]\n"
     ]
    },
    {
     "name": "stdout",
     "output_type": "stream",
     "text": [
      "[E:4]\tTrain Loss: 0.391\tDev score: 0.928\n",
      "Restoring best model from iteration 1 with score 0.976\n",
      "Finished Training\n",
      "Accuracy: 0.976\n",
      "        y=1    y=2   \n",
      " l=1    224     2    \n",
      " l=2    22     752   \n",
      "F1: 0.949\n",
      "        y=1    y=2   \n",
      " l=1    224     2    \n",
      " l=2    22     752   \n",
      "\n",
      "Network architecture:\n",
      "Sequential(\n",
      "  (0): IdentityModule()\n",
      "  (1): Sequential(\n",
      "    (0): Linear(in_features=1000, out_features=10, bias=True)\n",
      "    (1): ReLU()\n",
      "  )\n",
      "  (2): Linear(in_features=10, out_features=2, bias=True)\n",
      ")\n",
      "\n",
      "============================================================\n",
      "[14] Testing {'n_epochs': 1, 'batchnorm': False, 'dropout': 0.5, 'layer_out_dims': [1000, 10, 2], 'data_loader_config': {'batch_size': 256, 'num_workers': 1}, 'lr': 0.007561031383400367}\n",
      "============================================================\n"
     ]
    },
    {
     "name": "stderr",
     "output_type": "stream",
     "text": [
      "100%|██████████| 32/32 [00:00<00:00, 168.30it/s, avg_loss=1.98]\n"
     ]
    },
    {
     "name": "stdout",
     "output_type": "stream",
     "text": [
      "Saving model at iteration 0 with best score 0.991\n",
      "[E:0]\tTrain Loss: 0.506\tDev score: 0.991\n",
      "Restoring best model from iteration 0 with score 0.991\n",
      "Finished Training\n",
      "Accuracy: 0.991\n",
      "        y=1    y=2   \n",
      " l=1    238     1    \n",
      " l=2     8     753   \n",
      "F1: 0.981\n",
      "        y=1    y=2   \n",
      " l=1    238     1    \n",
      " l=2     8     753   \n",
      "\n",
      "Network architecture:\n",
      "Sequential(\n",
      "  (0): IdentityModule()\n",
      "  (1): Sequential(\n",
      "    (0): Linear(in_features=1000, out_features=10, bias=True)\n",
      "    (1): ReLU()\n",
      "  )\n",
      "  (2): Linear(in_features=10, out_features=2, bias=True)\n",
      ")\n",
      "\n",
      "============================================================\n",
      "[15] Testing {'n_epochs': 10, 'batchnorm': False, 'dropout': 0.3, 'layer_out_dims': [1000, 10, 2], 'data_loader_config': {'batch_size': 256, 'num_workers': 1}, 'lr': 2.3005563286765607e-05}\n",
      "============================================================\n"
     ]
    },
    {
     "name": "stderr",
     "output_type": "stream",
     "text": [
      "100%|██████████| 32/32 [00:00<00:00, 167.46it/s, avg_loss=2.62]\n"
     ]
    },
    {
     "name": "stdout",
     "output_type": "stream",
     "text": [
      "Saving model at iteration 0 with best score 0.758\n",
      "[E:0]\tTrain Loss: 0.670\tDev score: 0.758\n"
     ]
    },
    {
     "name": "stderr",
     "output_type": "stream",
     "text": [
      "100%|██████████| 32/32 [00:00<00:00, 157.48it/s, avg_loss=2.6]\n",
      "100%|██████████| 32/32 [00:00<00:00, 157.90it/s, avg_loss=2.58]\n",
      "100%|██████████| 32/32 [00:00<00:00, 170.54it/s, avg_loss=2.56]\n",
      "100%|██████████| 32/32 [00:00<00:00, 170.27it/s, avg_loss=2.53]\n",
      "100%|██████████| 32/32 [00:00<00:00, 165.57it/s, avg_loss=2.51]\n"
     ]
    },
    {
     "name": "stdout",
     "output_type": "stream",
     "text": [
      "[E:5]\tTrain Loss: 0.643\tDev score: 0.754\n"
     ]
    },
    {
     "name": "stderr",
     "output_type": "stream",
     "text": [
      "100%|██████████| 32/32 [00:00<00:00, 169.41it/s, avg_loss=2.49]\n",
      "100%|██████████| 32/32 [00:00<00:00, 154.94it/s, avg_loss=2.47]\n",
      "100%|██████████| 32/32 [00:00<00:00, 148.83it/s, avg_loss=2.44]\n",
      "100%|██████████| 32/32 [00:00<00:00, 112.22it/s, avg_loss=2.42]\n"
     ]
    },
    {
     "name": "stdout",
     "output_type": "stream",
     "text": [
      "[E:9]\tTrain Loss: 0.620\tDev score: 0.754\n",
      "Restoring best model from iteration 0 with score 0.758\n",
      "Finished Training\n",
      "Accuracy: 0.758\n",
      "        y=1    y=2   \n",
      " l=1     7      3    \n",
      " l=2    239    751   \n",
      "F1: 0.055\n",
      "        y=1    y=2   \n",
      " l=1     7      3    \n",
      " l=2    239    751   \n",
      "\n",
      "Network architecture:\n",
      "Sequential(\n",
      "  (0): IdentityModule()\n",
      "  (1): Sequential(\n",
      "    (0): Linear(in_features=1000, out_features=10, bias=True)\n",
      "    (1): ReLU()\n",
      "  )\n",
      "  (2): Linear(in_features=10, out_features=2, bias=True)\n",
      ")\n",
      "\n",
      "============================================================\n",
      "[16] Testing {'n_epochs': 1, 'batchnorm': False, 'dropout': 0, 'layer_out_dims': [1000, 10, 2], 'data_loader_config': {'batch_size': 256, 'num_workers': 1}, 'lr': 9.272176167778152e-05}\n",
      "============================================================\n"
     ]
    },
    {
     "name": "stderr",
     "output_type": "stream",
     "text": [
      "100%|██████████| 32/32 [00:00<00:00, 170.33it/s, avg_loss=2.61]\n"
     ]
    },
    {
     "name": "stdout",
     "output_type": "stream",
     "text": [
      "Saving model at iteration 0 with best score 0.755\n",
      "[E:0]\tTrain Loss: 0.667\tDev score: 0.755\n",
      "Restoring best model from iteration 0 with score 0.755\n",
      "Finished Training\n",
      "Accuracy: 0.755\n",
      "        y=1    y=2   \n",
      " l=1     3      2    \n",
      " l=2    243    752   \n",
      "F1: 0.024\n",
      "        y=1    y=2   \n",
      " l=1     3      2    \n",
      " l=2    243    752   \n",
      "\n",
      "Network architecture:\n",
      "Sequential(\n",
      "  (0): IdentityModule()\n",
      "  (1): Sequential(\n",
      "    (0): Linear(in_features=1000, out_features=100, bias=True)\n",
      "    (1): ReLU()\n",
      "  )\n",
      "  (2): Linear(in_features=100, out_features=2, bias=True)\n",
      ")\n",
      "\n",
      "============================================================\n",
      "[17] Testing {'n_epochs': 10, 'batchnorm': False, 'dropout': 0, 'layer_out_dims': [1000, 100, 2], 'data_loader_config': {'batch_size': 256, 'num_workers': 1}, 'lr': 1.0175385317479292e-05}\n",
      "============================================================\n"
     ]
    },
    {
     "name": "stderr",
     "output_type": "stream",
     "text": [
      "100%|██████████| 32/32 [00:00<00:00, 140.56it/s, avg_loss=2.76]\n"
     ]
    },
    {
     "name": "stdout",
     "output_type": "stream",
     "text": [
      "Saving model at iteration 0 with best score 0.385\n",
      "[E:0]\tTrain Loss: 0.707\tDev score: 0.385\n"
     ]
    },
    {
     "name": "stderr",
     "output_type": "stream",
     "text": [
      "100%|██████████| 32/32 [00:00<00:00, 136.61it/s, avg_loss=2.72]\n"
     ]
    },
    {
     "name": "stdout",
     "output_type": "stream",
     "text": [
      "Saving model at iteration 1 with best score 0.536\n"
     ]
    },
    {
     "name": "stderr",
     "output_type": "stream",
     "text": [
      "100%|██████████| 32/32 [00:00<00:00, 142.91it/s, avg_loss=2.68]\n"
     ]
    },
    {
     "name": "stdout",
     "output_type": "stream",
     "text": [
      "Saving model at iteration 2 with best score 0.686\n"
     ]
    },
    {
     "name": "stderr",
     "output_type": "stream",
     "text": [
      "100%|██████████| 32/32 [00:00<00:00, 108.42it/s, avg_loss=2.65]\n"
     ]
    },
    {
     "name": "stdout",
     "output_type": "stream",
     "text": [
      "Saving model at iteration 3 with best score 0.744\n"
     ]
    },
    {
     "name": "stderr",
     "output_type": "stream",
     "text": [
      "100%|██████████| 32/32 [00:00<00:00, 109.75it/s, avg_loss=2.61]\n"
     ]
    },
    {
     "name": "stdout",
     "output_type": "stream",
     "text": [
      "Saving model at iteration 4 with best score 0.769\n"
     ]
    },
    {
     "name": "stderr",
     "output_type": "stream",
     "text": [
      "100%|██████████| 32/32 [00:00<00:00, 139.59it/s, avg_loss=2.57]\n"
     ]
    },
    {
     "name": "stdout",
     "output_type": "stream",
     "text": [
      "Saving model at iteration 5 with best score 0.772\n",
      "[E:5]\tTrain Loss: 0.659\tDev score: 0.772\n"
     ]
    },
    {
     "name": "stderr",
     "output_type": "stream",
     "text": [
      "100%|██████████| 32/32 [00:00<00:00, 132.96it/s, avg_loss=2.54]\n",
      "100%|██████████| 32/32 [00:00<00:00, 138.42it/s, avg_loss=2.5]\n",
      "100%|██████████| 32/32 [00:00<00:00, 146.17it/s, avg_loss=2.47]\n",
      "100%|██████████| 32/32 [00:00<00:00, 142.88it/s, avg_loss=2.43]\n"
     ]
    },
    {
     "name": "stdout",
     "output_type": "stream",
     "text": [
      "[E:9]\tTrain Loss: 0.623\tDev score: 0.758\n",
      "Restoring best model from iteration 5 with score 0.772\n",
      "Finished Training\n",
      "Accuracy: 0.772\n",
      "        y=1    y=2   \n",
      " l=1    25      7    \n",
      " l=2    221    747   \n",
      "F1: 0.180\n",
      "        y=1    y=2   \n",
      " l=1    25      7    \n",
      " l=2    221    747   \n",
      "\n",
      "Network architecture:\n",
      "Sequential(\n",
      "  (0): IdentityModule()\n",
      "  (1): Sequential(\n",
      "    (0): Linear(in_features=1000, out_features=100, bias=True)\n",
      "    (1): ReLU()\n",
      "  )\n",
      "  (2): Linear(in_features=100, out_features=2, bias=True)\n",
      ")\n",
      "\n",
      "============================================================\n",
      "[18] Testing {'n_epochs': 5, 'batchnorm': True, 'dropout': 0.3, 'layer_out_dims': [1000, 100, 2], 'data_loader_config': {'batch_size': 256, 'num_workers': 1}, 'lr': 0.07210322639680222}\n",
      "============================================================\n"
     ]
    },
    {
     "name": "stderr",
     "output_type": "stream",
     "text": [
      "100%|██████████| 32/32 [00:00<00:00, 144.25it/s, avg_loss=2.88]\n"
     ]
    },
    {
     "name": "stdout",
     "output_type": "stream",
     "text": [
      "Saving model at iteration 0 with best score 0.754\n",
      "[E:0]\tTrain Loss: 0.738\tDev score: 0.754\n"
     ]
    },
    {
     "name": "stderr",
     "output_type": "stream",
     "text": [
      "100%|██████████| 32/32 [00:00<00:00, 142.17it/s, avg_loss=2.25]\n",
      "100%|██████████| 32/32 [00:00<00:00, 148.12it/s, avg_loss=2.25]\n",
      "100%|██████████| 32/32 [00:00<00:00, 112.88it/s, avg_loss=2.25]\n",
      "100%|██████████| 32/32 [00:00<00:00, 123.19it/s, avg_loss=2.24]\n"
     ]
    },
    {
     "name": "stdout",
     "output_type": "stream",
     "text": [
      "[E:4]\tTrain Loss: 0.575\tDev score: 0.754\n",
      "Restoring best model from iteration 0 with score 0.754\n",
      "Finished Training\n",
      "Accuracy: 0.754\n",
      "        y=1    y=2   \n",
      " l=1     0      0    \n",
      " l=2    246    754   \n",
      "F1: 0.000\n",
      "        y=1    y=2   \n",
      " l=1     0      0    \n",
      " l=2    246    754   \n",
      "\n",
      "Network architecture:\n",
      "Sequential(\n",
      "  (0): IdentityModule()\n",
      "  (1): Sequential(\n",
      "    (0): Linear(in_features=1000, out_features=10, bias=True)\n",
      "    (1): ReLU()\n",
      "  )\n",
      "  (2): Linear(in_features=10, out_features=2, bias=True)\n",
      ")\n",
      "\n",
      "============================================================\n",
      "[19] Testing {'n_epochs': 10, 'batchnorm': True, 'dropout': 0.4, 'layer_out_dims': [1000, 10, 2], 'data_loader_config': {'batch_size': 256, 'num_workers': 1}, 'lr': 0.003860152812810654}\n",
      "============================================================\n"
     ]
    },
    {
     "name": "stderr",
     "output_type": "stream",
     "text": [
      "100%|██████████| 32/32 [00:00<00:00, 148.13it/s, avg_loss=2.05]\n"
     ]
    },
    {
     "name": "stdout",
     "output_type": "stream",
     "text": [
      "Saving model at iteration 0 with best score 0.986\n",
      "[E:0]\tTrain Loss: 0.526\tDev score: 0.986\n"
     ]
    },
    {
     "name": "stderr",
     "output_type": "stream",
     "text": [
      "100%|██████████| 32/32 [00:00<00:00, 149.05it/s, avg_loss=1.8]\n"
     ]
    },
    {
     "name": "stdout",
     "output_type": "stream",
     "text": [
      "Saving model at iteration 1 with best score 0.987\n"
     ]
    },
    {
     "name": "stderr",
     "output_type": "stream",
     "text": [
      "100%|██████████| 32/32 [00:00<00:00, 138.53it/s, avg_loss=1.77]\n",
      "100%|██████████| 32/32 [00:00<00:00, 109.13it/s, avg_loss=1.73]\n",
      "100%|██████████| 32/32 [00:00<00:00, 127.38it/s, avg_loss=1.71]\n",
      "100%|██████████| 32/32 [00:00<00:00, 126.15it/s, avg_loss=1.69]\n"
     ]
    },
    {
     "name": "stdout",
     "output_type": "stream",
     "text": [
      "[E:5]\tTrain Loss: 0.432\tDev score: 0.974\n"
     ]
    },
    {
     "name": "stderr",
     "output_type": "stream",
     "text": [
      "100%|██████████| 32/32 [00:00<00:00, 138.62it/s, avg_loss=1.67]\n",
      "100%|██████████| 32/32 [00:00<00:00, 146.60it/s, avg_loss=1.65]\n",
      "100%|██████████| 32/32 [00:00<00:00, 92.42it/s, avg_loss=1.64]\n",
      "100%|██████████| 32/32 [00:00<00:00, 121.75it/s, avg_loss=1.62]\n"
     ]
    },
    {
     "name": "stdout",
     "output_type": "stream",
     "text": [
      "[E:9]\tTrain Loss: 0.414\tDev score: 0.930\n",
      "Restoring best model from iteration 1 with score 0.987\n",
      "Finished Training\n",
      "Accuracy: 0.987\n",
      "        y=1    y=2   \n",
      " l=1    234     1    \n",
      " l=2    12     753   \n",
      "F1: 0.973\n",
      "        y=1    y=2   \n",
      " l=1    234     1    \n",
      " l=2    12     753   \n",
      "============================================================\n",
      "[SUMMARY]\n",
      "Best model: [8]\n",
      "Best config: {'n_epochs': 10, 'batchnorm': False, 'dropout': 0.1, 'layer_out_dims': [1000, 100, 2], 'print_every': 5, 'data_loader_config': {'batch_size': 256, 'num_workers': 1}, 'lr': 0.003970906941573151, 'seed': 131}\n",
      "Best score: 0.9959349593495935\n",
      "============================================================\n",
      "\n",
      "Network architecture:\n",
      "Sequential(\n",
      "  (0): IdentityModule()\n",
      "  (1): Sequential(\n",
      "    (0): Linear(in_features=1000, out_features=100, bias=True)\n",
      "    (1): ReLU()\n",
      "  )\n",
      "  (2): Linear(in_features=100, out_features=2, bias=True)\n",
      ")\n",
      "\n",
      "============================================================\n",
      "[0_0] Testing {'n_epochs': 1, 'batchnorm': True, 'dropout': 0.4, 'layer_out_dims': [1000, 100, 2], 'data_loader_config': {'batch_size': 256, 'num_workers': 1}, 'lr': 4.624229978283888e-05}\n",
      "============================================================\n"
     ]
    },
    {
     "name": "stderr",
     "output_type": "stream",
     "text": [
      "100%|██████████| 32/32 [00:00<00:00, 93.97it/s, avg_loss=2.57]\n"
     ]
    },
    {
     "name": "stdout",
     "output_type": "stream",
     "text": [
      "Saving model at iteration 0 with best score 0.754\n",
      "[E:0]\tTrain Loss: 0.657\tDev score: 0.754\n",
      "Restoring best model from iteration 0 with score 0.754\n",
      "Finished Training\n",
      "Accuracy: 0.754\n",
      "        y=1    y=2   \n",
      " l=1     0      0    \n",
      " l=2    246    754   \n",
      "F1: 0.000\n",
      "        y=1    y=2   \n",
      " l=1     0      0    \n",
      " l=2    246    754   \n",
      "\n",
      "Network architecture:\n",
      "Sequential(\n",
      "  (0): IdentityModule()\n",
      "  (1): Sequential(\n",
      "    (0): Linear(in_features=1000, out_features=10, bias=True)\n",
      "    (1): ReLU()\n",
      "  )\n",
      "  (2): Linear(in_features=10, out_features=2, bias=True)\n",
      ")\n",
      "\n",
      "============================================================\n",
      "[0_1] Testing {'n_epochs': 1, 'batchnorm': False, 'dropout': 0.2, 'layer_out_dims': [1000, 10, 2], 'data_loader_config': {'batch_size': 256, 'num_workers': 1}, 'lr': 2.3824193576331065e-05}\n",
      "============================================================\n"
     ]
    },
    {
     "name": "stderr",
     "output_type": "stream",
     "text": [
      "100%|██████████| 32/32 [00:00<00:00, 120.26it/s, avg_loss=2.4]\n"
     ]
    },
    {
     "name": "stdout",
     "output_type": "stream",
     "text": [
      "Saving model at iteration 0 with best score 0.754\n",
      "[E:0]\tTrain Loss: 0.614\tDev score: 0.754\n",
      "Restoring best model from iteration 0 with score 0.754\n",
      "Finished Training\n",
      "Accuracy: 0.754\n",
      "        y=1    y=2   \n",
      " l=1     0      0    \n",
      " l=2    246    754   \n",
      "F1: 0.000\n",
      "        y=1    y=2   \n",
      " l=1     0      0    \n",
      " l=2    246    754   \n",
      "\n",
      "Network architecture:\n",
      "Sequential(\n",
      "  (0): IdentityModule()\n",
      "  (1): Sequential(\n",
      "    (0): Linear(in_features=1000, out_features=10, bias=True)\n",
      "    (1): ReLU()\n",
      "  )\n",
      "  (2): Linear(in_features=10, out_features=2, bias=True)\n",
      ")\n",
      "\n",
      "============================================================\n",
      "[0_2] Testing {'n_epochs': 1, 'batchnorm': False, 'dropout': 0.1, 'layer_out_dims': [1000, 10, 2], 'data_loader_config': {'batch_size': 256, 'num_workers': 1}, 'lr': 0.0004352789269567879}\n",
      "============================================================\n"
     ]
    },
    {
     "name": "stderr",
     "output_type": "stream",
     "text": [
      "100%|██████████| 32/32 [00:00<00:00, 124.74it/s, avg_loss=2.55]\n"
     ]
    },
    {
     "name": "stdout",
     "output_type": "stream",
     "text": [
      "Saving model at iteration 0 with best score 0.754\n",
      "[E:0]\tTrain Loss: 0.654\tDev score: 0.754\n",
      "Restoring best model from iteration 0 with score 0.754\n",
      "Finished Training\n",
      "Accuracy: 0.754\n",
      "        y=1    y=2   \n",
      " l=1     0      0    \n",
      " l=2    246    754   \n",
      "F1: 0.000\n",
      "        y=1    y=2   \n",
      " l=1     0      0    \n",
      " l=2    246    754   \n",
      "\n",
      "Network architecture:\n",
      "Sequential(\n",
      "  (0): IdentityModule()\n",
      "  (1): Sequential(\n",
      "    (0): Linear(in_features=1000, out_features=100, bias=True)\n",
      "    (1): ReLU()\n",
      "  )\n",
      "  (2): Linear(in_features=100, out_features=2, bias=True)\n",
      ")\n",
      "\n",
      "============================================================\n",
      "[0_3] Testing {'n_epochs': 1, 'batchnorm': False, 'dropout': 0.1, 'layer_out_dims': [1000, 100, 2], 'data_loader_config': {'batch_size': 256, 'num_workers': 1}, 'lr': 0.000123454176325654}\n",
      "============================================================\n"
     ]
    },
    {
     "name": "stderr",
     "output_type": "stream",
     "text": [
      "100%|██████████| 32/32 [00:00<00:00, 107.38it/s, avg_loss=2.52]\n"
     ]
    },
    {
     "name": "stdout",
     "output_type": "stream",
     "text": [
      "Saving model at iteration 0 with best score 0.754\n",
      "[E:0]\tTrain Loss: 0.644\tDev score: 0.754\n",
      "Restoring best model from iteration 0 with score 0.754\n",
      "Finished Training\n",
      "Accuracy: 0.754\n",
      "        y=1    y=2   \n",
      " l=1     0      0    \n",
      " l=2    246    754   \n",
      "F1: 0.000\n",
      "        y=1    y=2   \n",
      " l=1     0      0    \n",
      " l=2    246    754   \n",
      "\n",
      "Network architecture:\n",
      "Sequential(\n",
      "  (0): IdentityModule()\n",
      "  (1): Sequential(\n",
      "    (0): Linear(in_features=1000, out_features=100, bias=True)\n",
      "    (1): ReLU()\n",
      "  )\n",
      "  (2): Linear(in_features=100, out_features=2, bias=True)\n",
      ")\n",
      "\n",
      "============================================================\n",
      "[0_4] Testing {'n_epochs': 1, 'batchnorm': False, 'dropout': 0.3, 'layer_out_dims': [1000, 100, 2], 'data_loader_config': {'batch_size': 256, 'num_workers': 1}, 'lr': 0.9197451862527172}\n",
      "============================================================\n"
     ]
    },
    {
     "name": "stderr",
     "output_type": "stream",
     "text": [
      "100%|██████████| 32/32 [00:00<00:00, 108.91it/s, avg_loss=90.1]\n"
     ]
    },
    {
     "name": "stdout",
     "output_type": "stream",
     "text": [
      "Saving model at iteration 0 with best score 0.755\n",
      "[E:0]\tTrain Loss: 23.064\tDev score: 0.755\n",
      "Restoring best model from iteration 0 with score 0.755\n",
      "Finished Training\n",
      "Accuracy: 0.755\n",
      "        y=1    y=2   \n",
      " l=1     1      0    \n",
      " l=2    245    754   \n",
      "F1: 0.008\n",
      "        y=1    y=2   \n",
      " l=1     1      0    \n",
      " l=2    245    754   \n",
      "\n",
      "Network architecture:\n",
      "Sequential(\n",
      "  (0): IdentityModule()\n",
      "  (1): Sequential(\n",
      "    (0): Linear(in_features=1000, out_features=10, bias=True)\n",
      "    (1): ReLU()\n",
      "  )\n",
      "  (2): Linear(in_features=10, out_features=2, bias=True)\n",
      ")\n",
      "\n",
      "============================================================\n",
      "[0_5] Testing {'n_epochs': 1, 'batchnorm': True, 'dropout': 0.4, 'layer_out_dims': [1000, 10, 2], 'data_loader_config': {'batch_size': 256, 'num_workers': 1}, 'lr': 6.459779586288306e-05}\n",
      "============================================================\n"
     ]
    },
    {
     "name": "stderr",
     "output_type": "stream",
     "text": [
      "100%|██████████| 32/32 [00:00<00:00, 143.87it/s, avg_loss=2.58]\n"
     ]
    },
    {
     "name": "stdout",
     "output_type": "stream",
     "text": [
      "Saving model at iteration 0 with best score 0.750\n",
      "[E:0]\tTrain Loss: 0.662\tDev score: 0.750\n",
      "Restoring best model from iteration 0 with score 0.750\n",
      "Finished Training\n",
      "Accuracy: 0.750\n",
      "        y=1    y=2   \n",
      " l=1     0      4    \n",
      " l=2    246    750   \n",
      "F1: 0.000\n",
      "        y=1    y=2   \n",
      " l=1     0      4    \n",
      " l=2    246    750   \n",
      "\n",
      "Network architecture:\n",
      "Sequential(\n",
      "  (0): IdentityModule()\n",
      "  (1): Sequential(\n",
      "    (0): Linear(in_features=1000, out_features=100, bias=True)\n",
      "    (1): ReLU()\n",
      "  )\n",
      "  (2): Linear(in_features=100, out_features=2, bias=True)\n",
      ")\n",
      "\n",
      "============================================================\n",
      "[0_6] Testing {'n_epochs': 1, 'batchnorm': True, 'dropout': 0.1, 'layer_out_dims': [1000, 100, 2], 'data_loader_config': {'batch_size': 256, 'num_workers': 1}, 'lr': 7.425097452562551e-05}\n",
      "============================================================\n"
     ]
    },
    {
     "name": "stderr",
     "output_type": "stream",
     "text": [
      "100%|██████████| 32/32 [00:00<00:00, 119.02it/s, avg_loss=2.61]\n"
     ]
    },
    {
     "name": "stdout",
     "output_type": "stream",
     "text": [
      "Saving model at iteration 0 with best score 0.758\n",
      "[E:0]\tTrain Loss: 0.668\tDev score: 0.758\n",
      "Restoring best model from iteration 0 with score 0.758\n",
      "Finished Training\n",
      "Accuracy: 0.758\n",
      "        y=1    y=2   \n",
      " l=1     4      0    \n",
      " l=2    242    754   \n",
      "F1: 0.032\n",
      "        y=1    y=2   \n",
      " l=1     4      0    \n",
      " l=2    242    754   \n",
      "\n",
      "Network architecture:\n",
      "Sequential(\n",
      "  (0): IdentityModule()\n",
      "  (1): Sequential(\n",
      "    (0): Linear(in_features=1000, out_features=10, bias=True)\n",
      "    (1): ReLU()\n",
      "  )\n",
      "  (2): Linear(in_features=10, out_features=2, bias=True)\n",
      ")\n",
      "\n",
      "============================================================\n",
      "[0_7] Testing {'n_epochs': 1, 'batchnorm': True, 'dropout': 0.5, 'layer_out_dims': [1000, 10, 2], 'data_loader_config': {'batch_size': 256, 'num_workers': 1}, 'lr': 0.051193459509736326}\n",
      "============================================================\n"
     ]
    },
    {
     "name": "stderr",
     "output_type": "stream",
     "text": [
      "100%|██████████| 32/32 [00:00<00:00, 156.43it/s, avg_loss=1.9]\n"
     ]
    },
    {
     "name": "stdout",
     "output_type": "stream",
     "text": [
      "Saving model at iteration 0 with best score 0.972\n",
      "[E:0]\tTrain Loss: 0.487\tDev score: 0.972\n",
      "Restoring best model from iteration 0 with score 0.972\n",
      "Finished Training\n",
      "Accuracy: 0.972\n",
      "        y=1    y=2   \n",
      " l=1    219     1    \n",
      " l=2    27     753   \n",
      "F1: 0.940\n",
      "        y=1    y=2   \n",
      " l=1    219     1    \n",
      " l=2    27     753   \n",
      "\n",
      "Network architecture:\n",
      "Sequential(\n",
      "  (0): IdentityModule()\n",
      "  (1): Sequential(\n",
      "    (0): Linear(in_features=1000, out_features=100, bias=True)\n",
      "    (1): ReLU()\n",
      "  )\n",
      "  (2): Linear(in_features=100, out_features=2, bias=True)\n",
      ")\n",
      "\n",
      "============================================================\n",
      "[0_8] Testing {'n_epochs': 1, 'batchnorm': True, 'dropout': 0.5, 'layer_out_dims': [1000, 100, 2], 'data_loader_config': {'batch_size': 256, 'num_workers': 1}, 'lr': 0.008687963391291976}\n",
      "============================================================\n"
     ]
    },
    {
     "name": "stderr",
     "output_type": "stream",
     "text": [
      "100%|██████████| 32/32 [00:00<00:00, 135.17it/s, avg_loss=1.92]\n"
     ]
    },
    {
     "name": "stdout",
     "output_type": "stream",
     "text": [
      "Saving model at iteration 0 with best score 0.973\n",
      "[E:0]\tTrain Loss: 0.491\tDev score: 0.973\n",
      "Restoring best model from iteration 0 with score 0.973\n",
      "Finished Training\n",
      "Accuracy: 0.973\n",
      "        y=1    y=2   \n",
      " l=1    220     1    \n",
      " l=2    26     753   \n",
      "F1: 0.942\n",
      "        y=1    y=2   \n",
      " l=1    220     1    \n",
      " l=2    26     753   \n",
      "\n",
      "Network architecture:\n",
      "Sequential(\n",
      "  (0): IdentityModule()\n",
      "  (1): Sequential(\n",
      "    (0): Linear(in_features=1000, out_features=10, bias=True)\n",
      "    (1): ReLU()\n",
      "  )\n",
      "  (2): Linear(in_features=10, out_features=2, bias=True)\n",
      ")\n",
      "\n",
      "============================================================\n",
      "[0_9] Testing {'n_epochs': 1, 'batchnorm': False, 'dropout': 0, 'layer_out_dims': [1000, 10, 2], 'data_loader_config': {'batch_size': 256, 'num_workers': 1}, 'lr': 0.006235324635557636}\n",
      "============================================================\n"
     ]
    },
    {
     "name": "stderr",
     "output_type": "stream",
     "text": [
      "100%|██████████| 32/32 [00:00<00:00, 158.10it/s, avg_loss=1.91]\n"
     ]
    },
    {
     "name": "stdout",
     "output_type": "stream",
     "text": [
      "Saving model at iteration 0 with best score 0.998\n",
      "[E:0]\tTrain Loss: 0.489\tDev score: 0.998\n",
      "Restoring best model from iteration 0 with score 0.998\n",
      "Finished Training\n",
      "Accuracy: 0.998\n",
      "        y=1    y=2   \n",
      " l=1    245     1    \n",
      " l=2     1     753   \n",
      "F1: 0.996\n",
      "        y=1    y=2   \n",
      " l=1    245     1    \n",
      " l=2     1     753   \n",
      "\n",
      "Network architecture:\n",
      "Sequential(\n",
      "  (0): IdentityModule()\n",
      "  (1): Sequential(\n",
      "    (0): Linear(in_features=1000, out_features=100, bias=True)\n",
      "    (1): ReLU()\n",
      "  )\n",
      "  (2): Linear(in_features=100, out_features=2, bias=True)\n",
      ")\n",
      "\n",
      "============================================================\n",
      "[0_10] Testing {'n_epochs': 1, 'batchnorm': True, 'dropout': 0.2, 'layer_out_dims': [1000, 100, 2], 'data_loader_config': {'batch_size': 256, 'num_workers': 1}, 'lr': 0.0010815460964208876}\n",
      "============================================================\n"
     ]
    },
    {
     "name": "stderr",
     "output_type": "stream",
     "text": [
      "100%|██████████| 32/32 [00:00<00:00, 140.83it/s, avg_loss=2.07]\n"
     ]
    },
    {
     "name": "stdout",
     "output_type": "stream",
     "text": [
      "Saving model at iteration 0 with best score 0.987\n",
      "[E:0]\tTrain Loss: 0.529\tDev score: 0.987\n",
      "Restoring best model from iteration 0 with score 0.987\n",
      "Finished Training\n",
      "Accuracy: 0.987\n",
      "        y=1    y=2   \n",
      " l=1    233     0    \n",
      " l=2    13     754   \n",
      "F1: 0.973\n",
      "        y=1    y=2   \n",
      " l=1    233     0    \n",
      " l=2    13     754   \n",
      "\n",
      "Network architecture:\n",
      "Sequential(\n",
      "  (0): IdentityModule()\n",
      "  (1): Sequential(\n",
      "    (0): Linear(in_features=1000, out_features=100, bias=True)\n",
      "    (1): ReLU()\n",
      "  )\n",
      "  (2): Linear(in_features=100, out_features=2, bias=True)\n",
      ")\n",
      "\n",
      "============================================================\n",
      "[0_11] Testing {'n_epochs': 1, 'batchnorm': False, 'dropout': 0.5, 'layer_out_dims': [1000, 100, 2], 'data_loader_config': {'batch_size': 256, 'num_workers': 1}, 'lr': 0.0012466175605103217}\n",
      "============================================================\n"
     ]
    },
    {
     "name": "stderr",
     "output_type": "stream",
     "text": [
      "100%|██████████| 32/32 [00:00<00:00, 141.15it/s, avg_loss=2]\n"
     ]
    },
    {
     "name": "stdout",
     "output_type": "stream",
     "text": [
      "Saving model at iteration 0 with best score 0.998\n",
      "[E:0]\tTrain Loss: 0.513\tDev score: 0.998\n",
      "Restoring best model from iteration 0 with score 0.998\n",
      "Finished Training\n",
      "Accuracy: 0.998\n",
      "        y=1    y=2   \n",
      " l=1    244     0    \n",
      " l=2     2     754   \n",
      "F1: 0.996\n",
      "        y=1    y=2   \n",
      " l=1    244     0    \n",
      " l=2     2     754   \n",
      "\n",
      "Network architecture:\n",
      "Sequential(\n",
      "  (0): IdentityModule()\n",
      "  (1): Sequential(\n",
      "    (0): Linear(in_features=1000, out_features=100, bias=True)\n",
      "    (1): ReLU()\n",
      "  )\n",
      "  (2): Linear(in_features=100, out_features=2, bias=True)\n",
      ")\n",
      "\n",
      "============================================================\n",
      "[0_12] Testing {'n_epochs': 1, 'batchnorm': False, 'dropout': 0, 'layer_out_dims': [1000, 100, 2], 'data_loader_config': {'batch_size': 256, 'num_workers': 1}, 'lr': 0.0068101239577057}\n",
      "============================================================\n"
     ]
    },
    {
     "name": "stderr",
     "output_type": "stream",
     "text": [
      "100%|██████████| 32/32 [00:00<00:00, 127.97it/s, avg_loss=1.89]\n"
     ]
    },
    {
     "name": "stdout",
     "output_type": "stream",
     "text": [
      "Saving model at iteration 0 with best score 0.961\n",
      "[E:0]\tTrain Loss: 0.485\tDev score: 0.961\n",
      "Restoring best model from iteration 0 with score 0.961\n",
      "Finished Training\n",
      "Accuracy: 0.961\n",
      "        y=1    y=2   \n",
      " l=1    207     0    \n",
      " l=2    39     754   \n",
      "F1: 0.914\n",
      "        y=1    y=2   \n",
      " l=1    207     0    \n",
      " l=2    39     754   \n",
      "\n",
      "Network architecture:\n",
      "Sequential(\n",
      "  (0): IdentityModule()\n",
      "  (1): Sequential(\n",
      "    (0): Linear(in_features=1000, out_features=100, bias=True)\n",
      "    (1): ReLU()\n",
      "  )\n",
      "  (2): Linear(in_features=100, out_features=2, bias=True)\n",
      ")\n",
      "\n",
      "============================================================\n",
      "[0_13] Testing {'n_epochs': 1, 'batchnorm': True, 'dropout': 0.1, 'layer_out_dims': [1000, 100, 2], 'data_loader_config': {'batch_size': 256, 'num_workers': 1}, 'lr': 0.01751209712582007}\n",
      "============================================================\n"
     ]
    },
    {
     "name": "stderr",
     "output_type": "stream",
     "text": [
      "100%|██████████| 32/32 [00:00<00:00, 140.99it/s, avg_loss=1.91]\n"
     ]
    },
    {
     "name": "stdout",
     "output_type": "stream",
     "text": [
      "Saving model at iteration 0 with best score 0.978\n",
      "[E:0]\tTrain Loss: 0.488\tDev score: 0.978\n",
      "Restoring best model from iteration 0 with score 0.978\n",
      "Finished Training\n",
      "Accuracy: 0.978\n",
      "        y=1    y=2   \n",
      " l=1    225     1    \n",
      " l=2    21     753   \n",
      "F1: 0.953\n",
      "        y=1    y=2   \n",
      " l=1    225     1    \n",
      " l=2    21     753   \n",
      "\n",
      "Network architecture:\n",
      "Sequential(\n",
      "  (0): IdentityModule()\n",
      "  (1): Sequential(\n",
      "    (0): Linear(in_features=1000, out_features=10, bias=True)\n",
      "    (1): ReLU()\n",
      "  )\n",
      "  (2): Linear(in_features=10, out_features=2, bias=True)\n",
      ")\n",
      "\n",
      "============================================================\n",
      "[0_14] Testing {'n_epochs': 1, 'batchnorm': True, 'dropout': 0.3, 'layer_out_dims': [1000, 10, 2], 'data_loader_config': {'batch_size': 256, 'num_workers': 1}, 'lr': 0.001266399031265807}\n",
      "============================================================\n"
     ]
    },
    {
     "name": "stderr",
     "output_type": "stream",
     "text": [
      "100%|██████████| 32/32 [00:00<00:00, 167.67it/s, avg_loss=2.35]\n"
     ]
    },
    {
     "name": "stdout",
     "output_type": "stream",
     "text": [
      "Saving model at iteration 0 with best score 0.755\n",
      "[E:0]\tTrain Loss: 0.603\tDev score: 0.755\n",
      "Restoring best model from iteration 0 with score 0.755\n",
      "Finished Training\n",
      "Accuracy: 0.755\n",
      "        y=1    y=2   \n",
      " l=1     1      0    \n",
      " l=2    245    754   \n",
      "F1: 0.008\n",
      "        y=1    y=2   \n",
      " l=1     1      0    \n",
      " l=2    245    754   \n",
      "\n",
      "Network architecture:\n",
      "Sequential(\n",
      "  (0): IdentityModule()\n",
      "  (1): Sequential(\n",
      "    (0): Linear(in_features=1000, out_features=10, bias=True)\n",
      "    (1): ReLU()\n",
      "  )\n",
      "  (2): Linear(in_features=10, out_features=2, bias=True)\n",
      ")\n",
      "\n",
      "============================================================\n",
      "[0_15] Testing {'n_epochs': 1, 'batchnorm': False, 'dropout': 0.3, 'layer_out_dims': [1000, 10, 2], 'data_loader_config': {'batch_size': 256, 'num_workers': 1}, 'lr': 0.00031143445068504736}\n",
      "============================================================\n"
     ]
    },
    {
     "name": "stderr",
     "output_type": "stream",
     "text": [
      "100%|██████████| 32/32 [00:00<00:00, 161.88it/s, avg_loss=2.5]\n"
     ]
    },
    {
     "name": "stdout",
     "output_type": "stream",
     "text": [
      "Saving model at iteration 0 with best score 0.754\n",
      "[E:0]\tTrain Loss: 0.639\tDev score: 0.754\n",
      "Restoring best model from iteration 0 with score 0.754\n",
      "Finished Training\n",
      "Accuracy: 0.754\n",
      "        y=1    y=2   \n",
      " l=1     0      0    \n",
      " l=2    246    754   \n",
      "F1: 0.000\n",
      "        y=1    y=2   \n",
      " l=1     0      0    \n",
      " l=2    246    754   \n",
      "\n",
      "Network architecture:\n",
      "Sequential(\n",
      "  (0): IdentityModule()\n",
      "  (1): Sequential(\n",
      "    (0): Linear(in_features=1000, out_features=100, bias=True)\n",
      "    (1): ReLU()\n",
      "  )\n",
      "  (2): Linear(in_features=100, out_features=2, bias=True)\n",
      ")\n",
      "\n",
      "============================================================\n",
      "[0_16] Testing {'n_epochs': 1, 'batchnorm': True, 'dropout': 0.3, 'layer_out_dims': [1000, 100, 2], 'data_loader_config': {'batch_size': 256, 'num_workers': 1}, 'lr': 0.002831832397076143}\n",
      "============================================================\n"
     ]
    },
    {
     "name": "stderr",
     "output_type": "stream",
     "text": [
      "100%|██████████| 32/32 [00:00<00:00, 148.98it/s, avg_loss=1.93]\n"
     ]
    },
    {
     "name": "stdout",
     "output_type": "stream",
     "text": [
      "Saving model at iteration 0 with best score 0.998\n",
      "[E:0]\tTrain Loss: 0.495\tDev score: 0.998\n",
      "Restoring best model from iteration 0 with score 0.998\n",
      "Finished Training\n",
      "Accuracy: 0.998\n",
      "        y=1    y=2   \n",
      " l=1    245     1    \n",
      " l=2     1     753   \n",
      "F1: 0.996\n",
      "        y=1    y=2   \n",
      " l=1    245     1    \n",
      " l=2     1     753   \n",
      "\n",
      "Network architecture:\n",
      "Sequential(\n",
      "  (0): IdentityModule()\n",
      "  (1): Sequential(\n",
      "    (0): Linear(in_features=1000, out_features=100, bias=True)\n",
      "    (1): ReLU()\n",
      "  )\n",
      "  (2): Linear(in_features=100, out_features=2, bias=True)\n",
      ")\n",
      "\n",
      "============================================================\n",
      "[0_17] Testing {'n_epochs': 1, 'batchnorm': True, 'dropout': 0.4, 'layer_out_dims': [1000, 100, 2], 'data_loader_config': {'batch_size': 256, 'num_workers': 1}, 'lr': 0.22011083143351787}\n",
      "============================================================\n"
     ]
    },
    {
     "name": "stderr",
     "output_type": "stream",
     "text": [
      "100%|██████████| 32/32 [00:00<00:00, 110.16it/s, avg_loss=8.19]\n"
     ]
    },
    {
     "name": "stdout",
     "output_type": "stream",
     "text": [
      "Saving model at iteration 0 with best score 0.754\n",
      "[E:0]\tTrain Loss: 2.097\tDev score: 0.754\n",
      "Restoring best model from iteration 0 with score 0.754\n",
      "Finished Training\n",
      "Accuracy: 0.754\n",
      "        y=1    y=2   \n",
      " l=1     0      0    \n",
      " l=2    246    754   \n",
      "F1: 0.000\n",
      "        y=1    y=2   \n",
      " l=1     0      0    \n",
      " l=2    246    754   \n",
      "\n",
      "Network architecture:\n",
      "Sequential(\n",
      "  (0): IdentityModule()\n",
      "  (1): Sequential(\n",
      "    (0): Linear(in_features=1000, out_features=10, bias=True)\n",
      "    (1): ReLU()\n",
      "  )\n",
      "  (2): Linear(in_features=10, out_features=2, bias=True)\n",
      ")\n",
      "\n",
      "============================================================\n",
      "[0_18] Testing {'n_epochs': 1, 'batchnorm': True, 'dropout': 0.1, 'layer_out_dims': [1000, 10, 2], 'data_loader_config': {'batch_size': 256, 'num_workers': 1}, 'lr': 0.14221205603963122}\n",
      "============================================================\n"
     ]
    },
    {
     "name": "stderr",
     "output_type": "stream",
     "text": [
      "100%|██████████| 32/32 [00:00<00:00, 164.96it/s, avg_loss=2.57]\n"
     ]
    },
    {
     "name": "stdout",
     "output_type": "stream",
     "text": [
      "Saving model at iteration 0 with best score 0.754\n",
      "[E:0]\tTrain Loss: 0.657\tDev score: 0.754\n",
      "Restoring best model from iteration 0 with score 0.754\n",
      "Finished Training\n",
      "Accuracy: 0.754\n",
      "        y=1    y=2   \n",
      " l=1     0      0    \n",
      " l=2    246    754   \n",
      "F1: 0.000\n",
      "        y=1    y=2   \n",
      " l=1     0      0    \n",
      " l=2    246    754   \n",
      "\n",
      "Network architecture:\n",
      "Sequential(\n",
      "  (0): IdentityModule()\n",
      "  (1): Sequential(\n",
      "    (0): Linear(in_features=1000, out_features=100, bias=True)\n",
      "    (1): ReLU()\n",
      "  )\n",
      "  (2): Linear(in_features=100, out_features=2, bias=True)\n",
      ")\n",
      "\n",
      "============================================================\n",
      "[0_19] Testing {'n_epochs': 1, 'batchnorm': True, 'dropout': 0, 'layer_out_dims': [1000, 100, 2], 'data_loader_config': {'batch_size': 256, 'num_workers': 1}, 'lr': 0.02065427424933474}\n",
      "============================================================\n"
     ]
    },
    {
     "name": "stderr",
     "output_type": "stream",
     "text": [
      "100%|██████████| 32/32 [00:00<00:00, 147.16it/s, avg_loss=1.99]\n"
     ]
    },
    {
     "name": "stdout",
     "output_type": "stream",
     "text": [
      "Saving model at iteration 0 with best score 0.985\n",
      "[E:0]\tTrain Loss: 0.509\tDev score: 0.985\n",
      "Restoring best model from iteration 0 with score 0.985\n",
      "Finished Training\n",
      "Accuracy: 0.985\n",
      "        y=1    y=2   \n",
      " l=1    232     1    \n",
      " l=2    14     753   \n",
      "F1: 0.969\n",
      "        y=1    y=2   \n",
      " l=1    232     1    \n",
      " l=2    14     753   \n",
      "\n",
      "Network architecture:\n",
      "Sequential(\n",
      "  (0): IdentityModule()\n",
      "  (1): Sequential(\n",
      "    (0): Linear(in_features=1000, out_features=10, bias=True)\n",
      "    (1): ReLU()\n",
      "  )\n",
      "  (2): Linear(in_features=10, out_features=2, bias=True)\n",
      ")\n",
      "\n",
      "============================================================\n",
      "[0_20] Testing {'n_epochs': 1, 'batchnorm': True, 'dropout': 0.1, 'layer_out_dims': [1000, 10, 2], 'data_loader_config': {'batch_size': 256, 'num_workers': 1}, 'lr': 0.008620172967532237}\n",
      "============================================================\n"
     ]
    },
    {
     "name": "stderr",
     "output_type": "stream",
     "text": [
      "100%|██████████| 32/32 [00:00<00:00, 154.38it/s, avg_loss=1.91]\n"
     ]
    },
    {
     "name": "stdout",
     "output_type": "stream",
     "text": [
      "Saving model at iteration 0 with best score 0.989\n",
      "[E:0]\tTrain Loss: 0.490\tDev score: 0.989\n",
      "Restoring best model from iteration 0 with score 0.989\n",
      "Finished Training\n",
      "Accuracy: 0.989\n",
      "        y=1    y=2   \n",
      " l=1    236     1    \n",
      " l=2    10     753   \n",
      "F1: 0.977\n",
      "        y=1    y=2   \n",
      " l=1    236     1    \n",
      " l=2    10     753   \n",
      "\n",
      "Network architecture:\n",
      "Sequential(\n",
      "  (0): IdentityModule()\n",
      "  (1): Sequential(\n",
      "    (0): Linear(in_features=1000, out_features=100, bias=True)\n",
      "    (1): ReLU()\n",
      "  )\n",
      "  (2): Linear(in_features=100, out_features=2, bias=True)\n",
      ")\n",
      "\n",
      "============================================================\n",
      "[0_21] Testing {'n_epochs': 1, 'batchnorm': True, 'dropout': 0.1, 'layer_out_dims': [1000, 100, 2], 'data_loader_config': {'batch_size': 256, 'num_workers': 1}, 'lr': 0.5653701249875115}\n",
      "============================================================\n"
     ]
    },
    {
     "name": "stderr",
     "output_type": "stream",
     "text": [
      "100%|██████████| 32/32 [00:00<00:00, 137.22it/s, avg_loss=21.6]\n"
     ]
    },
    {
     "name": "stdout",
     "output_type": "stream",
     "text": [
      "Saving model at iteration 0 with best score 0.756\n",
      "[E:0]\tTrain Loss: 5.541\tDev score: 0.756\n",
      "Restoring best model from iteration 0 with score 0.756\n",
      "Finished Training\n",
      "Accuracy: 0.756\n",
      "        y=1    y=2   \n",
      " l=1     2      0    \n",
      " l=2    244    754   \n",
      "F1: 0.016\n",
      "        y=1    y=2   \n",
      " l=1     2      0    \n",
      " l=2    244    754   \n",
      "\n",
      "Network architecture:\n",
      "Sequential(\n",
      "  (0): IdentityModule()\n",
      "  (1): Sequential(\n",
      "    (0): Linear(in_features=1000, out_features=100, bias=True)\n",
      "    (1): ReLU()\n",
      "  )\n",
      "  (2): Linear(in_features=100, out_features=2, bias=True)\n",
      ")\n",
      "\n",
      "============================================================\n",
      "[0_22] Testing {'n_epochs': 1, 'batchnorm': False, 'dropout': 0, 'layer_out_dims': [1000, 100, 2], 'data_loader_config': {'batch_size': 256, 'num_workers': 1}, 'lr': 0.09631669699978214}\n",
      "============================================================\n"
     ]
    },
    {
     "name": "stderr",
     "output_type": "stream",
     "text": [
      "100%|██████████| 32/32 [00:00<00:00, 131.87it/s, avg_loss=3.28]\n"
     ]
    },
    {
     "name": "stdout",
     "output_type": "stream",
     "text": [
      "Saving model at iteration 0 with best score 0.758\n",
      "[E:0]\tTrain Loss: 0.839\tDev score: 0.758\n",
      "Restoring best model from iteration 0 with score 0.758\n",
      "Finished Training\n",
      "Accuracy: 0.758\n",
      "        y=1    y=2   \n",
      " l=1     4      0    \n",
      " l=2    242    754   \n",
      "F1: 0.032\n",
      "        y=1    y=2   \n",
      " l=1     4      0    \n",
      " l=2    242    754   \n",
      "\n",
      "Network architecture:\n",
      "Sequential(\n",
      "  (0): IdentityModule()\n",
      "  (1): Sequential(\n",
      "    (0): Linear(in_features=1000, out_features=10, bias=True)\n",
      "    (1): ReLU()\n",
      "  )\n",
      "  (2): Linear(in_features=10, out_features=2, bias=True)\n",
      ")\n",
      "\n",
      "============================================================\n",
      "[0_23] Testing {'n_epochs': 1, 'batchnorm': False, 'dropout': 0.5, 'layer_out_dims': [1000, 10, 2], 'data_loader_config': {'batch_size': 256, 'num_workers': 1}, 'lr': 4.403733721064476e-05}\n",
      "============================================================\n"
     ]
    },
    {
     "name": "stderr",
     "output_type": "stream",
     "text": [
      "100%|██████████| 32/32 [00:00<00:00, 157.28it/s, avg_loss=2.76]\n"
     ]
    },
    {
     "name": "stdout",
     "output_type": "stream",
     "text": [
      "Saving model at iteration 0 with best score 0.480\n",
      "[E:0]\tTrain Loss: 0.706\tDev score: 0.480\n",
      "Restoring best model from iteration 0 with score 0.480\n",
      "Finished Training\n",
      "Accuracy: 0.480\n",
      "        y=1    y=2   \n",
      " l=1    166    440   \n",
      " l=2    80     314   \n",
      "F1: 0.390\n",
      "        y=1    y=2   \n",
      " l=1    166    440   \n",
      " l=2    80     314   \n",
      "\n",
      "Network architecture:\n",
      "Sequential(\n",
      "  (0): IdentityModule()\n",
      "  (1): Sequential(\n",
      "    (0): Linear(in_features=1000, out_features=10, bias=True)\n",
      "    (1): ReLU()\n",
      "  )\n",
      "  (2): Linear(in_features=10, out_features=2, bias=True)\n",
      ")\n",
      "\n",
      "============================================================\n",
      "[0_24] Testing {'n_epochs': 1, 'batchnorm': False, 'dropout': 0.2, 'layer_out_dims': [1000, 10, 2], 'data_loader_config': {'batch_size': 256, 'num_workers': 1}, 'lr': 0.011247087902522112}\n",
      "============================================================\n"
     ]
    },
    {
     "name": "stderr",
     "output_type": "stream",
     "text": [
      "100%|██████████| 32/32 [00:00<00:00, 164.90it/s, avg_loss=1.95]\n"
     ]
    },
    {
     "name": "stdout",
     "output_type": "stream",
     "text": [
      "Saving model at iteration 0 with best score 0.998\n",
      "[E:0]\tTrain Loss: 0.500\tDev score: 0.998\n",
      "Restoring best model from iteration 0 with score 0.998\n",
      "Finished Training\n",
      "Accuracy: 0.998\n",
      "        y=1    y=2   \n",
      " l=1    246     2    \n",
      " l=2     0     752   \n",
      "F1: 0.996\n",
      "        y=1    y=2   \n",
      " l=1    246     2    \n",
      " l=2     0     752   \n",
      "\n",
      "Network architecture:\n",
      "Sequential(\n",
      "  (0): IdentityModule()\n",
      "  (1): Sequential(\n",
      "    (0): Linear(in_features=1000, out_features=10, bias=True)\n",
      "    (1): ReLU()\n",
      "  )\n",
      "  (2): Linear(in_features=10, out_features=2, bias=True)\n",
      ")\n",
      "\n",
      "============================================================\n",
      "[0_25] Testing {'n_epochs': 1, 'batchnorm': True, 'dropout': 0, 'layer_out_dims': [1000, 10, 2], 'data_loader_config': {'batch_size': 256, 'num_workers': 1}, 'lr': 3.47130935423862e-05}\n",
      "============================================================\n"
     ]
    },
    {
     "name": "stderr",
     "output_type": "stream",
     "text": [
      "100%|██████████| 32/32 [00:00<00:00, 161.49it/s, avg_loss=2.84]\n"
     ]
    },
    {
     "name": "stdout",
     "output_type": "stream",
     "text": [
      "Saving model at iteration 0 with best score 0.251\n",
      "[E:0]\tTrain Loss: 0.727\tDev score: 0.251\n",
      "Restoring best model from iteration 0 with score 0.251\n",
      "Finished Training\n",
      "Accuracy: 0.251\n",
      "        y=1    y=2   \n",
      " l=1    246    749   \n",
      " l=2     0      5    \n",
      "F1: 0.396\n",
      "        y=1    y=2   \n",
      " l=1    246    749   \n",
      " l=2     0      5    \n",
      "\n",
      "Network architecture:\n",
      "Sequential(\n",
      "  (0): IdentityModule()\n",
      "  (1): Sequential(\n",
      "    (0): Linear(in_features=1000, out_features=100, bias=True)\n",
      "    (1): ReLU()\n",
      "  )\n",
      "  (2): Linear(in_features=100, out_features=2, bias=True)\n",
      ")\n",
      "\n",
      "============================================================\n",
      "[0_26] Testing {'n_epochs': 1, 'batchnorm': False, 'dropout': 0.5, 'layer_out_dims': [1000, 100, 2], 'data_loader_config': {'batch_size': 256, 'num_workers': 1}, 'lr': 0.013045643151841427}\n",
      "============================================================\n"
     ]
    },
    {
     "name": "stderr",
     "output_type": "stream",
     "text": [
      "100%|██████████| 32/32 [00:00<00:00, 146.42it/s, avg_loss=1.92]\n"
     ]
    },
    {
     "name": "stdout",
     "output_type": "stream",
     "text": [
      "Saving model at iteration 0 with best score 0.970\n",
      "[E:0]\tTrain Loss: 0.490\tDev score: 0.970\n",
      "Restoring best model from iteration 0 with score 0.970\n",
      "Finished Training\n",
      "Accuracy: 0.970\n",
      "        y=1    y=2   \n",
      " l=1    217     1    \n",
      " l=2    29     753   \n",
      "F1: 0.935\n",
      "        y=1    y=2   \n",
      " l=1    217     1    \n",
      " l=2    29     753   \n",
      "\n",
      "Network architecture:\n",
      "Sequential(\n",
      "  (0): IdentityModule()\n",
      "  (1): Sequential(\n",
      "    (0): Linear(in_features=1000, out_features=10, bias=True)\n",
      "    (1): ReLU()\n",
      "  )\n",
      "  (2): Linear(in_features=10, out_features=2, bias=True)\n",
      ")\n",
      "\n",
      "============================================================\n",
      "[1_0] Testing {'n_epochs': 5, 'batchnorm': False, 'dropout': 0.2, 'layer_out_dims': [1000, 10, 2], 'data_loader_config': {'batch_size': 256, 'num_workers': 1}, 'lr': 0.011247087902522112}\n",
      "============================================================\n"
     ]
    },
    {
     "name": "stderr",
     "output_type": "stream",
     "text": [
      "100%|██████████| 32/32 [00:00<00:00, 162.70it/s, avg_loss=1.95]\n"
     ]
    },
    {
     "name": "stdout",
     "output_type": "stream",
     "text": [
      "Saving model at iteration 0 with best score 0.998\n",
      "[E:0]\tTrain Loss: 0.500\tDev score: 0.998\n"
     ]
    },
    {
     "name": "stderr",
     "output_type": "stream",
     "text": [
      "100%|██████████| 32/32 [00:00<00:00, 125.94it/s, avg_loss=1.76]\n",
      "100%|██████████| 32/32 [00:00<00:00, 156.94it/s, avg_loss=1.72]\n",
      "100%|██████████| 32/32 [00:00<00:00, 168.87it/s, avg_loss=1.69]\n",
      "100%|██████████| 32/32 [00:00<00:00, 169.69it/s, avg_loss=1.66]\n"
     ]
    },
    {
     "name": "stdout",
     "output_type": "stream",
     "text": [
      "[E:4]\tTrain Loss: 0.424\tDev score: 0.941\n",
      "Restoring best model from iteration 0 with score 0.998\n",
      "Finished Training\n",
      "Accuracy: 0.998\n",
      "        y=1    y=2   \n",
      " l=1    246     2    \n",
      " l=2     0     752   \n",
      "F1: 0.996\n",
      "        y=1    y=2   \n",
      " l=1    246     2    \n",
      " l=2     0     752   \n",
      "\n",
      "Network architecture:\n",
      "Sequential(\n",
      "  (0): IdentityModule()\n",
      "  (1): Sequential(\n",
      "    (0): Linear(in_features=1000, out_features=10, bias=True)\n",
      "    (1): ReLU()\n",
      "  )\n",
      "  (2): Linear(in_features=10, out_features=2, bias=True)\n",
      ")\n",
      "\n",
      "============================================================\n",
      "[1_1] Testing {'n_epochs': 5, 'batchnorm': False, 'dropout': 0, 'layer_out_dims': [1000, 10, 2], 'data_loader_config': {'batch_size': 256, 'num_workers': 1}, 'lr': 0.006235324635557636}\n",
      "============================================================\n"
     ]
    },
    {
     "name": "stderr",
     "output_type": "stream",
     "text": [
      "100%|██████████| 32/32 [00:00<00:00, 162.05it/s, avg_loss=1.91]\n"
     ]
    },
    {
     "name": "stdout",
     "output_type": "stream",
     "text": [
      "Saving model at iteration 0 with best score 0.998\n",
      "[E:0]\tTrain Loss: 0.489\tDev score: 0.998\n"
     ]
    },
    {
     "name": "stderr",
     "output_type": "stream",
     "text": [
      "100%|██████████| 32/32 [00:00<00:00, 165.62it/s, avg_loss=1.75]\n",
      "100%|██████████| 32/32 [00:00<00:00, 167.77it/s, avg_loss=1.7]\n",
      "100%|██████████| 32/32 [00:00<00:00, 170.78it/s, avg_loss=1.67]\n",
      "100%|██████████| 32/32 [00:00<00:00, 165.11it/s, avg_loss=1.64]\n"
     ]
    },
    {
     "name": "stdout",
     "output_type": "stream",
     "text": [
      "[E:4]\tTrain Loss: 0.420\tDev score: 0.935\n",
      "Restoring best model from iteration 0 with score 0.998\n",
      "Finished Training\n",
      "Accuracy: 0.998\n",
      "        y=1    y=2   \n",
      " l=1    245     1    \n",
      " l=2     1     753   \n",
      "F1: 0.996\n",
      "        y=1    y=2   \n",
      " l=1    245     1    \n",
      " l=2     1     753   \n",
      "\n",
      "Network architecture:\n",
      "Sequential(\n",
      "  (0): IdentityModule()\n",
      "  (1): Sequential(\n",
      "    (0): Linear(in_features=1000, out_features=100, bias=True)\n",
      "    (1): ReLU()\n",
      "  )\n",
      "  (2): Linear(in_features=100, out_features=2, bias=True)\n",
      ")\n",
      "\n",
      "============================================================\n",
      "[1_2] Testing {'n_epochs': 5, 'batchnorm': True, 'dropout': 0.3, 'layer_out_dims': [1000, 100, 2], 'data_loader_config': {'batch_size': 256, 'num_workers': 1}, 'lr': 0.002831832397076143}\n",
      "============================================================\n"
     ]
    },
    {
     "name": "stderr",
     "output_type": "stream",
     "text": [
      "100%|██████████| 32/32 [00:00<00:00, 147.16it/s, avg_loss=1.93]\n"
     ]
    },
    {
     "name": "stdout",
     "output_type": "stream",
     "text": [
      "Saving model at iteration 0 with best score 0.998\n",
      "[E:0]\tTrain Loss: 0.495\tDev score: 0.998\n"
     ]
    },
    {
     "name": "stderr",
     "output_type": "stream",
     "text": [
      "100%|██████████| 32/32 [00:00<00:00, 145.84it/s, avg_loss=1.75]\n",
      "100%|██████████| 32/32 [00:00<00:00, 142.11it/s, avg_loss=1.7]\n",
      "100%|██████████| 32/32 [00:00<00:00, 146.33it/s, avg_loss=1.64]\n",
      "100%|██████████| 32/32 [00:00<00:00, 148.08it/s, avg_loss=1.57]\n"
     ]
    },
    {
     "name": "stdout",
     "output_type": "stream",
     "text": [
      "[E:4]\tTrain Loss: 0.402\tDev score: 0.917\n",
      "Restoring best model from iteration 0 with score 0.998\n",
      "Finished Training\n",
      "Accuracy: 0.998\n",
      "        y=1    y=2   \n",
      " l=1    245     1    \n",
      " l=2     1     753   \n",
      "F1: 0.996\n",
      "        y=1    y=2   \n",
      " l=1    245     1    \n",
      " l=2     1     753   \n",
      "\n",
      "Network architecture:\n",
      "Sequential(\n",
      "  (0): IdentityModule()\n",
      "  (1): Sequential(\n",
      "    (0): Linear(in_features=1000, out_features=100, bias=True)\n",
      "    (1): ReLU()\n",
      "  )\n",
      "  (2): Linear(in_features=100, out_features=2, bias=True)\n",
      ")\n",
      "\n",
      "============================================================\n",
      "[1_3] Testing {'n_epochs': 5, 'batchnorm': False, 'dropout': 0.5, 'layer_out_dims': [1000, 100, 2], 'data_loader_config': {'batch_size': 256, 'num_workers': 1}, 'lr': 0.0012466175605103217}\n",
      "============================================================\n"
     ]
    },
    {
     "name": "stderr",
     "output_type": "stream",
     "text": [
      "100%|██████████| 32/32 [00:00<00:00, 117.19it/s, avg_loss=2]\n"
     ]
    },
    {
     "name": "stdout",
     "output_type": "stream",
     "text": [
      "Saving model at iteration 0 with best score 0.998\n",
      "[E:0]\tTrain Loss: 0.513\tDev score: 0.998\n"
     ]
    },
    {
     "name": "stderr",
     "output_type": "stream",
     "text": [
      "100%|██████████| 32/32 [00:00<00:00, 140.70it/s, avg_loss=1.77]\n",
      "100%|██████████| 32/32 [00:00<00:00, 147.13it/s, avg_loss=1.73]\n",
      "100%|██████████| 32/32 [00:00<00:00, 145.27it/s, avg_loss=1.69]\n",
      "100%|██████████| 32/32 [00:00<00:00, 148.42it/s, avg_loss=1.66]\n"
     ]
    },
    {
     "name": "stdout",
     "output_type": "stream",
     "text": [
      "[E:4]\tTrain Loss: 0.425\tDev score: 0.953\n",
      "Restoring best model from iteration 0 with score 0.998\n",
      "Finished Training\n",
      "Accuracy: 0.998\n",
      "        y=1    y=2   \n",
      " l=1    244     0    \n",
      " l=2     2     754   \n",
      "F1: 0.996\n",
      "        y=1    y=2   \n",
      " l=1    244     0    \n",
      " l=2     2     754   \n",
      "\n",
      "Network architecture:\n",
      "Sequential(\n",
      "  (0): IdentityModule()\n",
      "  (1): Sequential(\n",
      "    (0): Linear(in_features=1000, out_features=10, bias=True)\n",
      "    (1): ReLU()\n",
      "  )\n",
      "  (2): Linear(in_features=10, out_features=2, bias=True)\n",
      ")\n",
      "\n",
      "============================================================\n",
      "[1_4] Testing {'n_epochs': 5, 'batchnorm': True, 'dropout': 0.1, 'layer_out_dims': [1000, 10, 2], 'data_loader_config': {'batch_size': 256, 'num_workers': 1}, 'lr': 0.008620172967532237}\n",
      "============================================================\n"
     ]
    },
    {
     "name": "stderr",
     "output_type": "stream",
     "text": [
      "100%|██████████| 32/32 [00:00<00:00, 160.13it/s, avg_loss=1.91]\n"
     ]
    },
    {
     "name": "stdout",
     "output_type": "stream",
     "text": [
      "Saving model at iteration 0 with best score 0.989\n",
      "[E:0]\tTrain Loss: 0.490\tDev score: 0.989\n"
     ]
    },
    {
     "name": "stderr",
     "output_type": "stream",
     "text": [
      "100%|██████████| 32/32 [00:00<00:00, 166.81it/s, avg_loss=1.75]\n",
      "100%|██████████| 32/32 [00:00<00:00, 131.63it/s, avg_loss=1.71]\n",
      "100%|██████████| 32/32 [00:00<00:00, 167.80it/s, avg_loss=1.68]\n",
      "100%|██████████| 32/32 [00:00<00:00, 156.42it/s, avg_loss=1.65]\n"
     ]
    },
    {
     "name": "stdout",
     "output_type": "stream",
     "text": [
      "[E:4]\tTrain Loss: 0.423\tDev score: 0.941\n",
      "Restoring best model from iteration 0 with score 0.989\n",
      "Finished Training\n",
      "Accuracy: 0.989\n",
      "        y=1    y=2   \n",
      " l=1    236     1    \n",
      " l=2    10     753   \n",
      "F1: 0.977\n",
      "        y=1    y=2   \n",
      " l=1    236     1    \n",
      " l=2    10     753   \n",
      "\n",
      "Network architecture:\n",
      "Sequential(\n",
      "  (0): IdentityModule()\n",
      "  (1): Sequential(\n",
      "    (0): Linear(in_features=1000, out_features=100, bias=True)\n",
      "    (1): ReLU()\n",
      "  )\n",
      "  (2): Linear(in_features=100, out_features=2, bias=True)\n",
      ")\n",
      "\n",
      "============================================================\n",
      "[1_5] Testing {'n_epochs': 5, 'batchnorm': True, 'dropout': 0.2, 'layer_out_dims': [1000, 100, 2], 'data_loader_config': {'batch_size': 256, 'num_workers': 1}, 'lr': 0.0010815460964208876}\n",
      "============================================================\n"
     ]
    },
    {
     "name": "stderr",
     "output_type": "stream",
     "text": [
      "100%|██████████| 32/32 [00:00<00:00, 140.90it/s, avg_loss=2.07]\n"
     ]
    },
    {
     "name": "stdout",
     "output_type": "stream",
     "text": [
      "Saving model at iteration 0 with best score 0.987\n",
      "[E:0]\tTrain Loss: 0.529\tDev score: 0.987\n"
     ]
    },
    {
     "name": "stderr",
     "output_type": "stream",
     "text": [
      "100%|██████████| 32/32 [00:00<00:00, 136.59it/s, avg_loss=1.78]\n"
     ]
    },
    {
     "name": "stdout",
     "output_type": "stream",
     "text": [
      "Saving model at iteration 1 with best score 0.991\n"
     ]
    },
    {
     "name": "stderr",
     "output_type": "stream",
     "text": [
      "100%|██████████| 32/32 [00:00<00:00, 124.87it/s, avg_loss=1.74]\n",
      "100%|██████████| 32/32 [00:00<00:00, 106.50it/s, avg_loss=1.7]\n",
      "100%|██████████| 32/32 [00:00<00:00, 146.91it/s, avg_loss=1.67]\n"
     ]
    },
    {
     "name": "stdout",
     "output_type": "stream",
     "text": [
      "[E:4]\tTrain Loss: 0.427\tDev score: 0.960\n",
      "Restoring best model from iteration 1 with score 0.991\n",
      "Finished Training\n",
      "Accuracy: 0.991\n",
      "        y=1    y=2   \n",
      " l=1    237     0    \n",
      " l=2     9     754   \n",
      "F1: 0.981\n",
      "        y=1    y=2   \n",
      " l=1    237     0    \n",
      " l=2     9     754   \n",
      "\n",
      "Network architecture:\n",
      "Sequential(\n",
      "  (0): IdentityModule()\n",
      "  (1): Sequential(\n",
      "    (0): Linear(in_features=1000, out_features=100, bias=True)\n",
      "    (1): ReLU()\n",
      "  )\n",
      "  (2): Linear(in_features=100, out_features=2, bias=True)\n",
      ")\n",
      "\n",
      "============================================================\n",
      "[1_6] Testing {'n_epochs': 5, 'batchnorm': True, 'dropout': 0, 'layer_out_dims': [1000, 100, 2], 'data_loader_config': {'batch_size': 256, 'num_workers': 1}, 'lr': 0.02065427424933474}\n",
      "============================================================\n"
     ]
    },
    {
     "name": "stderr",
     "output_type": "stream",
     "text": [
      "100%|██████████| 32/32 [00:00<00:00, 124.29it/s, avg_loss=1.99]\n"
     ]
    },
    {
     "name": "stdout",
     "output_type": "stream",
     "text": [
      "Saving model at iteration 0 with best score 0.985\n",
      "[E:0]\tTrain Loss: 0.509\tDev score: 0.985\n"
     ]
    },
    {
     "name": "stderr",
     "output_type": "stream",
     "text": [
      "100%|██████████| 32/32 [00:00<00:00, 110.88it/s, avg_loss=1.79]\n"
     ]
    },
    {
     "name": "stdout",
     "output_type": "stream",
     "text": [
      "Saving model at iteration 1 with best score 0.989\n"
     ]
    },
    {
     "name": "stderr",
     "output_type": "stream",
     "text": [
      "100%|██████████| 32/32 [00:00<00:00, 98.30it/s, avg_loss=1.72]\n",
      "100%|██████████| 32/32 [00:00<00:00, 112.81it/s, avg_loss=1.64]\n",
      "100%|██████████| 32/32 [00:00<00:00, 105.34it/s, avg_loss=1.55]\n"
     ]
    },
    {
     "name": "stdout",
     "output_type": "stream",
     "text": [
      "[E:4]\tTrain Loss: 0.398\tDev score: 0.938\n",
      "Restoring best model from iteration 1 with score 0.989\n",
      "Finished Training\n",
      "Accuracy: 0.989\n",
      "        y=1    y=2   \n",
      " l=1    238     3    \n",
      " l=2     8     751   \n",
      "F1: 0.977\n",
      "        y=1    y=2   \n",
      " l=1    238     3    \n",
      " l=2     8     751   \n",
      "\n",
      "Network architecture:\n",
      "Sequential(\n",
      "  (0): IdentityModule()\n",
      "  (1): Sequential(\n",
      "    (0): Linear(in_features=1000, out_features=100, bias=True)\n",
      "    (1): ReLU()\n",
      "  )\n",
      "  (2): Linear(in_features=100, out_features=2, bias=True)\n",
      ")\n",
      "\n",
      "============================================================\n",
      "[1_7] Testing {'n_epochs': 5, 'batchnorm': True, 'dropout': 0.1, 'layer_out_dims': [1000, 100, 2], 'data_loader_config': {'batch_size': 256, 'num_workers': 1}, 'lr': 0.01751209712582007}\n",
      "============================================================\n"
     ]
    },
    {
     "name": "stderr",
     "output_type": "stream",
     "text": [
      "100%|██████████| 32/32 [00:00<00:00, 91.88it/s, avg_loss=1.91]\n"
     ]
    },
    {
     "name": "stdout",
     "output_type": "stream",
     "text": [
      "Saving model at iteration 0 with best score 0.978\n",
      "[E:0]\tTrain Loss: 0.488\tDev score: 0.978\n"
     ]
    },
    {
     "name": "stderr",
     "output_type": "stream",
     "text": [
      "100%|██████████| 32/32 [00:00<00:00, 114.50it/s, avg_loss=1.73]\n",
      "100%|██████████| 32/32 [00:00<00:00, 122.80it/s, avg_loss=1.66]\n",
      "100%|██████████| 32/32 [00:00<00:00, 112.22it/s, avg_loss=1.58]\n",
      "100%|██████████| 32/32 [00:00<00:00, 103.11it/s, avg_loss=1.51]\n"
     ]
    },
    {
     "name": "stdout",
     "output_type": "stream",
     "text": [
      "[E:4]\tTrain Loss: 0.386\tDev score: 0.935\n",
      "Restoring best model from iteration 0 with score 0.978\n",
      "Finished Training\n",
      "Accuracy: 0.978\n",
      "        y=1    y=2   \n",
      " l=1    225     1    \n",
      " l=2    21     753   \n",
      "F1: 0.953\n",
      "        y=1    y=2   \n",
      " l=1    225     1    \n",
      " l=2    21     753   \n",
      "\n",
      "Network architecture:\n",
      "Sequential(\n",
      "  (0): IdentityModule()\n",
      "  (1): Sequential(\n",
      "    (0): Linear(in_features=1000, out_features=100, bias=True)\n",
      "    (1): ReLU()\n",
      "  )\n",
      "  (2): Linear(in_features=100, out_features=2, bias=True)\n",
      ")\n",
      "\n",
      "============================================================\n",
      "[1_8] Testing {'n_epochs': 5, 'batchnorm': True, 'dropout': 0.5, 'layer_out_dims': [1000, 100, 2], 'data_loader_config': {'batch_size': 256, 'num_workers': 1}, 'lr': 0.008687963391291976}\n",
      "============================================================\n"
     ]
    },
    {
     "name": "stderr",
     "output_type": "stream",
     "text": [
      "100%|██████████| 32/32 [00:00<00:00, 113.47it/s, avg_loss=1.92]\n"
     ]
    },
    {
     "name": "stdout",
     "output_type": "stream",
     "text": [
      "Saving model at iteration 0 with best score 0.973\n",
      "[E:0]\tTrain Loss: 0.491\tDev score: 0.973\n"
     ]
    },
    {
     "name": "stderr",
     "output_type": "stream",
     "text": [
      "100%|██████████| 32/32 [00:00<00:00, 133.88it/s, avg_loss=1.77]\n"
     ]
    },
    {
     "name": "stdout",
     "output_type": "stream",
     "text": [
      "Saving model at iteration 1 with best score 0.988\n"
     ]
    },
    {
     "name": "stderr",
     "output_type": "stream",
     "text": [
      "100%|██████████| 32/32 [00:00<00:00, 133.09it/s, avg_loss=1.7]\n",
      "100%|██████████| 32/32 [00:00<00:00, 137.91it/s, avg_loss=1.64]\n",
      "100%|██████████| 32/32 [00:00<00:00, 101.67it/s, avg_loss=1.57]\n"
     ]
    },
    {
     "name": "stdout",
     "output_type": "stream",
     "text": [
      "[E:4]\tTrain Loss: 0.401\tDev score: 0.945\n",
      "Restoring best model from iteration 1 with score 0.988\n",
      "Finished Training\n",
      "Accuracy: 0.988\n",
      "        y=1    y=2   \n",
      " l=1    236     2    \n",
      " l=2    10     752   \n",
      "F1: 0.975\n",
      "        y=1    y=2   \n",
      " l=1    236     2    \n",
      " l=2    10     752   \n",
      "\n",
      "Network architecture:\n",
      "Sequential(\n",
      "  (0): IdentityModule()\n",
      "  (1): Sequential(\n",
      "    (0): Linear(in_features=1000, out_features=10, bias=True)\n",
      "    (1): ReLU()\n",
      "  )\n",
      "  (2): Linear(in_features=10, out_features=2, bias=True)\n",
      ")\n",
      "\n",
      "============================================================\n",
      "[2_0] Testing {'n_epochs': 17, 'batchnorm': False, 'dropout': 0.2, 'layer_out_dims': [1000, 10, 2], 'data_loader_config': {'batch_size': 256, 'num_workers': 1}, 'lr': 0.011247087902522112}\n",
      "============================================================\n"
     ]
    },
    {
     "name": "stderr",
     "output_type": "stream",
     "text": [
      "100%|██████████| 32/32 [00:00<00:00, 107.85it/s, avg_loss=1.95]\n"
     ]
    },
    {
     "name": "stdout",
     "output_type": "stream",
     "text": [
      "Saving model at iteration 0 with best score 0.998\n",
      "[E:0]\tTrain Loss: 0.500\tDev score: 0.998\n"
     ]
    },
    {
     "name": "stderr",
     "output_type": "stream",
     "text": [
      "100%|██████████| 32/32 [00:00<00:00, 135.12it/s, avg_loss=1.76]\n",
      "100%|██████████| 32/32 [00:00<00:00, 145.48it/s, avg_loss=1.72]\n",
      "100%|██████████| 32/32 [00:00<00:00, 128.38it/s, avg_loss=1.69]\n",
      "100%|██████████| 32/32 [00:00<00:00, 117.49it/s, avg_loss=1.66]\n",
      "100%|██████████| 32/32 [00:00<00:00, 108.12it/s, avg_loss=1.64]\n"
     ]
    },
    {
     "name": "stdout",
     "output_type": "stream",
     "text": [
      "[E:5]\tTrain Loss: 0.419\tDev score: 0.943\n"
     ]
    },
    {
     "name": "stderr",
     "output_type": "stream",
     "text": [
      "100%|██████████| 32/32 [00:00<00:00, 141.34it/s, avg_loss=1.62]\n",
      "100%|██████████| 32/32 [00:00<00:00, 145.26it/s, avg_loss=1.6]\n",
      "100%|██████████| 32/32 [00:00<00:00, 145.35it/s, avg_loss=1.59]\n",
      "100%|██████████| 32/32 [00:00<00:00, 106.33it/s, avg_loss=1.58]\n",
      "100%|██████████| 32/32 [00:00<00:00, 134.66it/s, avg_loss=1.57]\n"
     ]
    },
    {
     "name": "stdout",
     "output_type": "stream",
     "text": [
      "[E:10]\tTrain Loss: 0.402\tDev score: 0.906\n"
     ]
    },
    {
     "name": "stderr",
     "output_type": "stream",
     "text": [
      "100%|██████████| 32/32 [00:00<00:00, 109.03it/s, avg_loss=1.56]\n",
      "100%|██████████| 32/32 [00:00<00:00, 144.80it/s, avg_loss=1.55]\n",
      "100%|██████████| 32/32 [00:00<00:00, 149.67it/s, avg_loss=1.54]\n",
      "100%|██████████| 32/32 [00:00<00:00, 157.33it/s, avg_loss=1.53]\n",
      "100%|██████████| 32/32 [00:00<00:00, 132.39it/s, avg_loss=1.52]\n"
     ]
    },
    {
     "name": "stdout",
     "output_type": "stream",
     "text": [
      "[E:15]\tTrain Loss: 0.389\tDev score: 0.916\n"
     ]
    },
    {
     "name": "stderr",
     "output_type": "stream",
     "text": [
      "100%|██████████| 32/32 [00:00<00:00, 121.09it/s, avg_loss=1.51]\n"
     ]
    },
    {
     "name": "stdout",
     "output_type": "stream",
     "text": [
      "[E:16]\tTrain Loss: 0.385\tDev score: 0.903\n",
      "Restoring best model from iteration 0 with score 0.998\n",
      "Finished Training\n",
      "Accuracy: 0.998\n",
      "        y=1    y=2   \n",
      " l=1    246     2    \n",
      " l=2     0     752   \n",
      "F1: 0.996\n",
      "        y=1    y=2   \n",
      " l=1    246     2    \n",
      " l=2     0     752   \n",
      "\n",
      "Network architecture:\n",
      "Sequential(\n",
      "  (0): IdentityModule()\n",
      "  (1): Sequential(\n",
      "    (0): Linear(in_features=1000, out_features=10, bias=True)\n",
      "    (1): ReLU()\n",
      "  )\n",
      "  (2): Linear(in_features=10, out_features=2, bias=True)\n",
      ")\n",
      "\n",
      "============================================================\n",
      "[2_1] Testing {'n_epochs': 17, 'batchnorm': False, 'dropout': 0, 'layer_out_dims': [1000, 10, 2], 'data_loader_config': {'batch_size': 256, 'num_workers': 1}, 'lr': 0.006235324635557636}\n",
      "============================================================\n"
     ]
    },
    {
     "name": "stderr",
     "output_type": "stream",
     "text": [
      "100%|██████████| 32/32 [00:00<00:00, 108.17it/s, avg_loss=1.91]\n"
     ]
    },
    {
     "name": "stdout",
     "output_type": "stream",
     "text": [
      "Saving model at iteration 0 with best score 0.998\n",
      "[E:0]\tTrain Loss: 0.489\tDev score: 0.998\n"
     ]
    },
    {
     "name": "stderr",
     "output_type": "stream",
     "text": [
      "100%|██████████| 32/32 [00:00<00:00, 130.97it/s, avg_loss=1.75]\n",
      "100%|██████████| 32/32 [00:00<00:00, 123.39it/s, avg_loss=1.7]\n",
      "100%|██████████| 32/32 [00:00<00:00, 117.05it/s, avg_loss=1.67]\n",
      "100%|██████████| 32/32 [00:00<00:00, 153.57it/s, avg_loss=1.64]\n",
      "100%|██████████| 32/32 [00:00<00:00, 147.47it/s, avg_loss=1.61]\n"
     ]
    },
    {
     "name": "stdout",
     "output_type": "stream",
     "text": [
      "[E:5]\tTrain Loss: 0.413\tDev score: 0.922\n"
     ]
    },
    {
     "name": "stderr",
     "output_type": "stream",
     "text": [
      "100%|██████████| 32/32 [00:00<00:00, 146.77it/s, avg_loss=1.58]\n",
      "100%|██████████| 32/32 [00:00<00:00, 128.30it/s, avg_loss=1.56]\n",
      "100%|██████████| 32/32 [00:00<00:00, 153.02it/s, avg_loss=1.53]\n",
      "100%|██████████| 32/32 [00:00<00:00, 133.58it/s, avg_loss=1.51]\n",
      "100%|██████████| 32/32 [00:00<00:00, 145.77it/s, avg_loss=1.49]\n"
     ]
    },
    {
     "name": "stdout",
     "output_type": "stream",
     "text": [
      "[E:10]\tTrain Loss: 0.382\tDev score: 0.906\n"
     ]
    },
    {
     "name": "stderr",
     "output_type": "stream",
     "text": [
      "100%|██████████| 32/32 [00:00<00:00, 133.08it/s, avg_loss=1.48]\n",
      "100%|██████████| 32/32 [00:00<00:00, 127.67it/s, avg_loss=1.46]\n",
      "100%|██████████| 32/32 [00:00<00:00, 86.25it/s, avg_loss=1.45]\n",
      "100%|██████████| 32/32 [00:00<00:00, 149.74it/s, avg_loss=1.43]\n",
      "100%|██████████| 32/32 [00:00<00:00, 132.08it/s, avg_loss=1.42]\n"
     ]
    },
    {
     "name": "stdout",
     "output_type": "stream",
     "text": [
      "[E:15]\tTrain Loss: 0.363\tDev score: 0.900\n"
     ]
    },
    {
     "name": "stderr",
     "output_type": "stream",
     "text": [
      "100%|██████████| 32/32 [00:00<00:00, 141.63it/s, avg_loss=1.41]\n"
     ]
    },
    {
     "name": "stdout",
     "output_type": "stream",
     "text": [
      "[E:16]\tTrain Loss: 0.361\tDev score: 0.894\n",
      "Restoring best model from iteration 0 with score 0.998\n",
      "Finished Training\n",
      "Accuracy: 0.998\n",
      "        y=1    y=2   \n",
      " l=1    245     1    \n",
      " l=2     1     753   \n",
      "F1: 0.996\n",
      "        y=1    y=2   \n",
      " l=1    245     1    \n",
      " l=2     1     753   \n",
      "\n",
      "Network architecture:\n",
      "Sequential(\n",
      "  (0): IdentityModule()\n",
      "  (1): Sequential(\n",
      "    (0): Linear(in_features=1000, out_features=100, bias=True)\n",
      "    (1): ReLU()\n",
      "  )\n",
      "  (2): Linear(in_features=100, out_features=2, bias=True)\n",
      ")\n",
      "\n",
      "============================================================\n",
      "[2_2] Testing {'n_epochs': 17, 'batchnorm': True, 'dropout': 0.3, 'layer_out_dims': [1000, 100, 2], 'data_loader_config': {'batch_size': 256, 'num_workers': 1}, 'lr': 0.002831832397076143}\n",
      "============================================================\n"
     ]
    },
    {
     "name": "stderr",
     "output_type": "stream",
     "text": [
      "100%|██████████| 32/32 [00:00<00:00, 99.62it/s, avg_loss=1.93]\n"
     ]
    },
    {
     "name": "stdout",
     "output_type": "stream",
     "text": [
      "Saving model at iteration 0 with best score 0.998\n",
      "[E:0]\tTrain Loss: 0.495\tDev score: 0.998\n"
     ]
    },
    {
     "name": "stderr",
     "output_type": "stream",
     "text": [
      "100%|██████████| 32/32 [00:00<00:00, 127.14it/s, avg_loss=1.75]\n",
      "100%|██████████| 32/32 [00:00<00:00, 105.49it/s, avg_loss=1.7]\n",
      "100%|██████████| 32/32 [00:00<00:00, 134.42it/s, avg_loss=1.64]\n",
      "100%|██████████| 32/32 [00:00<00:00, 138.29it/s, avg_loss=1.57]\n",
      "100%|██████████| 32/32 [00:00<00:00, 133.35it/s, avg_loss=1.48]\n"
     ]
    },
    {
     "name": "stdout",
     "output_type": "stream",
     "text": [
      "[E:5]\tTrain Loss: 0.380\tDev score: 0.927\n"
     ]
    },
    {
     "name": "stderr",
     "output_type": "stream",
     "text": [
      "100%|██████████| 32/32 [00:00<00:00, 120.35it/s, avg_loss=1.41]\n",
      "100%|██████████| 32/32 [00:00<00:00, 124.48it/s, avg_loss=1.34]\n",
      "100%|██████████| 32/32 [00:00<00:00, 97.55it/s, avg_loss=1.29]\n",
      "100%|██████████| 32/32 [00:00<00:00, 134.04it/s, avg_loss=1.26]\n",
      "100%|██████████| 32/32 [00:00<00:00, 137.46it/s, avg_loss=1.24]\n"
     ]
    },
    {
     "name": "stdout",
     "output_type": "stream",
     "text": [
      "[E:10]\tTrain Loss: 0.318\tDev score: 0.916\n"
     ]
    },
    {
     "name": "stderr",
     "output_type": "stream",
     "text": [
      "100%|██████████| 32/32 [00:00<00:00, 120.76it/s, avg_loss=1.22]\n",
      "100%|██████████| 32/32 [00:00<00:00, 99.11it/s, avg_loss=1.21]\n",
      "100%|██████████| 32/32 [00:00<00:00, 121.60it/s, avg_loss=1.21]\n",
      "100%|██████████| 32/32 [00:00<00:00, 134.49it/s, avg_loss=1.2]\n",
      "100%|██████████| 32/32 [00:00<00:00, 146.69it/s, avg_loss=1.2]\n"
     ]
    },
    {
     "name": "stdout",
     "output_type": "stream",
     "text": [
      "[E:15]\tTrain Loss: 0.306\tDev score: 0.911\n"
     ]
    },
    {
     "name": "stderr",
     "output_type": "stream",
     "text": [
      "100%|██████████| 32/32 [00:00<00:00, 106.66it/s, avg_loss=1.19]\n"
     ]
    },
    {
     "name": "stdout",
     "output_type": "stream",
     "text": [
      "[E:16]\tTrain Loss: 0.305\tDev score: 0.912\n",
      "Restoring best model from iteration 0 with score 0.998\n",
      "Finished Training\n",
      "Accuracy: 0.998\n",
      "        y=1    y=2   \n",
      " l=1    245     1    \n",
      " l=2     1     753   \n",
      "F1: 0.996\n",
      "        y=1    y=2   \n",
      " l=1    245     1    \n",
      " l=2     1     753   \n",
      "\n",
      "Network architecture:\n",
      "Sequential(\n",
      "  (0): IdentityModule()\n",
      "  (1): Sequential(\n",
      "    (0): Linear(in_features=1000, out_features=10, bias=True)\n",
      "    (1): ReLU()\n",
      "  )\n",
      "  (2): Linear(in_features=10, out_features=2, bias=True)\n",
      ")\n",
      "\n",
      "============================================================\n",
      "[3_0] Testing {'n_epochs': 52, 'batchnorm': False, 'dropout': 0.2, 'layer_out_dims': [1000, 10, 2], 'data_loader_config': {'batch_size': 256, 'num_workers': 1}, 'lr': 0.011247087902522112}\n",
      "============================================================\n"
     ]
    },
    {
     "name": "stderr",
     "output_type": "stream",
     "text": [
      "100%|██████████| 32/32 [00:00<00:00, 69.06it/s, avg_loss=1.95]\n"
     ]
    },
    {
     "name": "stdout",
     "output_type": "stream",
     "text": [
      "Saving model at iteration 0 with best score 0.998\n",
      "[E:0]\tTrain Loss: 0.500\tDev score: 0.998\n"
     ]
    },
    {
     "name": "stderr",
     "output_type": "stream",
     "text": [
      "100%|██████████| 32/32 [00:00<00:00, 144.93it/s, avg_loss=1.76]\n",
      "100%|██████████| 32/32 [00:00<00:00, 143.05it/s, avg_loss=1.72]\n",
      "100%|██████████| 32/32 [00:00<00:00, 126.40it/s, avg_loss=1.69]\n",
      "100%|██████████| 32/32 [00:00<00:00, 148.85it/s, avg_loss=1.66]\n",
      "100%|██████████| 32/32 [00:00<00:00, 141.66it/s, avg_loss=1.64]\n"
     ]
    },
    {
     "name": "stdout",
     "output_type": "stream",
     "text": [
      "[E:5]\tTrain Loss: 0.419\tDev score: 0.943\n"
     ]
    },
    {
     "name": "stderr",
     "output_type": "stream",
     "text": [
      "100%|██████████| 32/32 [00:00<00:00, 94.94it/s, avg_loss=1.62]\n",
      "100%|██████████| 32/32 [00:00<00:00, 144.98it/s, avg_loss=1.6]\n",
      "100%|██████████| 32/32 [00:00<00:00, 131.63it/s, avg_loss=1.59]\n",
      "100%|██████████| 32/32 [00:00<00:00, 102.19it/s, avg_loss=1.58]\n",
      "100%|██████████| 32/32 [00:00<00:00, 116.23it/s, avg_loss=1.57]\n"
     ]
    },
    {
     "name": "stdout",
     "output_type": "stream",
     "text": [
      "[E:10]\tTrain Loss: 0.402\tDev score: 0.906\n"
     ]
    },
    {
     "name": "stderr",
     "output_type": "stream",
     "text": [
      "100%|██████████| 32/32 [00:00<00:00, 129.83it/s, avg_loss=1.56]\n",
      "100%|██████████| 32/32 [00:00<00:00, 133.28it/s, avg_loss=1.55]\n",
      "100%|██████████| 32/32 [00:00<00:00, 128.84it/s, avg_loss=1.54]\n",
      "100%|██████████| 32/32 [00:00<00:00, 107.99it/s, avg_loss=1.53]\n",
      "100%|██████████| 32/32 [00:00<00:00, 102.57it/s, avg_loss=1.52]\n"
     ]
    },
    {
     "name": "stdout",
     "output_type": "stream",
     "text": [
      "[E:15]\tTrain Loss: 0.389\tDev score: 0.916\n"
     ]
    },
    {
     "name": "stderr",
     "output_type": "stream",
     "text": [
      "100%|██████████| 32/32 [00:00<00:00, 130.00it/s, avg_loss=1.51]\n",
      "100%|██████████| 32/32 [00:00<00:00, 138.26it/s, avg_loss=1.49]\n",
      "100%|██████████| 32/32 [00:00<00:00, 116.50it/s, avg_loss=1.48]\n",
      "100%|██████████| 32/32 [00:00<00:00, 133.42it/s, avg_loss=1.47]\n",
      "100%|██████████| 32/32 [00:00<00:00, 142.36it/s, avg_loss=1.45]\n"
     ]
    },
    {
     "name": "stdout",
     "output_type": "stream",
     "text": [
      "[E:20]\tTrain Loss: 0.372\tDev score: 0.898\n"
     ]
    },
    {
     "name": "stderr",
     "output_type": "stream",
     "text": [
      "100%|██████████| 32/32 [00:00<00:00, 82.16it/s, avg_loss=1.44]\n",
      "100%|██████████| 32/32 [00:00<00:00, 127.12it/s, avg_loss=1.44]\n",
      "100%|██████████| 32/32 [00:00<00:00, 128.47it/s, avg_loss=1.43]\n",
      "100%|██████████| 32/32 [00:00<00:00, 135.89it/s, avg_loss=1.41]\n",
      "100%|██████████| 32/32 [00:00<00:00, 122.65it/s, avg_loss=1.41]\n"
     ]
    },
    {
     "name": "stdout",
     "output_type": "stream",
     "text": [
      "[E:25]\tTrain Loss: 0.360\tDev score: 0.901\n"
     ]
    },
    {
     "name": "stderr",
     "output_type": "stream",
     "text": [
      "100%|██████████| 32/32 [00:00<00:00, 126.58it/s, avg_loss=1.4]\n",
      "100%|██████████| 32/32 [00:00<00:00, 98.41it/s, avg_loss=1.39]\n",
      "100%|██████████| 32/32 [00:00<00:00, 132.08it/s, avg_loss=1.38]\n",
      "100%|██████████| 32/32 [00:00<00:00, 122.02it/s, avg_loss=1.37]\n",
      "100%|██████████| 32/32 [00:00<00:00, 122.59it/s, avg_loss=1.36]\n"
     ]
    },
    {
     "name": "stdout",
     "output_type": "stream",
     "text": [
      "[E:30]\tTrain Loss: 0.349\tDev score: 0.907\n"
     ]
    },
    {
     "name": "stderr",
     "output_type": "stream",
     "text": [
      "100%|██████████| 32/32 [00:00<00:00, 122.16it/s, avg_loss=1.36]\n",
      "100%|██████████| 32/32 [00:00<00:00, 154.10it/s, avg_loss=1.34]\n",
      "100%|██████████| 32/32 [00:00<00:00, 104.78it/s, avg_loss=1.33]\n",
      "100%|██████████| 32/32 [00:00<00:00, 166.43it/s, avg_loss=1.32]\n",
      "100%|██████████| 32/32 [00:00<00:00, 150.60it/s, avg_loss=1.32]\n"
     ]
    },
    {
     "name": "stdout",
     "output_type": "stream",
     "text": [
      "[E:35]\tTrain Loss: 0.338\tDev score: 0.899\n"
     ]
    },
    {
     "name": "stderr",
     "output_type": "stream",
     "text": [
      "100%|██████████| 32/32 [00:00<00:00, 161.58it/s, avg_loss=1.32]\n",
      "100%|██████████| 32/32 [00:00<00:00, 156.05it/s, avg_loss=1.31]\n",
      "100%|██████████| 32/32 [00:00<00:00, 164.65it/s, avg_loss=1.31]\n",
      "100%|██████████| 32/32 [00:00<00:00, 163.11it/s, avg_loss=1.31]\n",
      "100%|██████████| 32/32 [00:00<00:00, 149.17it/s, avg_loss=1.31]\n"
     ]
    },
    {
     "name": "stdout",
     "output_type": "stream",
     "text": [
      "[E:40]\tTrain Loss: 0.334\tDev score: 0.890\n"
     ]
    },
    {
     "name": "stderr",
     "output_type": "stream",
     "text": [
      "100%|██████████| 32/32 [00:00<00:00, 153.92it/s, avg_loss=1.3]\n",
      "100%|██████████| 32/32 [00:00<00:00, 161.58it/s, avg_loss=1.3]\n",
      "100%|██████████| 32/32 [00:00<00:00, 161.26it/s, avg_loss=1.3]\n",
      "100%|██████████| 32/32 [00:00<00:00, 151.72it/s, avg_loss=1.3]\n",
      "100%|██████████| 32/32 [00:00<00:00, 151.65it/s, avg_loss=1.3]\n"
     ]
    },
    {
     "name": "stdout",
     "output_type": "stream",
     "text": [
      "[E:45]\tTrain Loss: 0.332\tDev score: 0.881\n"
     ]
    },
    {
     "name": "stderr",
     "output_type": "stream",
     "text": [
      "100%|██████████| 32/32 [00:00<00:00, 156.26it/s, avg_loss=1.3]\n",
      "100%|██████████| 32/32 [00:00<00:00, 160.92it/s, avg_loss=1.3]\n",
      "100%|██████████| 32/32 [00:00<00:00, 102.48it/s, avg_loss=1.29]\n",
      "100%|██████████| 32/32 [00:00<00:00, 146.56it/s, avg_loss=1.29]\n",
      "100%|██████████| 32/32 [00:00<00:00, 147.06it/s, avg_loss=1.29]\n"
     ]
    },
    {
     "name": "stdout",
     "output_type": "stream",
     "text": [
      "[E:50]\tTrain Loss: 0.330\tDev score: 0.872\n"
     ]
    },
    {
     "name": "stderr",
     "output_type": "stream",
     "text": [
      "100%|██████████| 32/32 [00:00<00:00, 155.55it/s, avg_loss=1.29]\n"
     ]
    },
    {
     "name": "stdout",
     "output_type": "stream",
     "text": [
      "[E:51]\tTrain Loss: 0.330\tDev score: 0.878\n",
      "Restoring best model from iteration 0 with score 0.998\n",
      "Finished Training\n",
      "Accuracy: 0.998\n",
      "        y=1    y=2   \n",
      " l=1    246     2    \n",
      " l=2     0     752   \n",
      "F1: 0.996\n",
      "        y=1    y=2   \n",
      " l=1    246     2    \n",
      " l=2     0     752   \n",
      "\n",
      "Network architecture:\n",
      "Sequential(\n",
      "  (0): IdentityModule()\n",
      "  (1): Sequential(\n",
      "    (0): Linear(in_features=1000, out_features=100, bias=True)\n",
      "    (1): ReLU()\n",
      "  )\n",
      "  (2): Linear(in_features=100, out_features=2, bias=True)\n",
      ")\n",
      "\n",
      "============================================================\n",
      "[0_0] Testing {'n_epochs': 5, 'batchnorm': True, 'dropout': 0, 'layer_out_dims': [1000, 100, 2], 'data_loader_config': {'batch_size': 256, 'num_workers': 1}, 'lr': 1.255764238119645e-05}\n",
      "============================================================\n"
     ]
    },
    {
     "name": "stderr",
     "output_type": "stream",
     "text": [
      "100%|██████████| 32/32 [00:00<00:00, 118.46it/s, avg_loss=2.86]\n"
     ]
    },
    {
     "name": "stdout",
     "output_type": "stream",
     "text": [
      "Saving model at iteration 0 with best score 0.252\n",
      "[E:0]\tTrain Loss: 0.733\tDev score: 0.252\n"
     ]
    },
    {
     "name": "stderr",
     "output_type": "stream",
     "text": [
      "100%|██████████| 32/32 [00:00<00:00, 115.52it/s, avg_loss=2.81]\n"
     ]
    },
    {
     "name": "stdout",
     "output_type": "stream",
     "text": [
      "Saving model at iteration 1 with best score 0.285\n"
     ]
    },
    {
     "name": "stderr",
     "output_type": "stream",
     "text": [
      "100%|██████████| 32/32 [00:00<00:00, 95.38it/s, avg_loss=2.77]\n"
     ]
    },
    {
     "name": "stdout",
     "output_type": "stream",
     "text": [
      "Saving model at iteration 2 with best score 0.387\n"
     ]
    },
    {
     "name": "stderr",
     "output_type": "stream",
     "text": [
      "100%|██████████| 32/32 [00:00<00:00, 126.21it/s, avg_loss=2.72]\n"
     ]
    },
    {
     "name": "stdout",
     "output_type": "stream",
     "text": [
      "Saving model at iteration 3 with best score 0.548\n"
     ]
    },
    {
     "name": "stderr",
     "output_type": "stream",
     "text": [
      "100%|██████████| 32/32 [00:00<00:00, 125.10it/s, avg_loss=2.68]\n"
     ]
    },
    {
     "name": "stdout",
     "output_type": "stream",
     "text": [
      "Saving model at iteration 4 with best score 0.725\n",
      "[E:4]\tTrain Loss: 0.687\tDev score: 0.725\n",
      "Restoring best model from iteration 4 with score 0.725\n",
      "Finished Training\n",
      "Accuracy: 0.725\n",
      "        y=1    y=2   \n",
      " l=1    164    193   \n",
      " l=2    82     561   \n",
      "F1: 0.544\n",
      "        y=1    y=2   \n",
      " l=1    164    193   \n",
      " l=2    82     561   \n",
      "\n",
      "Network architecture:\n",
      "Sequential(\n",
      "  (0): IdentityModule()\n",
      "  (1): Sequential(\n",
      "    (0): Linear(in_features=1000, out_features=10, bias=True)\n",
      "    (1): ReLU()\n",
      "  )\n",
      "  (2): Linear(in_features=10, out_features=2, bias=True)\n",
      ")\n",
      "\n",
      "============================================================\n",
      "[0_1] Testing {'n_epochs': 5, 'batchnorm': False, 'dropout': 0.4, 'layer_out_dims': [1000, 10, 2], 'data_loader_config': {'batch_size': 256, 'num_workers': 1}, 'lr': 1.5005475752177567e-05}\n",
      "============================================================\n"
     ]
    },
    {
     "name": "stderr",
     "output_type": "stream",
     "text": [
      "100%|██████████| 32/32 [00:00<00:00, 150.04it/s, avg_loss=2.77]\n"
     ]
    },
    {
     "name": "stdout",
     "output_type": "stream",
     "text": [
      "Saving model at iteration 0 with best score 0.307\n",
      "[E:0]\tTrain Loss: 0.710\tDev score: 0.307\n"
     ]
    },
    {
     "name": "stderr",
     "output_type": "stream",
     "text": [
      "100%|██████████| 32/32 [00:00<00:00, 155.00it/s, avg_loss=2.76]\n"
     ]
    },
    {
     "name": "stdout",
     "output_type": "stream",
     "text": [
      "Saving model at iteration 1 with best score 0.326\n"
     ]
    },
    {
     "name": "stderr",
     "output_type": "stream",
     "text": [
      "100%|██████████| 32/32 [00:00<00:00, 149.62it/s, avg_loss=2.74]\n"
     ]
    },
    {
     "name": "stdout",
     "output_type": "stream",
     "text": [
      "Saving model at iteration 2 with best score 0.384\n"
     ]
    },
    {
     "name": "stderr",
     "output_type": "stream",
     "text": [
      "100%|██████████| 32/32 [00:00<00:00, 129.58it/s, avg_loss=2.73]\n"
     ]
    },
    {
     "name": "stdout",
     "output_type": "stream",
     "text": [
      "Saving model at iteration 3 with best score 0.439\n"
     ]
    },
    {
     "name": "stderr",
     "output_type": "stream",
     "text": [
      "100%|██████████| 32/32 [00:00<00:00, 150.73it/s, avg_loss=2.71]\n"
     ]
    },
    {
     "name": "stdout",
     "output_type": "stream",
     "text": [
      "Saving model at iteration 4 with best score 0.505\n",
      "[E:4]\tTrain Loss: 0.694\tDev score: 0.505\n",
      "Restoring best model from iteration 4 with score 0.505\n",
      "Finished Training\n",
      "Accuracy: 0.505\n",
      "        y=1    y=2   \n",
      " l=1    165    414   \n",
      " l=2    81     340   \n",
      "F1: 0.400\n",
      "        y=1    y=2   \n",
      " l=1    165    414   \n",
      " l=2    81     340   \n",
      "\n",
      "Network architecture:\n",
      "Sequential(\n",
      "  (0): IdentityModule()\n",
      "  (1): Sequential(\n",
      "    (0): Linear(in_features=1000, out_features=100, bias=True)\n",
      "    (1): ReLU()\n",
      "  )\n",
      "  (2): Linear(in_features=100, out_features=2, bias=True)\n",
      ")\n",
      "\n",
      "============================================================\n",
      "[0_2] Testing {'n_epochs': 5, 'batchnorm': True, 'dropout': 0.1, 'layer_out_dims': [1000, 100, 2], 'data_loader_config': {'batch_size': 256, 'num_workers': 1}, 'lr': 0.19615995290619528}\n",
      "============================================================\n"
     ]
    },
    {
     "name": "stderr",
     "output_type": "stream",
     "text": [
      "100%|██████████| 32/32 [00:00<00:00, 128.15it/s, avg_loss=6.29]\n"
     ]
    },
    {
     "name": "stdout",
     "output_type": "stream",
     "text": [
      "Saving model at iteration 0 with best score 0.754\n",
      "[E:0]\tTrain Loss: 1.611\tDev score: 0.754\n"
     ]
    },
    {
     "name": "stderr",
     "output_type": "stream",
     "text": [
      "100%|██████████| 32/32 [00:00<00:00, 146.49it/s, avg_loss=2.31]\n"
     ]
    },
    {
     "name": "stdout",
     "output_type": "stream",
     "text": [
      "Saving model at iteration 1 with best score 0.756\n"
     ]
    },
    {
     "name": "stderr",
     "output_type": "stream",
     "text": [
      "100%|██████████| 32/32 [00:00<00:00, 137.68it/s, avg_loss=2.51]\n",
      "100%|██████████| 32/32 [00:00<00:00, 124.27it/s, avg_loss=2.26]\n",
      "100%|██████████| 32/32 [00:00<00:00, 132.45it/s, avg_loss=2.27]\n"
     ]
    },
    {
     "name": "stdout",
     "output_type": "stream",
     "text": [
      "[E:4]\tTrain Loss: 0.582\tDev score: 0.754\n",
      "Restoring best model from iteration 1 with score 0.756\n",
      "Finished Training\n",
      "Accuracy: 0.756\n",
      "        y=1    y=2   \n",
      " l=1     2      0    \n",
      " l=2    244    754   \n",
      "F1: 0.016\n",
      "        y=1    y=2   \n",
      " l=1     2      0    \n",
      " l=2    244    754   \n",
      "\n",
      "Network architecture:\n",
      "Sequential(\n",
      "  (0): IdentityModule()\n",
      "  (1): Sequential(\n",
      "    (0): Linear(in_features=1000, out_features=10, bias=True)\n",
      "    (1): ReLU()\n",
      "  )\n",
      "  (2): Linear(in_features=10, out_features=2, bias=True)\n",
      ")\n",
      "\n",
      "============================================================\n",
      "[0_3] Testing {'n_epochs': 5, 'batchnorm': True, 'dropout': 0.5, 'layer_out_dims': [1000, 10, 2], 'data_loader_config': {'batch_size': 256, 'num_workers': 1}, 'lr': 0.0033458061827606723}\n",
      "============================================================\n"
     ]
    },
    {
     "name": "stderr",
     "output_type": "stream",
     "text": [
      "100%|██████████| 32/32 [00:00<00:00, 166.85it/s, avg_loss=1.98]\n"
     ]
    },
    {
     "name": "stdout",
     "output_type": "stream",
     "text": [
      "Saving model at iteration 0 with best score 0.999\n",
      "[E:0]\tTrain Loss: 0.506\tDev score: 0.999\n"
     ]
    },
    {
     "name": "stderr",
     "output_type": "stream",
     "text": [
      "100%|██████████| 32/32 [00:00<00:00, 162.10it/s, avg_loss=1.77]\n",
      "100%|██████████| 32/32 [00:00<00:00, 160.73it/s, avg_loss=1.74]\n",
      "100%|██████████| 32/32 [00:00<00:00, 166.01it/s, avg_loss=1.71]\n",
      "100%|██████████| 32/32 [00:00<00:00, 169.27it/s, avg_loss=1.68]\n"
     ]
    },
    {
     "name": "stdout",
     "output_type": "stream",
     "text": [
      "[E:4]\tTrain Loss: 0.431\tDev score: 0.968\n",
      "Restoring best model from iteration 0 with score 0.999\n",
      "Finished Training\n",
      "Accuracy: 0.999\n",
      "        y=1    y=2   \n",
      " l=1    246     1    \n",
      " l=2     0     753   \n",
      "F1: 0.998\n",
      "        y=1    y=2   \n",
      " l=1    246     1    \n",
      " l=2     0     753   \n",
      "\n",
      "Network architecture:\n",
      "Sequential(\n",
      "  (0): IdentityModule()\n",
      "  (1): Sequential(\n",
      "    (0): Linear(in_features=1000, out_features=10, bias=True)\n",
      "    (1): ReLU()\n",
      "  )\n",
      "  (2): Linear(in_features=10, out_features=2, bias=True)\n",
      ")\n",
      "\n",
      "============================================================\n",
      "[0_4] Testing {'n_epochs': 5, 'batchnorm': True, 'dropout': 0.5, 'layer_out_dims': [1000, 10, 2], 'data_loader_config': {'batch_size': 256, 'num_workers': 1}, 'lr': 0.1562818275209659}\n",
      "============================================================\n"
     ]
    },
    {
     "name": "stderr",
     "output_type": "stream",
     "text": [
      "100%|██████████| 32/32 [00:00<00:00, 160.62it/s, avg_loss=2.2]\n"
     ]
    },
    {
     "name": "stdout",
     "output_type": "stream",
     "text": [
      "Saving model at iteration 0 with best score 0.966\n",
      "[E:0]\tTrain Loss: 0.563\tDev score: 0.966\n"
     ]
    },
    {
     "name": "stderr",
     "output_type": "stream",
     "text": [
      "100%|██████████| 32/32 [00:00<00:00, 164.70it/s, avg_loss=1.8]\n",
      "100%|██████████| 32/32 [00:00<00:00, 142.44it/s, avg_loss=1.77]\n",
      "100%|██████████| 32/32 [00:00<00:00, 159.89it/s, avg_loss=1.75]\n",
      "100%|██████████| 32/32 [00:00<00:00, 160.19it/s, avg_loss=1.72]\n"
     ]
    },
    {
     "name": "stdout",
     "output_type": "stream",
     "text": [
      "[E:4]\tTrain Loss: 0.441\tDev score: 0.935\n",
      "Restoring best model from iteration 0 with score 0.966\n",
      "Finished Training\n",
      "Accuracy: 0.966\n",
      "        y=1    y=2   \n",
      " l=1    214     2    \n",
      " l=2    32     752   \n",
      "F1: 0.926\n",
      "        y=1    y=2   \n",
      " l=1    214     2    \n",
      " l=2    32     752   \n",
      "\n",
      "Network architecture:\n",
      "Sequential(\n",
      "  (0): IdentityModule()\n",
      "  (1): Sequential(\n",
      "    (0): Linear(in_features=1000, out_features=100, bias=True)\n",
      "    (1): ReLU()\n",
      "  )\n",
      "  (2): Linear(in_features=100, out_features=2, bias=True)\n",
      ")\n",
      "\n",
      "============================================================\n",
      "[0_5] Testing {'n_epochs': 5, 'batchnorm': False, 'dropout': 0.4, 'layer_out_dims': [1000, 100, 2], 'data_loader_config': {'batch_size': 256, 'num_workers': 1}, 'lr': 0.0009221834225940375}\n",
      "============================================================\n"
     ]
    },
    {
     "name": "stderr",
     "output_type": "stream",
     "text": [
      "100%|██████████| 32/32 [00:00<00:00, 118.74it/s, avg_loss=2.1]\n"
     ]
    },
    {
     "name": "stdout",
     "output_type": "stream",
     "text": [
      "Saving model at iteration 0 with best score 0.925\n",
      "[E:0]\tTrain Loss: 0.537\tDev score: 0.925\n"
     ]
    },
    {
     "name": "stderr",
     "output_type": "stream",
     "text": [
      "100%|██████████| 32/32 [00:00<00:00, 139.46it/s, avg_loss=1.79]\n"
     ]
    },
    {
     "name": "stdout",
     "output_type": "stream",
     "text": [
      "Saving model at iteration 1 with best score 0.999\n"
     ]
    },
    {
     "name": "stderr",
     "output_type": "stream",
     "text": [
      "100%|██████████| 32/32 [00:00<00:00, 140.12it/s, avg_loss=1.75]\n",
      "100%|██████████| 32/32 [00:00<00:00, 111.36it/s, avg_loss=1.72]\n",
      "100%|██████████| 32/32 [00:00<00:00, 145.12it/s, avg_loss=1.69]\n"
     ]
    },
    {
     "name": "stdout",
     "output_type": "stream",
     "text": [
      "[E:4]\tTrain Loss: 0.433\tDev score: 0.979\n",
      "Restoring best model from iteration 1 with score 0.999\n",
      "Finished Training\n",
      "Accuracy: 0.999\n",
      "        y=1    y=2   \n",
      " l=1    246     1    \n",
      " l=2     0     753   \n",
      "F1: 0.998\n",
      "        y=1    y=2   \n",
      " l=1    246     1    \n",
      " l=2     0     753   \n",
      "\n",
      "Network architecture:\n",
      "Sequential(\n",
      "  (0): IdentityModule()\n",
      "  (1): Sequential(\n",
      "    (0): Linear(in_features=1000, out_features=10, bias=True)\n",
      "    (1): ReLU()\n",
      "  )\n",
      "  (2): Linear(in_features=10, out_features=2, bias=True)\n",
      ")\n",
      "\n",
      "============================================================\n",
      "[0_6] Testing {'n_epochs': 5, 'batchnorm': False, 'dropout': 0.4, 'layer_out_dims': [1000, 10, 2], 'data_loader_config': {'batch_size': 256, 'num_workers': 1}, 'lr': 0.0006137630139068201}\n",
      "============================================================\n"
     ]
    },
    {
     "name": "stderr",
     "output_type": "stream",
     "text": [
      "100%|██████████| 32/32 [00:00<00:00, 160.84it/s, avg_loss=2.69]\n"
     ]
    },
    {
     "name": "stdout",
     "output_type": "stream",
     "text": [
      "Saving model at iteration 0 with best score 0.763\n",
      "[E:0]\tTrain Loss: 0.690\tDev score: 0.763\n"
     ]
    },
    {
     "name": "stderr",
     "output_type": "stream",
     "text": [
      "100%|██████████| 32/32 [00:00<00:00, 157.87it/s, avg_loss=2.12]\n"
     ]
    },
    {
     "name": "stdout",
     "output_type": "stream",
     "text": [
      "Saving model at iteration 1 with best score 0.768\n"
     ]
    },
    {
     "name": "stderr",
     "output_type": "stream",
     "text": [
      "100%|██████████| 32/32 [00:00<00:00, 160.22it/s, avg_loss=1.93]\n"
     ]
    },
    {
     "name": "stdout",
     "output_type": "stream",
     "text": [
      "Saving model at iteration 2 with best score 0.899\n"
     ]
    },
    {
     "name": "stderr",
     "output_type": "stream",
     "text": [
      "100%|██████████| 32/32 [00:00<00:00, 158.52it/s, avg_loss=1.83]\n"
     ]
    },
    {
     "name": "stdout",
     "output_type": "stream",
     "text": [
      "Saving model at iteration 3 with best score 0.957\n"
     ]
    },
    {
     "name": "stderr",
     "output_type": "stream",
     "text": [
      "100%|██████████| 32/32 [00:00<00:00, 159.18it/s, avg_loss=1.79]\n"
     ]
    },
    {
     "name": "stdout",
     "output_type": "stream",
     "text": [
      "Saving model at iteration 4 with best score 0.976\n",
      "[E:4]\tTrain Loss: 0.458\tDev score: 0.976\n",
      "Restoring best model from iteration 4 with score 0.976\n",
      "Finished Training\n",
      "Accuracy: 0.976\n",
      "        y=1    y=2   \n",
      " l=1    222     0    \n",
      " l=2    24     754   \n",
      "F1: 0.949\n",
      "        y=1    y=2   \n",
      " l=1    222     0    \n",
      " l=2    24     754   \n",
      "\n",
      "Network architecture:\n",
      "Sequential(\n",
      "  (0): IdentityModule()\n",
      "  (1): Sequential(\n",
      "    (0): Linear(in_features=1000, out_features=10, bias=True)\n",
      "    (1): ReLU()\n",
      "  )\n",
      "  (2): Linear(in_features=10, out_features=2, bias=True)\n",
      ")\n",
      "\n",
      "============================================================\n",
      "[0_7] Testing {'n_epochs': 5, 'batchnorm': True, 'dropout': 0.3, 'layer_out_dims': [1000, 10, 2], 'data_loader_config': {'batch_size': 256, 'num_workers': 1}, 'lr': 0.0003221813647675319}\n",
      "============================================================\n"
     ]
    },
    {
     "name": "stderr",
     "output_type": "stream",
     "text": [
      "100%|██████████| 32/32 [00:00<00:00, 132.72it/s, avg_loss=2.61]\n"
     ]
    },
    {
     "name": "stdout",
     "output_type": "stream",
     "text": [
      "Saving model at iteration 0 with best score 0.756\n",
      "[E:0]\tTrain Loss: 0.667\tDev score: 0.756\n"
     ]
    },
    {
     "name": "stderr",
     "output_type": "stream",
     "text": [
      "100%|██████████| 32/32 [00:00<00:00, 158.41it/s, avg_loss=2.21]\n",
      "100%|██████████| 32/32 [00:00<00:00, 157.28it/s, avg_loss=2.03]\n"
     ]
    },
    {
     "name": "stdout",
     "output_type": "stream",
     "text": [
      "Saving model at iteration 2 with best score 0.775\n"
     ]
    },
    {
     "name": "stderr",
     "output_type": "stream",
     "text": [
      "100%|██████████| 32/32 [00:00<00:00, 156.28it/s, avg_loss=1.92]\n"
     ]
    },
    {
     "name": "stdout",
     "output_type": "stream",
     "text": [
      "Saving model at iteration 3 with best score 0.884\n"
     ]
    },
    {
     "name": "stderr",
     "output_type": "stream",
     "text": [
      "100%|██████████| 32/32 [00:00<00:00, 159.79it/s, avg_loss=1.84]\n"
     ]
    },
    {
     "name": "stdout",
     "output_type": "stream",
     "text": [
      "Saving model at iteration 4 with best score 0.943\n",
      "[E:4]\tTrain Loss: 0.472\tDev score: 0.943\n",
      "Restoring best model from iteration 4 with score 0.943\n",
      "Finished Training\n",
      "Accuracy: 0.943\n",
      "        y=1    y=2   \n",
      " l=1    189     0    \n",
      " l=2    57     754   \n",
      "F1: 0.869\n",
      "        y=1    y=2   \n",
      " l=1    189     0    \n",
      " l=2    57     754   \n",
      "\n",
      "Network architecture:\n",
      "Sequential(\n",
      "  (0): IdentityModule()\n",
      "  (1): Sequential(\n",
      "    (0): Linear(in_features=1000, out_features=100, bias=True)\n",
      "    (1): ReLU()\n",
      "  )\n",
      "  (2): Linear(in_features=100, out_features=2, bias=True)\n",
      ")\n",
      "\n",
      "============================================================\n",
      "[0_8] Testing {'n_epochs': 5, 'batchnorm': True, 'dropout': 0.4, 'layer_out_dims': [1000, 100, 2], 'data_loader_config': {'batch_size': 256, 'num_workers': 1}, 'lr': 0.00011316397936421271}\n",
      "============================================================\n"
     ]
    },
    {
     "name": "stderr",
     "output_type": "stream",
     "text": [
      "100%|██████████| 32/32 [00:00<00:00, 142.31it/s, avg_loss=2.53]\n"
     ]
    },
    {
     "name": "stdout",
     "output_type": "stream",
     "text": [
      "Saving model at iteration 0 with best score 0.754\n",
      "[E:0]\tTrain Loss: 0.648\tDev score: 0.754\n"
     ]
    },
    {
     "name": "stderr",
     "output_type": "stream",
     "text": [
      "100%|██████████| 32/32 [00:00<00:00, 144.40it/s, avg_loss=2.28]\n",
      "100%|██████████| 32/32 [00:00<00:00, 120.30it/s, avg_loss=2.1]\n",
      "100%|██████████| 32/32 [00:00<00:00, 135.68it/s, avg_loss=1.99]\n"
     ]
    },
    {
     "name": "stdout",
     "output_type": "stream",
     "text": [
      "Saving model at iteration 3 with best score 0.763\n"
     ]
    },
    {
     "name": "stderr",
     "output_type": "stream",
     "text": [
      "100%|██████████| 32/32 [00:00<00:00, 139.36it/s, avg_loss=1.9]\n"
     ]
    },
    {
     "name": "stdout",
     "output_type": "stream",
     "text": [
      "Saving model at iteration 4 with best score 0.869\n",
      "[E:4]\tTrain Loss: 0.486\tDev score: 0.869\n",
      "Restoring best model from iteration 4 with score 0.869\n",
      "Finished Training\n",
      "Accuracy: 0.869\n",
      "        y=1    y=2   \n",
      " l=1    115     0    \n",
      " l=2    131    754   \n",
      "F1: 0.637\n",
      "        y=1    y=2   \n",
      " l=1    115     0    \n",
      " l=2    131    754   \n",
      "\n",
      "Network architecture:\n",
      "Sequential(\n",
      "  (0): IdentityModule()\n",
      "  (1): Sequential(\n",
      "    (0): Linear(in_features=1000, out_features=10, bias=True)\n",
      "    (1): ReLU()\n",
      "  )\n",
      "  (2): Linear(in_features=10, out_features=2, bias=True)\n",
      ")\n",
      "\n",
      "============================================================\n",
      "[1_0] Testing {'n_epochs': 17, 'batchnorm': True, 'dropout': 0.5, 'layer_out_dims': [1000, 10, 2], 'data_loader_config': {'batch_size': 256, 'num_workers': 1}, 'lr': 0.0033458061827606723}\n",
      "============================================================\n"
     ]
    },
    {
     "name": "stderr",
     "output_type": "stream",
     "text": [
      "100%|██████████| 32/32 [00:00<00:00, 165.38it/s, avg_loss=1.98]\n"
     ]
    },
    {
     "name": "stdout",
     "output_type": "stream",
     "text": [
      "Saving model at iteration 0 with best score 0.999\n",
      "[E:0]\tTrain Loss: 0.506\tDev score: 0.999\n"
     ]
    },
    {
     "name": "stderr",
     "output_type": "stream",
     "text": [
      "100%|██████████| 32/32 [00:00<00:00, 164.99it/s, avg_loss=1.77]\n",
      "100%|██████████| 32/32 [00:00<00:00, 166.81it/s, avg_loss=1.74]\n",
      "100%|██████████| 32/32 [00:00<00:00, 164.81it/s, avg_loss=1.71]\n",
      "100%|██████████| 32/32 [00:00<00:00, 137.52it/s, avg_loss=1.68]\n",
      "100%|██████████| 32/32 [00:00<00:00, 163.85it/s, avg_loss=1.66]\n"
     ]
    },
    {
     "name": "stdout",
     "output_type": "stream",
     "text": [
      "[E:5]\tTrain Loss: 0.424\tDev score: 0.968\n"
     ]
    },
    {
     "name": "stderr",
     "output_type": "stream",
     "text": [
      "100%|██████████| 32/32 [00:00<00:00, 165.56it/s, avg_loss=1.63]\n",
      "100%|██████████| 32/32 [00:00<00:00, 171.03it/s, avg_loss=1.61]\n",
      "100%|██████████| 32/32 [00:00<00:00, 165.87it/s, avg_loss=1.58]\n",
      "100%|██████████| 32/32 [00:00<00:00, 172.72it/s, avg_loss=1.56]\n",
      "100%|██████████| 32/32 [00:00<00:00, 162.50it/s, avg_loss=1.54]\n"
     ]
    },
    {
     "name": "stdout",
     "output_type": "stream",
     "text": [
      "[E:10]\tTrain Loss: 0.395\tDev score: 0.934\n"
     ]
    },
    {
     "name": "stderr",
     "output_type": "stream",
     "text": [
      "100%|██████████| 32/32 [00:00<00:00, 176.80it/s, avg_loss=1.52]\n",
      "100%|██████████| 32/32 [00:00<00:00, 169.53it/s, avg_loss=1.49]\n",
      "100%|██████████| 32/32 [00:00<00:00, 163.55it/s, avg_loss=1.47]\n",
      "100%|██████████| 32/32 [00:00<00:00, 165.30it/s, avg_loss=1.45]\n",
      "100%|██████████| 32/32 [00:00<00:00, 150.29it/s, avg_loss=1.43]\n"
     ]
    },
    {
     "name": "stdout",
     "output_type": "stream",
     "text": [
      "[E:15]\tTrain Loss: 0.367\tDev score: 0.931\n"
     ]
    },
    {
     "name": "stderr",
     "output_type": "stream",
     "text": [
      "100%|██████████| 32/32 [00:00<00:00, 146.17it/s, avg_loss=1.42]\n"
     ]
    },
    {
     "name": "stdout",
     "output_type": "stream",
     "text": [
      "[E:16]\tTrain Loss: 0.362\tDev score: 0.918\n",
      "Restoring best model from iteration 0 with score 0.999\n",
      "Finished Training\n",
      "Accuracy: 0.999\n",
      "        y=1    y=2   \n",
      " l=1    246     1    \n",
      " l=2     0     753   \n",
      "F1: 0.998\n",
      "        y=1    y=2   \n",
      " l=1    246     1    \n",
      " l=2     0     753   \n",
      "\n",
      "Network architecture:\n",
      "Sequential(\n",
      "  (0): IdentityModule()\n",
      "  (1): Sequential(\n",
      "    (0): Linear(in_features=1000, out_features=100, bias=True)\n",
      "    (1): ReLU()\n",
      "  )\n",
      "  (2): Linear(in_features=100, out_features=2, bias=True)\n",
      ")\n",
      "\n",
      "============================================================\n",
      "[1_1] Testing {'n_epochs': 17, 'batchnorm': False, 'dropout': 0.4, 'layer_out_dims': [1000, 100, 2], 'data_loader_config': {'batch_size': 256, 'num_workers': 1}, 'lr': 0.0009221834225940375}\n",
      "============================================================\n"
     ]
    },
    {
     "name": "stderr",
     "output_type": "stream",
     "text": [
      "100%|██████████| 32/32 [00:00<00:00, 130.07it/s, avg_loss=2.1]\n"
     ]
    },
    {
     "name": "stdout",
     "output_type": "stream",
     "text": [
      "Saving model at iteration 0 with best score 0.925\n",
      "[E:0]\tTrain Loss: 0.537\tDev score: 0.925\n"
     ]
    },
    {
     "name": "stderr",
     "output_type": "stream",
     "text": [
      "100%|██████████| 32/32 [00:00<00:00, 124.00it/s, avg_loss=1.79]\n"
     ]
    },
    {
     "name": "stdout",
     "output_type": "stream",
     "text": [
      "Saving model at iteration 1 with best score 0.999\n"
     ]
    },
    {
     "name": "stderr",
     "output_type": "stream",
     "text": [
      "100%|██████████| 32/32 [00:00<00:00, 135.72it/s, avg_loss=1.75]\n",
      "100%|██████████| 32/32 [00:00<00:00, 140.87it/s, avg_loss=1.72]\n",
      "100%|██████████| 32/32 [00:00<00:00, 137.76it/s, avg_loss=1.69]\n",
      "100%|██████████| 32/32 [00:00<00:00, 140.15it/s, avg_loss=1.66]\n"
     ]
    },
    {
     "name": "stdout",
     "output_type": "stream",
     "text": [
      "[E:5]\tTrain Loss: 0.426\tDev score: 0.967\n"
     ]
    },
    {
     "name": "stderr",
     "output_type": "stream",
     "text": [
      "100%|██████████| 32/32 [00:00<00:00, 142.63it/s, avg_loss=1.63]\n",
      "100%|██████████| 32/32 [00:00<00:00, 136.60it/s, avg_loss=1.6]\n",
      "100%|██████████| 32/32 [00:00<00:00, 109.58it/s, avg_loss=1.56]\n",
      "100%|██████████| 32/32 [00:00<00:00, 134.76it/s, avg_loss=1.52]\n",
      "100%|██████████| 32/32 [00:00<00:00, 146.27it/s, avg_loss=1.48]\n"
     ]
    },
    {
     "name": "stdout",
     "output_type": "stream",
     "text": [
      "[E:10]\tTrain Loss: 0.379\tDev score: 0.955\n"
     ]
    },
    {
     "name": "stderr",
     "output_type": "stream",
     "text": [
      "100%|██████████| 32/32 [00:00<00:00, 141.51it/s, avg_loss=1.44]\n",
      "100%|██████████| 32/32 [00:00<00:00, 145.73it/s, avg_loss=1.4]\n",
      "100%|██████████| 32/32 [00:00<00:00, 142.79it/s, avg_loss=1.38]\n",
      "100%|██████████| 32/32 [00:00<00:00, 145.79it/s, avg_loss=1.36]\n",
      "100%|██████████| 32/32 [00:00<00:00, 87.03it/s, avg_loss=1.34]\n"
     ]
    },
    {
     "name": "stdout",
     "output_type": "stream",
     "text": [
      "[E:15]\tTrain Loss: 0.343\tDev score: 0.946\n"
     ]
    },
    {
     "name": "stderr",
     "output_type": "stream",
     "text": [
      "100%|██████████| 32/32 [00:00<00:00, 141.45it/s, avg_loss=1.32]\n"
     ]
    },
    {
     "name": "stdout",
     "output_type": "stream",
     "text": [
      "[E:16]\tTrain Loss: 0.339\tDev score: 0.947\n",
      "Restoring best model from iteration 1 with score 0.999\n",
      "Finished Training\n",
      "Accuracy: 0.999\n",
      "        y=1    y=2   \n",
      " l=1    246     1    \n",
      " l=2     0     753   \n",
      "F1: 0.998\n",
      "        y=1    y=2   \n",
      " l=1    246     1    \n",
      " l=2     0     753   \n",
      "\n",
      "Network architecture:\n",
      "Sequential(\n",
      "  (0): IdentityModule()\n",
      "  (1): Sequential(\n",
      "    (0): Linear(in_features=1000, out_features=10, bias=True)\n",
      "    (1): ReLU()\n",
      "  )\n",
      "  (2): Linear(in_features=10, out_features=2, bias=True)\n",
      ")\n",
      "\n",
      "============================================================\n",
      "[1_2] Testing {'n_epochs': 17, 'batchnorm': False, 'dropout': 0.4, 'layer_out_dims': [1000, 10, 2], 'data_loader_config': {'batch_size': 256, 'num_workers': 1}, 'lr': 0.0006137630139068201}\n",
      "============================================================\n"
     ]
    },
    {
     "name": "stderr",
     "output_type": "stream",
     "text": [
      "100%|██████████| 32/32 [00:00<00:00, 168.89it/s, avg_loss=2.69]\n"
     ]
    },
    {
     "name": "stdout",
     "output_type": "stream",
     "text": [
      "Saving model at iteration 0 with best score 0.763\n",
      "[E:0]\tTrain Loss: 0.690\tDev score: 0.763\n"
     ]
    },
    {
     "name": "stderr",
     "output_type": "stream",
     "text": [
      "100%|██████████| 32/32 [00:00<00:00, 160.67it/s, avg_loss=2.12]\n"
     ]
    },
    {
     "name": "stdout",
     "output_type": "stream",
     "text": [
      "Saving model at iteration 1 with best score 0.768\n"
     ]
    },
    {
     "name": "stderr",
     "output_type": "stream",
     "text": [
      "100%|██████████| 32/32 [00:00<00:00, 167.21it/s, avg_loss=1.93]\n"
     ]
    },
    {
     "name": "stdout",
     "output_type": "stream",
     "text": [
      "Saving model at iteration 2 with best score 0.899\n"
     ]
    },
    {
     "name": "stderr",
     "output_type": "stream",
     "text": [
      "100%|██████████| 32/32 [00:00<00:00, 160.49it/s, avg_loss=1.83]\n"
     ]
    },
    {
     "name": "stdout",
     "output_type": "stream",
     "text": [
      "Saving model at iteration 3 with best score 0.957\n"
     ]
    },
    {
     "name": "stderr",
     "output_type": "stream",
     "text": [
      "100%|██████████| 32/32 [00:00<00:00, 146.93it/s, avg_loss=1.79]\n"
     ]
    },
    {
     "name": "stdout",
     "output_type": "stream",
     "text": [
      "Saving model at iteration 4 with best score 0.976\n"
     ]
    },
    {
     "name": "stderr",
     "output_type": "stream",
     "text": [
      "100%|██████████| 32/32 [00:00<00:00, 130.18it/s, avg_loss=1.77]\n"
     ]
    },
    {
     "name": "stdout",
     "output_type": "stream",
     "text": [
      "Saving model at iteration 5 with best score 0.980\n",
      "[E:5]\tTrain Loss: 0.454\tDev score: 0.980\n"
     ]
    },
    {
     "name": "stderr",
     "output_type": "stream",
     "text": [
      "100%|██████████| 32/32 [00:00<00:00, 161.34it/s, avg_loss=1.76]\n",
      "100%|██████████| 32/32 [00:00<00:00, 158.31it/s, avg_loss=1.76]\n",
      "100%|██████████| 32/32 [00:00<00:00, 164.88it/s, avg_loss=1.75]\n",
      "100%|██████████| 32/32 [00:00<00:00, 166.62it/s, avg_loss=1.74]\n",
      "100%|██████████| 32/32 [00:00<00:00, 164.05it/s, avg_loss=1.73]\n"
     ]
    },
    {
     "name": "stdout",
     "output_type": "stream",
     "text": [
      "[E:10]\tTrain Loss: 0.443\tDev score: 0.975\n"
     ]
    },
    {
     "name": "stderr",
     "output_type": "stream",
     "text": [
      "100%|██████████| 32/32 [00:00<00:00, 163.37it/s, avg_loss=1.72]\n",
      "100%|██████████| 32/32 [00:00<00:00, 129.04it/s, avg_loss=1.71]\n",
      "100%|██████████| 32/32 [00:00<00:00, 164.06it/s, avg_loss=1.71]\n",
      "100%|██████████| 32/32 [00:00<00:00, 162.89it/s, avg_loss=1.71]\n",
      "100%|██████████| 32/32 [00:00<00:00, 164.44it/s, avg_loss=1.7]\n"
     ]
    },
    {
     "name": "stdout",
     "output_type": "stream",
     "text": [
      "[E:15]\tTrain Loss: 0.436\tDev score: 0.968\n"
     ]
    },
    {
     "name": "stderr",
     "output_type": "stream",
     "text": [
      "100%|██████████| 32/32 [00:00<00:00, 156.14it/s, avg_loss=1.7]\n"
     ]
    },
    {
     "name": "stdout",
     "output_type": "stream",
     "text": [
      "[E:16]\tTrain Loss: 0.435\tDev score: 0.968\n",
      "Restoring best model from iteration 5 with score 0.980\n",
      "Finished Training\n",
      "Accuracy: 0.980\n",
      "        y=1    y=2   \n",
      " l=1    226     0    \n",
      " l=2    20     754   \n",
      "F1: 0.958\n",
      "        y=1    y=2   \n",
      " l=1    226     0    \n",
      " l=2    20     754   \n",
      "\n",
      "Network architecture:\n",
      "Sequential(\n",
      "  (0): IdentityModule()\n",
      "  (1): Sequential(\n",
      "    (0): Linear(in_features=1000, out_features=10, bias=True)\n",
      "    (1): ReLU()\n",
      "  )\n",
      "  (2): Linear(in_features=10, out_features=2, bias=True)\n",
      ")\n",
      "\n",
      "============================================================\n",
      "[2_0] Testing {'n_epochs': 52, 'batchnorm': True, 'dropout': 0.5, 'layer_out_dims': [1000, 10, 2], 'data_loader_config': {'batch_size': 256, 'num_workers': 1}, 'lr': 0.0033458061827606723}\n",
      "============================================================\n"
     ]
    },
    {
     "name": "stderr",
     "output_type": "stream",
     "text": [
      "100%|██████████| 32/32 [00:00<00:00, 161.82it/s, avg_loss=1.98]\n"
     ]
    },
    {
     "name": "stdout",
     "output_type": "stream",
     "text": [
      "Saving model at iteration 0 with best score 0.999\n",
      "[E:0]\tTrain Loss: 0.506\tDev score: 0.999\n"
     ]
    },
    {
     "name": "stderr",
     "output_type": "stream",
     "text": [
      "100%|██████████| 32/32 [00:00<00:00, 166.05it/s, avg_loss=1.77]\n",
      "100%|██████████| 32/32 [00:00<00:00, 143.44it/s, avg_loss=1.74]\n",
      "100%|██████████| 32/32 [00:00<00:00, 153.84it/s, avg_loss=1.71]\n",
      "100%|██████████| 32/32 [00:00<00:00, 164.74it/s, avg_loss=1.68]\n",
      "100%|██████████| 32/32 [00:00<00:00, 160.33it/s, avg_loss=1.66]\n"
     ]
    },
    {
     "name": "stdout",
     "output_type": "stream",
     "text": [
      "[E:5]\tTrain Loss: 0.424\tDev score: 0.968\n"
     ]
    },
    {
     "name": "stderr",
     "output_type": "stream",
     "text": [
      "100%|██████████| 32/32 [00:00<00:00, 164.67it/s, avg_loss=1.63]\n",
      "100%|██████████| 32/32 [00:00<00:00, 168.23it/s, avg_loss=1.61]\n",
      "100%|██████████| 32/32 [00:00<00:00, 170.13it/s, avg_loss=1.58]\n",
      "100%|██████████| 32/32 [00:00<00:00, 168.65it/s, avg_loss=1.56]\n",
      "100%|██████████| 32/32 [00:00<00:00, 144.95it/s, avg_loss=1.54]\n"
     ]
    },
    {
     "name": "stdout",
     "output_type": "stream",
     "text": [
      "[E:10]\tTrain Loss: 0.395\tDev score: 0.934\n"
     ]
    },
    {
     "name": "stderr",
     "output_type": "stream",
     "text": [
      "100%|██████████| 32/32 [00:00<00:00, 164.37it/s, avg_loss=1.52]\n",
      "100%|██████████| 32/32 [00:00<00:00, 162.77it/s, avg_loss=1.49]\n",
      "100%|██████████| 32/32 [00:00<00:00, 167.36it/s, avg_loss=1.47]\n",
      "100%|██████████| 32/32 [00:00<00:00, 161.76it/s, avg_loss=1.45]\n",
      "100%|██████████| 32/32 [00:00<00:00, 163.69it/s, avg_loss=1.43]\n"
     ]
    },
    {
     "name": "stdout",
     "output_type": "stream",
     "text": [
      "[E:15]\tTrain Loss: 0.367\tDev score: 0.931\n"
     ]
    },
    {
     "name": "stderr",
     "output_type": "stream",
     "text": [
      "100%|██████████| 32/32 [00:00<00:00, 164.71it/s, avg_loss=1.42]\n",
      "100%|██████████| 32/32 [00:00<00:00, 166.86it/s, avg_loss=1.4]\n",
      "100%|██████████| 32/32 [00:00<00:00, 125.80it/s, avg_loss=1.39]\n",
      "100%|██████████| 32/32 [00:00<00:00, 166.31it/s, avg_loss=1.37]\n",
      "100%|██████████| 32/32 [00:00<00:00, 167.07it/s, avg_loss=1.36]\n"
     ]
    },
    {
     "name": "stdout",
     "output_type": "stream",
     "text": [
      "[E:20]\tTrain Loss: 0.349\tDev score: 0.911\n"
     ]
    },
    {
     "name": "stderr",
     "output_type": "stream",
     "text": [
      "100%|██████████| 32/32 [00:00<00:00, 157.77it/s, avg_loss=1.35]\n",
      "100%|██████████| 32/32 [00:00<00:00, 159.96it/s, avg_loss=1.34]\n",
      "100%|██████████| 32/32 [00:00<00:00, 167.59it/s, avg_loss=1.33]\n",
      "100%|██████████| 32/32 [00:00<00:00, 163.40it/s, avg_loss=1.32]\n",
      "100%|██████████| 32/32 [00:00<00:00, 165.03it/s, avg_loss=1.31]\n"
     ]
    },
    {
     "name": "stdout",
     "output_type": "stream",
     "text": [
      "[E:25]\tTrain Loss: 0.335\tDev score: 0.903\n"
     ]
    },
    {
     "name": "stderr",
     "output_type": "stream",
     "text": [
      "100%|██████████| 32/32 [00:00<00:00, 126.12it/s, avg_loss=1.3]\n",
      "100%|██████████| 32/32 [00:00<00:00, 167.18it/s, avg_loss=1.3]\n",
      "100%|██████████| 32/32 [00:00<00:00, 166.70it/s, avg_loss=1.29]\n",
      "100%|██████████| 32/32 [00:00<00:00, 166.13it/s, avg_loss=1.28]\n",
      "100%|██████████| 32/32 [00:00<00:00, 159.67it/s, avg_loss=1.28]\n"
     ]
    },
    {
     "name": "stdout",
     "output_type": "stream",
     "text": [
      "[E:30]\tTrain Loss: 0.326\tDev score: 0.891\n"
     ]
    },
    {
     "name": "stderr",
     "output_type": "stream",
     "text": [
      "100%|██████████| 32/32 [00:00<00:00, 157.70it/s, avg_loss=1.27]\n",
      "100%|██████████| 32/32 [00:00<00:00, 165.08it/s, avg_loss=1.26]\n",
      "100%|██████████| 32/32 [00:00<00:00, 169.69it/s, avg_loss=1.26]\n",
      "100%|██████████| 32/32 [00:00<00:00, 145.19it/s, avg_loss=1.26]\n",
      "100%|██████████| 32/32 [00:00<00:00, 162.38it/s, avg_loss=1.25]\n"
     ]
    },
    {
     "name": "stdout",
     "output_type": "stream",
     "text": [
      "[E:35]\tTrain Loss: 0.321\tDev score: 0.880\n"
     ]
    },
    {
     "name": "stderr",
     "output_type": "stream",
     "text": [
      "100%|██████████| 32/32 [00:00<00:00, 158.71it/s, avg_loss=1.25]\n",
      "100%|██████████| 32/32 [00:00<00:00, 160.87it/s, avg_loss=1.24]\n",
      "100%|██████████| 32/32 [00:00<00:00, 160.24it/s, avg_loss=1.24]\n",
      "100%|██████████| 32/32 [00:00<00:00, 160.41it/s, avg_loss=1.24]\n",
      "100%|██████████| 32/32 [00:00<00:00, 166.03it/s, avg_loss=1.24]\n"
     ]
    },
    {
     "name": "stdout",
     "output_type": "stream",
     "text": [
      "[E:40]\tTrain Loss: 0.316\tDev score: 0.876\n"
     ]
    },
    {
     "name": "stderr",
     "output_type": "stream",
     "text": [
      "100%|██████████| 32/32 [00:00<00:00, 144.91it/s, avg_loss=1.23]\n",
      "100%|██████████| 32/32 [00:00<00:00, 160.37it/s, avg_loss=1.23]\n",
      "100%|██████████| 32/32 [00:00<00:00, 165.74it/s, avg_loss=1.23]\n",
      "100%|██████████| 32/32 [00:00<00:00, 168.37it/s, avg_loss=1.22]\n",
      "100%|██████████| 32/32 [00:00<00:00, 169.03it/s, avg_loss=1.23]\n"
     ]
    },
    {
     "name": "stdout",
     "output_type": "stream",
     "text": [
      "[E:45]\tTrain Loss: 0.314\tDev score: 0.872\n"
     ]
    },
    {
     "name": "stderr",
     "output_type": "stream",
     "text": [
      "100%|██████████| 32/32 [00:00<00:00, 163.72it/s, avg_loss=1.22]\n",
      "100%|██████████| 32/32 [00:00<00:00, 160.96it/s, avg_loss=1.22]\n",
      "100%|██████████| 32/32 [00:00<00:00, 163.83it/s, avg_loss=1.22]\n",
      "100%|██████████| 32/32 [00:00<00:00, 145.22it/s, avg_loss=1.22]\n",
      "100%|██████████| 32/32 [00:00<00:00, 167.86it/s, avg_loss=1.21]\n"
     ]
    },
    {
     "name": "stdout",
     "output_type": "stream",
     "text": [
      "[E:50]\tTrain Loss: 0.311\tDev score: 0.876\n"
     ]
    },
    {
     "name": "stderr",
     "output_type": "stream",
     "text": [
      "100%|██████████| 32/32 [00:00<00:00, 165.86it/s, avg_loss=1.21]\n"
     ]
    },
    {
     "name": "stdout",
     "output_type": "stream",
     "text": [
      "[E:51]\tTrain Loss: 0.311\tDev score: 0.879\n",
      "Restoring best model from iteration 0 with score 0.999\n",
      "Finished Training\n",
      "Accuracy: 0.999\n",
      "        y=1    y=2   \n",
      " l=1    246     1    \n",
      " l=2     0     753   \n",
      "F1: 0.998\n",
      "        y=1    y=2   \n",
      " l=1    246     1    \n",
      " l=2     0     753   \n",
      "\n",
      "Network architecture:\n",
      "Sequential(\n",
      "  (0): IdentityModule()\n",
      "  (1): Sequential(\n",
      "    (0): Linear(in_features=1000, out_features=100, bias=True)\n",
      "    (1): ReLU()\n",
      "  )\n",
      "  (2): Linear(in_features=100, out_features=2, bias=True)\n",
      ")\n",
      "\n",
      "============================================================\n",
      "[0_0] Testing {'n_epochs': 17, 'batchnorm': True, 'dropout': 0.5, 'layer_out_dims': [1000, 100, 2], 'data_loader_config': {'batch_size': 256, 'num_workers': 1}, 'lr': 0.001367691000771277}\n",
      "============================================================\n"
     ]
    },
    {
     "name": "stderr",
     "output_type": "stream",
     "text": [
      "100%|██████████| 32/32 [00:00<00:00, 140.95it/s, avg_loss=2.03]\n"
     ]
    },
    {
     "name": "stdout",
     "output_type": "stream",
     "text": [
      "Saving model at iteration 0 with best score 0.993\n",
      "[E:0]\tTrain Loss: 0.519\tDev score: 0.993\n"
     ]
    },
    {
     "name": "stderr",
     "output_type": "stream",
     "text": [
      "100%|██████████| 32/32 [00:00<00:00, 144.09it/s, avg_loss=1.78]\n",
      "100%|██████████| 32/32 [00:00<00:00, 145.21it/s, avg_loss=1.73]\n",
      "100%|██████████| 32/32 [00:00<00:00, 146.48it/s, avg_loss=1.7]\n",
      "100%|██████████| 32/32 [00:00<00:00, 102.75it/s, avg_loss=1.66]\n",
      "100%|██████████| 32/32 [00:00<00:00, 137.97it/s, avg_loss=1.62]\n"
     ]
    },
    {
     "name": "stdout",
     "output_type": "stream",
     "text": [
      "[E:5]\tTrain Loss: 0.415\tDev score: 0.956\n"
     ]
    },
    {
     "name": "stderr",
     "output_type": "stream",
     "text": [
      "100%|██████████| 32/32 [00:00<00:00, 149.62it/s, avg_loss=1.58]\n",
      "100%|██████████| 32/32 [00:00<00:00, 148.13it/s, avg_loss=1.53]\n",
      "100%|██████████| 32/32 [00:00<00:00, 145.71it/s, avg_loss=1.47]\n",
      "100%|██████████| 32/32 [00:00<00:00, 139.59it/s, avg_loss=1.42]\n",
      "100%|██████████| 32/32 [00:00<00:00, 136.10it/s, avg_loss=1.37]\n"
     ]
    },
    {
     "name": "stdout",
     "output_type": "stream",
     "text": [
      "[E:10]\tTrain Loss: 0.349\tDev score: 0.941\n"
     ]
    },
    {
     "name": "stderr",
     "output_type": "stream",
     "text": [
      "100%|██████████| 32/32 [00:00<00:00, 103.85it/s, avg_loss=1.32]\n",
      "100%|██████████| 32/32 [00:00<00:00, 142.40it/s, avg_loss=1.29]\n",
      "100%|██████████| 32/32 [00:00<00:00, 146.68it/s, avg_loss=1.26]\n",
      "100%|██████████| 32/32 [00:00<00:00, 147.86it/s, avg_loss=1.24]\n",
      "100%|██████████| 32/32 [00:00<00:00, 148.70it/s, avg_loss=1.22]\n"
     ]
    },
    {
     "name": "stdout",
     "output_type": "stream",
     "text": [
      "[E:15]\tTrain Loss: 0.313\tDev score: 0.933\n"
     ]
    },
    {
     "name": "stderr",
     "output_type": "stream",
     "text": [
      "100%|██████████| 32/32 [00:00<00:00, 142.61it/s, avg_loss=1.21]\n"
     ]
    },
    {
     "name": "stdout",
     "output_type": "stream",
     "text": [
      "[E:16]\tTrain Loss: 0.311\tDev score: 0.936\n",
      "Restoring best model from iteration 0 with score 0.993\n",
      "Finished Training\n",
      "Accuracy: 0.993\n",
      "        y=1    y=2   \n",
      " l=1    240     1    \n",
      " l=2     6     753   \n",
      "F1: 0.986\n",
      "        y=1    y=2   \n",
      " l=1    240     1    \n",
      " l=2     6     753   \n",
      "\n",
      "Network architecture:\n",
      "Sequential(\n",
      "  (0): IdentityModule()\n",
      "  (1): Sequential(\n",
      "    (0): Linear(in_features=1000, out_features=10, bias=True)\n",
      "    (1): ReLU()\n",
      "  )\n",
      "  (2): Linear(in_features=10, out_features=2, bias=True)\n",
      ")\n",
      "\n",
      "============================================================\n",
      "[0_1] Testing {'n_epochs': 17, 'batchnorm': False, 'dropout': 0.2, 'layer_out_dims': [1000, 10, 2], 'data_loader_config': {'batch_size': 256, 'num_workers': 1}, 'lr': 0.00010401135499791844}\n",
      "============================================================\n"
     ]
    },
    {
     "name": "stderr",
     "output_type": "stream",
     "text": [
      "100%|██████████| 32/32 [00:00<00:00, 165.22it/s, avg_loss=2.46]\n"
     ]
    },
    {
     "name": "stdout",
     "output_type": "stream",
     "text": [
      "Saving model at iteration 0 with best score 0.754\n",
      "[E:0]\tTrain Loss: 0.629\tDev score: 0.754\n"
     ]
    },
    {
     "name": "stderr",
     "output_type": "stream",
     "text": [
      "100%|██████████| 32/32 [00:00<00:00, 148.02it/s, avg_loss=2.37]\n",
      "100%|██████████| 32/32 [00:00<00:00, 161.83it/s, avg_loss=2.28]\n",
      "100%|██████████| 32/32 [00:00<00:00, 164.21it/s, avg_loss=2.21]\n",
      "100%|██████████| 32/32 [00:00<00:00, 167.33it/s, avg_loss=2.15]\n",
      "100%|██████████| 32/32 [00:00<00:00, 164.97it/s, avg_loss=2.09]\n"
     ]
    },
    {
     "name": "stdout",
     "output_type": "stream",
     "text": [
      "[E:5]\tTrain Loss: 0.536\tDev score: 0.754\n"
     ]
    },
    {
     "name": "stderr",
     "output_type": "stream",
     "text": [
      "100%|██████████| 32/32 [00:00<00:00, 164.78it/s, avg_loss=2.05]\n",
      "100%|██████████| 32/32 [00:00<00:00, 169.81it/s, avg_loss=2]\n"
     ]
    },
    {
     "name": "stdout",
     "output_type": "stream",
     "text": [
      "Saving model at iteration 7 with best score 0.758\n"
     ]
    },
    {
     "name": "stderr",
     "output_type": "stream",
     "text": [
      "100%|██████████| 32/32 [00:00<00:00, 169.50it/s, avg_loss=1.95]\n"
     ]
    },
    {
     "name": "stdout",
     "output_type": "stream",
     "text": [
      "Saving model at iteration 8 with best score 0.786\n"
     ]
    },
    {
     "name": "stderr",
     "output_type": "stream",
     "text": [
      "100%|██████████| 32/32 [00:00<00:00, 147.50it/s, avg_loss=1.92]\n"
     ]
    },
    {
     "name": "stdout",
     "output_type": "stream",
     "text": [
      "Saving model at iteration 9 with best score 0.829\n"
     ]
    },
    {
     "name": "stderr",
     "output_type": "stream",
     "text": [
      "100%|██████████| 32/32 [00:00<00:00, 161.94it/s, avg_loss=1.89]\n"
     ]
    },
    {
     "name": "stdout",
     "output_type": "stream",
     "text": [
      "Saving model at iteration 10 with best score 0.860\n",
      "[E:10]\tTrain Loss: 0.483\tDev score: 0.860\n"
     ]
    },
    {
     "name": "stderr",
     "output_type": "stream",
     "text": [
      "100%|██████████| 32/32 [00:00<00:00, 166.38it/s, avg_loss=1.86]\n"
     ]
    },
    {
     "name": "stdout",
     "output_type": "stream",
     "text": [
      "Saving model at iteration 11 with best score 0.890\n"
     ]
    },
    {
     "name": "stderr",
     "output_type": "stream",
     "text": [
      "100%|██████████| 32/32 [00:00<00:00, 166.97it/s, avg_loss=1.84]\n"
     ]
    },
    {
     "name": "stdout",
     "output_type": "stream",
     "text": [
      "Saving model at iteration 12 with best score 0.909\n"
     ]
    },
    {
     "name": "stderr",
     "output_type": "stream",
     "text": [
      "100%|██████████| 32/32 [00:00<00:00, 166.20it/s, avg_loss=1.82]\n"
     ]
    },
    {
     "name": "stdout",
     "output_type": "stream",
     "text": [
      "Saving model at iteration 13 with best score 0.929\n"
     ]
    },
    {
     "name": "stderr",
     "output_type": "stream",
     "text": [
      "100%|██████████| 32/32 [00:00<00:00, 170.35it/s, avg_loss=1.81]\n"
     ]
    },
    {
     "name": "stdout",
     "output_type": "stream",
     "text": [
      "Saving model at iteration 14 with best score 0.939\n"
     ]
    },
    {
     "name": "stderr",
     "output_type": "stream",
     "text": [
      "100%|██████████| 32/32 [00:00<00:00, 167.59it/s, avg_loss=1.8]\n"
     ]
    },
    {
     "name": "stdout",
     "output_type": "stream",
     "text": [
      "Saving model at iteration 15 with best score 0.949\n",
      "[E:15]\tTrain Loss: 0.460\tDev score: 0.949\n"
     ]
    },
    {
     "name": "stderr",
     "output_type": "stream",
     "text": [
      "100%|██████████| 32/32 [00:00<00:00, 159.11it/s, avg_loss=1.79]\n"
     ]
    },
    {
     "name": "stdout",
     "output_type": "stream",
     "text": [
      "Saving model at iteration 16 with best score 0.959\n",
      "[E:16]\tTrain Loss: 0.458\tDev score: 0.959\n",
      "Restoring best model from iteration 16 with score 0.959\n",
      "Finished Training\n",
      "Accuracy: 0.959\n",
      "        y=1    y=2   \n",
      " l=1    205     0    \n",
      " l=2    41     754   \n",
      "F1: 0.909\n",
      "        y=1    y=2   \n",
      " l=1    205     0    \n",
      " l=2    41     754   \n",
      "\n",
      "Network architecture:\n",
      "Sequential(\n",
      "  (0): IdentityModule()\n",
      "  (1): Sequential(\n",
      "    (0): Linear(in_features=1000, out_features=100, bias=True)\n",
      "    (1): ReLU()\n",
      "  )\n",
      "  (2): Linear(in_features=100, out_features=2, bias=True)\n",
      ")\n",
      "\n",
      "============================================================\n",
      "[0_2] Testing {'n_epochs': 17, 'batchnorm': False, 'dropout': 0.4, 'layer_out_dims': [1000, 100, 2], 'data_loader_config': {'batch_size': 256, 'num_workers': 1}, 'lr': 0.7499527285224151}\n",
      "============================================================\n"
     ]
    },
    {
     "name": "stderr",
     "output_type": "stream",
     "text": [
      "100%|██████████| 32/32 [00:00<00:00, 146.25it/s, avg_loss=54.5]\n"
     ]
    },
    {
     "name": "stdout",
     "output_type": "stream",
     "text": [
      "Saving model at iteration 0 with best score 0.754\n",
      "[E:0]\tTrain Loss: 13.957\tDev score: 0.754\n"
     ]
    },
    {
     "name": "stderr",
     "output_type": "stream",
     "text": [
      "100%|██████████| 32/32 [00:00<00:00, 148.83it/s, avg_loss=3.86]\n",
      "100%|██████████| 32/32 [00:00<00:00, 149.90it/s, avg_loss=2.37]\n",
      "100%|██████████| 32/32 [00:00<00:00, 150.47it/s, avg_loss=2.84]\n",
      "100%|██████████| 32/32 [00:00<00:00, 147.59it/s, avg_loss=2.57]\n",
      "100%|██████████| 32/32 [00:00<00:00, 153.57it/s, avg_loss=2.31]\n"
     ]
    },
    {
     "name": "stdout",
     "output_type": "stream",
     "text": [
      "[E:5]\tTrain Loss: 0.592\tDev score: 0.754\n"
     ]
    },
    {
     "name": "stderr",
     "output_type": "stream",
     "text": [
      "100%|██████████| 32/32 [00:00<00:00, 148.50it/s, avg_loss=2.3]\n",
      "100%|██████████| 32/32 [00:00<00:00, 128.45it/s, avg_loss=2.27]\n",
      "100%|██████████| 32/32 [00:00<00:00, 146.89it/s, avg_loss=2.26]\n",
      "100%|██████████| 32/32 [00:00<00:00, 154.29it/s, avg_loss=2.28]\n",
      "100%|██████████| 32/32 [00:00<00:00, 147.39it/s, avg_loss=2.25]\n"
     ]
    },
    {
     "name": "stdout",
     "output_type": "stream",
     "text": [
      "[E:10]\tTrain Loss: 0.576\tDev score: 0.754\n"
     ]
    },
    {
     "name": "stderr",
     "output_type": "stream",
     "text": [
      "100%|██████████| 32/32 [00:00<00:00, 152.48it/s, avg_loss=2.25]\n",
      "100%|██████████| 32/32 [00:00<00:00, 143.16it/s, avg_loss=2.25]\n",
      "100%|██████████| 32/32 [00:00<00:00, 140.63it/s, avg_loss=2.25]\n",
      "100%|██████████| 32/32 [00:00<00:00, 117.15it/s, avg_loss=2.25]\n",
      "100%|██████████| 32/32 [00:00<00:00, 150.08it/s, avg_loss=2.26]\n"
     ]
    },
    {
     "name": "stdout",
     "output_type": "stream",
     "text": [
      "[E:15]\tTrain Loss: 0.578\tDev score: 0.754\n"
     ]
    },
    {
     "name": "stderr",
     "output_type": "stream",
     "text": [
      "100%|██████████| 32/32 [00:00<00:00, 148.26it/s, avg_loss=2.25]\n"
     ]
    },
    {
     "name": "stdout",
     "output_type": "stream",
     "text": [
      "[E:16]\tTrain Loss: 0.575\tDev score: 0.754\n",
      "Restoring best model from iteration 0 with score 0.754\n",
      "Finished Training\n",
      "Accuracy: 0.754\n",
      "        y=1    y=2   \n",
      " l=1     0      0    \n",
      " l=2    246    754   \n",
      "F1: 0.000\n",
      "        y=1    y=2   \n",
      " l=1     0      0    \n",
      " l=2    246    754   \n",
      "\n",
      "Network architecture:\n",
      "Sequential(\n",
      "  (0): IdentityModule()\n",
      "  (1): Sequential(\n",
      "    (0): Linear(in_features=1000, out_features=10, bias=True)\n",
      "    (1): ReLU()\n",
      "  )\n",
      "  (2): Linear(in_features=10, out_features=2, bias=True)\n",
      ")\n",
      "\n",
      "============================================================\n",
      "[0_3] Testing {'n_epochs': 17, 'batchnorm': True, 'dropout': 0.1, 'layer_out_dims': [1000, 10, 2], 'data_loader_config': {'batch_size': 256, 'num_workers': 1}, 'lr': 0.00027748028259548947}\n",
      "============================================================\n"
     ]
    },
    {
     "name": "stderr",
     "output_type": "stream",
     "text": [
      "100%|██████████| 32/32 [00:00<00:00, 161.46it/s, avg_loss=2.32]\n"
     ]
    },
    {
     "name": "stdout",
     "output_type": "stream",
     "text": [
      "Saving model at iteration 0 with best score 0.754\n",
      "[E:0]\tTrain Loss: 0.593\tDev score: 0.754\n"
     ]
    },
    {
     "name": "stderr",
     "output_type": "stream",
     "text": [
      "100%|██████████| 32/32 [00:00<00:00, 165.46it/s, avg_loss=2.18]\n",
      "100%|██████████| 32/32 [00:00<00:00, 166.00it/s, avg_loss=2.04]\n"
     ]
    },
    {
     "name": "stdout",
     "output_type": "stream",
     "text": [
      "Saving model at iteration 2 with best score 0.767\n"
     ]
    },
    {
     "name": "stderr",
     "output_type": "stream",
     "text": [
      "100%|██████████| 32/32 [00:00<00:00, 157.82it/s, avg_loss=1.92]\n"
     ]
    },
    {
     "name": "stdout",
     "output_type": "stream",
     "text": [
      "Saving model at iteration 3 with best score 0.867\n"
     ]
    },
    {
     "name": "stderr",
     "output_type": "stream",
     "text": [
      "100%|██████████| 32/32 [00:00<00:00, 132.12it/s, avg_loss=1.84]\n"
     ]
    },
    {
     "name": "stdout",
     "output_type": "stream",
     "text": [
      "Saving model at iteration 4 with best score 0.930\n"
     ]
    },
    {
     "name": "stderr",
     "output_type": "stream",
     "text": [
      "100%|██████████| 32/32 [00:00<00:00, 146.62it/s, avg_loss=1.8]\n"
     ]
    },
    {
     "name": "stdout",
     "output_type": "stream",
     "text": [
      "Saving model at iteration 5 with best score 0.959\n",
      "[E:5]\tTrain Loss: 0.460\tDev score: 0.959\n"
     ]
    },
    {
     "name": "stderr",
     "output_type": "stream",
     "text": [
      "100%|██████████| 32/32 [00:00<00:00, 164.36it/s, avg_loss=1.77]\n"
     ]
    },
    {
     "name": "stdout",
     "output_type": "stream",
     "text": [
      "Saving model at iteration 6 with best score 0.973\n"
     ]
    },
    {
     "name": "stderr",
     "output_type": "stream",
     "text": [
      "100%|██████████| 32/32 [00:00<00:00, 162.10it/s, avg_loss=1.76]\n"
     ]
    },
    {
     "name": "stdout",
     "output_type": "stream",
     "text": [
      "Saving model at iteration 7 with best score 0.974\n"
     ]
    },
    {
     "name": "stderr",
     "output_type": "stream",
     "text": [
      "100%|██████████| 32/32 [00:00<00:00, 133.35it/s, avg_loss=1.76]\n"
     ]
    },
    {
     "name": "stdout",
     "output_type": "stream",
     "text": [
      "Saving model at iteration 8 with best score 0.978\n"
     ]
    },
    {
     "name": "stderr",
     "output_type": "stream",
     "text": [
      "100%|██████████| 32/32 [00:00<00:00, 166.22it/s, avg_loss=1.75]\n",
      "100%|██████████| 32/32 [00:00<00:00, 164.66it/s, avg_loss=1.74]\n"
     ]
    },
    {
     "name": "stdout",
     "output_type": "stream",
     "text": [
      "[E:10]\tTrain Loss: 0.446\tDev score: 0.975\n"
     ]
    },
    {
     "name": "stderr",
     "output_type": "stream",
     "text": [
      "100%|██████████| 32/32 [00:00<00:00, 105.68it/s, avg_loss=1.74]\n",
      "100%|██████████| 32/32 [00:00<00:00, 160.21it/s, avg_loss=1.73]\n",
      "100%|██████████| 32/32 [00:00<00:00, 164.52it/s, avg_loss=1.73]\n",
      "100%|██████████| 32/32 [00:00<00:00, 165.80it/s, avg_loss=1.73]\n",
      "100%|██████████| 32/32 [00:00<00:00, 162.00it/s, avg_loss=1.73]\n"
     ]
    },
    {
     "name": "stdout",
     "output_type": "stream",
     "text": [
      "[E:15]\tTrain Loss: 0.442\tDev score: 0.976\n"
     ]
    },
    {
     "name": "stderr",
     "output_type": "stream",
     "text": [
      "100%|██████████| 32/32 [00:00<00:00, 162.92it/s, avg_loss=1.72]\n"
     ]
    },
    {
     "name": "stdout",
     "output_type": "stream",
     "text": [
      "[E:16]\tTrain Loss: 0.442\tDev score: 0.975\n",
      "Restoring best model from iteration 8 with score 0.978\n",
      "Finished Training\n",
      "Accuracy: 0.978\n",
      "        y=1    y=2   \n",
      " l=1    224     0    \n",
      " l=2    22     754   \n",
      "F1: 0.953\n",
      "        y=1    y=2   \n",
      " l=1    224     0    \n",
      " l=2    22     754   \n",
      "\n",
      "Network architecture:\n",
      "Sequential(\n",
      "  (0): IdentityModule()\n",
      "  (1): Sequential(\n",
      "    (0): Linear(in_features=1000, out_features=10, bias=True)\n",
      "    (1): ReLU()\n",
      "  )\n",
      "  (2): Linear(in_features=10, out_features=2, bias=True)\n",
      ")\n",
      "\n",
      "============================================================\n",
      "[0_4] Testing {'n_epochs': 17, 'batchnorm': False, 'dropout': 0.3, 'layer_out_dims': [1000, 10, 2], 'data_loader_config': {'batch_size': 256, 'num_workers': 1}, 'lr': 0.03156024061218948}\n",
      "============================================================\n"
     ]
    },
    {
     "name": "stderr",
     "output_type": "stream",
     "text": [
      "100%|██████████| 32/32 [00:00<00:00, 166.21it/s, avg_loss=1.88]\n"
     ]
    },
    {
     "name": "stdout",
     "output_type": "stream",
     "text": [
      "Saving model at iteration 0 with best score 0.958\n",
      "[E:0]\tTrain Loss: 0.483\tDev score: 0.958\n"
     ]
    },
    {
     "name": "stderr",
     "output_type": "stream",
     "text": [
      "100%|██████████| 32/32 [00:00<00:00, 113.15it/s, avg_loss=1.72]\n",
      "100%|██████████| 32/32 [00:00<00:00, 161.00it/s, avg_loss=1.65]\n",
      "100%|██████████| 32/32 [00:00<00:00, 164.84it/s, avg_loss=1.59]\n",
      "100%|██████████| 32/32 [00:00<00:00, 164.03it/s, avg_loss=1.54]\n",
      "100%|██████████| 32/32 [00:00<00:00, 162.93it/s, avg_loss=1.51]\n"
     ]
    },
    {
     "name": "stdout",
     "output_type": "stream",
     "text": [
      "[E:5]\tTrain Loss: 0.387\tDev score: 0.907\n"
     ]
    },
    {
     "name": "stderr",
     "output_type": "stream",
     "text": [
      "100%|██████████| 32/32 [00:00<00:00, 156.81it/s, avg_loss=1.48]\n",
      "100%|██████████| 32/32 [00:00<00:00, 158.42it/s, avg_loss=1.47]\n",
      "100%|██████████| 32/32 [00:00<00:00, 156.11it/s, avg_loss=1.45]\n",
      "100%|██████████| 32/32 [00:00<00:00, 120.31it/s, avg_loss=1.43]\n",
      "100%|██████████| 32/32 [00:00<00:00, 155.82it/s, avg_loss=1.42]\n"
     ]
    },
    {
     "name": "stdout",
     "output_type": "stream",
     "text": [
      "[E:10]\tTrain Loss: 0.363\tDev score: 0.892\n"
     ]
    },
    {
     "name": "stderr",
     "output_type": "stream",
     "text": [
      "100%|██████████| 32/32 [00:00<00:00, 157.37it/s, avg_loss=1.4]\n",
      "100%|██████████| 32/32 [00:00<00:00, 159.26it/s, avg_loss=1.39]\n",
      "100%|██████████| 32/32 [00:00<00:00, 155.82it/s, avg_loss=1.38]\n",
      "100%|██████████| 32/32 [00:00<00:00, 156.00it/s, avg_loss=1.37]\n",
      "100%|██████████| 32/32 [00:00<00:00, 158.24it/s, avg_loss=1.36]\n"
     ]
    },
    {
     "name": "stdout",
     "output_type": "stream",
     "text": [
      "[E:15]\tTrain Loss: 0.347\tDev score: 0.894\n"
     ]
    },
    {
     "name": "stderr",
     "output_type": "stream",
     "text": [
      "100%|██████████| 32/32 [00:00<00:00, 117.56it/s, avg_loss=1.34]\n"
     ]
    },
    {
     "name": "stdout",
     "output_type": "stream",
     "text": [
      "[E:16]\tTrain Loss: 0.343\tDev score: 0.879\n",
      "Restoring best model from iteration 0 with score 0.958\n",
      "Finished Training\n",
      "Accuracy: 0.958\n",
      "        y=1    y=2   \n",
      " l=1    204     0    \n",
      " l=2    42     754   \n",
      "F1: 0.907\n",
      "        y=1    y=2   \n",
      " l=1    204     0    \n",
      " l=2    42     754   \n",
      "\n",
      "Network architecture:\n",
      "Sequential(\n",
      "  (0): IdentityModule()\n",
      "  (1): Sequential(\n",
      "    (0): Linear(in_features=1000, out_features=100, bias=True)\n",
      "    (1): ReLU()\n",
      "  )\n",
      "  (2): Linear(in_features=100, out_features=2, bias=True)\n",
      ")\n",
      "\n",
      "============================================================\n",
      "[0_5] Testing {'n_epochs': 17, 'batchnorm': True, 'dropout': 0.5, 'layer_out_dims': [1000, 100, 2], 'data_loader_config': {'batch_size': 256, 'num_workers': 1}, 'lr': 3.6014238537255863e-05}\n",
      "============================================================\n"
     ]
    },
    {
     "name": "stderr",
     "output_type": "stream",
     "text": [
      "100%|██████████| 32/32 [00:00<00:00, 131.47it/s, avg_loss=2.66]\n"
     ]
    },
    {
     "name": "stdout",
     "output_type": "stream",
     "text": [
      "Saving model at iteration 0 with best score 0.752\n",
      "[E:0]\tTrain Loss: 0.680\tDev score: 0.752\n"
     ]
    },
    {
     "name": "stderr",
     "output_type": "stream",
     "text": [
      "100%|██████████| 32/32 [00:00<00:00, 140.71it/s, avg_loss=2.55]\n"
     ]
    },
    {
     "name": "stdout",
     "output_type": "stream",
     "text": [
      "Saving model at iteration 1 with best score 0.754\n"
     ]
    },
    {
     "name": "stderr",
     "output_type": "stream",
     "text": [
      "100%|██████████| 32/32 [00:00<00:00, 135.62it/s, avg_loss=2.45]\n",
      "100%|██████████| 32/32 [00:00<00:00, 133.99it/s, avg_loss=2.35]\n",
      "100%|██████████| 32/32 [00:00<00:00, 132.49it/s, avg_loss=2.27]\n",
      "100%|██████████| 32/32 [00:00<00:00, 101.59it/s, avg_loss=2.2]\n"
     ]
    },
    {
     "name": "stdout",
     "output_type": "stream",
     "text": [
      "[E:5]\tTrain Loss: 0.562\tDev score: 0.754\n"
     ]
    },
    {
     "name": "stderr",
     "output_type": "stream",
     "text": [
      "100%|██████████| 32/32 [00:00<00:00, 134.85it/s, avg_loss=2.14]\n",
      "100%|██████████| 32/32 [00:00<00:00, 142.01it/s, avg_loss=2.09]\n",
      "100%|██████████| 32/32 [00:00<00:00, 141.62it/s, avg_loss=2.04]\n"
     ]
    },
    {
     "name": "stdout",
     "output_type": "stream",
     "text": [
      "Saving model at iteration 8 with best score 0.755\n"
     ]
    },
    {
     "name": "stderr",
     "output_type": "stream",
     "text": [
      "100%|██████████| 32/32 [00:00<00:00, 141.21it/s, avg_loss=2]\n"
     ]
    },
    {
     "name": "stdout",
     "output_type": "stream",
     "text": [
      "Saving model at iteration 9 with best score 0.759\n"
     ]
    },
    {
     "name": "stderr",
     "output_type": "stream",
     "text": [
      "100%|██████████| 32/32 [00:00<00:00, 141.31it/s, avg_loss=1.97]\n"
     ]
    },
    {
     "name": "stdout",
     "output_type": "stream",
     "text": [
      "Saving model at iteration 10 with best score 0.772\n",
      "[E:10]\tTrain Loss: 0.504\tDev score: 0.772\n"
     ]
    },
    {
     "name": "stderr",
     "output_type": "stream",
     "text": [
      "100%|██████████| 32/32 [00:00<00:00, 143.86it/s, avg_loss=1.94]\n"
     ]
    },
    {
     "name": "stdout",
     "output_type": "stream",
     "text": [
      "Saving model at iteration 11 with best score 0.803\n"
     ]
    },
    {
     "name": "stderr",
     "output_type": "stream",
     "text": [
      "100%|██████████| 32/32 [00:00<00:00, 109.73it/s, avg_loss=1.91]\n"
     ]
    },
    {
     "name": "stdout",
     "output_type": "stream",
     "text": [
      "Saving model at iteration 12 with best score 0.842\n"
     ]
    },
    {
     "name": "stderr",
     "output_type": "stream",
     "text": [
      "100%|██████████| 32/32 [00:00<00:00, 138.78it/s, avg_loss=1.88]\n"
     ]
    },
    {
     "name": "stdout",
     "output_type": "stream",
     "text": [
      "Saving model at iteration 13 with best score 0.862\n"
     ]
    },
    {
     "name": "stderr",
     "output_type": "stream",
     "text": [
      "100%|██████████| 32/32 [00:00<00:00, 147.47it/s, avg_loss=1.86]\n"
     ]
    },
    {
     "name": "stdout",
     "output_type": "stream",
     "text": [
      "Saving model at iteration 14 with best score 0.887\n"
     ]
    },
    {
     "name": "stderr",
     "output_type": "stream",
     "text": [
      "100%|██████████| 32/32 [00:00<00:00, 141.13it/s, avg_loss=1.84]\n"
     ]
    },
    {
     "name": "stdout",
     "output_type": "stream",
     "text": [
      "Saving model at iteration 15 with best score 0.911\n",
      "[E:15]\tTrain Loss: 0.471\tDev score: 0.911\n"
     ]
    },
    {
     "name": "stderr",
     "output_type": "stream",
     "text": [
      "100%|██████████| 32/32 [00:00<00:00, 139.77it/s, avg_loss=1.82]\n"
     ]
    },
    {
     "name": "stdout",
     "output_type": "stream",
     "text": [
      "Saving model at iteration 16 with best score 0.927\n",
      "[E:16]\tTrain Loss: 0.466\tDev score: 0.927\n",
      "Restoring best model from iteration 16 with score 0.927\n",
      "Finished Training\n",
      "Accuracy: 0.927\n",
      "        y=1    y=2   \n",
      " l=1    173     0    \n",
      " l=2    73     754   \n",
      "F1: 0.826\n",
      "        y=1    y=2   \n",
      " l=1    173     0    \n",
      " l=2    73     754   \n",
      "\n",
      "Network architecture:\n",
      "Sequential(\n",
      "  (0): IdentityModule()\n",
      "  (1): Sequential(\n",
      "    (0): Linear(in_features=1000, out_features=100, bias=True)\n",
      "    (1): ReLU()\n",
      "  )\n",
      "  (2): Linear(in_features=100, out_features=2, bias=True)\n",
      ")\n",
      "\n",
      "============================================================\n",
      "[1_0] Testing {'n_epochs': 52, 'batchnorm': True, 'dropout': 0.5, 'layer_out_dims': [1000, 100, 2], 'data_loader_config': {'batch_size': 256, 'num_workers': 1}, 'lr': 0.001367691000771277}\n",
      "============================================================\n"
     ]
    },
    {
     "name": "stderr",
     "output_type": "stream",
     "text": [
      "100%|██████████| 32/32 [00:00<00:00, 141.08it/s, avg_loss=2.03]\n"
     ]
    },
    {
     "name": "stdout",
     "output_type": "stream",
     "text": [
      "Saving model at iteration 0 with best score 0.993\n",
      "[E:0]\tTrain Loss: 0.519\tDev score: 0.993\n"
     ]
    },
    {
     "name": "stderr",
     "output_type": "stream",
     "text": [
      "100%|██████████| 32/32 [00:00<00:00, 132.03it/s, avg_loss=1.78]\n",
      "100%|██████████| 32/32 [00:00<00:00, 139.82it/s, avg_loss=1.73]\n",
      "100%|██████████| 32/32 [00:00<00:00, 147.41it/s, avg_loss=1.7]\n",
      "100%|██████████| 32/32 [00:00<00:00, 152.60it/s, avg_loss=1.66]\n",
      "100%|██████████| 32/32 [00:00<00:00, 149.22it/s, avg_loss=1.62]\n"
     ]
    },
    {
     "name": "stdout",
     "output_type": "stream",
     "text": [
      "[E:5]\tTrain Loss: 0.415\tDev score: 0.956\n"
     ]
    },
    {
     "name": "stderr",
     "output_type": "stream",
     "text": [
      "100%|██████████| 32/32 [00:00<00:00, 151.42it/s, avg_loss=1.58]\n",
      "100%|██████████| 32/32 [00:00<00:00, 147.16it/s, avg_loss=1.53]\n",
      "100%|██████████| 32/32 [00:00<00:00, 140.99it/s, avg_loss=1.47]\n",
      "100%|██████████| 32/32 [00:00<00:00, 121.55it/s, avg_loss=1.42]\n",
      "100%|██████████| 32/32 [00:00<00:00, 146.73it/s, avg_loss=1.37]\n"
     ]
    },
    {
     "name": "stdout",
     "output_type": "stream",
     "text": [
      "[E:10]\tTrain Loss: 0.349\tDev score: 0.941\n"
     ]
    },
    {
     "name": "stderr",
     "output_type": "stream",
     "text": [
      "100%|██████████| 32/32 [00:00<00:00, 147.26it/s, avg_loss=1.32]\n",
      "100%|██████████| 32/32 [00:00<00:00, 146.39it/s, avg_loss=1.29]\n",
      "100%|██████████| 32/32 [00:00<00:00, 134.78it/s, avg_loss=1.26]\n",
      "100%|██████████| 32/32 [00:00<00:00, 144.75it/s, avg_loss=1.24]\n",
      "100%|██████████| 32/32 [00:00<00:00, 124.64it/s, avg_loss=1.22]\n"
     ]
    },
    {
     "name": "stdout",
     "output_type": "stream",
     "text": [
      "[E:15]\tTrain Loss: 0.313\tDev score: 0.933\n"
     ]
    },
    {
     "name": "stderr",
     "output_type": "stream",
     "text": [
      "100%|██████████| 32/32 [00:00<00:00, 116.55it/s, avg_loss=1.21]\n",
      "100%|██████████| 32/32 [00:00<00:00, 136.27it/s, avg_loss=1.21]\n",
      "100%|██████████| 32/32 [00:00<00:00, 144.57it/s, avg_loss=1.2]\n",
      "100%|██████████| 32/32 [00:00<00:00, 149.23it/s, avg_loss=1.2]\n",
      "100%|██████████| 32/32 [00:00<00:00, 132.63it/s, avg_loss=1.2]\n"
     ]
    },
    {
     "name": "stdout",
     "output_type": "stream",
     "text": [
      "[E:20]\tTrain Loss: 0.307\tDev score: 0.932\n"
     ]
    },
    {
     "name": "stderr",
     "output_type": "stream",
     "text": [
      "100%|██████████| 32/32 [00:00<00:00, 142.95it/s, avg_loss=1.2]\n",
      "100%|██████████| 32/32 [00:00<00:00, 118.58it/s, avg_loss=1.19]\n",
      "100%|██████████| 32/32 [00:00<00:00, 151.41it/s, avg_loss=1.19]\n",
      "100%|██████████| 32/32 [00:00<00:00, 142.43it/s, avg_loss=1.19]\n",
      "100%|██████████| 32/32 [00:00<00:00, 146.38it/s, avg_loss=1.18]\n"
     ]
    },
    {
     "name": "stdout",
     "output_type": "stream",
     "text": [
      "[E:25]\tTrain Loss: 0.303\tDev score: 0.945\n"
     ]
    },
    {
     "name": "stderr",
     "output_type": "stream",
     "text": [
      "100%|██████████| 32/32 [00:00<00:00, 149.22it/s, avg_loss=1.18]\n",
      "100%|██████████| 32/32 [00:00<00:00, 147.30it/s, avg_loss=1.18]\n",
      "100%|██████████| 32/32 [00:00<00:00, 147.33it/s, avg_loss=1.18]\n",
      "100%|██████████| 32/32 [00:00<00:00, 151.92it/s, avg_loss=1.18]\n",
      "100%|██████████| 32/32 [00:00<00:00, 127.71it/s, avg_loss=1.18]\n"
     ]
    },
    {
     "name": "stdout",
     "output_type": "stream",
     "text": [
      "[E:30]\tTrain Loss: 0.302\tDev score: 0.932\n"
     ]
    },
    {
     "name": "stderr",
     "output_type": "stream",
     "text": [
      "100%|██████████| 32/32 [00:00<00:00, 145.80it/s, avg_loss=1.18]\n",
      "100%|██████████| 32/32 [00:00<00:00, 150.80it/s, avg_loss=1.18]\n",
      "100%|██████████| 32/32 [00:00<00:00, 153.09it/s, avg_loss=1.17]\n",
      "100%|██████████| 32/32 [00:00<00:00, 148.68it/s, avg_loss=1.16]\n",
      "100%|██████████| 32/32 [00:00<00:00, 148.72it/s, avg_loss=1.16]\n"
     ]
    },
    {
     "name": "stdout",
     "output_type": "stream",
     "text": [
      "[E:35]\tTrain Loss: 0.297\tDev score: 0.938\n"
     ]
    },
    {
     "name": "stderr",
     "output_type": "stream",
     "text": [
      "100%|██████████| 32/32 [00:00<00:00, 149.20it/s, avg_loss=1.16]\n",
      "100%|██████████| 32/32 [00:00<00:00, 114.18it/s, avg_loss=1.16]\n",
      "100%|██████████| 32/32 [00:00<00:00, 146.09it/s, avg_loss=1.16]\n",
      "100%|██████████| 32/32 [00:00<00:00, 151.36it/s, avg_loss=1.16]\n",
      "100%|██████████| 32/32 [00:00<00:00, 151.03it/s, avg_loss=1.16]\n"
     ]
    },
    {
     "name": "stdout",
     "output_type": "stream",
     "text": [
      "[E:40]\tTrain Loss: 0.297\tDev score: 0.937\n"
     ]
    },
    {
     "name": "stderr",
     "output_type": "stream",
     "text": [
      "100%|██████████| 32/32 [00:00<00:00, 148.59it/s, avg_loss=1.16]\n",
      "100%|██████████| 32/32 [00:00<00:00, 148.62it/s, avg_loss=1.16]\n",
      "100%|██████████| 32/32 [00:00<00:00, 151.21it/s, avg_loss=1.16]\n",
      "100%|██████████| 32/32 [00:00<00:00, 122.20it/s, avg_loss=1.16]\n",
      "100%|██████████| 32/32 [00:00<00:00, 148.96it/s, avg_loss=1.16]\n"
     ]
    },
    {
     "name": "stdout",
     "output_type": "stream",
     "text": [
      "[E:45]\tTrain Loss: 0.297\tDev score: 0.936\n"
     ]
    },
    {
     "name": "stderr",
     "output_type": "stream",
     "text": [
      "100%|██████████| 32/32 [00:00<00:00, 148.10it/s, avg_loss=1.16]\n",
      "100%|██████████| 32/32 [00:00<00:00, 150.54it/s, avg_loss=1.16]\n",
      "100%|██████████| 32/32 [00:00<00:00, 150.05it/s, avg_loss=1.16]\n",
      "100%|██████████| 32/32 [00:00<00:00, 150.37it/s, avg_loss=1.16]\n",
      "100%|██████████| 32/32 [00:00<00:00, 149.91it/s, avg_loss=1.16]\n"
     ]
    },
    {
     "name": "stdout",
     "output_type": "stream",
     "text": [
      "[E:50]\tTrain Loss: 0.297\tDev score: 0.936\n"
     ]
    },
    {
     "name": "stderr",
     "output_type": "stream",
     "text": [
      "100%|██████████| 32/32 [00:00<00:00, 144.01it/s, avg_loss=1.16]\n"
     ]
    },
    {
     "name": "stdout",
     "output_type": "stream",
     "text": [
      "[E:51]\tTrain Loss: 0.297\tDev score: 0.936\n",
      "Restoring best model from iteration 0 with score 0.993\n",
      "Finished Training\n",
      "Accuracy: 0.993\n",
      "        y=1    y=2   \n",
      " l=1    240     1    \n",
      " l=2     6     753   \n",
      "F1: 0.986\n",
      "        y=1    y=2   \n",
      " l=1    240     1    \n",
      " l=2     6     753   \n",
      "\n",
      "Network architecture:\n",
      "Sequential(\n",
      "  (0): IdentityModule()\n",
      "  (1): Sequential(\n",
      "    (0): Linear(in_features=1000, out_features=10, bias=True)\n",
      "    (1): ReLU()\n",
      "  )\n",
      "  (2): Linear(in_features=10, out_features=2, bias=True)\n",
      ")\n",
      "\n",
      "============================================================\n",
      "[1_1] Testing {'n_epochs': 52, 'batchnorm': True, 'dropout': 0.1, 'layer_out_dims': [1000, 10, 2], 'data_loader_config': {'batch_size': 256, 'num_workers': 1}, 'lr': 0.00027748028259548947}\n",
      "============================================================\n"
     ]
    },
    {
     "name": "stderr",
     "output_type": "stream",
     "text": [
      "100%|██████████| 32/32 [00:00<00:00, 161.72it/s, avg_loss=2.32]\n"
     ]
    },
    {
     "name": "stdout",
     "output_type": "stream",
     "text": [
      "Saving model at iteration 0 with best score 0.754\n",
      "[E:0]\tTrain Loss: 0.593\tDev score: 0.754\n"
     ]
    },
    {
     "name": "stderr",
     "output_type": "stream",
     "text": [
      "100%|██████████| 32/32 [00:00<00:00, 162.46it/s, avg_loss=2.18]\n",
      "100%|██████████| 32/32 [00:00<00:00, 158.95it/s, avg_loss=2.04]\n"
     ]
    },
    {
     "name": "stdout",
     "output_type": "stream",
     "text": [
      "Saving model at iteration 2 with best score 0.767\n"
     ]
    },
    {
     "name": "stderr",
     "output_type": "stream",
     "text": [
      "100%|██████████| 32/32 [00:00<00:00, 159.11it/s, avg_loss=1.92]\n"
     ]
    },
    {
     "name": "stdout",
     "output_type": "stream",
     "text": [
      "Saving model at iteration 3 with best score 0.867\n"
     ]
    },
    {
     "name": "stderr",
     "output_type": "stream",
     "text": [
      "100%|██████████| 32/32 [00:00<00:00, 164.51it/s, avg_loss=1.84]\n"
     ]
    },
    {
     "name": "stdout",
     "output_type": "stream",
     "text": [
      "Saving model at iteration 4 with best score 0.930\n"
     ]
    },
    {
     "name": "stderr",
     "output_type": "stream",
     "text": [
      "100%|██████████| 32/32 [00:00<00:00, 167.80it/s, avg_loss=1.8]\n"
     ]
    },
    {
     "name": "stdout",
     "output_type": "stream",
     "text": [
      "Saving model at iteration 5 with best score 0.959\n",
      "[E:5]\tTrain Loss: 0.460\tDev score: 0.959\n"
     ]
    },
    {
     "name": "stderr",
     "output_type": "stream",
     "text": [
      "100%|██████████| 32/32 [00:00<00:00, 165.66it/s, avg_loss=1.77]\n"
     ]
    },
    {
     "name": "stdout",
     "output_type": "stream",
     "text": [
      "Saving model at iteration 6 with best score 0.973\n"
     ]
    },
    {
     "name": "stderr",
     "output_type": "stream",
     "text": [
      "100%|██████████| 32/32 [00:00<00:00, 128.74it/s, avg_loss=1.76]\n"
     ]
    },
    {
     "name": "stdout",
     "output_type": "stream",
     "text": [
      "Saving model at iteration 7 with best score 0.974\n"
     ]
    },
    {
     "name": "stderr",
     "output_type": "stream",
     "text": [
      "100%|██████████| 32/32 [00:00<00:00, 164.97it/s, avg_loss=1.76]\n"
     ]
    },
    {
     "name": "stdout",
     "output_type": "stream",
     "text": [
      "Saving model at iteration 8 with best score 0.978\n"
     ]
    },
    {
     "name": "stderr",
     "output_type": "stream",
     "text": [
      "100%|██████████| 32/32 [00:00<00:00, 165.09it/s, avg_loss=1.75]\n",
      "100%|██████████| 32/32 [00:00<00:00, 164.98it/s, avg_loss=1.74]\n"
     ]
    },
    {
     "name": "stdout",
     "output_type": "stream",
     "text": [
      "[E:10]\tTrain Loss: 0.446\tDev score: 0.975\n"
     ]
    },
    {
     "name": "stderr",
     "output_type": "stream",
     "text": [
      "100%|██████████| 32/32 [00:00<00:00, 159.83it/s, avg_loss=1.74]\n",
      "100%|██████████| 32/32 [00:00<00:00, 168.24it/s, avg_loss=1.73]\n",
      "100%|██████████| 32/32 [00:00<00:00, 168.77it/s, avg_loss=1.73]\n",
      "100%|██████████| 32/32 [00:00<00:00, 163.17it/s, avg_loss=1.73]\n",
      "100%|██████████| 32/32 [00:00<00:00, 132.82it/s, avg_loss=1.73]\n"
     ]
    },
    {
     "name": "stdout",
     "output_type": "stream",
     "text": [
      "[E:15]\tTrain Loss: 0.442\tDev score: 0.976\n"
     ]
    },
    {
     "name": "stderr",
     "output_type": "stream",
     "text": [
      "100%|██████████| 32/32 [00:00<00:00, 162.90it/s, avg_loss=1.72]\n",
      "100%|██████████| 32/32 [00:00<00:00, 163.48it/s, avg_loss=1.72]\n",
      "100%|██████████| 32/32 [00:00<00:00, 164.62it/s, avg_loss=1.72]\n",
      "100%|██████████| 32/32 [00:00<00:00, 168.08it/s, avg_loss=1.72]\n",
      "100%|██████████| 32/32 [00:00<00:00, 165.56it/s, avg_loss=1.72]\n"
     ]
    },
    {
     "name": "stdout",
     "output_type": "stream",
     "text": [
      "[E:20]\tTrain Loss: 0.439\tDev score: 0.977\n"
     ]
    },
    {
     "name": "stderr",
     "output_type": "stream",
     "text": [
      "100%|██████████| 32/32 [00:00<00:00, 162.73it/s, avg_loss=1.71]\n",
      "100%|██████████| 32/32 [00:00<00:00, 131.72it/s, avg_loss=1.71]\n",
      "100%|██████████| 32/32 [00:00<00:00, 166.03it/s, avg_loss=1.71]\n",
      "100%|██████████| 32/32 [00:00<00:00, 165.85it/s, avg_loss=1.71]\n",
      "100%|██████████| 32/32 [00:00<00:00, 163.24it/s, avg_loss=1.71]\n"
     ]
    },
    {
     "name": "stdout",
     "output_type": "stream",
     "text": [
      "[E:25]\tTrain Loss: 0.437\tDev score: 0.977\n"
     ]
    },
    {
     "name": "stderr",
     "output_type": "stream",
     "text": [
      "100%|██████████| 32/32 [00:00<00:00, 156.45it/s, avg_loss=1.71]\n",
      "100%|██████████| 32/32 [00:00<00:00, 163.74it/s, avg_loss=1.71]\n",
      "100%|██████████| 32/32 [00:00<00:00, 164.09it/s, avg_loss=1.7]\n",
      "100%|██████████| 32/32 [00:00<00:00, 165.94it/s, avg_loss=1.7]\n",
      "100%|██████████| 32/32 [00:00<00:00, 124.96it/s, avg_loss=1.7]\n"
     ]
    },
    {
     "name": "stdout",
     "output_type": "stream",
     "text": [
      "[E:30]\tTrain Loss: 0.436\tDev score: 0.977\n"
     ]
    },
    {
     "name": "stderr",
     "output_type": "stream",
     "text": [
      "100%|██████████| 32/32 [00:00<00:00, 158.30it/s, avg_loss=1.7]\n",
      "100%|██████████| 32/32 [00:00<00:00, 163.09it/s, avg_loss=1.7]\n",
      "100%|██████████| 32/32 [00:00<00:00, 164.84it/s, avg_loss=1.7]\n",
      "100%|██████████| 32/32 [00:00<00:00, 155.58it/s, avg_loss=1.7]\n",
      "100%|██████████| 32/32 [00:00<00:00, 150.69it/s, avg_loss=1.7]\n"
     ]
    },
    {
     "name": "stdout",
     "output_type": "stream",
     "text": [
      "[E:35]\tTrain Loss: 0.434\tDev score: 0.974\n"
     ]
    },
    {
     "name": "stderr",
     "output_type": "stream",
     "text": [
      "100%|██████████| 32/32 [00:00<00:00, 157.54it/s, avg_loss=1.69]\n",
      "100%|██████████| 32/32 [00:00<00:00, 146.69it/s, avg_loss=1.69]\n",
      "100%|██████████| 32/32 [00:00<00:00, 160.25it/s, avg_loss=1.69]\n",
      "100%|██████████| 32/32 [00:00<00:00, 164.17it/s, avg_loss=1.69]\n",
      "100%|██████████| 32/32 [00:00<00:00, 158.20it/s, avg_loss=1.69]\n"
     ]
    },
    {
     "name": "stdout",
     "output_type": "stream",
     "text": [
      "[E:40]\tTrain Loss: 0.433\tDev score: 0.973\n"
     ]
    },
    {
     "name": "stderr",
     "output_type": "stream",
     "text": [
      "100%|██████████| 32/32 [00:00<00:00, 160.53it/s, avg_loss=1.69]\n",
      "100%|██████████| 32/32 [00:00<00:00, 157.18it/s, avg_loss=1.69]\n",
      "100%|██████████| 32/32 [00:00<00:00, 165.09it/s, avg_loss=1.69]\n",
      "100%|██████████| 32/32 [00:00<00:00, 164.55it/s, avg_loss=1.69]\n",
      "100%|██████████| 32/32 [00:00<00:00, 124.50it/s, avg_loss=1.68]\n"
     ]
    },
    {
     "name": "stdout",
     "output_type": "stream",
     "text": [
      "[E:45]\tTrain Loss: 0.431\tDev score: 0.969\n"
     ]
    },
    {
     "name": "stderr",
     "output_type": "stream",
     "text": [
      "100%|██████████| 32/32 [00:00<00:00, 171.12it/s, avg_loss=1.68]\n",
      "100%|██████████| 32/32 [00:00<00:00, 161.67it/s, avg_loss=1.68]\n",
      "100%|██████████| 32/32 [00:00<00:00, 159.07it/s, avg_loss=1.68]\n",
      "100%|██████████| 32/32 [00:00<00:00, 168.60it/s, avg_loss=1.68]\n",
      "100%|██████████| 32/32 [00:00<00:00, 161.52it/s, avg_loss=1.68]\n"
     ]
    },
    {
     "name": "stdout",
     "output_type": "stream",
     "text": [
      "[E:50]\tTrain Loss: 0.430\tDev score: 0.967\n"
     ]
    },
    {
     "name": "stderr",
     "output_type": "stream",
     "text": [
      "100%|██████████| 32/32 [00:00<00:00, 141.61it/s, avg_loss=1.68]\n"
     ]
    },
    {
     "name": "stdout",
     "output_type": "stream",
     "text": [
      "[E:51]\tTrain Loss: 0.430\tDev score: 0.967\n",
      "Restoring best model from iteration 8 with score 0.978\n",
      "Finished Training\n",
      "Accuracy: 0.978\n",
      "        y=1    y=2   \n",
      " l=1    224     0    \n",
      " l=2    22     754   \n",
      "F1: 0.953\n",
      "        y=1    y=2   \n",
      " l=1    224     0    \n",
      " l=2    22     754   \n",
      "\n",
      "Network architecture:\n",
      "Sequential(\n",
      "  (0): IdentityModule()\n",
      "  (1): Sequential(\n",
      "    (0): Linear(in_features=1000, out_features=100, bias=True)\n",
      "    (1): ReLU()\n",
      "  )\n",
      "  (2): Linear(in_features=100, out_features=2, bias=True)\n",
      ")\n",
      "\n",
      "============================================================\n",
      "[0_0] Testing {'n_epochs': 53, 'batchnorm': False, 'dropout': 0, 'layer_out_dims': [1000, 100, 2], 'data_loader_config': {'batch_size': 256, 'num_workers': 1}, 'lr': 0.0010373756035615518}\n",
      "============================================================\n"
     ]
    },
    {
     "name": "stderr",
     "output_type": "stream",
     "text": [
      "100%|██████████| 32/32 [00:00<00:00, 102.09it/s, avg_loss=2.06]\n"
     ]
    },
    {
     "name": "stdout",
     "output_type": "stream",
     "text": [
      "Saving model at iteration 0 with best score 0.979\n",
      "[E:0]\tTrain Loss: 0.528\tDev score: 0.979\n"
     ]
    },
    {
     "name": "stderr",
     "output_type": "stream",
     "text": [
      "100%|██████████| 32/32 [00:00<00:00, 139.64it/s, avg_loss=1.78]\n"
     ]
    },
    {
     "name": "stdout",
     "output_type": "stream",
     "text": [
      "Saving model at iteration 1 with best score 0.988\n"
     ]
    },
    {
     "name": "stderr",
     "output_type": "stream",
     "text": [
      "100%|██████████| 32/32 [00:00<00:00, 140.56it/s, avg_loss=1.74]\n",
      "100%|██████████| 32/32 [00:00<00:00, 148.02it/s, avg_loss=1.7]\n",
      "100%|██████████| 32/32 [00:00<00:00, 147.69it/s, avg_loss=1.67]\n",
      "100%|██████████| 32/32 [00:00<00:00, 142.39it/s, avg_loss=1.64]\n"
     ]
    },
    {
     "name": "stdout",
     "output_type": "stream",
     "text": [
      "[E:5]\tTrain Loss: 0.419\tDev score: 0.954\n"
     ]
    },
    {
     "name": "stderr",
     "output_type": "stream",
     "text": [
      "100%|██████████| 32/32 [00:00<00:00, 132.48it/s, avg_loss=1.6]\n",
      "100%|██████████| 32/32 [00:00<00:00, 114.85it/s, avg_loss=1.56]\n",
      "100%|██████████| 32/32 [00:00<00:00, 148.03it/s, avg_loss=1.51]\n",
      "100%|██████████| 32/32 [00:00<00:00, 137.24it/s, avg_loss=1.47]\n",
      "100%|██████████| 32/32 [00:00<00:00, 145.07it/s, avg_loss=1.42]\n"
     ]
    },
    {
     "name": "stdout",
     "output_type": "stream",
     "text": [
      "[E:10]\tTrain Loss: 0.364\tDev score: 0.951\n"
     ]
    },
    {
     "name": "stderr",
     "output_type": "stream",
     "text": [
      "100%|██████████| 32/32 [00:00<00:00, 138.90it/s, avg_loss=1.38]\n",
      "100%|██████████| 32/32 [00:00<00:00, 152.33it/s, avg_loss=1.34]\n",
      "100%|██████████| 32/32 [00:00<00:00, 149.87it/s, avg_loss=1.31]\n",
      "100%|██████████| 32/32 [00:00<00:00, 111.13it/s, avg_loss=1.28]\n",
      "100%|██████████| 32/32 [00:00<00:00, 137.55it/s, avg_loss=1.25]\n"
     ]
    },
    {
     "name": "stdout",
     "output_type": "stream",
     "text": [
      "[E:15]\tTrain Loss: 0.321\tDev score: 0.941\n"
     ]
    },
    {
     "name": "stderr",
     "output_type": "stream",
     "text": [
      "100%|██████████| 32/32 [00:00<00:00, 142.47it/s, avg_loss=1.24]\n",
      "100%|██████████| 32/32 [00:00<00:00, 146.22it/s, avg_loss=1.22]\n",
      "100%|██████████| 32/32 [00:00<00:00, 139.29it/s, avg_loss=1.21]\n",
      "100%|██████████| 32/32 [00:00<00:00, 126.64it/s, avg_loss=1.2]\n",
      "100%|██████████| 32/32 [00:00<00:00, 147.45it/s, avg_loss=1.19]\n"
     ]
    },
    {
     "name": "stdout",
     "output_type": "stream",
     "text": [
      "[E:20]\tTrain Loss: 0.306\tDev score: 0.938\n"
     ]
    },
    {
     "name": "stderr",
     "output_type": "stream",
     "text": [
      "100%|██████████| 32/32 [00:00<00:00, 109.84it/s, avg_loss=1.19]\n",
      "100%|██████████| 32/32 [00:00<00:00, 151.89it/s, avg_loss=1.19]\n",
      "100%|██████████| 32/32 [00:00<00:00, 150.66it/s, avg_loss=1.18]\n",
      "100%|██████████| 32/32 [00:00<00:00, 153.43it/s, avg_loss=1.18]\n",
      "100%|██████████| 32/32 [00:00<00:00, 154.58it/s, avg_loss=1.18]\n"
     ]
    },
    {
     "name": "stdout",
     "output_type": "stream",
     "text": [
      "[E:25]\tTrain Loss: 0.303\tDev score: 0.937\n"
     ]
    },
    {
     "name": "stderr",
     "output_type": "stream",
     "text": [
      "100%|██████████| 32/32 [00:00<00:00, 151.79it/s, avg_loss=1.18]\n",
      "100%|██████████| 32/32 [00:00<00:00, 155.64it/s, avg_loss=1.18]\n",
      "100%|██████████| 32/32 [00:00<00:00, 119.13it/s, avg_loss=1.18]\n",
      "100%|██████████| 32/32 [00:00<00:00, 151.28it/s, avg_loss=1.18]\n",
      "100%|██████████| 32/32 [00:00<00:00, 145.40it/s, avg_loss=1.18]\n"
     ]
    },
    {
     "name": "stdout",
     "output_type": "stream",
     "text": [
      "[E:30]\tTrain Loss: 0.302\tDev score: 0.937\n"
     ]
    },
    {
     "name": "stderr",
     "output_type": "stream",
     "text": [
      "100%|██████████| 32/32 [00:00<00:00, 150.69it/s, avg_loss=1.18]\n",
      "100%|██████████| 32/32 [00:00<00:00, 150.94it/s, avg_loss=1.18]\n",
      "100%|██████████| 32/32 [00:00<00:00, 150.34it/s, avg_loss=1.18]\n",
      "100%|██████████| 32/32 [00:00<00:00, 149.47it/s, avg_loss=1.17]\n",
      "100%|██████████| 32/32 [00:00<00:00, 112.84it/s, avg_loss=1.17]\n"
     ]
    },
    {
     "name": "stdout",
     "output_type": "stream",
     "text": [
      "[E:35]\tTrain Loss: 0.301\tDev score: 0.934\n"
     ]
    },
    {
     "name": "stderr",
     "output_type": "stream",
     "text": [
      "100%|██████████| 32/32 [00:00<00:00, 130.24it/s, avg_loss=1.17]\n",
      "100%|██████████| 32/32 [00:00<00:00, 125.82it/s, avg_loss=1.17]\n",
      "100%|██████████| 32/32 [00:00<00:00, 133.81it/s, avg_loss=1.17]\n",
      "100%|██████████| 32/32 [00:00<00:00, 133.33it/s, avg_loss=1.17]\n",
      "100%|██████████| 32/32 [00:00<00:00, 111.00it/s, avg_loss=1.17]\n"
     ]
    },
    {
     "name": "stdout",
     "output_type": "stream",
     "text": [
      "[E:40]\tTrain Loss: 0.300\tDev score: 0.930\n"
     ]
    },
    {
     "name": "stderr",
     "output_type": "stream",
     "text": [
      "100%|██████████| 32/32 [00:00<00:00, 104.18it/s, avg_loss=1.17]\n",
      "100%|██████████| 32/32 [00:00<00:00, 131.73it/s, avg_loss=1.17]\n",
      "100%|██████████| 32/32 [00:00<00:00, 148.86it/s, avg_loss=1.17]\n",
      "100%|██████████| 32/32 [00:00<00:00, 152.91it/s, avg_loss=1.17]\n",
      "100%|██████████| 32/32 [00:00<00:00, 150.45it/s, avg_loss=1.17]\n"
     ]
    },
    {
     "name": "stdout",
     "output_type": "stream",
     "text": [
      "[E:45]\tTrain Loss: 0.300\tDev score: 0.925\n"
     ]
    },
    {
     "name": "stderr",
     "output_type": "stream",
     "text": [
      "100%|██████████| 32/32 [00:00<00:00, 141.98it/s, avg_loss=1.17]\n",
      "100%|██████████| 32/32 [00:00<00:00, 155.11it/s, avg_loss=1.17]\n",
      "100%|██████████| 32/32 [00:00<00:00, 129.14it/s, avg_loss=1.17]\n",
      "100%|██████████| 32/32 [00:00<00:00, 145.45it/s, avg_loss=1.17]\n",
      "100%|██████████| 32/32 [00:00<00:00, 151.77it/s, avg_loss=1.17]\n"
     ]
    },
    {
     "name": "stdout",
     "output_type": "stream",
     "text": [
      "[E:50]\tTrain Loss: 0.299\tDev score: 0.916\n"
     ]
    },
    {
     "name": "stderr",
     "output_type": "stream",
     "text": [
      "100%|██████████| 32/32 [00:00<00:00, 150.39it/s, avg_loss=1.17]\n",
      "100%|██████████| 32/32 [00:00<00:00, 149.69it/s, avg_loss=1.17]\n"
     ]
    },
    {
     "name": "stdout",
     "output_type": "stream",
     "text": [
      "[E:52]\tTrain Loss: 0.300\tDev score: 0.929\n",
      "Restoring best model from iteration 1 with score 0.988\n",
      "Finished Training\n",
      "Accuracy: 0.988\n",
      "        y=1    y=2   \n",
      " l=1    235     1    \n",
      " l=2    11     753   \n",
      "F1: 0.975\n",
      "        y=1    y=2   \n",
      " l=1    235     1    \n",
      " l=2    11     753   \n",
      "\n",
      "Network architecture:\n",
      "Sequential(\n",
      "  (0): IdentityModule()\n",
      "  (1): Sequential(\n",
      "    (0): Linear(in_features=1000, out_features=100, bias=True)\n",
      "    (1): ReLU()\n",
      "  )\n",
      "  (2): Linear(in_features=100, out_features=2, bias=True)\n",
      ")\n",
      "\n",
      "============================================================\n",
      "[0_1] Testing {'n_epochs': 53, 'batchnorm': False, 'dropout': 0.4, 'layer_out_dims': [1000, 100, 2], 'data_loader_config': {'batch_size': 256, 'num_workers': 1}, 'lr': 3.087547446108075e-05}\n",
      "============================================================\n"
     ]
    },
    {
     "name": "stderr",
     "output_type": "stream",
     "text": [
      "100%|██████████| 32/32 [00:00<00:00, 144.14it/s, avg_loss=2.8]\n"
     ]
    },
    {
     "name": "stdout",
     "output_type": "stream",
     "text": [
      "Saving model at iteration 0 with best score 0.411\n",
      "[E:0]\tTrain Loss: 0.716\tDev score: 0.411\n"
     ]
    },
    {
     "name": "stderr",
     "output_type": "stream",
     "text": [
      "100%|██████████| 32/32 [00:00<00:00, 133.42it/s, avg_loss=2.68]\n"
     ]
    },
    {
     "name": "stdout",
     "output_type": "stream",
     "text": [
      "Saving model at iteration 1 with best score 0.769\n"
     ]
    },
    {
     "name": "stderr",
     "output_type": "stream",
     "text": [
      "100%|██████████| 32/32 [00:00<00:00, 97.76it/s, avg_loss=2.57]\n"
     ]
    },
    {
     "name": "stdout",
     "output_type": "stream",
     "text": [
      "Saving model at iteration 2 with best score 0.781\n"
     ]
    },
    {
     "name": "stderr",
     "output_type": "stream",
     "text": [
      "100%|██████████| 32/32 [00:00<00:00, 134.17it/s, avg_loss=2.47]\n",
      "100%|██████████| 32/32 [00:00<00:00, 133.00it/s, avg_loss=2.38]\n",
      "100%|██████████| 32/32 [00:00<00:00, 137.01it/s, avg_loss=2.3]\n"
     ]
    },
    {
     "name": "stdout",
     "output_type": "stream",
     "text": [
      "[E:5]\tTrain Loss: 0.588\tDev score: 0.754\n"
     ]
    },
    {
     "name": "stderr",
     "output_type": "stream",
     "text": [
      "100%|██████████| 32/32 [00:00<00:00, 130.25it/s, avg_loss=2.23]\n",
      "100%|██████████| 32/32 [00:00<00:00, 141.49it/s, avg_loss=2.17]\n",
      "100%|██████████| 32/32 [00:00<00:00, 147.80it/s, avg_loss=2.12]\n",
      "100%|██████████| 32/32 [00:00<00:00, 129.28it/s, avg_loss=2.08]\n",
      "100%|██████████| 32/32 [00:00<00:00, 152.46it/s, avg_loss=2.04]\n"
     ]
    },
    {
     "name": "stdout",
     "output_type": "stream",
     "text": [
      "[E:10]\tTrain Loss: 0.523\tDev score: 0.757\n"
     ]
    },
    {
     "name": "stderr",
     "output_type": "stream",
     "text": [
      "100%|██████████| 32/32 [00:00<00:00, 153.79it/s, avg_loss=2.01]\n",
      "100%|██████████| 32/32 [00:00<00:00, 150.21it/s, avg_loss=1.98]\n"
     ]
    },
    {
     "name": "stdout",
     "output_type": "stream",
     "text": [
      "Saving model at iteration 12 with best score 0.783\n"
     ]
    },
    {
     "name": "stderr",
     "output_type": "stream",
     "text": [
      "100%|██████████| 32/32 [00:00<00:00, 141.84it/s, avg_loss=1.96]\n"
     ]
    },
    {
     "name": "stdout",
     "output_type": "stream",
     "text": [
      "Saving model at iteration 13 with best score 0.797\n"
     ]
    },
    {
     "name": "stderr",
     "output_type": "stream",
     "text": [
      "100%|██████████| 32/32 [00:00<00:00, 155.81it/s, avg_loss=1.93]\n"
     ]
    },
    {
     "name": "stdout",
     "output_type": "stream",
     "text": [
      "Saving model at iteration 14 with best score 0.816\n"
     ]
    },
    {
     "name": "stderr",
     "output_type": "stream",
     "text": [
      "100%|██████████| 32/32 [00:00<00:00, 152.16it/s, avg_loss=1.91]\n"
     ]
    },
    {
     "name": "stdout",
     "output_type": "stream",
     "text": [
      "Saving model at iteration 15 with best score 0.836\n",
      "[E:15]\tTrain Loss: 0.488\tDev score: 0.836\n"
     ]
    },
    {
     "name": "stderr",
     "output_type": "stream",
     "text": [
      "100%|██████████| 32/32 [00:00<00:00, 113.19it/s, avg_loss=1.89]\n"
     ]
    },
    {
     "name": "stdout",
     "output_type": "stream",
     "text": [
      "Saving model at iteration 16 with best score 0.866\n"
     ]
    },
    {
     "name": "stderr",
     "output_type": "stream",
     "text": [
      "100%|██████████| 32/32 [00:00<00:00, 149.08it/s, avg_loss=1.87]\n"
     ]
    },
    {
     "name": "stdout",
     "output_type": "stream",
     "text": [
      "Saving model at iteration 17 with best score 0.886\n"
     ]
    },
    {
     "name": "stderr",
     "output_type": "stream",
     "text": [
      "100%|██████████| 32/32 [00:00<00:00, 149.16it/s, avg_loss=1.85]\n"
     ]
    },
    {
     "name": "stdout",
     "output_type": "stream",
     "text": [
      "Saving model at iteration 18 with best score 0.905\n"
     ]
    },
    {
     "name": "stderr",
     "output_type": "stream",
     "text": [
      "100%|██████████| 32/32 [00:00<00:00, 149.76it/s, avg_loss=1.84]\n"
     ]
    },
    {
     "name": "stdout",
     "output_type": "stream",
     "text": [
      "Saving model at iteration 19 with best score 0.924\n"
     ]
    },
    {
     "name": "stderr",
     "output_type": "stream",
     "text": [
      "100%|██████████| 32/32 [00:00<00:00, 145.34it/s, avg_loss=1.82]\n"
     ]
    },
    {
     "name": "stdout",
     "output_type": "stream",
     "text": [
      "Saving model at iteration 20 with best score 0.937\n",
      "[E:20]\tTrain Loss: 0.467\tDev score: 0.937\n"
     ]
    },
    {
     "name": "stderr",
     "output_type": "stream",
     "text": [
      "100%|██████████| 32/32 [00:00<00:00, 150.19it/s, avg_loss=1.81]\n"
     ]
    },
    {
     "name": "stdout",
     "output_type": "stream",
     "text": [
      "Saving model at iteration 21 with best score 0.945\n"
     ]
    },
    {
     "name": "stderr",
     "output_type": "stream",
     "text": [
      "100%|██████████| 32/32 [00:00<00:00, 152.57it/s, avg_loss=1.8]\n"
     ]
    },
    {
     "name": "stdout",
     "output_type": "stream",
     "text": [
      "Saving model at iteration 22 with best score 0.949\n"
     ]
    },
    {
     "name": "stderr",
     "output_type": "stream",
     "text": [
      "100%|██████████| 32/32 [00:00<00:00, 96.01it/s, avg_loss=1.8]\n"
     ]
    },
    {
     "name": "stdout",
     "output_type": "stream",
     "text": [
      "Saving model at iteration 23 with best score 0.955\n"
     ]
    },
    {
     "name": "stderr",
     "output_type": "stream",
     "text": [
      "100%|██████████| 32/32 [00:00<00:00, 135.32it/s, avg_loss=1.79]\n"
     ]
    },
    {
     "name": "stdout",
     "output_type": "stream",
     "text": [
      "Saving model at iteration 24 with best score 0.960\n"
     ]
    },
    {
     "name": "stderr",
     "output_type": "stream",
     "text": [
      "100%|██████████| 32/32 [00:00<00:00, 134.98it/s, avg_loss=1.79]\n"
     ]
    },
    {
     "name": "stdout",
     "output_type": "stream",
     "text": [
      "Saving model at iteration 25 with best score 0.964\n",
      "[E:25]\tTrain Loss: 0.457\tDev score: 0.964\n"
     ]
    },
    {
     "name": "stderr",
     "output_type": "stream",
     "text": [
      "100%|██████████| 32/32 [00:00<00:00, 134.82it/s, avg_loss=1.78]\n"
     ]
    },
    {
     "name": "stdout",
     "output_type": "stream",
     "text": [
      "Saving model at iteration 26 with best score 0.966\n"
     ]
    },
    {
     "name": "stderr",
     "output_type": "stream",
     "text": [
      "100%|██████████| 32/32 [00:00<00:00, 135.65it/s, avg_loss=1.78]\n",
      "100%|██████████| 32/32 [00:00<00:00, 119.02it/s, avg_loss=1.77]\n"
     ]
    },
    {
     "name": "stdout",
     "output_type": "stream",
     "text": [
      "Saving model at iteration 28 with best score 0.968\n"
     ]
    },
    {
     "name": "stderr",
     "output_type": "stream",
     "text": [
      "100%|██████████| 32/32 [00:00<00:00, 143.02it/s, avg_loss=1.77]\n"
     ]
    },
    {
     "name": "stdout",
     "output_type": "stream",
     "text": [
      "Saving model at iteration 29 with best score 0.970\n"
     ]
    },
    {
     "name": "stderr",
     "output_type": "stream",
     "text": [
      "100%|██████████| 32/32 [00:00<00:00, 134.47it/s, avg_loss=1.77]\n"
     ]
    },
    {
     "name": "stdout",
     "output_type": "stream",
     "text": [
      "Saving model at iteration 30 with best score 0.974\n",
      "[E:30]\tTrain Loss: 0.453\tDev score: 0.974\n"
     ]
    },
    {
     "name": "stderr",
     "output_type": "stream",
     "text": [
      "100%|██████████| 32/32 [00:00<00:00, 148.57it/s, avg_loss=1.77]\n",
      "100%|██████████| 32/32 [00:00<00:00, 134.00it/s, avg_loss=1.76]\n"
     ]
    },
    {
     "name": "stdout",
     "output_type": "stream",
     "text": [
      "Saving model at iteration 32 with best score 0.976\n"
     ]
    },
    {
     "name": "stderr",
     "output_type": "stream",
     "text": [
      "100%|██████████| 32/32 [00:00<00:00, 154.15it/s, avg_loss=1.76]\n",
      "100%|██████████| 32/32 [00:00<00:00, 149.33it/s, avg_loss=1.76]\n"
     ]
    },
    {
     "name": "stdout",
     "output_type": "stream",
     "text": [
      "Saving model at iteration 34 with best score 0.977\n"
     ]
    },
    {
     "name": "stderr",
     "output_type": "stream",
     "text": [
      "100%|██████████| 32/32 [00:00<00:00, 150.02it/s, avg_loss=1.76]\n"
     ]
    },
    {
     "name": "stdout",
     "output_type": "stream",
     "text": [
      "[E:35]\tTrain Loss: 0.450\tDev score: 0.976\n"
     ]
    },
    {
     "name": "stderr",
     "output_type": "stream",
     "text": [
      "100%|██████████| 32/32 [00:00<00:00, 148.02it/s, avg_loss=1.75]\n",
      "100%|██████████| 32/32 [00:00<00:00, 120.82it/s, avg_loss=1.75]\n",
      "100%|██████████| 32/32 [00:00<00:00, 150.85it/s, avg_loss=1.75]\n",
      "100%|██████████| 32/32 [00:00<00:00, 150.34it/s, avg_loss=1.75]\n",
      "100%|██████████| 32/32 [00:00<00:00, 149.41it/s, avg_loss=1.75]\n"
     ]
    },
    {
     "name": "stdout",
     "output_type": "stream",
     "text": [
      "[E:40]\tTrain Loss: 0.447\tDev score: 0.976\n"
     ]
    },
    {
     "name": "stderr",
     "output_type": "stream",
     "text": [
      "100%|██████████| 32/32 [00:00<00:00, 146.10it/s, avg_loss=1.75]\n",
      "100%|██████████| 32/32 [00:00<00:00, 151.42it/s, avg_loss=1.74]\n",
      "100%|██████████| 32/32 [00:00<00:00, 138.12it/s, avg_loss=1.74]\n",
      "100%|██████████| 32/32 [00:00<00:00, 100.73it/s, avg_loss=1.74]\n",
      "100%|██████████| 32/32 [00:00<00:00, 135.32it/s, avg_loss=1.74]\n"
     ]
    },
    {
     "name": "stdout",
     "output_type": "stream",
     "text": [
      "[E:45]\tTrain Loss: 0.445\tDev score: 0.976\n"
     ]
    },
    {
     "name": "stderr",
     "output_type": "stream",
     "text": [
      "100%|██████████| 32/32 [00:00<00:00, 137.42it/s, avg_loss=1.74]\n",
      "100%|██████████| 32/32 [00:00<00:00, 131.71it/s, avg_loss=1.74]\n",
      "100%|██████████| 32/32 [00:00<00:00, 135.13it/s, avg_loss=1.73]\n",
      "100%|██████████| 32/32 [00:00<00:00, 132.99it/s, avg_loss=1.73]\n",
      "100%|██████████| 32/32 [00:00<00:00, 96.23it/s, avg_loss=1.73]\n"
     ]
    },
    {
     "name": "stdout",
     "output_type": "stream",
     "text": [
      "[E:50]\tTrain Loss: 0.443\tDev score: 0.974\n"
     ]
    },
    {
     "name": "stderr",
     "output_type": "stream",
     "text": [
      "100%|██████████| 32/32 [00:00<00:00, 134.85it/s, avg_loss=1.73]\n",
      "100%|██████████| 32/32 [00:00<00:00, 133.25it/s, avg_loss=1.73]\n"
     ]
    },
    {
     "name": "stdout",
     "output_type": "stream",
     "text": [
      "[E:52]\tTrain Loss: 0.442\tDev score: 0.973\n",
      "Restoring best model from iteration 34 with score 0.977\n",
      "Finished Training\n",
      "Accuracy: 0.977\n",
      "        y=1    y=2   \n",
      " l=1    223     0    \n",
      " l=2    23     754   \n",
      "F1: 0.951\n",
      "        y=1    y=2   \n",
      " l=1    223     0    \n",
      " l=2    23     754   \n",
      "\n",
      "Network architecture:\n",
      "Sequential(\n",
      "  (0): IdentityModule()\n",
      "  (1): Sequential(\n",
      "    (0): Linear(in_features=1000, out_features=10, bias=True)\n",
      "    (1): ReLU()\n",
      "  )\n",
      "  (2): Linear(in_features=10, out_features=2, bias=True)\n",
      ")\n",
      "\n",
      "============================================================\n",
      "[0_2] Testing {'n_epochs': 53, 'batchnorm': True, 'dropout': 0.2, 'layer_out_dims': [1000, 10, 2], 'data_loader_config': {'batch_size': 256, 'num_workers': 1}, 'lr': 0.8784596472745857}\n",
      "============================================================\n"
     ]
    },
    {
     "name": "stderr",
     "output_type": "stream",
     "text": [
      "100%|██████████| 32/32 [00:00<00:00, 167.99it/s, avg_loss=8.32]\n"
     ]
    },
    {
     "name": "stdout",
     "output_type": "stream",
     "text": [
      "Saving model at iteration 0 with best score 0.754\n",
      "[E:0]\tTrain Loss: 2.130\tDev score: 0.754\n"
     ]
    },
    {
     "name": "stderr",
     "output_type": "stream",
     "text": [
      "100%|██████████| 32/32 [00:00<00:00, 164.03it/s, avg_loss=2.25]\n",
      "100%|██████████| 32/32 [00:00<00:00, 161.92it/s, avg_loss=2.25]\n",
      "100%|██████████| 32/32 [00:00<00:00, 161.75it/s, avg_loss=2.25]\n",
      "100%|██████████| 32/32 [00:00<00:00, 117.43it/s, avg_loss=2.25]\n",
      "100%|██████████| 32/32 [00:00<00:00, 145.95it/s, avg_loss=2.28]\n"
     ]
    },
    {
     "name": "stdout",
     "output_type": "stream",
     "text": [
      "[E:5]\tTrain Loss: 0.583\tDev score: 0.754\n"
     ]
    },
    {
     "name": "stderr",
     "output_type": "stream",
     "text": [
      "100%|██████████| 32/32 [00:00<00:00, 156.58it/s, avg_loss=2.26]\n",
      "100%|██████████| 32/32 [00:00<00:00, 166.43it/s, avg_loss=2.27]\n",
      "100%|██████████| 32/32 [00:00<00:00, 155.40it/s, avg_loss=2.3]\n",
      "100%|██████████| 32/32 [00:00<00:00, 149.46it/s, avg_loss=2.26]\n",
      "100%|██████████| 32/32 [00:00<00:00, 156.84it/s, avg_loss=2.35]\n"
     ]
    },
    {
     "name": "stdout",
     "output_type": "stream",
     "text": [
      "[E:10]\tTrain Loss: 0.601\tDev score: 0.754\n"
     ]
    },
    {
     "name": "stderr",
     "output_type": "stream",
     "text": [
      "100%|██████████| 32/32 [00:00<00:00, 114.57it/s, avg_loss=2.29]\n",
      "100%|██████████| 32/32 [00:00<00:00, 170.06it/s, avg_loss=2.25]\n",
      "100%|██████████| 32/32 [00:00<00:00, 159.84it/s, avg_loss=2.25]\n",
      "100%|██████████| 32/32 [00:00<00:00, 159.74it/s, avg_loss=2.25]\n",
      "100%|██████████| 32/32 [00:00<00:00, 175.28it/s, avg_loss=2.25]\n"
     ]
    },
    {
     "name": "stdout",
     "output_type": "stream",
     "text": [
      "[E:15]\tTrain Loss: 0.576\tDev score: 0.754\n"
     ]
    },
    {
     "name": "stderr",
     "output_type": "stream",
     "text": [
      "100%|██████████| 32/32 [00:00<00:00, 175.53it/s, avg_loss=2.25]\n",
      "100%|██████████| 32/32 [00:00<00:00, 167.32it/s, avg_loss=2.25]\n",
      "100%|██████████| 32/32 [00:00<00:00, 164.08it/s, avg_loss=2.26]\n",
      "100%|██████████| 32/32 [00:00<00:00, 130.44it/s, avg_loss=2.25]\n",
      "100%|██████████| 32/32 [00:00<00:00, 166.89it/s, avg_loss=2.25]\n"
     ]
    },
    {
     "name": "stdout",
     "output_type": "stream",
     "text": [
      "[E:20]\tTrain Loss: 0.575\tDev score: 0.754\n"
     ]
    },
    {
     "name": "stderr",
     "output_type": "stream",
     "text": [
      "100%|██████████| 32/32 [00:00<00:00, 171.82it/s, avg_loss=2.25]\n",
      "100%|██████████| 32/32 [00:00<00:00, 174.82it/s, avg_loss=2.25]\n",
      "100%|██████████| 32/32 [00:00<00:00, 173.45it/s, avg_loss=2.25]\n",
      "100%|██████████| 32/32 [00:00<00:00, 160.27it/s, avg_loss=2.25]\n",
      "100%|██████████| 32/32 [00:00<00:00, 146.18it/s, avg_loss=2.25]\n"
     ]
    },
    {
     "name": "stdout",
     "output_type": "stream",
     "text": [
      "[E:25]\tTrain Loss: 0.575\tDev score: 0.754\n"
     ]
    },
    {
     "name": "stderr",
     "output_type": "stream",
     "text": [
      "100%|██████████| 32/32 [00:00<00:00, 121.59it/s, avg_loss=2.25]\n",
      "100%|██████████| 32/32 [00:00<00:00, 140.16it/s, avg_loss=2.25]\n",
      "100%|██████████| 32/32 [00:00<00:00, 156.98it/s, avg_loss=2.25]\n",
      "100%|██████████| 32/32 [00:00<00:00, 159.85it/s, avg_loss=2.25]\n",
      "100%|██████████| 32/32 [00:00<00:00, 159.61it/s, avg_loss=2.25]\n"
     ]
    },
    {
     "name": "stdout",
     "output_type": "stream",
     "text": [
      "[E:30]\tTrain Loss: 0.576\tDev score: 0.754\n"
     ]
    },
    {
     "name": "stderr",
     "output_type": "stream",
     "text": [
      "100%|██████████| 32/32 [00:00<00:00, 155.76it/s, avg_loss=2.25]\n",
      "100%|██████████| 32/32 [00:00<00:00, 158.82it/s, avg_loss=2.25]\n",
      "100%|██████████| 32/32 [00:00<00:00, 160.46it/s, avg_loss=2.24]\n",
      "100%|██████████| 32/32 [00:00<00:00, 112.55it/s, avg_loss=2.25]\n",
      "100%|██████████| 32/32 [00:00<00:00, 165.83it/s, avg_loss=2.25]\n"
     ]
    },
    {
     "name": "stdout",
     "output_type": "stream",
     "text": [
      "[E:35]\tTrain Loss: 0.575\tDev score: 0.754\n"
     ]
    },
    {
     "name": "stderr",
     "output_type": "stream",
     "text": [
      "100%|██████████| 32/32 [00:00<00:00, 146.59it/s, avg_loss=2.25]\n",
      "100%|██████████| 32/32 [00:00<00:00, 148.16it/s, avg_loss=2.25]\n",
      "100%|██████████| 32/32 [00:00<00:00, 148.29it/s, avg_loss=2.25]\n",
      "100%|██████████| 32/32 [00:00<00:00, 155.65it/s, avg_loss=2.25]\n",
      "100%|██████████| 32/32 [00:00<00:00, 169.48it/s, avg_loss=2.25]\n"
     ]
    },
    {
     "name": "stdout",
     "output_type": "stream",
     "text": [
      "[E:40]\tTrain Loss: 0.576\tDev score: 0.754\n"
     ]
    },
    {
     "name": "stderr",
     "output_type": "stream",
     "text": [
      "100%|██████████| 32/32 [00:00<00:00, 139.90it/s, avg_loss=2.25]\n",
      "100%|██████████| 32/32 [00:00<00:00, 140.80it/s, avg_loss=2.25]\n",
      "100%|██████████| 32/32 [00:00<00:00, 146.20it/s, avg_loss=2.24]\n",
      "100%|██████████| 32/32 [00:00<00:00, 172.15it/s, avg_loss=2.25]\n",
      "100%|██████████| 32/32 [00:00<00:00, 171.25it/s, avg_loss=2.25]\n"
     ]
    },
    {
     "name": "stdout",
     "output_type": "stream",
     "text": [
      "[E:45]\tTrain Loss: 0.575\tDev score: 0.754\n"
     ]
    },
    {
     "name": "stderr",
     "output_type": "stream",
     "text": [
      "100%|██████████| 32/32 [00:00<00:00, 168.63it/s, avg_loss=2.24]\n",
      "100%|██████████| 32/32 [00:00<00:00, 172.13it/s, avg_loss=2.24]\n",
      "100%|██████████| 32/32 [00:00<00:00, 170.26it/s, avg_loss=2.24]\n",
      "100%|██████████| 32/32 [00:00<00:00, 122.89it/s, avg_loss=2.25]\n",
      "100%|██████████| 32/32 [00:00<00:00, 169.17it/s, avg_loss=2.25]\n"
     ]
    },
    {
     "name": "stdout",
     "output_type": "stream",
     "text": [
      "[E:50]\tTrain Loss: 0.576\tDev score: 0.754\n"
     ]
    },
    {
     "name": "stderr",
     "output_type": "stream",
     "text": [
      "100%|██████████| 32/32 [00:00<00:00, 167.54it/s, avg_loss=2.24]\n",
      "100%|██████████| 32/32 [00:00<00:00, 172.52it/s, avg_loss=2.25]\n"
     ]
    },
    {
     "name": "stdout",
     "output_type": "stream",
     "text": [
      "[E:52]\tTrain Loss: 0.576\tDev score: 0.754\n",
      "Restoring best model from iteration 0 with score 0.754\n",
      "Finished Training\n",
      "Accuracy: 0.754\n",
      "        y=1    y=2   \n",
      " l=1     0      0    \n",
      " l=2    246    754   \n",
      "F1: 0.000\n",
      "        y=1    y=2   \n",
      " l=1     0      0    \n",
      " l=2    246    754   \n",
      "\n",
      "Network architecture:\n",
      "Sequential(\n",
      "  (0): IdentityModule()\n",
      "  (1): Sequential(\n",
      "    (0): Linear(in_features=1000, out_features=10, bias=True)\n",
      "    (1): ReLU()\n",
      "  )\n",
      "  (2): Linear(in_features=10, out_features=2, bias=True)\n",
      ")\n",
      "\n",
      "============================================================\n",
      "[0_3] Testing {'n_epochs': 53, 'batchnorm': False, 'dropout': 0.1, 'layer_out_dims': [1000, 10, 2], 'data_loader_config': {'batch_size': 256, 'num_workers': 1}, 'lr': 9.652998679010854e-05}\n",
      "============================================================\n"
     ]
    },
    {
     "name": "stderr",
     "output_type": "stream",
     "text": [
      "100%|██████████| 32/32 [00:00<00:00, 168.17it/s, avg_loss=2.76]\n"
     ]
    },
    {
     "name": "stdout",
     "output_type": "stream",
     "text": [
      "Saving model at iteration 0 with best score 0.455\n",
      "[E:0]\tTrain Loss: 0.708\tDev score: 0.455\n"
     ]
    },
    {
     "name": "stderr",
     "output_type": "stream",
     "text": [
      "100%|██████████| 32/32 [00:00<00:00, 165.68it/s, avg_loss=2.67]\n"
     ]
    },
    {
     "name": "stdout",
     "output_type": "stream",
     "text": [
      "Saving model at iteration 1 with best score 0.788\n"
     ]
    },
    {
     "name": "stderr",
     "output_type": "stream",
     "text": [
      "100%|██████████| 32/32 [00:00<00:00, 173.02it/s, avg_loss=2.57]\n",
      "100%|██████████| 32/32 [00:00<00:00, 173.25it/s, avg_loss=2.47]\n",
      "100%|██████████| 32/32 [00:00<00:00, 146.81it/s, avg_loss=2.38]\n",
      "100%|██████████| 32/32 [00:00<00:00, 154.32it/s, avg_loss=2.3]\n"
     ]
    },
    {
     "name": "stdout",
     "output_type": "stream",
     "text": [
      "[E:5]\tTrain Loss: 0.590\tDev score: 0.754\n"
     ]
    },
    {
     "name": "stderr",
     "output_type": "stream",
     "text": [
      "100%|██████████| 32/32 [00:00<00:00, 167.24it/s, avg_loss=2.24]\n",
      "100%|██████████| 32/32 [00:00<00:00, 173.21it/s, avg_loss=2.18]\n",
      "100%|██████████| 32/32 [00:00<00:00, 169.57it/s, avg_loss=2.12]\n",
      "100%|██████████| 32/32 [00:00<00:00, 167.73it/s, avg_loss=2.07]\n",
      "100%|██████████| 32/32 [00:00<00:00, 173.91it/s, avg_loss=2.02]\n"
     ]
    },
    {
     "name": "stdout",
     "output_type": "stream",
     "text": [
      "[E:10]\tTrain Loss: 0.517\tDev score: 0.781\n"
     ]
    },
    {
     "name": "stderr",
     "output_type": "stream",
     "text": [
      "100%|██████████| 32/32 [00:00<00:00, 173.52it/s, avg_loss=1.98]\n"
     ]
    },
    {
     "name": "stdout",
     "output_type": "stream",
     "text": [
      "Saving model at iteration 11 with best score 0.800\n"
     ]
    },
    {
     "name": "stderr",
     "output_type": "stream",
     "text": [
      "100%|██████████| 32/32 [00:00<00:00, 146.75it/s, avg_loss=1.94]\n"
     ]
    },
    {
     "name": "stdout",
     "output_type": "stream",
     "text": [
      "Saving model at iteration 12 with best score 0.820\n"
     ]
    },
    {
     "name": "stderr",
     "output_type": "stream",
     "text": [
      "100%|██████████| 32/32 [00:00<00:00, 171.67it/s, avg_loss=1.91]\n"
     ]
    },
    {
     "name": "stdout",
     "output_type": "stream",
     "text": [
      "Saving model at iteration 13 with best score 0.848\n"
     ]
    },
    {
     "name": "stderr",
     "output_type": "stream",
     "text": [
      "100%|██████████| 32/32 [00:00<00:00, 169.76it/s, avg_loss=1.89]\n"
     ]
    },
    {
     "name": "stdout",
     "output_type": "stream",
     "text": [
      "Saving model at iteration 14 with best score 0.879\n"
     ]
    },
    {
     "name": "stderr",
     "output_type": "stream",
     "text": [
      "100%|██████████| 32/32 [00:00<00:00, 173.20it/s, avg_loss=1.86]\n"
     ]
    },
    {
     "name": "stdout",
     "output_type": "stream",
     "text": [
      "Saving model at iteration 15 with best score 0.900\n",
      "[E:15]\tTrain Loss: 0.477\tDev score: 0.900\n"
     ]
    },
    {
     "name": "stderr",
     "output_type": "stream",
     "text": [
      "100%|██████████| 32/32 [00:00<00:00, 169.93it/s, avg_loss=1.85]\n"
     ]
    },
    {
     "name": "stdout",
     "output_type": "stream",
     "text": [
      "Saving model at iteration 16 with best score 0.918\n"
     ]
    },
    {
     "name": "stderr",
     "output_type": "stream",
     "text": [
      "100%|██████████| 32/32 [00:00<00:00, 171.59it/s, avg_loss=1.83]\n"
     ]
    },
    {
     "name": "stdout",
     "output_type": "stream",
     "text": [
      "Saving model at iteration 17 with best score 0.932\n"
     ]
    },
    {
     "name": "stderr",
     "output_type": "stream",
     "text": [
      "100%|██████████| 32/32 [00:00<00:00, 168.33it/s, avg_loss=1.82]\n"
     ]
    },
    {
     "name": "stdout",
     "output_type": "stream",
     "text": [
      "Saving model at iteration 18 with best score 0.937\n"
     ]
    },
    {
     "name": "stderr",
     "output_type": "stream",
     "text": [
      "100%|██████████| 32/32 [00:00<00:00, 165.86it/s, avg_loss=1.81]\n"
     ]
    },
    {
     "name": "stdout",
     "output_type": "stream",
     "text": [
      "Saving model at iteration 19 with best score 0.952\n"
     ]
    },
    {
     "name": "stderr",
     "output_type": "stream",
     "text": [
      "100%|██████████| 32/32 [00:00<00:00, 146.24it/s, avg_loss=1.8]\n"
     ]
    },
    {
     "name": "stdout",
     "output_type": "stream",
     "text": [
      "Saving model at iteration 20 with best score 0.956\n",
      "[E:20]\tTrain Loss: 0.461\tDev score: 0.956\n"
     ]
    },
    {
     "name": "stderr",
     "output_type": "stream",
     "text": [
      "100%|██████████| 32/32 [00:00<00:00, 167.89it/s, avg_loss=1.79]\n"
     ]
    },
    {
     "name": "stdout",
     "output_type": "stream",
     "text": [
      "Saving model at iteration 21 with best score 0.959\n"
     ]
    },
    {
     "name": "stderr",
     "output_type": "stream",
     "text": [
      "100%|██████████| 32/32 [00:00<00:00, 167.29it/s, avg_loss=1.79]\n"
     ]
    },
    {
     "name": "stdout",
     "output_type": "stream",
     "text": [
      "Saving model at iteration 22 with best score 0.966\n"
     ]
    },
    {
     "name": "stderr",
     "output_type": "stream",
     "text": [
      "100%|██████████| 32/32 [00:00<00:00, 164.29it/s, avg_loss=1.78]\n"
     ]
    },
    {
     "name": "stdout",
     "output_type": "stream",
     "text": [
      "Saving model at iteration 23 with best score 0.967\n"
     ]
    },
    {
     "name": "stderr",
     "output_type": "stream",
     "text": [
      "100%|██████████| 32/32 [00:00<00:00, 150.29it/s, avg_loss=1.78]\n",
      "100%|██████████| 32/32 [00:00<00:00, 164.39it/s, avg_loss=1.77]\n"
     ]
    },
    {
     "name": "stdout",
     "output_type": "stream",
     "text": [
      "Saving model at iteration 25 with best score 0.969\n",
      "[E:25]\tTrain Loss: 0.454\tDev score: 0.969\n"
     ]
    },
    {
     "name": "stderr",
     "output_type": "stream",
     "text": [
      "100%|██████████| 32/32 [00:00<00:00, 163.78it/s, avg_loss=1.77]\n"
     ]
    },
    {
     "name": "stdout",
     "output_type": "stream",
     "text": [
      "Saving model at iteration 26 with best score 0.974\n"
     ]
    },
    {
     "name": "stderr",
     "output_type": "stream",
     "text": [
      "100%|██████████| 32/32 [00:00<00:00, 127.09it/s, avg_loss=1.77]\n"
     ]
    },
    {
     "name": "stdout",
     "output_type": "stream",
     "text": [
      "Saving model at iteration 27 with best score 0.975\n"
     ]
    },
    {
     "name": "stderr",
     "output_type": "stream",
     "text": [
      "100%|██████████| 32/32 [00:00<00:00, 153.32it/s, avg_loss=1.77]\n"
     ]
    },
    {
     "name": "stdout",
     "output_type": "stream",
     "text": [
      "Saving model at iteration 28 with best score 0.977\n"
     ]
    },
    {
     "name": "stderr",
     "output_type": "stream",
     "text": [
      "100%|██████████| 32/32 [00:00<00:00, 148.78it/s, avg_loss=1.76]\n"
     ]
    },
    {
     "name": "stdout",
     "output_type": "stream",
     "text": [
      "Saving model at iteration 29 with best score 0.978\n"
     ]
    },
    {
     "name": "stderr",
     "output_type": "stream",
     "text": [
      "100%|██████████| 32/32 [00:00<00:00, 158.05it/s, avg_loss=1.76]\n"
     ]
    },
    {
     "name": "stdout",
     "output_type": "stream",
     "text": [
      "[E:30]\tTrain Loss: 0.451\tDev score: 0.978\n"
     ]
    },
    {
     "name": "stderr",
     "output_type": "stream",
     "text": [
      "100%|██████████| 32/32 [00:00<00:00, 143.37it/s, avg_loss=1.76]\n",
      "100%|██████████| 32/32 [00:00<00:00, 156.47it/s, avg_loss=1.76]\n",
      "100%|██████████| 32/32 [00:00<00:00, 167.45it/s, avg_loss=1.76]\n"
     ]
    },
    {
     "name": "stdout",
     "output_type": "stream",
     "text": [
      "Saving model at iteration 33 with best score 0.979\n"
     ]
    },
    {
     "name": "stderr",
     "output_type": "stream",
     "text": [
      "100%|██████████| 32/32 [00:00<00:00, 133.05it/s, avg_loss=1.76]\n",
      "100%|██████████| 32/32 [00:00<00:00, 149.13it/s, avg_loss=1.75]\n"
     ]
    },
    {
     "name": "stdout",
     "output_type": "stream",
     "text": [
      "[E:35]\tTrain Loss: 0.449\tDev score: 0.979\n"
     ]
    },
    {
     "name": "stderr",
     "output_type": "stream",
     "text": [
      "100%|██████████| 32/32 [00:00<00:00, 170.06it/s, avg_loss=1.75]\n",
      "100%|██████████| 32/32 [00:00<00:00, 172.20it/s, avg_loss=1.75]\n",
      "100%|██████████| 32/32 [00:00<00:00, 168.02it/s, avg_loss=1.75]\n",
      "100%|██████████| 32/32 [00:00<00:00, 163.45it/s, avg_loss=1.75]\n"
     ]
    },
    {
     "name": "stdout",
     "output_type": "stream",
     "text": [
      "Saving model at iteration 39 with best score 0.980\n"
     ]
    },
    {
     "name": "stderr",
     "output_type": "stream",
     "text": [
      "100%|██████████| 32/32 [00:00<00:00, 170.94it/s, avg_loss=1.75]\n"
     ]
    },
    {
     "name": "stdout",
     "output_type": "stream",
     "text": [
      "[E:40]\tTrain Loss: 0.447\tDev score: 0.980\n"
     ]
    },
    {
     "name": "stderr",
     "output_type": "stream",
     "text": [
      "100%|██████████| 32/32 [00:00<00:00, 165.10it/s, avg_loss=1.74]\n",
      "100%|██████████| 32/32 [00:00<00:00, 142.62it/s, avg_loss=1.74]\n",
      "100%|██████████| 32/32 [00:00<00:00, 158.64it/s, avg_loss=1.74]\n",
      "100%|██████████| 32/32 [00:00<00:00, 167.78it/s, avg_loss=1.74]\n",
      "100%|██████████| 32/32 [00:00<00:00, 168.53it/s, avg_loss=1.74]\n"
     ]
    },
    {
     "name": "stdout",
     "output_type": "stream",
     "text": [
      "[E:45]\tTrain Loss: 0.445\tDev score: 0.976\n"
     ]
    },
    {
     "name": "stderr",
     "output_type": "stream",
     "text": [
      "100%|██████████| 32/32 [00:00<00:00, 149.73it/s, avg_loss=1.74]\n",
      "100%|██████████| 32/32 [00:00<00:00, 166.99it/s, avg_loss=1.74]\n",
      "100%|██████████| 32/32 [00:00<00:00, 169.80it/s, avg_loss=1.74]\n",
      "100%|██████████| 32/32 [00:00<00:00, 167.41it/s, avg_loss=1.73]\n",
      "100%|██████████| 32/32 [00:00<00:00, 109.27it/s, avg_loss=1.73]\n"
     ]
    },
    {
     "name": "stdout",
     "output_type": "stream",
     "text": [
      "[E:50]\tTrain Loss: 0.444\tDev score: 0.976\n"
     ]
    },
    {
     "name": "stderr",
     "output_type": "stream",
     "text": [
      "100%|██████████| 32/32 [00:00<00:00, 149.55it/s, avg_loss=1.73]\n",
      "100%|██████████| 32/32 [00:00<00:00, 166.90it/s, avg_loss=1.73]\n"
     ]
    },
    {
     "name": "stdout",
     "output_type": "stream",
     "text": [
      "[E:52]\tTrain Loss: 0.443\tDev score: 0.974\n",
      "Restoring best model from iteration 39 with score 0.980\n",
      "Finished Training\n",
      "Accuracy: 0.980\n",
      "        y=1    y=2   \n",
      " l=1    226     0    \n",
      " l=2    20     754   \n",
      "F1: 0.958\n",
      "        y=1    y=2   \n",
      " l=1    226     0    \n",
      " l=2    20     754   \n",
      "============================================================\n",
      "[SUMMARY]\n",
      "Best model: [0_3]\n",
      "Best config: {'n_epochs': 52, 'batchnorm': True, 'dropout': 0.5, 'layer_out_dims': [1000, 10, 2], 'print_every': 5, 'data_loader_config': {'batch_size': 256, 'num_workers': 1}, 'lr': 0.0033458061827606723, 'seed': 166}\n",
      "Best score: 0.9979716024340771\n",
      "============================================================\n"
     ]
    }
   ],
   "source": [
    "best_rs_model_harder = rs_tuner_harder.search(search_space, dev_data, train_args=train_args, max_search=20, metric='f1', verbose=True)\n",
    "best_hb_model_harder =  hb_tuner_harder.search(search_space, dev_data, train_args=train_args, metric='f1', verbose=True)"
   ]
  },
  {
   "cell_type": "markdown",
   "metadata": {},
   "source": [
    "And extract and plot our data:"
   ]
  },
  {
   "cell_type": "code",
   "execution_count": 47,
   "metadata": {},
   "outputs": [
    {
     "data": {
      "image/png": "[encoded data removed]",
      "text/plain": [
       "<Figure size 432x288 with 1 Axes>"
      ]
     },
     "metadata": {},
     "output_type": "display_data"
    }
   ],
   "source": [
    "hb_stats_harder = hb_tuner_harder.run_stats\n",
    "rs_stats_harder = rs_tuner_harder.run_stats\n",
    "plot_score_vs_time(rs_stats_harder, hb_stats_harder)"
   ]
  },
  {
   "cell_type": "markdown",
   "metadata": {},
   "source": [
    "Awesome! Generally it seems Hyperband is better in regimes with a large search space and a long search time (which is the typical scenario). \n",
    "\n",
    "This seems to make intuitive sense: \n",
    "- With a larger search space Hyperband's resource allocation becomes more useful in culling bad configurations.\n",
    "- With a longer search time Hyperband is able to start with a larger pool of configurations, enabling a better balance of exploration / exploitation."
   ]
  },
  {
   "cell_type": "markdown",
   "metadata": {},
   "source": [
    "And that wraps up the hyperparameter tuning tutorial! We hope that MeTaL's hyperparameter tuners are useful for your applications and make hyperparameter tuning enjoyable. Happy tuning!"
   ]
  }
 ],
 "metadata": {
  "kernelspec": {
   "display_name": "Python [default]",
   "language": "python",
   "name": "python3"
  },
  "language_info": {
   "codemirror_mode": {
    "name": "ipython",
    "version": 3
   },
   "file_extension": ".py",
   "mimetype": "text/x-python",
   "name": "python",
   "nbconvert_exporter": "python",
   "pygments_lexer": "ipython3",
   "version": "3.6.6"
  }
 },
 "nbformat": 4,
 "nbformat_minor": 2
}
